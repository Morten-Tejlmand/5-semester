{
 "cells": [
  {
   "cell_type": "code",
   "execution_count": 186,
   "metadata": {},
   "outputs": [],
   "source": [
    "from statsbombpy import sb\n",
    "import pandas as pd"
   ]
  },
  {
   "cell_type": "code",
   "execution_count": 187,
   "metadata": {},
   "outputs": [
    {
     "name": "stderr",
     "output_type": "stream",
     "text": [
      "C:\\Users\\thors\\AppData\\Roaming\\Python\\Python312\\site-packages\\statsbombpy\\api_client.py:21: NoAuthWarning: credentials were not supplied. open data access only\n",
      "  warnings.warn(\n"
     ]
    }
   ],
   "source": [
    "#find ids for barca home matches - only home games because then locations can be compared between different games\n",
    "matches = sb.matches(competition_id=11, season_id=90)\n",
    "barca_home_matches = matches[matches[\"home_team\"]==\"Barcelona\"]\n",
    "match_ids = barca_home_matches['match_id'].values.tolist()"
   ]
  },
  {
   "cell_type": "code",
   "execution_count": 188,
   "metadata": {},
   "outputs": [
    {
     "name": "stderr",
     "output_type": "stream",
     "text": [
      "C:\\Users\\thors\\AppData\\Roaming\\Python\\Python312\\site-packages\\statsbombpy\\api_client.py:21: NoAuthWarning: credentials were not supplied. open data access only\n",
      "  warnings.warn(\n"
     ]
    }
   ],
   "source": [
    "#All events sorted for barca home games and possession \n",
    "events = sb.competition_events(\n",
    "    country=\"Spain\",\n",
    "    division= \"La Liga\",\n",
    "    season=\"2020/2021\",\n",
    "    gender=\"male\"\n",
    ")\n",
    "events = events[events['match_id'].isin(match_ids)]\n",
    "df = events[events[\"team\"]==\"Barcelona\"]\n",
    "df = df[df[\"possession_team\"]==\"Barcelona\"]"
   ]
  },
  {
   "cell_type": "code",
   "execution_count": 189,
   "metadata": {},
   "outputs": [],
   "source": [
    "#filter threshold for Xg:\n",
    "df_xg = df[~df['shot_statsbomb_xg'].between(0, 0.05)]"
   ]
  },
  {
   "cell_type": "code",
   "execution_count": 191,
   "metadata": {},
   "outputs": [],
   "source": [
    "#Events sorted in a specific order so each passing sequence is correctly sorted\n",
    "sequences_sorted = df_xg.sort_values(['match_id', 'period','timestamp'], ascending=[True, True, True])"
   ]
  },
  {
   "cell_type": "code",
   "execution_count": 192,
   "metadata": {},
   "outputs": [
    {
     "name": "stderr",
     "output_type": "stream",
     "text": [
      "C:\\Users\\thors\\AppData\\Local\\Temp\\ipykernel_6680\\955078220.py:3: PerformanceWarning: DataFrame is highly fragmented.  This is usually the result of calling `frame.insert` many times, which has poor performance.  Consider joining all columns at once using pd.concat(axis=1) instead. To get a de-fragmented frame, use `newframe = frame.copy()`\n",
      "  sequences_sorted['possession_id'] = sequences_sorted['match_id'].astype(str) + sequences_sorted['possession'].astype(str)\n"
     ]
    }
   ],
   "source": [
    "#make new ids because right now there is ids from 1 to x for each match but it repeats from 1 and up in every match so each possession id points to different matches \n",
    "# - i just put the possession id after match_id in the newly created id\n",
    "sequences_sorted['possession_id'] = sequences_sorted['match_id'].astype(str) + sequences_sorted['possession'].astype(str)\n",
    "sequences_sorted['possession_id'] = sequences_sorted['possession_id'].astype(int)"
   ]
  },
  {
   "cell_type": "code",
   "execution_count": 193,
   "metadata": {},
   "outputs": [],
   "source": [
    "#get the ids of sequences which contain a shot (contain an xg value)\n",
    "shot_sequences = sequences_sorted[sequences_sorted[\"shot_statsbomb_xg\"].notna()]\n",
    "shot_sequences_ids = shot_sequences[\"possession_id\"].unique()"
   ]
  },
  {
   "cell_type": "code",
   "execution_count": 194,
   "metadata": {},
   "outputs": [],
   "source": [
    "#filter for possession sequences which end with a shot\n",
    "sequences_filtered = sequences_sorted[sequences_sorted['possession_id'].isin(shot_sequences_ids)]"
   ]
  },
  {
   "cell_type": "code",
   "execution_count": 195,
   "metadata": {},
   "outputs": [
    {
     "name": "stderr",
     "output_type": "stream",
     "text": [
      "C:\\Users\\thors\\AppData\\Local\\Temp\\ipykernel_6680\\2851514471.py:2: FutureWarning: Series.fillna with 'method' is deprecated and will raise in a future version. Use obj.ffill() or obj.bfill() instead.\n",
      "  sequences_filtered['xg'] = sequences_filtered.groupby('possession_id')['shot_statsbomb_xg'].transform(lambda group: group.fillna(method='ffill').fillna(method='bfill'))\n",
      "C:\\Users\\thors\\AppData\\Local\\Temp\\ipykernel_6680\\2851514471.py:2: PerformanceWarning: DataFrame is highly fragmented.  This is usually the result of calling `frame.insert` many times, which has poor performance.  Consider joining all columns at once using pd.concat(axis=1) instead. To get a de-fragmented frame, use `newframe = frame.copy()`\n",
      "  sequences_filtered['xg'] = sequences_filtered.groupby('possession_id')['shot_statsbomb_xg'].transform(lambda group: group.fillna(method='ffill').fillna(method='bfill'))\n",
      "C:\\Users\\thors\\AppData\\Local\\Temp\\ipykernel_6680\\2851514471.py:2: SettingWithCopyWarning: \n",
      "A value is trying to be set on a copy of a slice from a DataFrame.\n",
      "Try using .loc[row_indexer,col_indexer] = value instead\n",
      "\n",
      "See the caveats in the documentation: https://pandas.pydata.org/pandas-docs/stable/user_guide/indexing.html#returning-a-view-versus-a-copy\n",
      "  sequences_filtered['xg'] = sequences_filtered.groupby('possession_id')['shot_statsbomb_xg'].transform(lambda group: group.fillna(method='ffill').fillna(method='bfill'))\n"
     ]
    }
   ],
   "source": [
    "#fill all rows with an xg for the corresponding sequence - right now there are many missing values in \"shot_statsbomb_xg\"\n",
    "sequences_filtered['xg'] = sequences_filtered.groupby('possession_id')['shot_statsbomb_xg'].transform(lambda group: group.fillna(method='ffill').fillna(method='bfill'))"
   ]
  },
  {
   "cell_type": "code",
   "execution_count": 196,
   "metadata": {},
   "outputs": [
    {
     "name": "stderr",
     "output_type": "stream",
     "text": [
      "C:\\Users\\thors\\AppData\\Local\\Temp\\ipykernel_6680\\1044016736.py:3: PerformanceWarning: DataFrame is highly fragmented.  This is usually the result of calling `frame.insert` many times, which has poor performance.  Consider joining all columns at once using pd.concat(axis=1) instead. To get a de-fragmented frame, use `newframe = frame.copy()`\n",
      "  sequences_filtered['end_location'] = sequences_filtered['location'].shift(-1)\n",
      "C:\\Users\\thors\\AppData\\Local\\Temp\\ipykernel_6680\\1044016736.py:3: SettingWithCopyWarning: \n",
      "A value is trying to be set on a copy of a slice from a DataFrame.\n",
      "Try using .loc[row_indexer,col_indexer] = value instead\n",
      "\n",
      "See the caveats in the documentation: https://pandas.pydata.org/pandas-docs/stable/user_guide/indexing.html#returning-a-view-versus-a-copy\n",
      "  sequences_filtered['end_location'] = sequences_filtered['location'].shift(-1)\n"
     ]
    }
   ],
   "source": [
    "#make end location for passes and carries (start location has no missing values)\n",
    "#combine the two types (pass and carry) into one location column (now we dont know if an edge is a pass or carry btw)\n",
    "sequences_filtered['end_location'] = sequences_filtered['location'].shift(-1)"
   ]
  },
  {
   "cell_type": "code",
   "execution_count": 197,
   "metadata": {},
   "outputs": [],
   "source": [
    "#now we dont need the shot event rows any more so remove them\n",
    "sequences_filtered = sequences_filtered[sequences_filtered[\"type\"]!=\"Shot\"]"
   ]
  },
  {
   "cell_type": "code",
   "execution_count": 198,
   "metadata": {},
   "outputs": [
    {
     "name": "stderr",
     "output_type": "stream",
     "text": [
      "C:\\Users\\thors\\AppData\\Local\\Temp\\ipykernel_6680\\1692549575.py:2: PerformanceWarning: DataFrame is highly fragmented.  This is usually the result of calling `frame.insert` many times, which has poor performance.  Consider joining all columns at once using pd.concat(axis=1) instead. To get a de-fragmented frame, use `newframe = frame.copy()`\n",
      "  sequences_filtered[\"start_x\"] = sequences_filtered[\"location\"].str[0]\n",
      "C:\\Users\\thors\\AppData\\Local\\Temp\\ipykernel_6680\\1692549575.py:3: PerformanceWarning: DataFrame is highly fragmented.  This is usually the result of calling `frame.insert` many times, which has poor performance.  Consider joining all columns at once using pd.concat(axis=1) instead. To get a de-fragmented frame, use `newframe = frame.copy()`\n",
      "  sequences_filtered[\"start_y\"] = sequences_filtered[\"location\"].str[1]\n",
      "C:\\Users\\thors\\AppData\\Local\\Temp\\ipykernel_6680\\1692549575.py:4: PerformanceWarning: DataFrame is highly fragmented.  This is usually the result of calling `frame.insert` many times, which has poor performance.  Consider joining all columns at once using pd.concat(axis=1) instead. To get a de-fragmented frame, use `newframe = frame.copy()`\n",
      "  sequences_filtered[\"end_x\"] = sequences_filtered[\"end_location\"].str[0]\n",
      "C:\\Users\\thors\\AppData\\Local\\Temp\\ipykernel_6680\\1692549575.py:5: PerformanceWarning: DataFrame is highly fragmented.  This is usually the result of calling `frame.insert` many times, which has poor performance.  Consider joining all columns at once using pd.concat(axis=1) instead. To get a de-fragmented frame, use `newframe = frame.copy()`\n",
      "  sequences_filtered[\"end_y\"] = sequences_filtered[\"end_location\"].str[1]\n"
     ]
    }
   ],
   "source": [
    "#assign x and y coordinates from location lists\n",
    "sequences_filtered[\"start_x\"] = sequences_filtered[\"location\"].str[0]\n",
    "sequences_filtered[\"start_y\"] = sequences_filtered[\"location\"].str[1]\n",
    "sequences_filtered[\"end_x\"] = sequences_filtered[\"end_location\"].str[0]\n",
    "sequences_filtered[\"end_y\"] = sequences_filtered[\"end_location\"].str[1]"
   ]
  },
  {
   "cell_type": "code",
   "execution_count": 199,
   "metadata": {},
   "outputs": [
    {
     "name": "stderr",
     "output_type": "stream",
     "text": [
      "C:\\Users\\thors\\AppData\\Local\\Temp\\ipykernel_6680\\3779965507.py:2: PerformanceWarning: DataFrame is highly fragmented.  This is usually the result of calling `frame.insert` many times, which has poor performance.  Consider joining all columns at once using pd.concat(axis=1) instead. To get a de-fragmented frame, use `newframe = frame.copy()`\n",
      "  sequences_filtered['start_node_x'] = round(sequences_filtered['start_x'] / 20)\n",
      "C:\\Users\\thors\\AppData\\Local\\Temp\\ipykernel_6680\\3779965507.py:3: PerformanceWarning: DataFrame is highly fragmented.  This is usually the result of calling `frame.insert` many times, which has poor performance.  Consider joining all columns at once using pd.concat(axis=1) instead. To get a de-fragmented frame, use `newframe = frame.copy()`\n",
      "  sequences_filtered['start_node_y'] = round(sequences_filtered['start_y'] / 20)\n",
      "C:\\Users\\thors\\AppData\\Local\\Temp\\ipykernel_6680\\3779965507.py:4: PerformanceWarning: DataFrame is highly fragmented.  This is usually the result of calling `frame.insert` many times, which has poor performance.  Consider joining all columns at once using pd.concat(axis=1) instead. To get a de-fragmented frame, use `newframe = frame.copy()`\n",
      "  sequences_filtered['end_node_x'] = round(sequences_filtered['end_x'] / 20)\n",
      "C:\\Users\\thors\\AppData\\Local\\Temp\\ipykernel_6680\\3779965507.py:5: PerformanceWarning: DataFrame is highly fragmented.  This is usually the result of calling `frame.insert` many times, which has poor performance.  Consider joining all columns at once using pd.concat(axis=1) instead. To get a de-fragmented frame, use `newframe = frame.copy()`\n",
      "  sequences_filtered['end_node_y'] = round(sequences_filtered['end_y'] / 20)\n"
     ]
    }
   ],
   "source": [
    "#reduce the number of possible x and y coordinates, essentially making the fields/nodes of the pitch larger\n",
    "sequences_filtered['start_node_x'] = round(sequences_filtered['start_x'] / 20)\n",
    "sequences_filtered['start_node_y'] = round(sequences_filtered['start_y'] / 20)\n",
    "sequences_filtered['end_node_x'] = round(sequences_filtered['end_x'] / 20)\n",
    "sequences_filtered['end_node_y'] = round(sequences_filtered['end_y'] / 20)"
   ]
  },
  {
   "cell_type": "code",
   "execution_count": 200,
   "metadata": {},
   "outputs": [
    {
     "name": "stderr",
     "output_type": "stream",
     "text": [
      "C:\\Users\\thors\\AppData\\Local\\Temp\\ipykernel_6680\\2377205678.py:2: PerformanceWarning: DataFrame is highly fragmented.  This is usually the result of calling `frame.insert` many times, which has poor performance.  Consider joining all columns at once using pd.concat(axis=1) instead. To get a de-fragmented frame, use `newframe = frame.copy()`\n",
      "  sequences_filtered[\"start_node\"] = sequences_filtered[\"start_node_x\"] + sequences_filtered[\"start_node_y\"] / 10\n",
      "C:\\Users\\thors\\AppData\\Local\\Temp\\ipykernel_6680\\2377205678.py:3: PerformanceWarning: DataFrame is highly fragmented.  This is usually the result of calling `frame.insert` many times, which has poor performance.  Consider joining all columns at once using pd.concat(axis=1) instead. To get a de-fragmented frame, use `newframe = frame.copy()`\n",
      "  sequences_filtered[\"end_node\"] = sequences_filtered[\"end_node_x\"] + sequences_filtered[\"end_node_y\"] / 10\n"
     ]
    }
   ],
   "source": [
    "#combine the x and y coordinates\n",
    "sequences_filtered[\"start_node\"] = sequences_filtered[\"start_node_x\"] + sequences_filtered[\"start_node_y\"] / 10\n",
    "sequences_filtered[\"end_node\"] = sequences_filtered[\"end_node_x\"] + sequences_filtered[\"end_node_y\"] / 10"
   ]
  },
  {
   "cell_type": "code",
   "execution_count": 201,
   "metadata": {},
   "outputs": [],
   "source": [
    "#sort to desired columns\n",
    "sequences_filtered = sequences_filtered[[\"start_node\",\"end_node\",\"xg\",\"possession_id\"]]"
   ]
  },
  {
   "cell_type": "code",
   "execution_count": 202,
   "metadata": {},
   "outputs": [],
   "source": [
    "#remove edges between the same node if wanted\n",
    "final_sequences = sequences_filtered[sequences_filtered['start_node'] != sequences_filtered['end_node']]"
   ]
  },
  {
   "cell_type": "code",
   "execution_count": 209,
   "metadata": {},
   "outputs": [],
   "source": [
    "#remove rows with missing values - there are only a few\n",
    "final_sequences.dropna(inplace=True)"
   ]
  },
  {
   "cell_type": "code",
   "execution_count": 210,
   "metadata": {},
   "outputs": [],
   "source": [
    "#remove sequences with few passes if wanted\n",
    "index_counts = final_sequences['possession_id'].value_counts()\n",
    "final_sequences = final_sequences[final_sequences['possession_id'].isin(index_counts[index_counts > 5].index)]"
   ]
  },
  {
   "cell_type": "code",
   "execution_count": 211,
   "metadata": {},
   "outputs": [],
   "source": [
    "#get all the unique possession ids for iteration\n",
    "possession_index = final_sequences[\"possession_id\"].unique()"
   ]
  },
  {
   "cell_type": "code",
   "execution_count": 212,
   "metadata": {},
   "outputs": [],
   "source": [
    "import networkx as nx\n",
    "\n",
    "#iterate over possession ids and each row and append edges to a list for each graph and append that graph to a graphs dictionary (directed graph created with \"nx.DiGraph(edges)\")\n",
    "#xg added as an attribute for each graph\n",
    "graphs_dict = {}\n",
    "for j in possession_index:\n",
    "    edges = []\n",
    "    for i in final_sequences.index:\n",
    "        if j == final_sequences[\"possession_id\"][i]:\n",
    "            edges.append((final_sequences[\"start_node\"][i], final_sequences[\"end_node\"][i]))\n",
    "            if j not in graphs_dict:\n",
    "                graphs_dict[j] = {\"xg\": final_sequences[\"xg\"][i], \"graph\": None}\n",
    "            else:\n",
    "                graphs_dict[j][\"xg\"] = final_sequences[\"xg\"][i]\n",
    "                \n",
    "    graph = nx.DiGraph(edges)\n",
    "    graphs_dict[j][\"graph\"] = graph\n",
    "\n",
    "graph_list = [value[\"graph\"] for value in graphs_dict.values()]"
   ]
  },
  {
   "cell_type": "code",
   "execution_count": 214,
   "metadata": {},
   "outputs": [
    {
     "data": {
      "image/png": "[encoded data removed]",
      "text/plain": [
       "<Figure size 640x480 with 1 Axes>"
      ]
     },
     "metadata": {},
     "output_type": "display_data"
    }
   ],
   "source": [
    "import matplotlib.pyplot as plt\n",
    "import networkx as nx\n",
    "\n",
    "game_pos = 377366114\n",
    "# Extract positions from numeric node labels\n",
    "positions = {}\n",
    "for node in graphs_dict[game_pos][\"graph\"].nodes():\n",
    "    # Convert the node to a string first, then split by the decimal\n",
    "    x = int(node)  # Integer part represents the x position\n",
    "    y = node - x   # Decimal part represents the y position\n",
    "    positions[node] = (x, y)\n",
    "\n",
    "# Draw the graph using the positions\n",
    "nx.draw_networkx(graphs_dict[game_pos][\"graph\"], pos=positions)\n",
    "\n",
    "# Show the plot\n",
    "plt.show()\n"
   ]
  }
 ],
 "metadata": {
  "kernelspec": {
   "display_name": "base",
   "language": "python",
   "name": "python3"
  },
  "language_info": {
   "codemirror_mode": {
    "name": "ipython",
    "version": 3
   },
   "file_extension": ".py",
   "mimetype": "text/x-python",
   "name": "python",
   "nbconvert_exporter": "python",
   "pygments_lexer": "ipython3",
   "version": "3.12.6"
  }
 },
 "nbformat": 4,
 "nbformat_minor": 2
}
