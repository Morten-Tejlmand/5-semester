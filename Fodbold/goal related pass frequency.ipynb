{
 "cells": [
  {
   "cell_type": "code",
   "execution_count": 55,
   "metadata": {},
   "outputs": [],
   "source": [
    "from statsbombpy import sb\n",
    "import pandas as pd"
   ]
  },
  {
   "cell_type": "code",
   "execution_count": 56,
   "metadata": {},
   "outputs": [
    {
     "name": "stderr",
     "output_type": "stream",
     "text": [
      "C:\\Users\\thors\\AppData\\Roaming\\Python\\Python312\\site-packages\\statsbombpy\\api_client.py:21: NoAuthWarning: credentials were not supplied. open data access only\n",
      "  warnings.warn(\n"
     ]
    }
   ],
   "source": [
    "#find ids for barca home matches - only home games because then locations can be compared between different games\n",
    "matches = sb.matches(competition_id=11, season_id=90)\n",
    "barca_home_matches = matches[matches[\"home_team\"]==\"Barcelona\"]\n",
    "match_ids = barca_home_matches['match_id'].values.tolist()"
   ]
  },
  {
   "cell_type": "code",
   "execution_count": 57,
   "metadata": {},
   "outputs": [
    {
     "name": "stderr",
     "output_type": "stream",
     "text": [
      "C:\\Users\\thors\\AppData\\Roaming\\Python\\Python312\\site-packages\\statsbombpy\\api_client.py:21: NoAuthWarning: credentials were not supplied. open data access only\n",
      "  warnings.warn(\n"
     ]
    }
   ],
   "source": [
    "#All events sorted for barca home games and possession \n",
    "events = sb.competition_events(\n",
    "    country=\"Spain\",\n",
    "    division= \"La Liga\",\n",
    "    season=\"2020/2021\",\n",
    "    gender=\"male\"\n",
    ")\n",
    "events = events[events['match_id'].isin(match_ids)]\n",
    "df = events[events[\"team\"]==\"Barcelona\"]\n",
    "df = events[events[\"possession_team\"]==\"Barcelona\"]"
   ]
  },
  {
   "cell_type": "code",
   "execution_count": 58,
   "metadata": {},
   "outputs": [],
   "source": [
    "#filter threshold for Xg:\n",
    "df_xg = df[~df['shot_statsbomb_xg'].between(0, 0.05)]"
   ]
  },
  {
   "cell_type": "code",
   "execution_count": 59,
   "metadata": {},
   "outputs": [],
   "source": [
    "#only include rows which has Xg/shot or a pass\n",
    "df_shot_pass = df[df['type'].isin(['Shot', 'Pass', 'Carry'])]"
   ]
  },
  {
   "cell_type": "code",
   "execution_count": 60,
   "metadata": {},
   "outputs": [],
   "source": [
    "#Events sorted in a specific order so each passing sequence is correctly sorted\n",
    "sequences_sorted = df_shot_pass.sort_values(['match_id', 'period','timestamp'], ascending=[True, True, True])"
   ]
  },
  {
   "cell_type": "code",
   "execution_count": 61,
   "metadata": {},
   "outputs": [
    {
     "name": "stderr",
     "output_type": "stream",
     "text": [
      "C:\\Users\\thors\\AppData\\Local\\Temp\\ipykernel_7540\\955078220.py:3: PerformanceWarning: DataFrame is highly fragmented.  This is usually the result of calling `frame.insert` many times, which has poor performance.  Consider joining all columns at once using pd.concat(axis=1) instead. To get a de-fragmented frame, use `newframe = frame.copy()`\n",
      "  sequences_sorted['possession_id'] = sequences_sorted['match_id'].astype(str) + sequences_sorted['possession'].astype(str)\n"
     ]
    }
   ],
   "source": [
    "#make new ids because right now there is ids from 1 to x for each match but it repeats from 1 and up in every match so each possession id points to different matches \n",
    "# - i just put the possession id after match_id in the newly created id\n",
    "sequences_sorted['possession_id'] = sequences_sorted['match_id'].astype(str) + sequences_sorted['possession'].astype(str)\n",
    "sequences_sorted['possession_id'] = sequences_sorted['possession_id'].astype(int)"
   ]
  },
  {
   "cell_type": "code",
   "execution_count": 62,
   "metadata": {},
   "outputs": [],
   "source": [
    "#get the ids of sequences which contain a shot (contain an xg value)\n",
    "shot_sequences = sequences_sorted[sequences_sorted[\"shot_statsbomb_xg\"].notna()]\n",
    "shot_sequences_ids = shot_sequences[\"possession_id\"].unique()"
   ]
  },
  {
   "cell_type": "code",
   "execution_count": 63,
   "metadata": {},
   "outputs": [],
   "source": [
    "#filter for possession sequences which end with a shot\n",
    "sequences_filtered = sequences_sorted[sequences_sorted['possession_id'].isin(shot_sequences_ids)]"
   ]
  },
  {
   "cell_type": "code",
   "execution_count": 64,
   "metadata": {},
   "outputs": [
    {
     "name": "stderr",
     "output_type": "stream",
     "text": [
      "C:\\Users\\thors\\AppData\\Local\\Temp\\ipykernel_7540\\2851514471.py:2: FutureWarning: Series.fillna with 'method' is deprecated and will raise in a future version. Use obj.ffill() or obj.bfill() instead.\n",
      "  sequences_filtered['xg'] = sequences_filtered.groupby('possession_id')['shot_statsbomb_xg'].transform(lambda group: group.fillna(method='ffill').fillna(method='bfill'))\n",
      "C:\\Users\\thors\\AppData\\Local\\Temp\\ipykernel_7540\\2851514471.py:2: PerformanceWarning: DataFrame is highly fragmented.  This is usually the result of calling `frame.insert` many times, which has poor performance.  Consider joining all columns at once using pd.concat(axis=1) instead. To get a de-fragmented frame, use `newframe = frame.copy()`\n",
      "  sequences_filtered['xg'] = sequences_filtered.groupby('possession_id')['shot_statsbomb_xg'].transform(lambda group: group.fillna(method='ffill').fillna(method='bfill'))\n",
      "C:\\Users\\thors\\AppData\\Local\\Temp\\ipykernel_7540\\2851514471.py:2: SettingWithCopyWarning: \n",
      "A value is trying to be set on a copy of a slice from a DataFrame.\n",
      "Try using .loc[row_indexer,col_indexer] = value instead\n",
      "\n",
      "See the caveats in the documentation: https://pandas.pydata.org/pandas-docs/stable/user_guide/indexing.html#returning-a-view-versus-a-copy\n",
      "  sequences_filtered['xg'] = sequences_filtered.groupby('possession_id')['shot_statsbomb_xg'].transform(lambda group: group.fillna(method='ffill').fillna(method='bfill'))\n"
     ]
    }
   ],
   "source": [
    "#fill all rows with an xg for the corresponding sequence - right now there are many missing values in \"shot_statsbomb_xg\"\n",
    "sequences_filtered['xg'] = sequences_filtered.groupby('possession_id')['shot_statsbomb_xg'].transform(lambda group: group.fillna(method='ffill').fillna(method='bfill'))"
   ]
  },
  {
   "cell_type": "code",
   "execution_count": 65,
   "metadata": {},
   "outputs": [],
   "source": [
    "#now we dont need the shot event rows any more so remove them\n",
    "sequences_filtered = sequences_filtered[sequences_filtered[\"type\"]!=\"Shot\"]"
   ]
  },
  {
   "cell_type": "code",
   "execution_count": 66,
   "metadata": {},
   "outputs": [
    {
     "name": "stderr",
     "output_type": "stream",
     "text": [
      "C:\\Users\\thors\\AppData\\Local\\Temp\\ipykernel_7540\\762106847.py:3: PerformanceWarning: DataFrame is highly fragmented.  This is usually the result of calling `frame.insert` many times, which has poor performance.  Consider joining all columns at once using pd.concat(axis=1) instead. To get a de-fragmented frame, use `newframe = frame.copy()`\n",
      "  sequences_filtered['end_location'] = sequences_filtered['pass_end_location'].fillna(sequences_filtered['carry_end_location'])\n"
     ]
    }
   ],
   "source": [
    "#make end location for passes and carries (start location has no missing values)\n",
    "#combine the two types (pass and carry) into one location column (now we dont know if an edge is a pass or carry btw)\n",
    "sequences_filtered['end_location'] = sequences_filtered['pass_end_location'].fillna(sequences_filtered['carry_end_location'])"
   ]
  },
  {
   "cell_type": "code",
   "execution_count": 67,
   "metadata": {},
   "outputs": [
    {
     "name": "stderr",
     "output_type": "stream",
     "text": [
      "C:\\Users\\thors\\AppData\\Local\\Temp\\ipykernel_7540\\1692549575.py:2: PerformanceWarning: DataFrame is highly fragmented.  This is usually the result of calling `frame.insert` many times, which has poor performance.  Consider joining all columns at once using pd.concat(axis=1) instead. To get a de-fragmented frame, use `newframe = frame.copy()`\n",
      "  sequences_filtered[\"start_x\"] = sequences_filtered[\"location\"].str[0]\n",
      "C:\\Users\\thors\\AppData\\Local\\Temp\\ipykernel_7540\\1692549575.py:3: PerformanceWarning: DataFrame is highly fragmented.  This is usually the result of calling `frame.insert` many times, which has poor performance.  Consider joining all columns at once using pd.concat(axis=1) instead. To get a de-fragmented frame, use `newframe = frame.copy()`\n",
      "  sequences_filtered[\"start_y\"] = sequences_filtered[\"location\"].str[1]\n",
      "C:\\Users\\thors\\AppData\\Local\\Temp\\ipykernel_7540\\1692549575.py:4: PerformanceWarning: DataFrame is highly fragmented.  This is usually the result of calling `frame.insert` many times, which has poor performance.  Consider joining all columns at once using pd.concat(axis=1) instead. To get a de-fragmented frame, use `newframe = frame.copy()`\n",
      "  sequences_filtered[\"end_x\"] = sequences_filtered[\"end_location\"].str[0]\n",
      "C:\\Users\\thors\\AppData\\Local\\Temp\\ipykernel_7540\\1692549575.py:5: PerformanceWarning: DataFrame is highly fragmented.  This is usually the result of calling `frame.insert` many times, which has poor performance.  Consider joining all columns at once using pd.concat(axis=1) instead. To get a de-fragmented frame, use `newframe = frame.copy()`\n",
      "  sequences_filtered[\"end_y\"] = sequences_filtered[\"end_location\"].str[1]\n"
     ]
    }
   ],
   "source": [
    "#assign x and y coordinates from location lists\n",
    "sequences_filtered[\"start_x\"] = sequences_filtered[\"location\"].str[0]\n",
    "sequences_filtered[\"start_y\"] = sequences_filtered[\"location\"].str[1]\n",
    "sequences_filtered[\"end_x\"] = sequences_filtered[\"end_location\"].str[0]\n",
    "sequences_filtered[\"end_y\"] = sequences_filtered[\"end_location\"].str[1]"
   ]
  },
  {
   "cell_type": "code",
   "execution_count": 68,
   "metadata": {},
   "outputs": [
    {
     "name": "stderr",
     "output_type": "stream",
     "text": [
      "C:\\Users\\thors\\AppData\\Local\\Temp\\ipykernel_7540\\3779965507.py:2: PerformanceWarning: DataFrame is highly fragmented.  This is usually the result of calling `frame.insert` many times, which has poor performance.  Consider joining all columns at once using pd.concat(axis=1) instead. To get a de-fragmented frame, use `newframe = frame.copy()`\n",
      "  sequences_filtered['start_node_x'] = round(sequences_filtered['start_x'] / 20)\n",
      "C:\\Users\\thors\\AppData\\Local\\Temp\\ipykernel_7540\\3779965507.py:3: PerformanceWarning: DataFrame is highly fragmented.  This is usually the result of calling `frame.insert` many times, which has poor performance.  Consider joining all columns at once using pd.concat(axis=1) instead. To get a de-fragmented frame, use `newframe = frame.copy()`\n",
      "  sequences_filtered['start_node_y'] = round(sequences_filtered['start_y'] / 20)\n",
      "C:\\Users\\thors\\AppData\\Local\\Temp\\ipykernel_7540\\3779965507.py:4: PerformanceWarning: DataFrame is highly fragmented.  This is usually the result of calling `frame.insert` many times, which has poor performance.  Consider joining all columns at once using pd.concat(axis=1) instead. To get a de-fragmented frame, use `newframe = frame.copy()`\n",
      "  sequences_filtered['end_node_x'] = round(sequences_filtered['end_x'] / 20)\n",
      "C:\\Users\\thors\\AppData\\Local\\Temp\\ipykernel_7540\\3779965507.py:5: PerformanceWarning: DataFrame is highly fragmented.  This is usually the result of calling `frame.insert` many times, which has poor performance.  Consider joining all columns at once using pd.concat(axis=1) instead. To get a de-fragmented frame, use `newframe = frame.copy()`\n",
      "  sequences_filtered['end_node_y'] = round(sequences_filtered['end_y'] / 20)\n"
     ]
    }
   ],
   "source": [
    "#reduce the number of possible x and y coordinates, essentially making the fields/nodes of the pitch larger\n",
    "sequences_filtered['start_node_x'] = round(sequences_filtered['start_x'] / 20)\n",
    "sequences_filtered['start_node_y'] = round(sequences_filtered['start_y'] / 20)\n",
    "sequences_filtered['end_node_x'] = round(sequences_filtered['end_x'] / 20)\n",
    "sequences_filtered['end_node_y'] = round(sequences_filtered['end_y'] / 20)"
   ]
  },
  {
   "cell_type": "code",
   "execution_count": 69,
   "metadata": {},
   "outputs": [
    {
     "name": "stderr",
     "output_type": "stream",
     "text": [
      "C:\\Users\\thors\\AppData\\Local\\Temp\\ipykernel_7540\\1117941376.py:2: PerformanceWarning: DataFrame is highly fragmented.  This is usually the result of calling `frame.insert` many times, which has poor performance.  Consider joining all columns at once using pd.concat(axis=1) instead. To get a de-fragmented frame, use `newframe = frame.copy()`\n",
      "  sequences_filtered[\"start_node\"] = sequences_filtered[\"start_node_x\"] + sequences_filtered[\"start_node_y\"] / 10\n",
      "C:\\Users\\thors\\AppData\\Local\\Temp\\ipykernel_7540\\1117941376.py:3: PerformanceWarning: DataFrame is highly fragmented.  This is usually the result of calling `frame.insert` many times, which has poor performance.  Consider joining all columns at once using pd.concat(axis=1) instead. To get a de-fragmented frame, use `newframe = frame.copy()`\n",
      "  sequences_filtered[\"end_node\"] = sequences_filtered[\"end_node_x\"] + sequences_filtered[\"end_node_y\"] / 10\n"
     ]
    }
   ],
   "source": [
    "#combine the x and y coordinates\n",
    "sequences_filtered[\"start_node\"] = sequences_filtered[\"start_node_x\"] + sequences_filtered[\"start_node_y\"] / 10\n",
    "sequences_filtered[\"end_node\"] = sequences_filtered[\"end_node_x\"] + sequences_filtered[\"end_node_y\"] / 10\n",
    "sequences_filtered = sequences_filtered[[\"start_node\",\"end_node\",\"xg\",\"possession_id\"]]"
   ]
  },
  {
   "cell_type": "code",
   "execution_count": 70,
   "metadata": {},
   "outputs": [],
   "source": [
    "#missing values in the end_node probably because some \"carry_end_location\" or \"pass_end_location\" has missing values - remove the rows with missing values\n",
    "final_sequences = sequences_filtered.dropna(subset=['end_node'])"
   ]
  },
  {
   "cell_type": "code",
   "execution_count": 71,
   "metadata": {},
   "outputs": [],
   "source": [
    "#remove edges between the same node if wanted\n",
    "final_sequences = final_sequences[final_sequences['start_node'] != final_sequences['end_node']]"
   ]
  },
  {
   "cell_type": "code",
   "execution_count": 72,
   "metadata": {},
   "outputs": [],
   "source": [
    "#remove sequences with few passes if wanted\n",
    "index_counts = final_sequences['possession_id'].value_counts()\n",
    "final_sequences = final_sequences[final_sequences['possession_id'].isin(index_counts[index_counts > 5].index)]"
   ]
  },
  {
   "cell_type": "code",
   "execution_count": 74,
   "metadata": {},
   "outputs": [],
   "source": [
    "#get all the unique possession ids for iteration\n",
    "possession_index = final_sequences[\"possession_id\"].unique()"
   ]
  },
  {
   "cell_type": "code",
   "execution_count": 80,
   "metadata": {},
   "outputs": [],
   "source": [
    "import networkx as nx\n",
    "\n",
    "#iterate over possession ids and each row and append edges to a list for each graph and append that graph to a graphs dictionary (directed graph created with \"nx.DiGraph(edges)\")\n",
    "#xg added as an attribute for each graph\n",
    "graphs_dict = {}\n",
    "for j in possession_index:\n",
    "    edges = []\n",
    "    for i in final_sequences.index:\n",
    "        if j == final_sequences[\"possession_id\"][i]:\n",
    "            edges.append((final_sequences[\"start_node\"][i], final_sequences[\"end_node\"][i]))\n",
    "            if j not in graphs_dict:\n",
    "                graphs_dict[j] = {\"xg\": final_sequences[\"xg\"][i], \"graph\": None}\n",
    "            else:\n",
    "                graphs_dict[j][\"xg\"] = final_sequences[\"xg\"][i]\n",
    "                \n",
    "    graph = nx.DiGraph(edges)\n",
    "    graphs_dict[j][\"graph\"] = graph\n",
    "\n",
    "graph_list = [value[\"graph\"] for value in graphs_dict.values()]"
   ]
  },
  {
   "cell_type": "code",
   "execution_count": 81,
   "metadata": {},
   "outputs": [
    {
     "data": {
      "image/png": "[encoded data removed]",
      "text/plain": [
       "<Figure size 800x500 with 2 Axes>"
      ]
     },
     "metadata": {},
     "output_type": "display_data"
    }
   ],
   "source": [
    "import matplotlib.pyplot as plt\n",
    "plt.figure(figsize=(8,5))\n",
    "plt.figure(1)\n",
    "\n",
    "plt.subplot(1,2,1)\n",
    "nx.draw_networkx(graphs_dict[37644403][\"graph\"])\n",
    "\n",
    "plt.subplot(1,2,2)\n",
    "nx.draw_networkx(graphs_dict[376444064][\"graph\"])\n",
    "\n",
    "plt.show()"
   ]
  }
 ],
 "metadata": {
  "kernelspec": {
   "display_name": "base",
   "language": "python",
   "name": "python3"
  },
  "language_info": {
   "codemirror_mode": {
    "name": "ipython",
    "version": 3
   },
   "file_extension": ".py",
   "mimetype": "text/x-python",
   "name": "python",
   "nbconvert_exporter": "python",
   "pygments_lexer": "ipython3",
   "version": "3.12.6"
  }
 },
 "nbformat": 4,
 "nbformat_minor": 2
}
