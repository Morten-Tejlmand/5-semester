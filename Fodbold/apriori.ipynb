{
 "cells": [
  {
   "cell_type": "code",
   "execution_count": 1,
   "metadata": {},
   "outputs": [],
   "source": [
    "import networkx as nx\n",
    "import numpy as np\n",
    "import matplotlib.pyplot as plt\n",
    "from networkx.algorithms.isomorphism import GraphMatcher, DiGraphMatcher\n",
    "from itertools import combinations, chain\n",
    "from mlxtend.frequent_patterns import apriori, association_rules\n",
    "\n",
    "# Hallo"
   ]
  },
  {
   "cell_type": "code",
   "execution_count": 3,
   "metadata": {},
   "outputs": [],
   "source": [
    "# Edgelist\n",
    "\n",
    "E1 = [(\"A\", \"B\"), (\"B\", \"C\"), (\"C\", \"D\"), (\"D\", \"E\"), (\"E\", \"F\")]\n",
    "E2 = [(\"A\", \"B\"), (\"B\", \"C\"), (\"C\", \"D\"), (\"C\", \"E\"), (\"D\", \"F\")]\n",
    "# , (\"C\", \"D\"), (\"D\", \"E\")\n",
    "# E3 = [(\"A\", \"E\"), (\"A\", \"B\"), (\"A\", \"C\"), (\"A\", \"D\")]"
   ]
  },
  {
   "cell_type": "code",
   "execution_count": 4,
   "metadata": {},
   "outputs": [],
   "source": [
    "# Directed graphs\n",
    "\n",
    "G1 = nx.DiGraph()\n",
    "G2 = nx.DiGraph()\n",
    "G1.add_edges_from(E1)\n",
    "G2.add_edges_from(E2)"
   ]
  },
  {
   "cell_type": "code",
   "execution_count": 6,
   "metadata": {},
   "outputs": [
    {
     "data": {
      "image/png": "[encoded data removed]",
      "text/plain": [
       "<Figure size 576x360 with 2 Axes>"
      ]
     },
     "metadata": {},
     "output_type": "display_data"
    }
   ],
   "source": [
    "# Draw graphs \n",
    "\n",
    "plt.figure(figsize=(8,5))\n",
    "plt.figure(1)\n",
    "\n",
    "plt.subplot(1,2,1)\n",
    "nx.draw_networkx(G1)\n",
    "\n",
    "plt.subplot(1,2,2)\n",
    "nx.draw_networkx(G2)\n",
    "\n",
    "plt.show()"
   ]
  },
  {
   "cell_type": "code",
   "execution_count": 7,
   "metadata": {},
   "outputs": [],
   "source": [
    "# Apriori algorithm\n",
    "\n",
    "GRAPH_DB = [G1, G2]  # List of graphs in the database\n",
    "edge_matrix = [E1, E2]  # List of edge lists\n",
    "min_sup = 2\n",
    "\n",
    "def frequent_singletons(min_sup, edge_matrix):\n",
    "    items_counted = {}\n",
    "    for edge_list in edge_matrix:\n",
    "        for edge in edge_list:\n",
    "            items_counted[edge] = items_counted.get(edge, 0) + 1\n",
    "    \n",
    "    # Return frequent edges that meet the min_sup\n",
    "    F = [key for key, value in items_counted.items() if value >= min_sup]\n",
    "    \n",
    "    # Convert frequent edges into individual graph objects\n",
    "    F_graphs = [nx.DiGraph([edge]) for edge in F]  # Each edge is a graph now\n",
    "    return F_graphs\n",
    "\n",
    "F = frequent_singletons(2, edge_matrix)\n",
    "\n",
    "def generate_candidates(F, k):\n",
    "    # Generate combinations of subgraphs from frequent subgraphs of size (k-1)\n",
    "    candidates = set()\n",
    "    \n",
    "    # Iterate over all pairs of frequent subgraphs (F)\n",
    "    for g1, g2 in combinations(F, 2):\n",
    "        # Combine the two subgraphs if they share a common (k-1)-sized subgraph\n",
    "        union_graph = nx.compose(g1, g2)\n",
    "        \n",
    "        # if nx.is_connected(union_graph): Denne funktion eksisterer ikke for directed graphs\n",
    "        \n",
    "        if union_graph.number_of_nodes() == k+1:\n",
    "            candidates.add(union_graph)\n",
    "    \n",
    "    return candidates\n",
    "\n",
    "\n",
    "def count_support(C, graph_db):\n",
    "    F_count = dict()\n",
    "    for graph in graph_db:\n",
    "        for candidate in C:\n",
    "            GM = DiGraphMatcher(graph, candidate)\n",
    "            if GM.subgraph_is_isomorphic():  # Check for subgraph isomorphism\n",
    "                F_count[candidate] = F_count.get(candidate, 0) + 1\n",
    "    return F_count\n",
    "\n",
    "\n",
    "def filter_frequent(F_count, min_sup):\n",
    "    return [key for key, value in F_count.items() if value >= min_sup]\n",
    "\n",
    "\n",
    "# Main function to run the frequent subgraph mining algorithm\n",
    "def apriori_graph_mining(min_sup, edge_matrix, graph_db, max_k):\n",
    "    frequent_total = []\n",
    "    \n",
    "    # Step 1: Find frequent singletons (edges)\n",
    "    F = frequent_singletons(min_sup, edge_matrix)\n",
    "    \n",
    "    # Add initial frequent items to the total list\n",
    "    frequent_total.extend(F)\n",
    "    \n",
    "    k = 2  # Start with size-2 subgraphs\n",
    "    while k <= max_k:\n",
    "        print(f\"\\nIteration {k}:\")\n",
    "        \n",
    "        # Step 2: Generate candidate subgraphs of size k\n",
    "        C = generate_candidates(F, k)\n",
    "        \n",
    "        # Step 3: Count support for each candidate in the graph database\n",
    "        F_count = count_support(C, graph_db)\n",
    "        \n",
    "        # Step 4: Filter out frequent candidates that meet the minimum support\n",
    "        F = filter_frequent(F_count, min_sup)\n",
    "        \n",
    "        if not F:  # If no frequent candidates are found, stop the algorithm\n",
    "            print(f\"No frequent subgraphs found for size {k}. Terminating.\")\n",
    "            break\n",
    "        \n",
    "        # Add frequent items to the total list\n",
    "        frequent_total.extend(F)\n",
    "        \n",
    "        print(f\"Frequent subgraphs of size {k}: {F}\")\n",
    "        \n",
    "        k += 1  # Move to the next size of subgraphs\n",
    "\n",
    "    return frequent_total\n"
   ]
  },
  {
   "cell_type": "markdown",
   "metadata": {},
   "source": [
    "# Illustration af hver gennemgang af algoritmen"
   ]
  },
  {
   "cell_type": "code",
   "execution_count": 8,
   "metadata": {},
   "outputs": [
    {
     "name": "stdout",
     "output_type": "stream",
     "text": [
      "[('B', 'C'), ('C', 'D')]\n",
      "[('A', 'B'), ('B', 'C')]\n"
     ]
    }
   ],
   "source": [
    "F = frequent_singletons(2, edge_matrix)\n",
    "C = generate_candidates(F, 2)\n",
    "count = count_support(C, GRAPH_DB)\n",
    "filter = filter_frequent(count, 2)\n",
    "\n",
    "for i in filter:\n",
    "    print(i.edges())"
   ]
  },
  {
   "cell_type": "code",
   "execution_count": 9,
   "metadata": {},
   "outputs": [
    {
     "name": "stdout",
     "output_type": "stream",
     "text": [
      "[('B', 'C'), ('C', 'D'), ('A', 'B')]\n"
     ]
    }
   ],
   "source": [
    "C2 = generate_candidates(C, 3)\n",
    "count2 = count_support(C2, GRAPH_DB)\n",
    "filter2 = filter_frequent(count2, 2)\n",
    "\n",
    "for i in filter2:\n",
    "    print(i.edges())"
   ]
  },
  {
   "cell_type": "code",
   "execution_count": 10,
   "metadata": {},
   "outputs": [
    {
     "data": {
      "image/png": "[encoded data removed]",
      "text/plain": [
       "<Figure size 432x288 with 1 Axes>"
      ]
     },
     "metadata": {},
     "output_type": "display_data"
    }
   ],
   "source": [
    "nx.draw_networkx(filter2[0])"
   ]
  },
  {
   "cell_type": "code",
   "execution_count": 11,
   "metadata": {},
   "outputs": [],
   "source": [
    "C3 = generate_candidates(C2, 4)\n",
    "count3 = count_support(C3, GRAPH_DB)\n",
    "filter3 = filter_frequent(count3, 2)"
   ]
  },
  {
   "cell_type": "code",
   "execution_count": 12,
   "metadata": {},
   "outputs": [
    {
     "data": {
      "text/plain": [
       "[]"
      ]
     },
     "execution_count": 12,
     "metadata": {},
     "output_type": "execute_result"
    }
   ],
   "source": [
    "filter3"
   ]
  },
  {
   "cell_type": "markdown",
   "metadata": {},
   "source": [
    "# Illustration af algoritmen på en gang"
   ]
  },
  {
   "cell_type": "code",
   "execution_count": 13,
   "metadata": {},
   "outputs": [
    {
     "name": "stdout",
     "output_type": "stream",
     "text": [
      "\n",
      "Iteration 2:\n",
      "Frequent subgraphs of size 2: [<networkx.classes.digraph.DiGraph object at 0x000001E347AC0640>, <networkx.classes.digraph.DiGraph object at 0x000001E3479458D0>]\n",
      "\n",
      "Iteration 3:\n",
      "Frequent subgraphs of size 3: [<networkx.classes.digraph.DiGraph object at 0x000001E347944040>]\n",
      "\n",
      "Iteration 4:\n",
      "No frequent subgraphs found for size 4. Terminating.\n",
      "[('A', 'B')]\n",
      "[('B', 'C')]\n",
      "[('C', 'D')]\n",
      "[('A', 'B'), ('B', 'C')]\n",
      "[('B', 'C'), ('C', 'D')]\n",
      "[('A', 'B'), ('B', 'C'), ('C', 'D')]\n"
     ]
    }
   ],
   "source": [
    "frequents = apriori_graph_mining(2, edge_matrix, GRAPH_DB, 5)\n",
    "for pattern in frequents:\n",
    "    print(pattern.edges())"
   ]
  }
 ],
 "metadata": {
  "kernelspec": {
   "display_name": "Python 3",
   "language": "python",
   "name": "python3"
  },
  "language_info": {
   "codemirror_mode": {
    "name": "ipython",
    "version": 3
   },
   "file_extension": ".py",
   "mimetype": "text/x-python",
   "name": "python",
   "nbconvert_exporter": "python",
   "pygments_lexer": "ipython3",
   "version": "3.10.2"
  }
 },
 "nbformat": 4,
 "nbformat_minor": 2
}
