{
 "cells": [
  {
   "cell_type": "code",
   "execution_count": 12,
   "metadata": {},
   "outputs": [],
   "source": [
    "import networkx as nx\n",
    "import numpy as np\n",
    "import matplotlib.pyplot as plt\n",
    "from networkx.algorithms.isomorphism import GraphMatcher\n",
    "from itertools import combinations, chain\n",
    "from mlxtend.frequent_patterns import apriori, association_rules"
   ]
  },
  {
   "cell_type": "code",
   "execution_count": 103,
   "metadata": {},
   "outputs": [],
   "source": [
    "E1 = [(\"A\", \"B\"), (\"B\", \"C\"), (\"C\", \"A\"), (\"B\", \"D\"), (\"C\", \"D\"), (\"D\", \"E\")]\n",
    "E2 = [(\"A\", \"B\"), (\"B\", \"C\"), (\"C\", \"D\"), (\"D\", \"E\")]\n",
    "# E3 = [(\"A\", \"E\"), (\"A\", \"B\"), (\"A\", \"C\"), (\"A\", \"D\")]"
   ]
  },
  {
   "cell_type": "code",
   "execution_count": 104,
   "metadata": {},
   "outputs": [],
   "source": [
    "G1 = nx.from_edgelist(E1)\n",
    "G2 = nx.from_edgelist(E2)\n",
    "#G3 = nx.from_edgelist(E3)"
   ]
  },
  {
   "cell_type": "code",
   "execution_count": 105,
   "metadata": {},
   "outputs": [],
   "source": [
    "GRAPH_DB = [G1, G2]"
   ]
  },
  {
   "cell_type": "code",
   "execution_count": 74,
   "metadata": {},
   "outputs": [],
   "source": [
    "\n",
    "G3 = nx.from_edgelist(E1)\n"
   ]
  },
  {
   "cell_type": "code",
   "execution_count": 75,
   "metadata": {},
   "outputs": [],
   "source": [
    "g = nx.from_edgelist([E1[0]])"
   ]
  },
  {
   "cell_type": "code",
   "execution_count": 76,
   "metadata": {},
   "outputs": [
    {
     "data": {
      "text/plain": [
       "('A', 'B')"
      ]
     },
     "execution_count": 76,
     "metadata": {},
     "output_type": "execute_result"
    }
   ],
   "source": [
    "tuple(g.nodes())"
   ]
  },
  {
   "cell_type": "code",
   "execution_count": 77,
   "metadata": {},
   "outputs": [
    {
     "data": {
      "text/plain": [
       "5"
      ]
     },
     "execution_count": 77,
     "metadata": {},
     "output_type": "execute_result"
    }
   ],
   "source": [
    "G3.number_of_nodes()"
   ]
  },
  {
   "cell_type": "code",
   "execution_count": 106,
   "metadata": {},
   "outputs": [
    {
     "data": {
      "image/png": "[encoded data removed]",
      "text/plain": [
       "<Figure size 576x360 with 2 Axes>"
      ]
     },
     "metadata": {},
     "output_type": "display_data"
    }
   ],
   "source": [
    "plt.figure(figsize=(8,5))\n",
    "plt.figure(1)\n",
    "\n",
    "plt.subplot(1,2,1)\n",
    "nx.draw_networkx(G1)\n",
    "\n",
    "plt.subplot(1,2,2)\n",
    "nx.draw_networkx(G2)\n",
    "\n",
    "plt.show()"
   ]
  },
  {
   "cell_type": "code",
   "execution_count": 125,
   "metadata": {},
   "outputs": [],
   "source": [
    "from collections import defaultdict\n",
    "# GRAPH_DB = [G1, G2]\n",
    "# items_counted = dict()\n",
    "# min_sup = 2\n",
    "# edge_matrix = [E1, E2]\n",
    "# frequent_total = list()\n",
    "\n",
    "# G1 = nx.Graph()\n",
    "# # G1 contains a subgraph between nodes 1-5 with 5 edges (this is the frequent pattern)\n",
    "# G1.add_edges_from([(1, 2), (2, 3), (3, 4), (4, 5), (5, 1), (6, 1), (6, 2)])\n",
    "\n",
    "# G2 = nx.Graph()\n",
    "# # G2 contains the same subgraph between nodes 1-5, ensuring a frequent subgraph of size 5\n",
    "# G2.add_edges_from([(1, 2), (2, 3), (3, 4), (4, 5), (5, 1), (6, 5), (6, 4)])\n",
    "\n",
    "# # Edge lists to mimic the input structure in the example\n",
    "# E1 = list(G1.edges())\n",
    "# E2 = list(G2.edges())\n",
    "\n",
    "GRAPH_DB = [G1, G2]  # List of graphs in the database\n",
    "edge_matrix = [E1, E2]  # List of edge lists\n",
    "min_sup = 2\n",
    "\n",
    "\n",
    "def frequent_singletons(min_sup, edge_matrix):\n",
    "    items_counted = {}\n",
    "    for edge_list in edge_matrix:\n",
    "        for edge in edge_list:\n",
    "            items_counted[edge] = items_counted.get(edge, 0) + 1\n",
    "    \n",
    "    # Return frequent edges that meet the min_sup\n",
    "    F = [key for key, value in items_counted.items() if value >= min_sup]\n",
    "    \n",
    "    # Convert frequent edges into individual graph objects\n",
    "    F_graphs = [nx.Graph([edge]) for edge in F]  # Each edge is a graph now\n",
    "    return F_graphs\n",
    "\n",
    "\n",
    "def generate_candidates(F, k):\n",
    "    # Generate combinations of subgraphs from frequent subgraphs of size (k-1)\n",
    "    candidates = set()\n",
    "    \n",
    "    # Iterate over all pairs of frequent subgraphs (F)\n",
    "    for g1, g2 in combinations(F, 2):\n",
    "        # Combine the two subgraphs if they share a common (k-1)-sized subgraph\n",
    "        union_graph = nx.compose(g1, g2)\n",
    "        \n",
    "        if nx.is_connected(union_graph):\n",
    "        # Ensure the new graph has exactly k edges\n",
    "            if union_graph.number_of_edges() == k:\n",
    "                candidates.add(union_graph)\n",
    "    \n",
    "    return candidates\n",
    "\n",
    "\n",
    "def count_support(C, graph_db):\n",
    "    F_count = {}\n",
    "    for graph in graph_db:\n",
    "        for candidate in C:\n",
    "            GM = GraphMatcher(graph, candidate)\n",
    "            if GM.subgraph_is_isomorphic():  # Check for subgraph isomorphism\n",
    "                F_count[candidate] = F_count.get(candidate, 0) + 1\n",
    "    return F_count\n",
    "\n",
    "\n",
    "def filter_frequent(F_count, min_sup):\n",
    "    return [key for key, value in F_count.items() if value >= min_sup]\n",
    "\n",
    "\n",
    "# Main function to run the frequent subgraph mining algorithm\n",
    "def apriori_graph_mining(min_sup, edge_matrix, graph_db, max_k):\n",
    "    frequent_total = []\n",
    "    \n",
    "    # Step 1: Find frequent singletons (edges)\n",
    "    F = frequent_singletons(min_sup, edge_matrix)\n",
    "    \n",
    "    # Add initial frequent items to the total list\n",
    "    frequent_total.extend(F)\n",
    "    \n",
    "    k = 2  # Start with size-2 subgraphs\n",
    "    while k <= max_k:\n",
    "        print(f\"\\nIteration {k}:\")\n",
    "        \n",
    "        # Step 2: Generate candidate subgraphs of size k\n",
    "        C = generate_candidates(F, k)\n",
    "        \n",
    "        # Step 3: Count support for each candidate in the graph database\n",
    "        F_count = count_support(C, graph_db)\n",
    "        \n",
    "        # Step 4: Filter out frequent candidates that meet the minimum support\n",
    "        F = filter_frequent(F_count, min_sup)\n",
    "        \n",
    "        if not F:  # If no frequent candidates are found, stop the algorithm\n",
    "            print(f\"No frequent subgraphs found for size {k}. Terminating.\")\n",
    "            break\n",
    "        \n",
    "        # Add frequent items to the total list\n",
    "        frequent_total.extend(F)\n",
    "        \n",
    "        print(f\"Frequent subgraphs of size {k}: {F}\")\n",
    "        \n",
    "        k += 1  # Move to the next size of subgraphs\n",
    "\n",
    "    return frequent_total\n"
   ]
  },
  {
   "cell_type": "code",
   "execution_count": null,
   "metadata": {},
   "outputs": [],
   "source": []
  },
  {
   "cell_type": "code",
   "execution_count": 122,
   "metadata": {},
   "outputs": [
    {
     "name": "stdout",
     "output_type": "stream",
     "text": [
      "[('A', 'B'), ('B', 'C'), ('C', 'D')]\n",
      "[('C', 'D'), ('C', 'B'), ('D', 'E')]\n",
      "[('A', 'B'), ('B', 'C'), ('C', 'D'), ('D', 'E')]\n"
     ]
    }
   ],
   "source": [
    "new_new_C = generate_candidates(new_C, 5)\n",
    "\n",
    "for i in new_new_C:\n",
    "    print(i.edges())"
   ]
  },
  {
   "cell_type": "code",
   "execution_count": 126,
   "metadata": {},
   "outputs": [
    {
     "name": "stdout",
     "output_type": "stream",
     "text": [
      "\n",
      "Iteration 2:\n",
      "Frequent subgraphs of size 2: [<networkx.classes.graph.Graph object at 0x0000029D638EFC10>, <networkx.classes.graph.Graph object at 0x0000029D638EF040>, <networkx.classes.graph.Graph object at 0x0000029D638EFF70>]\n",
      "\n",
      "Iteration 3:\n",
      "Frequent subgraphs of size 3: [<networkx.classes.graph.Graph object at 0x0000029D638EFB80>, <networkx.classes.graph.Graph object at 0x0000029D638EDC60>]\n",
      "\n",
      "Iteration 4:\n",
      "No frequent subgraphs found for size 4. Terminating.\n",
      "[('A', 'B')]\n",
      "[('B', 'C')]\n",
      "[('C', 'D')]\n",
      "[('D', 'E')]\n",
      "[('C', 'D'), ('D', 'E')]\n",
      "[('B', 'C'), ('C', 'D')]\n",
      "[('A', 'B'), ('B', 'C')]\n",
      "[('B', 'C'), ('B', 'A'), ('C', 'D')]\n",
      "[('C', 'D'), ('C', 'B'), ('D', 'E')]\n"
     ]
    }
   ],
   "source": [
    "frequents = apriori_graph_mining(2, edge_matrix, GRAPH_DB, 5)\n",
    "for pattern in frequents:\n",
    "    print(pattern.edges())"
   ]
  },
  {
   "cell_type": "code",
   "execution_count": 27,
   "metadata": {},
   "outputs": [
    {
     "name": "stdout",
     "output_type": "stream",
     "text": [
      "[1, 2]\n",
      "[1, 5]\n",
      "[2, 3]\n",
      "[3, 4]\n",
      "[4, 5]\n",
      "[2, 3, 4]\n",
      "[1, 2, 3, 4]\n",
      "[1, 2, 4, 5]\n",
      "[1, 2, 5]\n",
      "[1, 5, 2, 3]\n",
      "[1, 2, 3]\n",
      "[1, 5, 4]\n",
      "[2, 3, 4, 5]\n",
      "[1, 5, 3, 4]\n",
      "[3, 4, 5]\n",
      "[2, 3, 4, 1]\n",
      "[2, 3, 4, 5]\n",
      "[2, 3, 4, 1]\n",
      "[1, 5, 4, 3]\n",
      "[1, 2, 5, 3]\n",
      "[1, 2, 4, 5]\n",
      "[1, 2, 5, 4]\n",
      "[1, 5, 3, 4]\n",
      "[1, 5, 4, 3]\n",
      "[1, 2, 5, 3]\n",
      "[1, 2, 4, 5]\n",
      "[1, 5, 2, 3]\n",
      "[2, 3, 4, 5]\n",
      "[1, 2, 3, 4]\n",
      "[2, 3, 4, 5]\n",
      "[1, 5, 4, 3, 2]\n",
      "[2, 3, 4, 1, 5]\n",
      "[1, 2, 4, 5, 3]\n",
      "[2, 3, 4, 5, 1]\n",
      "[1, 2, 5, 4, 3]\n",
      "[1, 5, 4, 3, 2]\n",
      "[1, 2, 5, 4, 3]\n",
      "[1, 2, 5, 3, 4]\n",
      "[1, 2, 4, 5, 3]\n",
      "[2, 3, 4, 5, 1]\n",
      "[1, 2, 4, 5, 3]\n",
      "[1, 2, 4, 5, 3]\n",
      "[2, 3, 4, 5, 1]\n",
      "[1, 5, 3, 4, 2]\n",
      "[2, 3, 4, 1, 5]\n",
      "[1, 5, 4, 3, 2]\n",
      "[1, 5, 3, 4, 2]\n",
      "[1, 2, 3, 4, 5]\n",
      "[1, 5, 4, 3, 2]\n",
      "[2, 3, 4, 1, 5]\n",
      "[2, 3, 4, 1, 5]\n",
      "[1, 2, 5, 3, 4]\n",
      "[1, 2, 5, 4, 3]\n",
      "[1, 5, 3, 4, 2]\n",
      "[2, 3, 4, 1, 5]\n",
      "[1, 5, 4, 3, 2]\n",
      "[2, 3, 4, 5, 1]\n",
      "[2, 3, 4, 1, 5]\n",
      "[1, 2, 5, 3, 4]\n",
      "[2, 3, 4, 1, 5]\n",
      "[1, 5, 4, 3, 2]\n",
      "[1, 2, 5, 4, 3]\n",
      "[2, 3, 4, 1, 5]\n",
      "[1, 2, 5, 3, 4]\n",
      "[1, 2, 4, 5, 3]\n",
      "[2, 3, 4, 1, 5]\n",
      "[1, 5, 2, 3, 4]\n",
      "[2, 3, 4, 5, 1]\n",
      "[1, 2, 5, 3, 4]\n",
      "[1, 2, 5, 3, 4]\n",
      "[1, 5, 4, 3, 2]\n",
      "[2, 3, 4, 1, 5]\n",
      "[2, 3, 4, 1, 5]\n",
      "[2, 3, 4, 5, 1]\n",
      "[1, 5, 4, 3, 2]\n"
     ]
    }
   ],
   "source": [
    "for i in frequents:\n",
    "    print(i.nodes())"
   ]
  },
  {
   "cell_type": "code",
   "execution_count": 24,
   "metadata": {},
   "outputs": [
    {
     "name": "stdout",
     "output_type": "stream",
     "text": [
      "\n",
      "Iteration 2:\n",
      "Frequent subgraphs of size 2: [<networkx.classes.graph.Graph object at 0x000001CCB4321360>]\n",
      "\n",
      "Iteration 3:\n",
      "No frequent subgraphs found for size 3. Terminating.\n",
      "\n",
      "Final frequent subgraphs:\n",
      "[(4, 5)]\n",
      "[(5, 6)]\n",
      "[(4, 5), (5, 6)]\n"
     ]
    }
   ],
   "source": []
  },
  {
   "cell_type": "code",
   "execution_count": 14,
   "metadata": {},
   "outputs": [
    {
     "data": {
      "image/png": "[encoded data removed]",
      "text/plain": [
       "<Figure size 432x288 with 1 Axes>"
      ]
     },
     "metadata": {},
     "output_type": "display_data"
    }
   ],
   "source": [
    "nx.draw_networkx(frequents[-1])"
   ]
  },
  {
   "cell_type": "code",
   "execution_count": 78,
   "metadata": {},
   "outputs": [
    {
     "data": {
      "text/plain": [
       "EdgeView([('A', 'B'), ('B', 'C')])"
      ]
     },
     "execution_count": 78,
     "metadata": {},
     "output_type": "execute_result"
    }
   ],
   "source": [
    "frequent_total[\"F2\"][0].edges()"
   ]
  },
  {
   "cell_type": "code",
   "execution_count": 96,
   "metadata": {},
   "outputs": [
    {
     "data": {
      "text/plain": [
       "True"
      ]
     },
     "execution_count": 96,
     "metadata": {},
     "output_type": "execute_result"
    }
   ],
   "source": [
    "nx.weisfeiler_lehman_graph_hash(G1) == nx.weisfeiler_lehman_graph_hash(G3)"
   ]
  },
  {
   "cell_type": "code",
   "execution_count": 85,
   "metadata": {},
   "outputs": [
    {
     "data": {
      "text/plain": [
       "True"
      ]
     },
     "execution_count": 85,
     "metadata": {},
     "output_type": "execute_result"
    }
   ],
   "source": [
    "h = [('A', 'B'), ('B', 'C')]\n",
    "l = [('A', 'B'), ('B', 'C')]\n",
    "h == l"
   ]
  },
  {
   "cell_type": "code",
   "execution_count": 12,
   "metadata": {},
   "outputs": [
    {
     "data": {
      "text/plain": [
       "{'F1': [('A', 'B'), ('B', 'C'), ('D', 'E')],\n",
       " 'F2': [<networkx.classes.graph.Graph at 0x14fd8f13640>]}"
      ]
     },
     "execution_count": 12,
     "metadata": {},
     "output_type": "execute_result"
    }
   ],
   "source": [
    "frequent_total"
   ]
  },
  {
   "cell_type": "code",
   "execution_count": 121,
   "metadata": {},
   "outputs": [
    {
     "name": "stdout",
     "output_type": "stream",
     "text": [
      "[('A', 'B'), ('B', 'C'), ('D', 'E')]\n"
     ]
    }
   ],
   "source": [
    "print(F1)"
   ]
  },
  {
   "cell_type": "code",
   "execution_count": 35,
   "metadata": {},
   "outputs": [
    {
     "name": "stdout",
     "output_type": "stream",
     "text": [
      "<generator object <genexpr> at 0x0000021EFFEDD230>\n"
     ]
    }
   ],
   "source": [
    "pos = (C.subgraph(c).copy() for c in nx.connected_components(C))\n",
    "\n",
    "subgraphs_splitted = (C(c).copy() for c in nx.connected_components(C))\n",
    "\n",
    "print(pos)"
   ]
  },
  {
   "cell_type": "code",
   "execution_count": 36,
   "metadata": {},
   "outputs": [
    {
     "name": "stdout",
     "output_type": "stream",
     "text": [
      "{'G0': <networkx.classes.graph.Graph object at 0x0000021E853EDAE0>, 'G1': <networkx.classes.graph.Graph object at 0x0000021E853EFFD0>}\n"
     ]
    }
   ],
   "source": [
    "candidate_subgraphs = dict()\n",
    "for i, sg in enumerate(pos):\n",
    "    name = \"G\" + str(i)\n",
    "    candidate_subgraphs[name] = sg\n",
    "\n",
    "print(candidate_subgraphs)"
   ]
  },
  {
   "cell_type": "code",
   "execution_count": 37,
   "metadata": {},
   "outputs": [
    {
     "name": "stdout",
     "output_type": "stream",
     "text": [
      "Graph with 3 nodes and 2 edges\n",
      "Graph with 2 nodes and 1 edges\n"
     ]
    }
   ],
   "source": [
    "for key, value in candidate_subgraphs.items():\n",
    "    print(value)"
   ]
  },
  {
   "cell_type": "code",
   "execution_count": 38,
   "metadata": {},
   "outputs": [
    {
     "data": {
      "image/png": "[encoded data removed]",
      "text/plain": [
       "<Figure size 432x288 with 1 Axes>"
      ]
     },
     "metadata": {},
     "output_type": "display_data"
    }
   ],
   "source": [
    "nx.draw_networkx(candidate_subgraphs[\"G0\"])"
   ]
  },
  {
   "cell_type": "code",
   "execution_count": 39,
   "metadata": {},
   "outputs": [],
   "source": [
    "frequent_items2 = dict()\n",
    "for graph in GRAPH_DB:\n",
    "    for key, subgraph in candidate_subgraphs.items():\n",
    "\n",
    "        GM = GraphMatcher(graph, subgraph)\n",
    "        is_isomorphic = GM.subgraph_is_monomorphic()\n",
    "\n",
    "        if is_isomorphic:\n",
    "            edges = tuple(subgraph.edges())\n",
    "            frequent_items2[edges] = frequent_items2.get(edges, 0) + 1\n",
    "            \n"
   ]
  },
  {
   "cell_type": "code",
   "execution_count": 40,
   "metadata": {},
   "outputs": [
    {
     "data": {
      "text/plain": [
       "{}"
      ]
     },
     "execution_count": 40,
     "metadata": {},
     "output_type": "execute_result"
    }
   ],
   "source": [
    "frequent_items2"
   ]
  },
  {
   "cell_type": "code",
   "execution_count": 41,
   "metadata": {},
   "outputs": [
    {
     "data": {
      "text/plain": [
       "[('A', 'B'), ('B', 'C'), ('D', 'E')]"
      ]
     },
     "execution_count": 41,
     "metadata": {},
     "output_type": "execute_result"
    }
   ],
   "source": [
    "frequent_items"
   ]
  },
  {
   "cell_type": "code",
   "execution_count": null,
   "metadata": {},
   "outputs": [],
   "source": []
  },
  {
   "cell_type": "code",
   "execution_count": 17,
   "metadata": {},
   "outputs": [],
   "source": [
    "test = [(\"A\", \"B\")]\n",
    "G3 = nx.from_edgelist(test)"
   ]
  },
  {
   "cell_type": "code",
   "execution_count": 46,
   "metadata": {},
   "outputs": [
    {
     "data": {
      "image/png": "[encoded data removed]",
      "text/plain": [
       "<Figure size 576x360 with 2 Axes>"
      ]
     },
     "metadata": {},
     "output_type": "display_data"
    }
   ],
   "source": [
    "plt.figure(figsize=(8,5))\n",
    "plt.figure(1)\n",
    "\n",
    "plt.subplot(1,2,1)\n",
    "nx.draw_networkx(C)\n",
    "\n",
    "plt.subplot(1,2,2)\n",
    "nx.draw_networkx(G3)\n",
    "\n",
    "plt.show()"
   ]
  },
  {
   "cell_type": "code",
   "execution_count": 202,
   "metadata": {},
   "outputs": [],
   "source": [
    "GM = GraphMatcher(G1, G2)"
   ]
  },
  {
   "cell_type": "code",
   "execution_count": 203,
   "metadata": {},
   "outputs": [
    {
     "data": {
      "text/plain": [
       "True"
      ]
     },
     "execution_count": 203,
     "metadata": {},
     "output_type": "execute_result"
    }
   ],
   "source": [
    "GM.subgraph_is_monomorphic()"
   ]
  },
  {
   "cell_type": "code",
   "execution_count": 204,
   "metadata": {},
   "outputs": [
    {
     "data": {
      "text/plain": [
       "False"
      ]
     },
     "execution_count": 204,
     "metadata": {},
     "output_type": "execute_result"
    }
   ],
   "source": [
    "GM.subgraph_is_isomorphic()"
   ]
  },
  {
   "cell_type": "code",
   "execution_count": 131,
   "metadata": {},
   "outputs": [],
   "source": [
    "sub = G1.subgraph([\"A\", \"B\", \"C\"])"
   ]
  },
  {
   "cell_type": "code",
   "execution_count": 135,
   "metadata": {},
   "outputs": [],
   "source": [
    "path = nx.path_graph([\"A\", \"B\", \"C\"])"
   ]
  },
  {
   "cell_type": "code",
   "execution_count": 136,
   "metadata": {},
   "outputs": [
    {
     "data": {
      "image/png": "[encoded data removed]",
      "text/plain": [
       "<Figure size 432x288 with 1 Axes>"
      ]
     },
     "metadata": {},
     "output_type": "display_data"
    }
   ],
   "source": [
    "nx.draw_networkx(path)"
   ]
  },
  {
   "cell_type": "code",
   "execution_count": 79,
   "metadata": {},
   "outputs": [
    {
     "name": "stdout",
     "output_type": "stream",
     "text": [
      "True\n",
      "True\n",
      "False\n"
     ]
    }
   ],
   "source": [
    "for edge in frequent_items:\n",
    "    print(G1.has_edge(*edge))"
   ]
  },
  {
   "cell_type": "code",
   "execution_count": 83,
   "metadata": {},
   "outputs": [],
   "source": [
    "def accepts(g, path):\n",
    "    return all([(path[i],path[i+1]) in g.edges() for i in range(len(path)-1)])"
   ]
  },
  {
   "cell_type": "code",
   "execution_count": 98,
   "metadata": {},
   "outputs": [
    {
     "data": {
      "text/plain": [
       "False"
      ]
     },
     "execution_count": 98,
     "metadata": {},
     "output_type": "execute_result"
    }
   ],
   "source": [
    "accepts(G2, new_path2)"
   ]
  },
  {
   "cell_type": "code",
   "execution_count": 7,
   "metadata": {},
   "outputs": [],
   "source": [
    "counts = dict()\n",
    "items = ['apple', 'red', 'apple', 'red', 'red', 'pear']\n",
    "for item in items:\n",
    "    counts[item] = counts.get(item, 0) + 1"
   ]
  },
  {
   "cell_type": "code",
   "execution_count": 8,
   "metadata": {},
   "outputs": [
    {
     "data": {
      "text/plain": [
       "{'apple': 2, 'red': 3, 'pear': 1}"
      ]
     },
     "execution_count": 8,
     "metadata": {},
     "output_type": "execute_result"
    }
   ],
   "source": [
    "counts"
   ]
  },
  {
   "cell_type": "code",
   "execution_count": null,
   "metadata": {},
   "outputs": [],
   "source": []
  },
  {
   "cell_type": "code",
   "execution_count": 166,
   "metadata": {},
   "outputs": [
    {
     "name": "stdout",
     "output_type": "stream",
     "text": [
      "[('A', 'B'), ('B', 'C'), ('C', 'D')]\n",
      "No\n",
      "[('A', 'B'), ('B', 'C'), ('C', 'E')]\n",
      "No\n",
      "[('A', 'B'), ('B', 'D'), ('D', 'E')]\n",
      "No\n",
      "[('A', 'C'), ('C', 'D'), ('D', 'E')]\n",
      "No\n",
      "[('B', 'C'), ('C', 'D'), ('D', 'E')]\n",
      "No\n"
     ]
    }
   ],
   "source": [
    "for nodes in combinations(G1.nodes, G2.number_of_nodes()):\n",
    "    subgraph = nx.subgraph(nodes)\n",
    "    print(subgraph.edges)\n",
    "    \n",
    "    GM = GraphMatcher(subgraph, G2)\n",
    "\n",
    "    iso = GM.is_isomorphic()\n",
    "    \n",
    "    if iso:\n",
    "        print(\"Yes\")\n",
    "    else:\n",
    "        print(\"No\")\n"
   ]
  },
  {
   "cell_type": "code",
   "execution_count": 145,
   "metadata": {},
   "outputs": [
    {
     "data": {
      "text/plain": [
       "True"
      ]
     },
     "execution_count": 145,
     "metadata": {},
     "output_type": "execute_result"
    }
   ],
   "source": [
    "E3 = [('B', 'C'), ('C', 'D')]\n",
    "E4 = [('A', 'B'), ('B', 'C')]\n",
    "G3 = nx.from_edgelist(E3)\n",
    "G4 = nx.from_edgelist(E4)\n",
    "\n",
    "GM = GraphMatcher(G3, G4)\n",
    "GM.is_isomorphic()"
   ]
  },
  {
   "cell_type": "code",
   "execution_count": 142,
   "metadata": {},
   "outputs": [
    {
     "data": {
      "text/plain": [
       "NodeView(('B', 'C', 'D'))"
      ]
     },
     "execution_count": 142,
     "metadata": {},
     "output_type": "execute_result"
    }
   ],
   "source": [
    "subgraph.nodes"
   ]
  },
  {
   "cell_type": "code",
   "execution_count": 143,
   "metadata": {},
   "outputs": [
    {
     "data": {
      "text/plain": [
       "EdgeView([('B', 'C'), ('C', 'D')])"
      ]
     },
     "execution_count": 143,
     "metadata": {},
     "output_type": "execute_result"
    }
   ],
   "source": [
    "subgraph.edges"
   ]
  },
  {
   "cell_type": "code",
   "execution_count": 13,
   "metadata": {},
   "outputs": [
    {
     "name": "stdout",
     "output_type": "stream",
     "text": [
      "[['B', 'C'], ['D', 'A', 'C'], ['B', 'D', 'A'], ['B', 'C']]\n"
     ]
    }
   ],
   "source": [
    "edges = [\n",
    "    ('A', 'B'),\n",
    "    ('A', 'C'),\n",
    "    ('B', 'C'),\n",
    "    ('B', 'D'),\n",
    "    ('C', 'D'),\n",
    "]\n",
    "\n",
    "from collections import defaultdict\n",
    "\n",
    "# Create a dictionary to hold the neighbors of each node\n",
    "node_neighbors = defaultdict(set)\n",
    "\n",
    "# Populate the dictionary with edges\n",
    "for edge in edges:\n",
    "    node_neighbors[edge[0]].add(edge[1])\n",
    "    node_neighbors[edge[1]].add(edge[0])\n",
    "\n",
    "# Convert the dictionary to a list of transactions (neighborhoods)\n",
    "transactions = [list(neighbors) for neighbors in node_neighbors.values()]\n",
    "print(transactions)"
   ]
  },
  {
   "cell_type": "code",
   "execution_count": 14,
   "metadata": {},
   "outputs": [
    {
     "name": "stdout",
     "output_type": "stream",
     "text": [
      "       A      B      C      D\n",
      "0  False   True   True  False\n",
      "1   True  False   True   True\n",
      "2   True   True  False   True\n",
      "3  False   True   True  False\n"
     ]
    }
   ],
   "source": [
    "from mlxtend.preprocessing import TransactionEncoder\n",
    "import pandas as pd\n",
    "\n",
    "# Initialize the transaction encoder\n",
    "te = TransactionEncoder()\n",
    "\n",
    "# Fit and transform the transactions into a one-hot encoded array\n",
    "te_ary = te.fit(transactions).transform(transactions)\n",
    "\n",
    "# Convert the array to a pandas DataFrame\n",
    "df = pd.DataFrame(te_ary, columns=te.columns_)\n",
    "print(df)\n"
   ]
  },
  {
   "cell_type": "code",
   "execution_count": 15,
   "metadata": {},
   "outputs": [
    {
     "name": "stdout",
     "output_type": "stream",
     "text": [
      "  antecedents consequents  support  confidence  lift\n",
      "0         (D)         (A)      0.5         1.0   2.0\n",
      "1         (A)         (D)      0.5         1.0   2.0\n"
     ]
    }
   ],
   "source": [
    "from mlxtend.frequent_patterns import apriori, association_rules\n",
    "\n",
    "# Apply the Apriori algorithm with a minimum support threshold\n",
    "frequent_itemsets = apriori(df, min_support=0.5, use_colnames=True)\n",
    "\n",
    "# Generate association rules with a minimum confidence threshold\n",
    "rules = association_rules(frequent_itemsets, metric=\"confidence\", min_threshold=0.7)\n",
    "\n",
    "# Print the resulting rules\n",
    "print(rules[['antecedents', 'consequents', 'support', 'confidence', 'lift']])\n"
   ]
  },
  {
   "cell_type": "code",
   "execution_count": 16,
   "metadata": {},
   "outputs": [
    {
     "data": {
      "image/png": "[encoded data removed]",
      "text/plain": [
       "<Figure size 432x288 with 1 Axes>"
      ]
     },
     "metadata": {},
     "output_type": "display_data"
    }
   ],
   "source": [
    "import networkx as nx\n",
    "import matplotlib.pyplot as plt\n",
    "\n",
    "# Create a directed graph for the association rules\n",
    "G = nx.DiGraph()\n",
    "\n",
    "# Add edges for each association rule\n",
    "for index, row in rules.iterrows():\n",
    "    for antecedent in row['antecedents']:\n",
    "        for consequent in row['consequents']:\n",
    "            G.add_edge(antecedent, consequent, weight=row['confidence'])\n",
    "\n",
    "# Plot the network graph\n",
    "pos = nx.spring_layout(G)\n",
    "nx.draw(G, pos, with_labels=True, node_size=3000, node_color=\"lightblue\", font_size=10, font_weight=\"bold\")\n",
    "\n",
    "# Draw edge labels for confidence values\n",
    "edge_labels = nx.get_edge_attributes(G, 'weight')\n",
    "edge_labels = {k: round(v, 2) for k, v in edge_labels.items()}\n",
    "nx.draw_networkx_edge_labels(G, pos, edge_labels=edge_labels)\n",
    "\n",
    "plt.show()\n"
   ]
  },
  {
   "cell_type": "code",
   "execution_count": 18,
   "metadata": {},
   "outputs": [],
   "source": [
    "import networkx as nx\n",
    "from itertools import combinations\n",
    "\n",
    "# Helper function to count the support of a subgraph in the graph database\n",
    "def count_support(subgraph, graph_db):\n",
    "    support_count = 0\n",
    "    for graph in graph_db:\n",
    "        if nx.isomorphism.GraphMatcher(graph, subgraph).subgraph_is_isomorphic():\n",
    "            support_count += 1\n",
    "    return support_count\n",
    "\n",
    "# Function to generate candidate subgraphs\n",
    "def generate_candidates(frequent_subgraphs, k):\n",
    "    candidates = []\n",
    "    for g1, g2 in combinations(frequent_subgraphs, 2):\n",
    "        if len(set(g1.nodes).intersection(g2.nodes)) == (k - 1):  # Join on common (k-1) nodes\n",
    "            union_graph = nx.compose(g1, g2)\n",
    "            candidates.append(union_graph)\n",
    "    return candidates\n",
    "\n"
   ]
  },
  {
   "cell_type": "code",
   "execution_count": 51,
   "metadata": {},
   "outputs": [
    {
     "data": {
      "text/plain": [
       "{1, 2, 3}"
      ]
     },
     "execution_count": 51,
     "metadata": {},
     "output_type": "execute_result"
    }
   ],
   "source": [
    "from itertools import chain\n",
    "l1 = [1,2]\n",
    "l2 = [2,3]\n",
    "\n",
    "set(chain(l1, l2))"
   ]
  },
  {
   "cell_type": "code",
   "execution_count": null,
   "metadata": {},
   "outputs": [],
   "source": []
  }
 ],
 "metadata": {
  "kernelspec": {
   "display_name": "Python 3",
   "language": "python",
   "name": "python3"
  },
  "language_info": {
   "codemirror_mode": {
    "name": "ipython",
    "version": 3
   },
   "file_extension": ".py",
   "mimetype": "text/x-python",
   "name": "python",
   "nbconvert_exporter": "python",
   "pygments_lexer": "ipython3",
   "version": "3.10.2"
  }
 },
 "nbformat": 4,
 "nbformat_minor": 2
}
