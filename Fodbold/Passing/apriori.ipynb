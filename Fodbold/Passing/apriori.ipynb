{
 "cells": [
  {
   "cell_type": "code",
   "execution_count": 1,
   "metadata": {},
   "outputs": [],
   "source": [
    "import networkx as nx\n",
    "import numpy as np\n",
    "import matplotlib.pyplot as plt\n",
    "from networkx.algorithms.isomorphism import GraphMatcher, DiGraphMatcher\n",
    "from itertools import combinations, chain\n",
    "from mlxtend.frequent_patterns import apriori, association_rules\n",
    "\n",
    "from statsbombpy import sb\n",
    "import pandas as pd\n",
    "from helper_functions import(match_ids,\n",
    "                             create_graphs,\n",
    "                             create_graphs_dict,\n",
    "                             plot_graphs)\n",
    "from apriori import apriori_graph_mining"
   ]
  },
  {
   "cell_type": "code",
   "execution_count": 2,
   "metadata": {},
   "outputs": [
    {
     "name": "stderr",
     "output_type": "stream",
     "text": [
      "/Users/morten/anaconda3/lib/python3.11/site-packages/statsbombpy/api_client.py:21: NoAuthWarning: credentials were not supplied. open data access only\n",
      "  warnings.warn(\n",
      "/Users/morten/anaconda3/lib/python3.11/site-packages/statsbombpy/api_client.py:21: NoAuthWarning: credentials were not supplied. open data access only\n",
      "  warnings.warn(\n",
      "/Users/morten/anaconda3/lib/python3.11/site-packages/statsbombpy/api_client.py:21: NoAuthWarning: credentials were not supplied. open data access only\n",
      "  warnings.warn(\n",
      "/Users/morten/anaconda3/lib/python3.11/site-packages/statsbombpy/api_client.py:21: NoAuthWarning: credentials were not supplied. open data access only\n",
      "  warnings.warn(\n",
      "/Users/morten/anaconda3/lib/python3.11/site-packages/statsbombpy/api_client.py:21: NoAuthWarning: credentials were not supplied. open data access only\n",
      "  warnings.warn(\n",
      "/Users/morten/anaconda3/lib/python3.11/site-packages/statsbombpy/api_client.py:21: NoAuthWarning: credentials were not supplied. open data access only\n",
      "  warnings.warn(\n",
      "/Users/morten/anaconda3/lib/python3.11/site-packages/statsbombpy/api_client.py:21: NoAuthWarning: credentials were not supplied. open data access only\n",
      "  warnings.warn(\n",
      "/Users/morten/Desktop/p5 kode/5-semester/Fodbold/Passing/helper_functions.py:52: PerformanceWarning: DataFrame is highly fragmented.  This is usually the result of calling `frame.insert` many times, which has poor performance.  Consider joining all columns at once using pd.concat(axis=1) instead. To get a de-fragmented frame, use `newframe = frame.copy()`\n",
      "  sequences_sorted['possession_id'] = sequences_sorted['match_id'].astype(str) + sequences_sorted['possession'].astype(str)\n",
      "/Users/morten/Desktop/p5 kode/5-semester/Fodbold/Passing/helper_functions.py:63: PerformanceWarning: DataFrame is highly fragmented.  This is usually the result of calling `frame.insert` many times, which has poor performance.  Consider joining all columns at once using pd.concat(axis=1) instead. To get a de-fragmented frame, use `newframe = frame.copy()`\n",
      "  sequences_filtered['xg'] = sequences_filtered.groupby('possession_id')['shot_statsbomb_xg'].transform(lambda group: group.fillna(method='ffill').fillna(method='bfill'))\n",
      "/Users/morten/Desktop/p5 kode/5-semester/Fodbold/Passing/helper_functions.py:63: SettingWithCopyWarning: \n",
      "A value is trying to be set on a copy of a slice from a DataFrame.\n",
      "Try using .loc[row_indexer,col_indexer] = value instead\n",
      "\n",
      "See the caveats in the documentation: https://pandas.pydata.org/pandas-docs/stable/user_guide/indexing.html#returning-a-view-versus-a-copy\n",
      "  sequences_filtered['xg'] = sequences_filtered.groupby('possession_id')['shot_statsbomb_xg'].transform(lambda group: group.fillna(method='ffill').fillna(method='bfill'))\n",
      "/Users/morten/Desktop/p5 kode/5-semester/Fodbold/Passing/helper_functions.py:67: PerformanceWarning: DataFrame is highly fragmented.  This is usually the result of calling `frame.insert` many times, which has poor performance.  Consider joining all columns at once using pd.concat(axis=1) instead. To get a de-fragmented frame, use `newframe = frame.copy()`\n",
      "  sequences_filtered['end_location'] = sequences_filtered['location'].shift(-1)\n",
      "/Users/morten/Desktop/p5 kode/5-semester/Fodbold/Passing/helper_functions.py:67: SettingWithCopyWarning: \n",
      "A value is trying to be set on a copy of a slice from a DataFrame.\n",
      "Try using .loc[row_indexer,col_indexer] = value instead\n",
      "\n",
      "See the caveats in the documentation: https://pandas.pydata.org/pandas-docs/stable/user_guide/indexing.html#returning-a-view-versus-a-copy\n",
      "  sequences_filtered['end_location'] = sequences_filtered['location'].shift(-1)\n",
      "/Users/morten/Desktop/p5 kode/5-semester/Fodbold/Passing/helper_functions.py:73: PerformanceWarning: DataFrame is highly fragmented.  This is usually the result of calling `frame.insert` many times, which has poor performance.  Consider joining all columns at once using pd.concat(axis=1) instead. To get a de-fragmented frame, use `newframe = frame.copy()`\n",
      "  sequences_filtered[\"start_x\"] = sequences_filtered[\"location\"].str[0]\n",
      "/Users/morten/Desktop/p5 kode/5-semester/Fodbold/Passing/helper_functions.py:74: PerformanceWarning: DataFrame is highly fragmented.  This is usually the result of calling `frame.insert` many times, which has poor performance.  Consider joining all columns at once using pd.concat(axis=1) instead. To get a de-fragmented frame, use `newframe = frame.copy()`\n",
      "  sequences_filtered[\"start_y\"] = sequences_filtered[\"location\"].str[1]\n",
      "/Users/morten/Desktop/p5 kode/5-semester/Fodbold/Passing/helper_functions.py:75: PerformanceWarning: DataFrame is highly fragmented.  This is usually the result of calling `frame.insert` many times, which has poor performance.  Consider joining all columns at once using pd.concat(axis=1) instead. To get a de-fragmented frame, use `newframe = frame.copy()`\n",
      "  sequences_filtered[\"end_x\"] = sequences_filtered[\"end_location\"].str[0]\n",
      "/Users/morten/Desktop/p5 kode/5-semester/Fodbold/Passing/helper_functions.py:76: PerformanceWarning: DataFrame is highly fragmented.  This is usually the result of calling `frame.insert` many times, which has poor performance.  Consider joining all columns at once using pd.concat(axis=1) instead. To get a de-fragmented frame, use `newframe = frame.copy()`\n",
      "  sequences_filtered[\"end_y\"] = sequences_filtered[\"end_location\"].str[1]\n",
      "/Users/morten/Desktop/p5 kode/5-semester/Fodbold/Passing/helper_functions.py:79: PerformanceWarning: DataFrame is highly fragmented.  This is usually the result of calling `frame.insert` many times, which has poor performance.  Consider joining all columns at once using pd.concat(axis=1) instead. To get a de-fragmented frame, use `newframe = frame.copy()`\n",
      "  sequences_filtered['start_node_x'] = round(sequences_filtered['start_x'] / 30)\n",
      "/Users/morten/Desktop/p5 kode/5-semester/Fodbold/Passing/helper_functions.py:80: PerformanceWarning: DataFrame is highly fragmented.  This is usually the result of calling `frame.insert` many times, which has poor performance.  Consider joining all columns at once using pd.concat(axis=1) instead. To get a de-fragmented frame, use `newframe = frame.copy()`\n",
      "  sequences_filtered['start_node_y'] = round(sequences_filtered['start_y'] / 30)\n",
      "/Users/morten/Desktop/p5 kode/5-semester/Fodbold/Passing/helper_functions.py:81: PerformanceWarning: DataFrame is highly fragmented.  This is usually the result of calling `frame.insert` many times, which has poor performance.  Consider joining all columns at once using pd.concat(axis=1) instead. To get a de-fragmented frame, use `newframe = frame.copy()`\n",
      "  sequences_filtered['end_node_x'] = round(sequences_filtered['end_x'] / 30)\n",
      "/Users/morten/Desktop/p5 kode/5-semester/Fodbold/Passing/helper_functions.py:82: PerformanceWarning: DataFrame is highly fragmented.  This is usually the result of calling `frame.insert` many times, which has poor performance.  Consider joining all columns at once using pd.concat(axis=1) instead. To get a de-fragmented frame, use `newframe = frame.copy()`\n",
      "  sequences_filtered['end_node_y'] = round(sequences_filtered['end_y'] / 30)\n",
      "/Users/morten/Desktop/p5 kode/5-semester/Fodbold/Passing/helper_functions.py:89: PerformanceWarning: DataFrame is highly fragmented.  This is usually the result of calling `frame.insert` many times, which has poor performance.  Consider joining all columns at once using pd.concat(axis=1) instead. To get a de-fragmented frame, use `newframe = frame.copy()`\n",
      "  sequences_filtered[\"start_node\"] = sequences_filtered[\"start_node_x\"] + sequences_filtered[\"start_node_y\"] / 10\n",
      "/Users/morten/Desktop/p5 kode/5-semester/Fodbold/Passing/helper_functions.py:90: PerformanceWarning: DataFrame is highly fragmented.  This is usually the result of calling `frame.insert` many times, which has poor performance.  Consider joining all columns at once using pd.concat(axis=1) instead. To get a de-fragmented frame, use `newframe = frame.copy()`\n",
      "  sequences_filtered[\"end_node\"] = sequences_filtered[\"end_node_x\"] + sequences_filtered[\"end_node_y\"] / 10\n",
      "/Users/morten/Desktop/p5 kode/5-semester/Fodbold/Passing/helper_functions.py:97: PerformanceWarning: DataFrame is highly fragmented.  This is usually the result of calling `frame.insert` many times, which has poor performance.  Consider joining all columns at once using pd.concat(axis=1) instead. To get a de-fragmented frame, use `newframe = frame.copy()`\n",
      "  sequences_filtered['sequence'] = sequences_filtered.groupby('possession_id').cumcount(ascending=False) + 1\n"
     ]
    }
   ],
   "source": [
    "events = sb.competition_events(\n",
    "    country=\"Germany\",\n",
    "    division= \"1. Bundesliga\",\n",
    "    season=\"2023/2024\",\n",
    "    gender=\"male\"\n",
    ")\n",
    "\n",
    "df = match_ids(events, \"Bayer Leverkusen\", season_id=281, competition_id=9)\n",
    "possesion, final_sequence = create_graphs(df)\n",
    "graph_list, graph_dict = create_graphs_dict(possesion, final_sequence)\n",
    "\n",
    "\n",
    "graph_list_sample = graph_list\n",
    "\n",
    "# Create a list of edges from the sampled graph_list\n",
    "edge_matrix = [list(graph.edges(data=True)) for graph in graph_list]\n",
    "GRAPH_DB = graph_list_sample  # List of graphs in the database\n",
    "min_sup = 0\n",
    "\n",
    "\n"
   ]
  },
  {
   "cell_type": "code",
   "execution_count": 3,
   "metadata": {},
   "outputs": [
    {
     "ename": "TypeError",
     "evalue": "'NoneType' object is not iterable",
     "output_type": "error",
     "traceback": [
      "\u001b[0;31m---------------------------------------------------------------------------\u001b[0m",
      "\u001b[0;31mTypeError\u001b[0m                                 Traceback (most recent call last)",
      "Cell \u001b[0;32mIn[3], line 2\u001b[0m\n\u001b[1;32m      1\u001b[0m \u001b[38;5;66;03m# test\u001b[39;00m\n\u001b[0;32m----> 2\u001b[0m frequents \u001b[38;5;241m=\u001b[39m apriori_graph_mining(\u001b[38;5;241m25\u001b[39m, edge_matrix, GRAPH_DB, \u001b[38;5;241m5\u001b[39m)\n\u001b[1;32m      3\u001b[0m \u001b[38;5;28;01mfor\u001b[39;00m pattern \u001b[38;5;129;01min\u001b[39;00m frequents:\n\u001b[1;32m      4\u001b[0m     \u001b[38;5;28mprint\u001b[39m(pattern\u001b[38;5;241m.\u001b[39medges())\n",
      "File \u001b[0;32m~/Desktop/p5 kode/5-semester/Fodbold/Passing/apriori.py:70\u001b[0m, in \u001b[0;36mapriori_graph_mining\u001b[0;34m(min_sup, edge_matrix, graph_db, max_k)\u001b[0m\n\u001b[1;32m     67\u001b[0m F \u001b[38;5;241m=\u001b[39m frequent_singletons(min_sup, edge_matrix)\n\u001b[1;32m     69\u001b[0m \u001b[38;5;66;03m# Add initial frequent items to the total list\u001b[39;00m\n\u001b[0;32m---> 70\u001b[0m frequent_total\u001b[38;5;241m.\u001b[39mextend(F)\n\u001b[1;32m     72\u001b[0m k \u001b[38;5;241m=\u001b[39m \u001b[38;5;241m2\u001b[39m  \u001b[38;5;66;03m# Start with size-2 subgraphs\u001b[39;00m\n\u001b[1;32m     73\u001b[0m \u001b[38;5;28;01mwhile\u001b[39;00m k \u001b[38;5;241m<\u001b[39m\u001b[38;5;241m=\u001b[39m max_k:\n",
      "\u001b[0;31mTypeError\u001b[0m: 'NoneType' object is not iterable"
     ]
    }
   ],
   "source": [
    "# test\n",
    "frequents = apriori_graph_mining(25, edge_matrix, GRAPH_DB, 5)\n",
    "for pattern in frequents:\n",
    "    print(pattern.edges())"
   ]
  },
  {
   "cell_type": "markdown",
   "metadata": {},
   "source": [
    "# Illustration af hver gennemgang af algoritmen"
   ]
  },
  {
   "cell_type": "code",
   "execution_count": 9,
   "metadata": {},
   "outputs": [
    {
     "name": "stdout",
     "output_type": "stream",
     "text": [
      "set()\n"
     ]
    }
   ],
   "source": [
    "F = frequent_singletons(2, edge_matrix)\n",
    "C = generate_candidates(F, 2)\n",
    "count = count_support(C, GRAPH_DB)\n",
    "filter = filter_frequent(count, 2)\n",
    "\n",
    "print(C)"
   ]
  },
  {
   "cell_type": "code",
   "execution_count": 10,
   "metadata": {},
   "outputs": [],
   "source": [
    "C2 = generate_candidates(C, 3)\n",
    "count2 = count_support(C2, GRAPH_DB)\n",
    "filter2 = filter_frequent(count2, 2)\n",
    "\n",
    "for i in filter2:\n",
    "    print(i.edges())"
   ]
  },
  {
   "cell_type": "code",
   "execution_count": 13,
   "metadata": {},
   "outputs": [
    {
     "ename": "IndexError",
     "evalue": "list index out of range",
     "output_type": "error",
     "traceback": [
      "\u001b[0;31m---------------------------------------------------------------------------\u001b[0m",
      "\u001b[0;31mIndexError\u001b[0m                                Traceback (most recent call last)",
      "Cell \u001b[0;32mIn[13], line 1\u001b[0m\n\u001b[0;32m----> 1\u001b[0m nx\u001b[38;5;241m.\u001b[39mdraw_networkx(filter2[\u001b[38;5;241m0\u001b[39m])\n",
      "\u001b[0;31mIndexError\u001b[0m: list index out of range"
     ]
    }
   ],
   "source": [
    "nx.draw_networkx(filter2[0])"
   ]
  },
  {
   "cell_type": "code",
   "execution_count": 18,
   "metadata": {},
   "outputs": [],
   "source": [
    "C3 = generate_candidates(C2, 4)\n",
    "count3 = count_support(C3, GRAPH_DB)\n",
    "filter3 = filter_frequent(count3, 2)"
   ]
  },
  {
   "cell_type": "markdown",
   "metadata": {},
   "source": [
    "# Illustration af algoritmen på en gang"
   ]
  },
  {
   "cell_type": "code",
   "execution_count": 5,
   "metadata": {},
   "outputs": [
    {
     "name": "stdout",
     "output_type": "stream",
     "text": [
      "\n",
      "Iteration 2:\n"
     ]
    },
    {
     "ename": "IndexError",
     "evalue": "list index out of range",
     "output_type": "error",
     "traceback": [
      "\u001b[0;31m---------------------------------------------------------------------------\u001b[0m",
      "\u001b[0;31mIndexError\u001b[0m                                Traceback (most recent call last)",
      "Cell \u001b[0;32mIn[5], line 2\u001b[0m\n\u001b[1;32m      1\u001b[0m \u001b[38;5;66;03m# test\u001b[39;00m\n\u001b[0;32m----> 2\u001b[0m frequents \u001b[38;5;241m=\u001b[39m apriori_graph_mining(\u001b[38;5;241m25\u001b[39m, edge_matrix, GRAPH_DB, \u001b[38;5;241m5\u001b[39m)\n\u001b[1;32m      3\u001b[0m \u001b[38;5;28;01mfor\u001b[39;00m pattern \u001b[38;5;129;01min\u001b[39;00m frequents:\n\u001b[1;32m      4\u001b[0m     \u001b[38;5;28mprint\u001b[39m(pattern\u001b[38;5;241m.\u001b[39medges())\n",
      "Cell \u001b[0;32mIn[4], line 77\u001b[0m, in \u001b[0;36mapriori_graph_mining\u001b[0;34m(min_sup, edge_matrix, graph_db, max_k)\u001b[0m\n\u001b[1;32m     74\u001b[0m \u001b[38;5;28mprint\u001b[39m(\u001b[38;5;124mf\u001b[39m\u001b[38;5;124m\"\u001b[39m\u001b[38;5;130;01m\\n\u001b[39;00m\u001b[38;5;124mIteration \u001b[39m\u001b[38;5;132;01m{\u001b[39;00mk\u001b[38;5;132;01m}\u001b[39;00m\u001b[38;5;124m:\u001b[39m\u001b[38;5;124m\"\u001b[39m)\n\u001b[1;32m     76\u001b[0m \u001b[38;5;66;03m# Step 2: Generate candidate subgraphs of size k\u001b[39;00m\n\u001b[0;32m---> 77\u001b[0m C \u001b[38;5;241m=\u001b[39m generate_candidates(F, k)\n\u001b[1;32m     79\u001b[0m \u001b[38;5;66;03m# Step 3: Count support for each candidate in the graph database\u001b[39;00m\n\u001b[1;32m     80\u001b[0m F_count \u001b[38;5;241m=\u001b[39m count_support(C, graph_db)\n",
      "Cell \u001b[0;32mIn[4], line 39\u001b[0m, in \u001b[0;36mgenerate_candidates\u001b[0;34m(F, k)\u001b[0m\n\u001b[1;32m     36\u001b[0m edges_g1 \u001b[38;5;241m=\u001b[39m \u001b[38;5;28msorted\u001b[39m(g1\u001b[38;5;241m.\u001b[39medges(data\u001b[38;5;241m=\u001b[39m\u001b[38;5;28;01mTrue\u001b[39;00m), key\u001b[38;5;241m=\u001b[39m\u001b[38;5;28;01mlambda\u001b[39;00m e: e[\u001b[38;5;241m2\u001b[39m]\u001b[38;5;241m.\u001b[39mget(\u001b[38;5;124m'\u001b[39m\u001b[38;5;124msequence\u001b[39m\u001b[38;5;124m'\u001b[39m, \u001b[38;5;241m0\u001b[39m))\n\u001b[1;32m     37\u001b[0m edges_g2 \u001b[38;5;241m=\u001b[39m \u001b[38;5;28msorted\u001b[39m(g2\u001b[38;5;241m.\u001b[39medges(data\u001b[38;5;241m=\u001b[39m\u001b[38;5;28;01mTrue\u001b[39;00m), key\u001b[38;5;241m=\u001b[39m\u001b[38;5;28;01mlambda\u001b[39;00m e: e[\u001b[38;5;241m2\u001b[39m]\u001b[38;5;241m.\u001b[39mget(\u001b[38;5;124m'\u001b[39m\u001b[38;5;124msequence\u001b[39m\u001b[38;5;124m'\u001b[39m, \u001b[38;5;241m0\u001b[39m))\n\u001b[0;32m---> 39\u001b[0m \u001b[38;5;28;01mif\u001b[39;00m edges_g1[\u001b[38;5;241m2\u001b[39m]\u001b[38;5;241m.\u001b[39mget(\u001b[38;5;124m'\u001b[39m\u001b[38;5;124msequence\u001b[39m\u001b[38;5;124m'\u001b[39m) \u001b[38;5;241m>\u001b[39m edges_g2[\u001b[38;5;241m2\u001b[39m]\u001b[38;5;241m.\u001b[39mget(\u001b[38;5;124m'\u001b[39m\u001b[38;5;124msequence\u001b[39m\u001b[38;5;124m'\u001b[39m):\n\u001b[1;32m     40\u001b[0m     union_graph \u001b[38;5;241m=\u001b[39m nx\u001b[38;5;241m.\u001b[39mcompose(g1, g2)\n\u001b[1;32m     42\u001b[0m     \u001b[38;5;66;03m# Ensure that the union has the correct number of edges\u001b[39;00m\n",
      "\u001b[0;31mIndexError\u001b[0m: list index out of range"
     ]
    }
   ],
   "source": []
  }
 ],
 "metadata": {
  "kernelspec": {
   "display_name": "base",
   "language": "python",
   "name": "python3"
  },
  "language_info": {
   "codemirror_mode": {
    "name": "ipython",
    "version": 3
   },
   "file_extension": ".py",
   "mimetype": "text/x-python",
   "name": "python",
   "nbconvert_exporter": "python",
   "pygments_lexer": "ipython3",
   "version": "3.11.5"
  }
 },
 "nbformat": 4,
 "nbformat_minor": 2
}
