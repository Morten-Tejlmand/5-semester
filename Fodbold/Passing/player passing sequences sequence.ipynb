{
 "cells": [
  {
   "cell_type": "code",
   "execution_count": 32,
   "metadata": {},
   "outputs": [],
   "source": [
    "from statsbombpy import sb\n",
    "import pandas as pd\n",
    "import networkx as nx\n",
    "from apriori import frequent_singletons, generate_candidates, count_support, apriori_graph_mining"
   ]
  },
  {
   "cell_type": "markdown",
   "metadata": {},
   "source": [
    "I de første celler er Thors kode fra \"passing seqeunces creation.ipynb\" kopieret.\n",
    "Jeg laver en ny markdown celle, når koden begynder at adskille sig."
   ]
  },
  {
   "cell_type": "code",
   "execution_count": 2,
   "metadata": {},
   "outputs": [
    {
     "name": "stderr",
     "output_type": "stream",
     "text": [
      "/Users/morten/anaconda3/lib/python3.11/site-packages/statsbombpy/api_client.py:21: NoAuthWarning: credentials were not supplied. open data access only\n",
      "  warnings.warn(\n"
     ]
    }
   ],
   "source": [
    "#find ids for barca home matches - only home games because then locations can be compared between different games\n",
    "matches = sb.matches(competition_id=11, season_id=90)\n",
    "barca_home_matches = matches[matches[\"home_team\"]==\"Barcelona\"]\n",
    "match_ids = barca_home_matches['match_id'].values.tolist()"
   ]
  },
  {
   "cell_type": "code",
   "execution_count": 3,
   "metadata": {},
   "outputs": [
    {
     "name": "stderr",
     "output_type": "stream",
     "text": [
      "/Users/morten/anaconda3/lib/python3.11/site-packages/statsbombpy/api_client.py:21: NoAuthWarning: credentials were not supplied. open data access only\n",
      "  warnings.warn(\n",
      "/Users/morten/anaconda3/lib/python3.11/site-packages/statsbombpy/api_client.py:21: NoAuthWarning: credentials were not supplied. open data access only\n",
      "  warnings.warn(\n",
      "/Users/morten/anaconda3/lib/python3.11/site-packages/statsbombpy/api_client.py:21: NoAuthWarning: credentials were not supplied. open data access only\n",
      "  warnings.warn(\n",
      "/Users/morten/anaconda3/lib/python3.11/site-packages/statsbombpy/api_client.py:21: NoAuthWarning: credentials were not supplied. open data access only\n",
      "  warnings.warn(\n",
      "/Users/morten/anaconda3/lib/python3.11/site-packages/statsbombpy/api_client.py:21: NoAuthWarning: credentials were not supplied. open data access only\n",
      "  warnings.warn(\n",
      "/Users/morten/anaconda3/lib/python3.11/site-packages/statsbombpy/api_client.py:21: NoAuthWarning: credentials were not supplied. open data access only\n",
      "  warnings.warn(\n",
      "/Users/morten/anaconda3/lib/python3.11/site-packages/statsbombpy/api_client.py:21: NoAuthWarning: credentials were not supplied. open data access only\n",
      "  warnings.warn(\n"
     ]
    }
   ],
   "source": [
    "#All events sorted for barca home games and possession \n",
    "events = sb.competition_events(\n",
    "    country=\"Spain\",\n",
    "    division= \"La Liga\",\n",
    "    season=\"2020/2021\",\n",
    "    gender=\"male\"\n",
    ")\n",
    "events = events[events['match_id'].isin(match_ids)]\n",
    "df = events[events[\"team\"]==\"Barcelona\"]\n",
    "df = df[df[\"possession_team\"]==\"Barcelona\"]"
   ]
  },
  {
   "cell_type": "code",
   "execution_count": 4,
   "metadata": {},
   "outputs": [],
   "source": [
    "#filter threshold for Xg:\n",
    "df_xg = df[~df['shot_statsbomb_xg'].between(0, 0.05)]"
   ]
  },
  {
   "cell_type": "code",
   "execution_count": 5,
   "metadata": {},
   "outputs": [],
   "source": [
    "#Events sorted in a specific order so each passing sequence is correctly sorted\n",
    "sequences_sorted = df_xg.sort_values(['match_id', 'period','timestamp'], ascending=[True, True, True])"
   ]
  },
  {
   "cell_type": "code",
   "execution_count": 6,
   "metadata": {},
   "outputs": [
    {
     "name": "stderr",
     "output_type": "stream",
     "text": [
      "/var/folders/dl/s9k442mn7m1077_4b28hhf6c0000gn/T/ipykernel_45312/955078220.py:3: PerformanceWarning: DataFrame is highly fragmented.  This is usually the result of calling `frame.insert` many times, which has poor performance.  Consider joining all columns at once using pd.concat(axis=1) instead. To get a de-fragmented frame, use `newframe = frame.copy()`\n",
      "  sequences_sorted['possession_id'] = sequences_sorted['match_id'].astype(str) + sequences_sorted['possession'].astype(str)\n"
     ]
    }
   ],
   "source": [
    "#make new ids because right now there is ids from 1 to x for each match but it repeats from 1 and up in every match so each possession id points to different matches \n",
    "# - i just put the possession id after match_id in the newly created id\n",
    "sequences_sorted['possession_id'] = sequences_sorted['match_id'].astype(str) + sequences_sorted['possession'].astype(str)\n",
    "sequences_sorted['possession_id'] = sequences_sorted['possession_id'].astype(int)"
   ]
  },
  {
   "cell_type": "code",
   "execution_count": 7,
   "metadata": {},
   "outputs": [],
   "source": [
    "#get the ids of sequences which contain a shot (contain an xg value)\n",
    "shot_sequences = sequences_sorted[sequences_sorted[\"shot_statsbomb_xg\"].notna()]\n",
    "shot_sequences_ids = shot_sequences[\"possession_id\"].unique()"
   ]
  },
  {
   "cell_type": "code",
   "execution_count": 8,
   "metadata": {},
   "outputs": [],
   "source": [
    "#filter for possession sequences which end with a shot\n",
    "sequences_filtered = sequences_sorted[sequences_sorted['possession_id'].isin(shot_sequences_ids)]"
   ]
  },
  {
   "cell_type": "code",
   "execution_count": 9,
   "metadata": {},
   "outputs": [
    {
     "name": "stderr",
     "output_type": "stream",
     "text": [
      "/var/folders/dl/s9k442mn7m1077_4b28hhf6c0000gn/T/ipykernel_45312/2851514471.py:2: PerformanceWarning: DataFrame is highly fragmented.  This is usually the result of calling `frame.insert` many times, which has poor performance.  Consider joining all columns at once using pd.concat(axis=1) instead. To get a de-fragmented frame, use `newframe = frame.copy()`\n",
      "  sequences_filtered['xg'] = sequences_filtered.groupby('possession_id')['shot_statsbomb_xg'].transform(lambda group: group.fillna(method='ffill').fillna(method='bfill'))\n",
      "/var/folders/dl/s9k442mn7m1077_4b28hhf6c0000gn/T/ipykernel_45312/2851514471.py:2: SettingWithCopyWarning: \n",
      "A value is trying to be set on a copy of a slice from a DataFrame.\n",
      "Try using .loc[row_indexer,col_indexer] = value instead\n",
      "\n",
      "See the caveats in the documentation: https://pandas.pydata.org/pandas-docs/stable/user_guide/indexing.html#returning-a-view-versus-a-copy\n",
      "  sequences_filtered['xg'] = sequences_filtered.groupby('possession_id')['shot_statsbomb_xg'].transform(lambda group: group.fillna(method='ffill').fillna(method='bfill'))\n"
     ]
    }
   ],
   "source": [
    "#fill all rows with an xg for the corresponding sequence - right now there are many missing values in \"shot_statsbomb_xg\"\n",
    "sequences_filtered['xg'] = sequences_filtered.groupby('possession_id')['shot_statsbomb_xg'].transform(lambda group: group.fillna(method='ffill').fillna(method='bfill'))"
   ]
  },
  {
   "cell_type": "code",
   "execution_count": 10,
   "metadata": {},
   "outputs": [],
   "source": [
    "#find ids of those possessions that result in a goal\n",
    "goal_posession_index = sequences_filtered.loc[sequences_filtered[\"shot_outcome\"]==\"Goal\", \"possession_id\"]"
   ]
  },
  {
   "cell_type": "code",
   "execution_count": 11,
   "metadata": {},
   "outputs": [],
   "source": [
    "#now we dont need the shot event rows any more so remove them\n",
    "sequences_filtered = sequences_filtered[sequences_filtered[\"type\"]!=\"Shot\"]"
   ]
  },
  {
   "cell_type": "markdown",
   "metadata": {},
   "source": [
    "Nu begynder jeg at arbejde på, at lave spillerne til nodes"
   ]
  },
  {
   "cell_type": "code",
   "execution_count": 20,
   "metadata": {},
   "outputs": [],
   "source": [
    "#filter the df to only include row with an id the of a pass recipient and we subset the columns\n",
    "\n",
    "player_final_sequences =  sequences_filtered[sequences_filtered[\"pass_recipient\"].notna()][[\"player_id\", \"pass_recipient_id\", \"possession_id\", \"xg\"]]\n",
    "player_final_sequences['sequence'] = player_final_sequences.groupby('possession_id').cumcount(ascending=False) + 1\n",
    "\n"
   ]
  },
  {
   "cell_type": "code",
   "execution_count": 21,
   "metadata": {},
   "outputs": [],
   "source": [
    "#remove sequences with few passes if wanted\n",
    "index_counts = player_final_sequences['possession_id'].value_counts()\n",
    "player_final_sequences = player_final_sequences[player_final_sequences['possession_id'].isin(index_counts[index_counts > 5].index)]"
   ]
  },
  {
   "cell_type": "code",
   "execution_count": 22,
   "metadata": {},
   "outputs": [],
   "source": [
    "#get all the unique possession ids for iteration\n",
    "possession_index = player_final_sequences[\"possession_id\"].unique()"
   ]
  },
  {
   "cell_type": "code",
   "execution_count": 26,
   "metadata": {},
   "outputs": [],
   "source": [
    "graphs_dict = {}\n",
    "for j in possession_index:\n",
    "    edges = []\n",
    "    for i in player_final_sequences.index:\n",
    "        if j == player_final_sequences[\"possession_id\"][i]:\n",
    "            edge = (player_final_sequences[\"player_id\"][i], player_final_sequences[\"pass_recipient_id\"][i])\n",
    "            edges.append(edge)\n",
    "            if j not in graphs_dict:\n",
    "                graphs_dict[j] = {\"xg\": player_final_sequences[\"xg\"][i], \"graph\": None}\n",
    "            else:\n",
    "                graphs_dict[j][\"xg\"] = player_final_sequences[\"xg\"][i]\n",
    "\n",
    "    graph = nx.DiGraph()\n",
    "    graph.add_edges_from(edges)\n",
    "\n",
    "    # Add sequence as an edge attribute\n",
    "    for i in player_final_sequences.index:\n",
    "        if j == player_final_sequences[\"possession_id\"][i]:\n",
    "            graph[player_final_sequences[\"player_id\"][i]][player_final_sequences[\"pass_recipient_id\"][i]]['sequence'] = player_final_sequences[\"sequence\"][i]\n",
    "\n",
    "    graphs_dict[j][\"graph\"] = graph\n",
    "\n",
    "graph_list = [value[\"graph\"] for value in graphs_dict.values()]"
   ]
  },
  {
   "cell_type": "code",
   "execution_count": 28,
   "metadata": {},
   "outputs": [],
   "source": [
    "edge_matrix = [list(graph.edges()) for graph in graph_list]\n",
    "GRAPH_DB = graph_list  # List of graphs in the database\n",
    "min_sup = 0"
   ]
  },
  {
   "cell_type": "code",
   "execution_count": 33,
   "metadata": {},
   "outputs": [
    {
     "name": "stdout",
     "output_type": "stream",
     "text": [
      "\n",
      "Iteration 2:\n"
     ]
    },
    {
     "ename": "IndexError",
     "evalue": "list index out of range",
     "output_type": "error",
     "traceback": [
      "\u001b[0;31m---------------------------------------------------------------------------\u001b[0m",
      "\u001b[0;31mIndexError\u001b[0m                                Traceback (most recent call last)",
      "Cell \u001b[0;32mIn[33], line 1\u001b[0m\n\u001b[0;32m----> 1\u001b[0m frequents \u001b[38;5;241m=\u001b[39m apriori_graph_mining(\u001b[38;5;241m5\u001b[39m, edge_matrix, GRAPH_DB, \u001b[38;5;241m5\u001b[39m)\n\u001b[1;32m      2\u001b[0m \u001b[38;5;28;01mfor\u001b[39;00m pattern \u001b[38;5;129;01min\u001b[39;00m frequents:\n\u001b[1;32m      3\u001b[0m     \u001b[38;5;28mprint\u001b[39m(pattern\u001b[38;5;241m.\u001b[39medges())\n",
      "File \u001b[0;32m~/Desktop/p5 kode/5-semester/Fodbold/Passing/apriori.py:74\u001b[0m, in \u001b[0;36mapriori_graph_mining\u001b[0;34m(min_sup, edge_matrix, graph_db, max_k)\u001b[0m\n\u001b[1;32m     71\u001b[0m \u001b[38;5;28mprint\u001b[39m(\u001b[38;5;124mf\u001b[39m\u001b[38;5;124m\"\u001b[39m\u001b[38;5;130;01m\\n\u001b[39;00m\u001b[38;5;124mIteration \u001b[39m\u001b[38;5;132;01m{\u001b[39;00mk\u001b[38;5;132;01m}\u001b[39;00m\u001b[38;5;124m:\u001b[39m\u001b[38;5;124m\"\u001b[39m)\n\u001b[1;32m     73\u001b[0m \u001b[38;5;66;03m# Step 2: Generate candidate subgraphs of size k\u001b[39;00m\n\u001b[0;32m---> 74\u001b[0m C \u001b[38;5;241m=\u001b[39m generate_candidates(F, k)\n\u001b[1;32m     76\u001b[0m \u001b[38;5;66;03m# Step 3: Count support for each candidate in the graph database\u001b[39;00m\n\u001b[1;32m     77\u001b[0m F_count \u001b[38;5;241m=\u001b[39m count_support(C, graph_db)\n",
      "File \u001b[0;32m~/Desktop/p5 kode/5-semester/Fodbold/Passing/apriori.py:36\u001b[0m, in \u001b[0;36mgenerate_candidates\u001b[0;34m(F, k)\u001b[0m\n\u001b[1;32m     33\u001b[0m edges_g1 \u001b[38;5;241m=\u001b[39m \u001b[38;5;28msorted\u001b[39m(g1\u001b[38;5;241m.\u001b[39medges(data\u001b[38;5;241m=\u001b[39m\u001b[38;5;28;01mTrue\u001b[39;00m), key\u001b[38;5;241m=\u001b[39m\u001b[38;5;28;01mlambda\u001b[39;00m e: e[\u001b[38;5;241m2\u001b[39m]\u001b[38;5;241m.\u001b[39mget(\u001b[38;5;124m'\u001b[39m\u001b[38;5;124msequence\u001b[39m\u001b[38;5;124m'\u001b[39m, \u001b[38;5;241m0\u001b[39m))\n\u001b[1;32m     34\u001b[0m edges_g2 \u001b[38;5;241m=\u001b[39m \u001b[38;5;28msorted\u001b[39m(g2\u001b[38;5;241m.\u001b[39medges(data\u001b[38;5;241m=\u001b[39m\u001b[38;5;28;01mTrue\u001b[39;00m), key\u001b[38;5;241m=\u001b[39m\u001b[38;5;28;01mlambda\u001b[39;00m e: e[\u001b[38;5;241m2\u001b[39m]\u001b[38;5;241m.\u001b[39mget(\u001b[38;5;124m'\u001b[39m\u001b[38;5;124msequence\u001b[39m\u001b[38;5;124m'\u001b[39m, \u001b[38;5;241m0\u001b[39m))\n\u001b[0;32m---> 36\u001b[0m \u001b[38;5;28;01mif\u001b[39;00m edges_g1[\u001b[38;5;241m2\u001b[39m]\u001b[38;5;241m.\u001b[39mget(\u001b[38;5;124m'\u001b[39m\u001b[38;5;124msequence\u001b[39m\u001b[38;5;124m'\u001b[39m) \u001b[38;5;241m>\u001b[39m edges_g2[\u001b[38;5;241m2\u001b[39m]\u001b[38;5;241m.\u001b[39mget(\u001b[38;5;124m'\u001b[39m\u001b[38;5;124msequence\u001b[39m\u001b[38;5;124m'\u001b[39m):\n\u001b[1;32m     37\u001b[0m     union_graph \u001b[38;5;241m=\u001b[39m nx\u001b[38;5;241m.\u001b[39mcompose(g1, g2)\n\u001b[1;32m     39\u001b[0m     \u001b[38;5;66;03m# Ensure that the union has the correct number of edges\u001b[39;00m\n",
      "\u001b[0;31mIndexError\u001b[0m: list index out of range"
     ]
    }
   ],
   "source": [
    "frequents = apriori_graph_mining(5, edge_matrix, GRAPH_DB, 5)\n",
    "for pattern in frequents:\n",
    "    print(pattern.edges())"
   ]
  },
  {
   "cell_type": "markdown",
   "metadata": {},
   "source": [
    "man kunne gøre noget med at fixere spillerene på deres positioner på banen for at visualisere det. Det gider jeg ikke at bruge tid på lige nu"
   ]
  },
  {
   "cell_type": "code",
   "execution_count": 56,
   "metadata": {},
   "outputs": [
    {
     "data": {
      "image/png": "[encoded data removed]",
      "text/plain": [
       "<Figure size 432x288 with 1 Axes>"
      ]
     },
     "metadata": {},
     "output_type": "display_data"
    }
   ],
   "source": [
    "import matplotlib.pyplot as plt\n",
    "import networkx as nx\n",
    "\n",
    "game_pos = 377366114\n",
    "\n",
    "# Draw the graph using the positions\n",
    "nx.draw_networkx(graphs_dict[game_pos][\"graph\"])\n",
    "\n",
    "# Show the plot\n",
    "plt.show()\n"
   ]
  },
  {
   "cell_type": "code",
   "execution_count": 72,
   "metadata": {},
   "outputs": [
    {
     "data": {
      "text/plain": [
       "93"
      ]
     },
     "execution_count": 72,
     "metadata": {},
     "output_type": "execute_result"
    }
   ],
   "source": [
    "len(graphs_dict)"
   ]
  }
 ],
 "metadata": {
  "kernelspec": {
   "display_name": "base",
   "language": "python",
   "name": "python3"
  },
  "language_info": {
   "codemirror_mode": {
    "name": "ipython",
    "version": 3
   },
   "file_extension": ".py",
   "mimetype": "text/x-python",
   "name": "python",
   "nbconvert_exporter": "python",
   "pygments_lexer": "ipython3",
   "version": "3.11.5"
  }
 },
 "nbformat": 4,
 "nbformat_minor": 2
}
