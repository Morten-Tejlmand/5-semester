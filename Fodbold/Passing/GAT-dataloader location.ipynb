{
 "cells": [
  {
   "cell_type": "code",
   "execution_count": 36,
   "metadata": {},
   "outputs": [],
   "source": [
    "import torch\n",
    "import torch.nn as nn\n",
    "import torch.nn.functional\n",
    "import torch_geometric.nn \n",
    "from torch_geometric.utils import from_networkx\n",
    "from torch_geometric.data import Data\n",
    "import pandas as pd\n",
    "import networkx as nx\n",
    "import numpy as np\n",
    "import tqdm\n",
    "import random\n",
    "from torch_geometric.nn import GATConv, global_mean_pool\n",
    "from torch.utils.data import Dataset\n",
    "from torch_geometric.loader import DataLoader\n"
   ]
  },
  {
   "cell_type": "code",
   "execution_count": 37,
   "metadata": {},
   "outputs": [],
   "source": [
    "pkl_graphs = pd.read_pickle('/Users/MathildeStouby/Desktop/P5 GitHub/5-semester/Momentum graphs Bayern only.pkl')"
   ]
  },
  {
   "cell_type": "code",
   "execution_count": 38,
   "metadata": {},
   "outputs": [],
   "source": [
    "unique_nodes = []\n",
    "for graph in pkl_graphs.values():\n",
    "    temp = [node for node in graph.nodes() if node not in unique_nodes]\n",
    "    unique_nodes.extend(temp)"
   ]
  },
  {
   "cell_type": "code",
   "execution_count": 39,
   "metadata": {},
   "outputs": [],
   "source": [
    "idx_to_pos = dict(enumerate(unique_nodes))\n",
    "pos_to_idx = {pos : idx for idx, pos in idx_to_pos.items()}"
   ]
  },
  {
   "cell_type": "code",
   "execution_count": 40,
   "metadata": {},
   "outputs": [
    {
     "name": "stdout",
     "output_type": "stream",
     "text": [
      "Node: Right Center Back, Features: [0.40995268 0.83633132]\n",
      "Node: Left Center Back, Features: [0.37577951 0.19785105]\n",
      "Node: Center Back, Features: [0.3524219  0.56735406]\n",
      "Node: Center Defensive Midfield, Features: [0.35270904 0.4579695 ]\n",
      "Node: Right Wing Back, Features: [0.67930475 0.91179797]\n",
      "Node: Right Center Forward, Features: [0.57427948 0.61344976]\n",
      "Node: Goalkeeper, Features: [0.         0.43467819]\n",
      "Node: Left Wing Back, Features: [0.56614998 0.        ]\n",
      "Node: Left Center Midfield, Features: [0.52749336 0.41509188]\n",
      "Node: Right Center Midfield, Features: [0.69539249 0.75980712]\n",
      "Node: Left Center Forward, Features: [1. 1.]\n"
     ]
    }
   ],
   "source": [
    "for node, data in graph.nodes(data=True):\n",
    "    print(f\"Node: {node}, Features: {data.get('features')}\")"
   ]
  },
  {
   "cell_type": "code",
   "execution_count": 41,
   "metadata": {},
   "outputs": [
    {
     "name": "stdout",
     "output_type": "stream",
     "text": [
      "Data(x=[11, 5], edge_index=[2, 22], features=[11, 2], weight=[22])\n"
     ]
    }
   ],
   "source": [
    "pyg_data = []\n",
    "thors_kamp = []\n",
    "\n",
    "\n",
    "for idx, graph in pkl_graphs.items():\n",
    "    closeness = nx.closeness_centrality(graph)\n",
    "    betweenness = nx.closeness_centrality(graph)\n",
    "    pagerank = nx.pagerank(graph, weight='weight')\n",
    "    centrality_list = [closeness, betweenness, pagerank] \n",
    "\n",
    "    adj_dict = nx.to_dict_of_dicts(graph)\n",
    "\n",
    "    for node in list(graph.nodes()):\n",
    "        node_features = graph.nodes[node].get('features', np.zeros(2))\n",
    "        centrality_vect = []\n",
    "        for measure in centrality_list:\n",
    "            if node in list(measure.keys()):\n",
    "                centrality_vect.append(measure[node])\n",
    "            else:\n",
    "                centrality_vect.append(0)\n",
    "        centrality_vect = centrality_vect + node_features.tolist()\n",
    "        centrality_vect = torch.Tensor(centrality_vect).float()        \n",
    "        graph.nodes[node]['x'] = centrality_vect\n",
    "\n",
    "            \n",
    "    data = from_networkx(graph)\n",
    "\n",
    "    try:\n",
    "        data['momentum']\n",
    "        if idx.startswith('3895275'):\n",
    "            thors_kamp.append(data)\n",
    "        else:\n",
    "            pyg_data.append(data)\n",
    "    except:\n",
    "        print(data)\n"
   ]
  },
  {
   "cell_type": "code",
   "execution_count": 42,
   "metadata": {},
   "outputs": [
    {
     "data": {
      "text/plain": [
       "[Data(x=[11, 5], edge_index=[2, 32], features=[11, 2], weight=[32], momentum=-0.024038370698690414),\n",
       " Data(x=[8, 5], edge_index=[2, 18], features=[8, 2], weight=[18], momentum=0.10036080330610275),\n",
       " Data(x=[11, 5], edge_index=[2, 33], features=[11, 2], weight=[33], momentum=-0.037643399089574814),\n",
       " Data(x=[11, 5], edge_index=[2, 32], features=[11, 2], weight=[32], momentum=0.03450864925980568),\n",
       " Data(x=[10, 5], edge_index=[2, 19], features=[10, 2], weight=[19], momentum=0.031030019745230675),\n",
       " Data(x=[11, 5], edge_index=[2, 22], features=[11, 2], weight=[22], momentum=-0.017763350158929825),\n",
       " Data(x=[9, 5], edge_index=[2, 13], features=[9, 2], weight=[13], momentum=0.0327911302447319),\n",
       " Data(x=[11, 5], edge_index=[2, 32], features=[11, 2], weight=[32], momentum=0.10708025842905045),\n",
       " Data(x=[11, 5], edge_index=[2, 20], features=[11, 2], weight=[20], momentum=-0.05585882067680359),\n",
       " Data(x=[11, 5], edge_index=[2, 21], features=[11, 2], weight=[21], momentum=0.05494511127471924),\n",
       " Data(x=[11, 5], edge_index=[2, 27], features=[11, 2], weight=[27], momentum=0.0941830575466156),\n",
       " Data(x=[10, 5], edge_index=[2, 16], features=[10, 2], weight=[16], momentum=0.0689469575881958),\n",
       " Data(x=[11, 5], edge_index=[2, 29], features=[11, 2], weight=[29], momentum=0.07129620760679245),\n",
       " Data(x=[11, 5], edge_index=[2, 44], features=[11, 2], weight=[44], momentum=0.00962010957300663),\n",
       " Data(x=[11, 5], edge_index=[2, 29], features=[11, 2], weight=[29], momentum=0.013414650224149227),\n",
       " Data(x=[8, 5], edge_index=[2, 12], features=[8, 2], weight=[12], momentum=-0.011194390244781971),\n",
       " Data(x=[10, 5], edge_index=[2, 32], features=[10, 2], weight=[32], momentum=0.0937870666384697),\n",
       " Data(x=[11, 5], edge_index=[2, 30], features=[11, 2], weight=[30], momentum=0.024381039664149284),\n",
       " Data(x=[9, 5], edge_index=[2, 20], features=[9, 2], weight=[20], momentum=0.10456542670726776),\n",
       " Data(x=[11, 5], edge_index=[2, 39], features=[11, 2], weight=[39], momentum=0.04875095933675766),\n",
       " Data(x=[11, 5], edge_index=[2, 26], features=[11, 2], weight=[26], momentum=0.08350519090890884),\n",
       " Data(x=[11, 5], edge_index=[2, 34], features=[11, 2], weight=[34], momentum=0.013761100359261036),\n",
       " Data(x=[9, 5], edge_index=[2, 16], features=[9, 2], weight=[16], momentum=0.0642998069524765),\n",
       " Data(x=[10, 5], edge_index=[2, 24], features=[10, 2], weight=[24], momentum=0.10801631957292557),\n",
       " Data(x=[10, 5], edge_index=[2, 28], features=[10, 2], weight=[28], momentum=-0.00034110998967662454),\n",
       " Data(x=[10, 5], edge_index=[2, 16], features=[10, 2], weight=[16], momentum=0.19643555581569672),\n",
       " Data(x=[10, 5], edge_index=[2, 34], features=[10, 2], weight=[34], momentum=0.10744581371545792),\n",
       " Data(x=[9, 5], edge_index=[2, 18], features=[9, 2], weight=[18], momentum=0.0089624198153615),\n",
       " Data(x=[11, 5], edge_index=[2, 25], features=[11, 2], weight=[25], momentum=0.04961735010147095),\n",
       " Data(x=[10, 5], edge_index=[2, 26], features=[10, 2], weight=[26], momentum=0.021761689335107803),\n",
       " Data(x=[10, 5], edge_index=[2, 17], features=[10, 2], weight=[17], momentum=0.10425753146409988),\n",
       " Data(x=[11, 5], edge_index=[2, 33], features=[11, 2], weight=[33], momentum=-0.012182040140032768),\n",
       " Data(x=[7, 5], edge_index=[2, 8], features=[7, 2], weight=[8], momentum=0.0963495671749115),\n",
       " Data(x=[10, 5], edge_index=[2, 28], features=[10, 2], weight=[28], momentum=0.11662580072879791),\n",
       " Data(x=[11, 5], edge_index=[2, 37], features=[11, 2], weight=[37], momentum=0.028085509315133095),\n",
       " Data(x=[11, 5], edge_index=[2, 32], features=[11, 2], weight=[32], momentum=-0.028527820482850075),\n",
       " Data(x=[11, 5], edge_index=[2, 23], features=[11, 2], weight=[23], momentum=-0.09910803288221359),\n",
       " Data(x=[8, 5], edge_index=[2, 12], features=[8, 2], weight=[12], momentum=-0.084239162504673),\n",
       " Data(x=[9, 5], edge_index=[2, 15], features=[9, 2], weight=[15], momentum=0.07890892773866653),\n",
       " Data(x=[11, 5], edge_index=[2, 25], features=[11, 2], weight=[25], momentum=-0.1037718802690506),\n",
       " Data(x=[11, 5], edge_index=[2, 18], features=[11, 2], weight=[18], momentum=-0.021244529634714127),\n",
       " Data(x=[7, 5], edge_index=[2, 8], features=[7, 2], weight=[8], momentum=-0.11523786187171936),\n",
       " Data(x=[7, 5], edge_index=[2, 9], features=[7, 2], weight=[9], momentum=-0.1439746916294098),\n",
       " Data(x=[9, 5], edge_index=[2, 16], features=[9, 2], weight=[16], momentum=-0.021583400666713715),\n",
       " Data(x=[8, 5], edge_index=[2, 18], features=[8, 2], weight=[18], momentum=-0.02587145008146763),\n",
       " Data(x=[10, 5], edge_index=[2, 14], features=[10, 2], weight=[14], momentum=-0.11973649263381958),\n",
       " Data(x=[8, 5], edge_index=[2, 11], features=[8, 2], weight=[11], momentum=-0.052194688469171524),\n",
       " Data(x=[11, 5], edge_index=[2, 22], features=[11, 2], weight=[22], momentum=-0.11519122123718262),\n",
       " Data(x=[9, 5], edge_index=[2, 13], features=[9, 2], weight=[13], momentum=-0.028194669634103775),\n",
       " Data(x=[10, 5], edge_index=[2, 14], features=[10, 2], weight=[14], momentum=0.05864404886960983),\n",
       " Data(x=[11, 5], edge_index=[2, 24], features=[11, 2], weight=[24], momentum=0.06229674816131592),\n",
       " Data(x=[11, 5], edge_index=[2, 21], features=[11, 2], weight=[21], momentum=0.17785398662090302),\n",
       " Data(x=[11, 5], edge_index=[2, 39], features=[11, 2], weight=[39], momentum=0.05162341147661209),\n",
       " Data(x=[11, 5], edge_index=[2, 29], features=[11, 2], weight=[29], momentum=0.21558022499084473),\n",
       " Data(x=[10, 5], edge_index=[2, 34], features=[10, 2], weight=[34], momentum=0.05258378013968468),\n",
       " Data(x=[11, 5], edge_index=[2, 27], features=[11, 2], weight=[27], momentum=-0.018389340490102768),\n",
       " Data(x=[11, 5], edge_index=[2, 17], features=[11, 2], weight=[17], momentum=0.03879017010331154),\n",
       " Data(x=[10, 5], edge_index=[2, 29], features=[10, 2], weight=[29], momentum=-0.0022193400654941797),\n",
       " Data(x=[11, 5], edge_index=[2, 21], features=[11, 2], weight=[21], momentum=0.0760384202003479),\n",
       " Data(x=[10, 5], edge_index=[2, 30], features=[10, 2], weight=[30], momentum=-0.01828034035861492),\n",
       " Data(x=[11, 5], edge_index=[2, 28], features=[11, 2], weight=[28], momentum=-0.053495850414037704),\n",
       " Data(x=[6, 5], edge_index=[2, 6], features=[6, 2], weight=[6], momentum=0.1161709576845169),\n",
       " Data(x=[11, 5], edge_index=[2, 33], features=[11, 2], weight=[33], momentum=0.12078525871038437),\n",
       " Data(x=[11, 5], edge_index=[2, 47], features=[11, 2], weight=[47], momentum=0.16695989668369293),\n",
       " Data(x=[11, 5], edge_index=[2, 37], features=[11, 2], weight=[37], momentum=0.08934565633535385),\n",
       " Data(x=[10, 5], edge_index=[2, 38], features=[10, 2], weight=[38], momentum=0.11277520656585693),\n",
       " Data(x=[10, 5], edge_index=[2, 38], features=[10, 2], weight=[38], momentum=0.11535535007715225),\n",
       " Data(x=[10, 5], edge_index=[2, 35], features=[10, 2], weight=[35], momentum=0.0907256230711937),\n",
       " Data(x=[10, 5], edge_index=[2, 39], features=[10, 2], weight=[39], momentum=0.006965930107980967),\n",
       " Data(x=[11, 5], edge_index=[2, 30], features=[11, 2], weight=[30], momentum=0.02122160978615284),\n",
       " Data(x=[9, 5], edge_index=[2, 20], features=[9, 2], weight=[20], momentum=-0.091770701110363),\n",
       " Data(x=[11, 5], edge_index=[2, 32], features=[11, 2], weight=[32], momentum=0.09081424027681351),\n",
       " Data(x=[11, 5], edge_index=[2, 32], features=[11, 2], weight=[32], momentum=-0.0421135313808918),\n",
       " Data(x=[8, 5], edge_index=[2, 9], features=[8, 2], weight=[9], momentum=0.015737639740109444),\n",
       " Data(x=[11, 5], edge_index=[2, 23], features=[11, 2], weight=[23], momentum=0.044007159769535065),\n",
       " Data(x=[11, 5], edge_index=[2, 21], features=[11, 2], weight=[21], momentum=0.09313900768756866),\n",
       " Data(x=[10, 5], edge_index=[2, 26], features=[10, 2], weight=[26], momentum=0.04804379120469093),\n",
       " Data(x=[11, 5], edge_index=[2, 28], features=[11, 2], weight=[28], momentum=0.12985196709632874),\n",
       " Data(x=[10, 5], edge_index=[2, 28], features=[10, 2], weight=[28], momentum=0.08458573371171951),\n",
       " Data(x=[10, 5], edge_index=[2, 19], features=[10, 2], weight=[19], momentum=0.26877808570861816),\n",
       " Data(x=[9, 5], edge_index=[2, 37], features=[9, 2], weight=[37], momentum=0.05919048935174942),\n",
       " Data(x=[11, 5], edge_index=[2, 31], features=[11, 2], weight=[31], momentum=0.24810537695884705),\n",
       " Data(x=[10, 5], edge_index=[2, 39], features=[10, 2], weight=[39], momentum=0.12324637919664383),\n",
       " Data(x=[10, 5], edge_index=[2, 29], features=[10, 2], weight=[29], momentum=-0.12403140217065811),\n",
       " Data(x=[10, 5], edge_index=[2, 12], features=[10, 2], weight=[12], momentum=0.1655586063861847),\n",
       " Data(x=[9, 5], edge_index=[2, 36], features=[9, 2], weight=[36], momentum=0.1443900465965271),\n",
       " Data(x=[11, 5], edge_index=[2, 38], features=[11, 2], weight=[38], momentum=0.07602620869874954),\n",
       " Data(x=[11, 5], edge_index=[2, 35], features=[11, 2], weight=[35], momentum=0.13165724277496338),\n",
       " Data(x=[9, 5], edge_index=[2, 28], features=[9, 2], weight=[28], momentum=0.16227926313877106),\n",
       " Data(x=[10, 5], edge_index=[2, 27], features=[10, 2], weight=[27], momentum=0.04865993931889534),\n",
       " Data(x=[9, 5], edge_index=[2, 20], features=[9, 2], weight=[20], momentum=0.1629708707332611),\n",
       " Data(x=[10, 5], edge_index=[2, 32], features=[10, 2], weight=[32], momentum=0.13484282791614532),\n",
       " Data(x=[14, 5], edge_index=[2, 27], features=[14, 2], weight=[27], momentum=0.037761710584163666),\n",
       " Data(x=[10, 5], edge_index=[2, 22], features=[10, 2], weight=[22], momentum=0.10630670934915543),\n",
       " Data(x=[11, 5], edge_index=[2, 26], features=[11, 2], weight=[26], momentum=0.15122239291667938),\n",
       " Data(x=[10, 5], edge_index=[2, 27], features=[10, 2], weight=[27], momentum=0.1268257349729538),\n",
       " Data(x=[9, 5], edge_index=[2, 35], features=[9, 2], weight=[35], momentum=0.015438930131494999),\n",
       " Data(x=[9, 5], edge_index=[2, 24], features=[9, 2], weight=[24], momentum=0.07471016049385071),\n",
       " Data(x=[11, 5], edge_index=[2, 29], features=[11, 2], weight=[29], momentum=0.029012400656938553),\n",
       " Data(x=[11, 5], edge_index=[2, 26], features=[11, 2], weight=[26], momentum=0.01676812954246998),\n",
       " Data(x=[11, 5], edge_index=[2, 28], features=[11, 2], weight=[28], momentum=0.13033969700336456),\n",
       " Data(x=[11, 5], edge_index=[2, 32], features=[11, 2], weight=[32], momentum=0.0400896817445755),\n",
       " Data(x=[11, 5], edge_index=[2, 20], features=[11, 2], weight=[20], momentum=0.12268134206533432),\n",
       " Data(x=[11, 5], edge_index=[2, 17], features=[11, 2], weight=[17], momentum=0.004121339879930019),\n",
       " Data(x=[11, 5], edge_index=[2, 23], features=[11, 2], weight=[23], momentum=-0.07839276641607285),\n",
       " Data(x=[11, 5], edge_index=[2, 29], features=[11, 2], weight=[29], momentum=0.137210875749588),\n",
       " Data(x=[10, 5], edge_index=[2, 29], features=[10, 2], weight=[29], momentum=-0.03520030155777931),\n",
       " Data(x=[10, 5], edge_index=[2, 26], features=[10, 2], weight=[26], momentum=0.11052204668521881),\n",
       " Data(x=[11, 5], edge_index=[2, 42], features=[11, 2], weight=[42], momentum=0.03093210980296135),\n",
       " Data(x=[13, 5], edge_index=[2, 20], features=[13, 2], weight=[20], momentum=-0.025430290028452873),\n",
       " Data(x=[11, 5], edge_index=[2, 25], features=[11, 2], weight=[25], momentum=0.026219619438052177),\n",
       " Data(x=[10, 5], edge_index=[2, 20], features=[10, 2], weight=[20], momentum=-0.04475538060069084),\n",
       " Data(x=[11, 5], edge_index=[2, 28], features=[11, 2], weight=[28], momentum=0.12105488777160645),\n",
       " Data(x=[11, 5], edge_index=[2, 36], features=[11, 2], weight=[36], momentum=0.10656099021434784),\n",
       " Data(x=[11, 5], edge_index=[2, 42], features=[11, 2], weight=[42], momentum=0.06176954135298729),\n",
       " Data(x=[11, 5], edge_index=[2, 39], features=[11, 2], weight=[39], momentum=0.10759670287370682),\n",
       " Data(x=[11, 5], edge_index=[2, 36], features=[11, 2], weight=[36], momentum=0.1263573169708252),\n",
       " Data(x=[10, 5], edge_index=[2, 32], features=[10, 2], weight=[32], momentum=0.040747079998254776),\n",
       " Data(x=[10, 5], edge_index=[2, 21], features=[10, 2], weight=[21], momentum=0.06772877275943756),\n",
       " Data(x=[11, 5], edge_index=[2, 29], features=[11, 2], weight=[29], momentum=0.06299181282520294),\n",
       " Data(x=[10, 5], edge_index=[2, 26], features=[10, 2], weight=[26], momentum=0.0464835986495018),\n",
       " Data(x=[11, 5], edge_index=[2, 23], features=[11, 2], weight=[23], momentum=0.12904824316501617),\n",
       " Data(x=[10, 5], edge_index=[2, 32], features=[10, 2], weight=[32], momentum=0.05886206030845642),\n",
       " Data(x=[11, 5], edge_index=[2, 28], features=[11, 2], weight=[28], momentum=-0.08074136823415756),\n",
       " Data(x=[9, 5], edge_index=[2, 14], features=[9, 2], weight=[14], momentum=0.08450321108102798),\n",
       " Data(x=[10, 5], edge_index=[2, 28], features=[10, 2], weight=[28], momentum=0.11590953916311264),\n",
       " Data(x=[11, 5], edge_index=[2, 37], features=[11, 2], weight=[37], momentum=0.049853529781103134),\n",
       " Data(x=[11, 5], edge_index=[2, 35], features=[11, 2], weight=[35], momentum=0.07490160316228867),\n",
       " Data(x=[11, 5], edge_index=[2, 35], features=[11, 2], weight=[35], momentum=0.06581208109855652),\n",
       " Data(x=[10, 5], edge_index=[2, 32], features=[10, 2], weight=[32], momentum=0.23232001066207886),\n",
       " Data(x=[10, 5], edge_index=[2, 42], features=[10, 2], weight=[42], momentum=0.037504009902477264),\n",
       " Data(x=[9, 5], edge_index=[2, 24], features=[9, 2], weight=[24], momentum=-0.012350610457360744),\n",
       " Data(x=[8, 5], edge_index=[2, 13], features=[8, 2], weight=[13], momentum=0.16171899437904358),\n",
       " Data(x=[11, 5], edge_index=[2, 33], features=[11, 2], weight=[33], momentum=0.20384635031223297),\n",
       " Data(x=[10, 5], edge_index=[2, 38], features=[10, 2], weight=[38], momentum=0.1684238463640213),\n",
       " Data(x=[10, 5], edge_index=[2, 41], features=[10, 2], weight=[41], momentum=0.02179132029414177),\n",
       " Data(x=[10, 5], edge_index=[2, 29], features=[10, 2], weight=[29], momentum=0.22706587612628937),\n",
       " Data(x=[9, 5], edge_index=[2, 34], features=[9, 2], weight=[34], momentum=0.3022257685661316),\n",
       " Data(x=[11, 5], edge_index=[2, 46], features=[11, 2], weight=[46], momentum=0.0769052505493164),\n",
       " Data(x=[9, 5], edge_index=[2, 29], features=[9, 2], weight=[29], momentum=0.0625125914812088),\n",
       " Data(x=[11, 5], edge_index=[2, 26], features=[11, 2], weight=[26], momentum=0.1612481027841568),\n",
       " Data(x=[10, 5], edge_index=[2, 35], features=[10, 2], weight=[35], momentum=0.16802115738391876),\n",
       " Data(x=[9, 5], edge_index=[2, 30], features=[9, 2], weight=[30], momentum=0.025323089212179184),\n",
       " Data(x=[11, 5], edge_index=[2, 28], features=[11, 2], weight=[28], momentum=-0.010086369700729847),\n",
       " Data(x=[11, 5], edge_index=[2, 31], features=[11, 2], weight=[31], momentum=0.14629265666007996),\n",
       " Data(x=[11, 5], edge_index=[2, 33], features=[11, 2], weight=[33], momentum=0.006955480203032494),\n",
       " Data(x=[10, 5], edge_index=[2, 33], features=[10, 2], weight=[33], momentum=0.002215760061517358),\n",
       " Data(x=[11, 5], edge_index=[2, 38], features=[11, 2], weight=[38], momentum=0.08429311960935593),\n",
       " Data(x=[11, 5], edge_index=[2, 33], features=[11, 2], weight=[33], momentum=0.006950269918888807),\n",
       " Data(x=[10, 5], edge_index=[2, 23], features=[10, 2], weight=[23], momentum=0.032587990164756775),\n",
       " Data(x=[10, 5], edge_index=[2, 27], features=[10, 2], weight=[27], momentum=0.09097225219011307),\n",
       " Data(x=[11, 5], edge_index=[2, 29], features=[11, 2], weight=[29], momentum=0.06439828872680664),\n",
       " Data(x=[11, 5], edge_index=[2, 37], features=[11, 2], weight=[37], momentum=-0.0020003500394523144),\n",
       " Data(x=[10, 5], edge_index=[2, 19], features=[10, 2], weight=[19], momentum=0.21922005712985992),\n",
       " Data(x=[10, 5], edge_index=[2, 42], features=[10, 2], weight=[42], momentum=0.037612851709127426),\n",
       " Data(x=[11, 5], edge_index=[2, 35], features=[11, 2], weight=[35], momentum=0.16798727214336395),\n",
       " Data(x=[10, 5], edge_index=[2, 31], features=[10, 2], weight=[31], momentum=-0.11116497218608856),\n",
       " Data(x=[10, 5], edge_index=[2, 16], features=[10, 2], weight=[16], momentum=0.028497280552983284),\n",
       " Data(x=[11, 5], edge_index=[2, 21], features=[11, 2], weight=[21], momentum=0.10031843930482864),\n",
       " Data(x=[11, 5], edge_index=[2, 30], features=[11, 2], weight=[30], momentum=0.096071757376194),\n",
       " Data(x=[10, 5], edge_index=[2, 36], features=[10, 2], weight=[36], momentum=0.05980478972196579),\n",
       " Data(x=[11, 5], edge_index=[2, 33], features=[11, 2], weight=[33], momentum=-0.012670829892158508),\n",
       " Data(x=[11, 5], edge_index=[2, 25], features=[11, 2], weight=[25], momentum=0.11679103225469589),\n",
       " Data(x=[11, 5], edge_index=[2, 37], features=[11, 2], weight=[37], momentum=-0.05433300882577896),\n",
       " Data(x=[10, 5], edge_index=[2, 18], features=[10, 2], weight=[18], momentum=0.055896591395139694),\n",
       " Data(x=[10, 5], edge_index=[2, 28], features=[10, 2], weight=[28], momentum=0.07619044929742813),\n",
       " Data(x=[10, 5], edge_index=[2, 29], features=[10, 2], weight=[29], momentum=0.12462428957223892),\n",
       " Data(x=[10, 5], edge_index=[2, 15], features=[10, 2], weight=[15], momentum=0.00865769013762474),\n",
       " Data(x=[11, 5], edge_index=[2, 25], features=[11, 2], weight=[25], momentum=-0.031821899116039276),\n",
       " Data(x=[11, 5], edge_index=[2, 17], features=[11, 2], weight=[17], momentum=-0.049246009439229965),\n",
       " Data(x=[7, 5], edge_index=[2, 6], features=[7, 2], weight=[6], momentum=0.06471007317304611),\n",
       " Data(x=[11, 5], edge_index=[2, 31], features=[11, 2], weight=[31], momentum=-0.10667987912893295),\n",
       " Data(x=[8, 5], edge_index=[2, 6], features=[8, 2], weight=[6], momentum=0.05002779886126518),\n",
       " Data(x=[10, 5], edge_index=[2, 26], features=[10, 2], weight=[26], momentum=-0.0887531116604805),\n",
       " Data(x=[10, 5], edge_index=[2, 14], features=[10, 2], weight=[14], momentum=-0.04703272134065628),\n",
       " Data(x=[11, 5], edge_index=[2, 34], features=[11, 2], weight=[34], momentum=0.1369752436876297),\n",
       " Data(x=[10, 5], edge_index=[2, 36], features=[10, 2], weight=[36], momentum=0.07746508717536926),\n",
       " Data(x=[9, 5], edge_index=[2, 22], features=[9, 2], weight=[22], momentum=0.18486252427101135),\n",
       " Data(x=[11, 5], edge_index=[2, 43], features=[11, 2], weight=[43], momentum=0.07749471813440323),\n",
       " Data(x=[11, 5], edge_index=[2, 34], features=[11, 2], weight=[34], momentum=0.04683211073279381),\n",
       " Data(x=[11, 5], edge_index=[2, 27], features=[11, 2], weight=[27], momentum=0.19575844705104828),\n",
       " Data(x=[11, 5], edge_index=[2, 35], features=[11, 2], weight=[35], momentum=0.13186953961849213),\n",
       " Data(x=[10, 5], edge_index=[2, 37], features=[10, 2], weight=[37], momentum=0.15536755323410034),\n",
       " Data(x=[11, 5], edge_index=[2, 34], features=[11, 2], weight=[34], momentum=0.10217168927192688),\n",
       " Data(x=[11, 5], edge_index=[2, 38], features=[11, 2], weight=[38], momentum=0.02474766969680786),\n",
       " Data(x=[8, 5], edge_index=[2, 17], features=[8, 2], weight=[17], momentum=-0.04269266873598099),\n",
       " Data(x=[9, 5], edge_index=[2, 19], features=[9, 2], weight=[19], momentum=0.044015251100063324),\n",
       " Data(x=[9, 5], edge_index=[2, 22], features=[9, 2], weight=[22], momentum=-0.05643792822957039),\n",
       " Data(x=[11, 5], edge_index=[2, 16], features=[11, 2], weight=[16], momentum=0.07917597889900208),\n",
       " Data(x=[11, 5], edge_index=[2, 37], features=[11, 2], weight=[37], momentum=-0.05860792100429535),\n",
       " Data(x=[10, 5], edge_index=[2, 15], features=[10, 2], weight=[15], momentum=-0.0660099908709526),\n",
       " Data(x=[11, 5], edge_index=[2, 29], features=[11, 2], weight=[29], momentum=-0.07312279939651489),\n",
       " Data(x=[9, 5], edge_index=[2, 14], features=[9, 2], weight=[14], momentum=0.16684024035930634),\n",
       " Data(x=[10, 5], edge_index=[2, 35], features=[10, 2], weight=[35], momentum=0.06667626649141312),\n",
       " Data(x=[10, 5], edge_index=[2, 36], features=[10, 2], weight=[36], momentum=0.08085860311985016),\n",
       " Data(x=[10, 5], edge_index=[2, 28], features=[10, 2], weight=[28], momentum=0.1706591546535492),\n",
       " Data(x=[11, 5], edge_index=[2, 44], features=[11, 2], weight=[44], momentum=0.09299223870038986),\n",
       " Data(x=[10, 5], edge_index=[2, 28], features=[10, 2], weight=[28], momentum=0.0496286116540432),\n",
       " Data(x=[11, 5], edge_index=[2, 30], features=[11, 2], weight=[30], momentum=0.042933110147714615),\n",
       " Data(x=[11, 5], edge_index=[2, 35], features=[11, 2], weight=[35], momentum=0.015098869800567627),\n",
       " Data(x=[10, 5], edge_index=[2, 32], features=[10, 2], weight=[32], momentum=0.17858600616455078),\n",
       " Data(x=[11, 5], edge_index=[2, 41], features=[11, 2], weight=[41], momentum=0.07138773053884506),\n",
       " Data(x=[11, 5], edge_index=[2, 28], features=[11, 2], weight=[28], momentum=0.0003296899958513677),\n",
       " Data(x=[9, 5], edge_index=[2, 15], features=[9, 2], weight=[15], momentum=0.028214899823069572),\n",
       " Data(x=[11, 5], edge_index=[2, 29], features=[11, 2], weight=[29], momentum=0.002411559922620654),\n",
       " Data(x=[10, 5], edge_index=[2, 25], features=[10, 2], weight=[25], momentum=0.0600496381521225),\n",
       " Data(x=[10, 5], edge_index=[2, 32], features=[10, 2], weight=[32], momentum=0.03182346001267433),\n",
       " Data(x=[10, 5], edge_index=[2, 23], features=[10, 2], weight=[23], momentum=-0.08345068991184235),\n",
       " Data(x=[7, 5], edge_index=[2, 7], features=[7, 2], weight=[7], momentum=-0.009708249941468239),\n",
       " Data(x=[10, 5], edge_index=[2, 23], features=[10, 2], weight=[23], momentum=-0.152904212474823),\n",
       " Data(x=[11, 5], edge_index=[2, 18], features=[11, 2], weight=[18], momentum=0.10881117731332779),\n",
       " Data(x=[11, 5], edge_index=[2, 32], features=[11, 2], weight=[32], momentum=-0.03469948098063469),\n",
       " Data(x=[9, 5], edge_index=[2, 19], features=[9, 2], weight=[19], momentum=0.06520786881446838),\n",
       " Data(x=[9, 5], edge_index=[2, 17], features=[9, 2], weight=[17], momentum=0.046173520386219025),\n",
       " Data(x=[11, 5], edge_index=[2, 37], features=[11, 2], weight=[37], momentum=-0.06537622958421707),\n",
       " Data(x=[9, 5], edge_index=[2, 25], features=[9, 2], weight=[25], momentum=-0.07462485879659653),\n",
       " Data(x=[10, 5], edge_index=[2, 19], features=[10, 2], weight=[19], momentum=0.0538078211247921),\n",
       " Data(x=[10, 5], edge_index=[2, 38], features=[10, 2], weight=[38], momentum=-0.061544980853796005),\n",
       " Data(x=[10, 5], edge_index=[2, 19], features=[10, 2], weight=[19], momentum=0.05990147963166237),\n",
       " Data(x=[11, 5], edge_index=[2, 28], features=[11, 2], weight=[28], momentum=0.01442463044077158),\n",
       " Data(x=[11, 5], edge_index=[2, 28], features=[11, 2], weight=[28], momentum=-0.01980145089328289),\n",
       " Data(x=[11, 5], edge_index=[2, 26], features=[11, 2], weight=[26], momentum=-0.08740057051181793),\n",
       " Data(x=[11, 5], edge_index=[2, 23], features=[11, 2], weight=[23], momentum=0.03485152870416641),\n",
       " Data(x=[11, 5], edge_index=[2, 40], features=[11, 2], weight=[40], momentum=0.09867431968450546),\n",
       " Data(x=[11, 5], edge_index=[2, 40], features=[11, 2], weight=[40], momentum=0.09632527828216553),\n",
       " Data(x=[11, 5], edge_index=[2, 36], features=[11, 2], weight=[36], momentum=0.0601266585290432),\n",
       " Data(x=[10, 5], edge_index=[2, 20], features=[10, 2], weight=[20], momentum=0.03583772853016853),\n",
       " Data(x=[11, 5], edge_index=[2, 30], features=[11, 2], weight=[30], momentum=0.06804745644330978),\n",
       " Data(x=[10, 5], edge_index=[2, 27], features=[10, 2], weight=[27], momentum=0.0362556017935276),\n",
       " Data(x=[11, 5], edge_index=[2, 35], features=[11, 2], weight=[35], momentum=0.11086767166852951),\n",
       " Data(x=[11, 5], edge_index=[2, 37], features=[11, 2], weight=[37], momentum=0.04064653068780899),\n",
       " Data(x=[11, 5], edge_index=[2, 34], features=[11, 2], weight=[34], momentum=-0.1092144027352333),\n",
       " Data(x=[11, 5], edge_index=[2, 31], features=[11, 2], weight=[31], momentum=0.0976463109254837),\n",
       " Data(x=[10, 5], edge_index=[2, 29], features=[10, 2], weight=[29], momentum=0.0778721421957016),\n",
       " Data(x=[11, 5], edge_index=[2, 33], features=[11, 2], weight=[33], momentum=0.08371873944997787),\n",
       " Data(x=[10, 5], edge_index=[2, 38], features=[10, 2], weight=[38], momentum=-0.017986740916967392),\n",
       " Data(x=[10, 5], edge_index=[2, 18], features=[10, 2], weight=[18], momentum=0.018664909526705742),\n",
       " Data(x=[11, 5], edge_index=[2, 31], features=[11, 2], weight=[31], momentum=-0.022917699068784714),\n",
       " Data(x=[10, 5], edge_index=[2, 16], features=[10, 2], weight=[16], momentum=0.05001981928944588),\n",
       " Data(x=[10, 5], edge_index=[2, 45], features=[10, 2], weight=[45], momentum=0.08127515017986298),\n",
       " Data(x=[11, 5], edge_index=[2, 29], features=[11, 2], weight=[29], momentum=0.2039143294095993),\n",
       " Data(x=[10, 5], edge_index=[2, 45], features=[10, 2], weight=[45], momentum=0.011194569990038872),\n",
       " Data(x=[11, 5], edge_index=[2, 41], features=[11, 2], weight=[41], momentum=0.09052193909883499),\n",
       " Data(x=[11, 5], edge_index=[2, 31], features=[11, 2], weight=[31], momentum=0.08316770941019058),\n",
       " Data(x=[11, 5], edge_index=[2, 35], features=[11, 2], weight=[35], momentum=0.06664159893989563),\n",
       " Data(x=[10, 5], edge_index=[2, 26], features=[10, 2], weight=[26], momentum=-0.01272789016366005),\n",
       " Data(x=[9, 5], edge_index=[2, 14], features=[9, 2], weight=[14], momentum=0.10182187706232071),\n",
       " Data(x=[11, 5], edge_index=[2, 40], features=[11, 2], weight=[40], momentum=0.18026314675807953),\n",
       " Data(x=[11, 5], edge_index=[2, 48], features=[11, 2], weight=[48], momentum=0.09182863682508469),\n",
       " Data(x=[11, 5], edge_index=[2, 38], features=[11, 2], weight=[38], momentum=0.18228377401828766),\n",
       " Data(x=[10, 5], edge_index=[2, 35], features=[10, 2], weight=[35], momentum=-0.05228571966290474),\n",
       " Data(x=[10, 5], edge_index=[2, 25], features=[10, 2], weight=[25], momentum=0.04429664835333824),\n",
       " Data(x=[9, 5], edge_index=[2, 15], features=[9, 2], weight=[15], momentum=-0.0900195837020874),\n",
       " Data(x=[8, 5], edge_index=[2, 16], features=[8, 2], weight=[16], momentum=-0.01949078030884266),\n",
       " Data(x=[9, 5], edge_index=[2, 10], features=[9, 2], weight=[10], momentum=0.021199919283390045),\n",
       " Data(x=[11, 5], edge_index=[2, 35], features=[11, 2], weight=[35], momentum=0.04665084928274155),\n",
       " Data(x=[9, 5], edge_index=[2, 21], features=[9, 2], weight=[21], momentum=-0.07851625233888626),\n",
       " Data(x=[9, 5], edge_index=[2, 22], features=[9, 2], weight=[22], momentum=0.037880588322877884),\n",
       " Data(x=[9, 5], edge_index=[2, 26], features=[9, 2], weight=[26], momentum=-0.0881410464644432),\n",
       " Data(x=[7, 5], edge_index=[2, 10], features=[7, 2], weight=[10], momentum=0.03342096135020256),\n",
       " Data(x=[10, 5], edge_index=[2, 23], features=[10, 2], weight=[23], momentum=0.0055222599767148495),\n",
       " Data(x=[11, 5], edge_index=[2, 19], features=[11, 2], weight=[19], momentum=-0.07884839922189713),\n",
       " Data(x=[11, 5], edge_index=[2, 14], features=[11, 2], weight=[14], momentum=0.003388139884918928),\n",
       " Data(x=[11, 5], edge_index=[2, 24], features=[11, 2], weight=[24], momentum=0.0232238806784153),\n",
       " Data(x=[10, 5], edge_index=[2, 29], features=[10, 2], weight=[29], momentum=-0.06894422322511673),\n",
       " Data(x=[9, 5], edge_index=[2, 10], features=[9, 2], weight=[10], momentum=0.088084876537323),\n",
       " Data(x=[8, 5], edge_index=[2, 20], features=[8, 2], weight=[20], momentum=0.053385309875011444),\n",
       " Data(x=[10, 5], edge_index=[2, 12], features=[10, 2], weight=[12], momentum=-0.04172084853053093),\n",
       " Data(x=[9, 5], edge_index=[2, 11], features=[9, 2], weight=[11], momentum=0.01396854966878891),\n",
       " Data(x=[11, 5], edge_index=[2, 25], features=[11, 2], weight=[25], momentum=0.057426951825618744),\n",
       " Data(x=[10, 5], edge_index=[2, 27], features=[10, 2], weight=[27], momentum=0.001023579970933497),\n",
       " Data(x=[10, 5], edge_index=[2, 40], features=[10, 2], weight=[40], momentum=0.10082534700632095),\n",
       " Data(x=[10, 5], edge_index=[2, 24], features=[10, 2], weight=[24], momentum=0.13613252341747284),\n",
       " Data(x=[11, 5], edge_index=[2, 31], features=[11, 2], weight=[31], momentum=0.0816805511713028),\n",
       " Data(x=[11, 5], edge_index=[2, 41], features=[11, 2], weight=[41], momentum=-0.03383791074156761),\n",
       " Data(x=[10, 5], edge_index=[2, 22], features=[10, 2], weight=[22], momentum=0.14550426602363586),\n",
       " Data(x=[9, 5], edge_index=[2, 23], features=[9, 2], weight=[23], momentum=0.04267796128988266),\n",
       " Data(x=[11, 5], edge_index=[2, 27], features=[11, 2], weight=[27], momentum=-0.0022401900496333838),\n",
       " Data(x=[8, 5], edge_index=[2, 9], features=[8, 2], weight=[9], momentum=0.05915413051843643),\n",
       " Data(x=[11, 5], edge_index=[2, 22], features=[11, 2], weight=[22], momentum=-0.0522790290415287),\n",
       " Data(x=[7, 5], edge_index=[2, 10], features=[7, 2], weight=[10], momentum=-0.05159410089254379),\n",
       " Data(x=[6, 5], edge_index=[2, 7], features=[6, 2], weight=[7], momentum=-0.03393179178237915),\n",
       " Data(x=[11, 5], edge_index=[2, 23], features=[11, 2], weight=[23], momentum=0.0856395736336708),\n",
       " Data(x=[10, 5], edge_index=[2, 24], features=[10, 2], weight=[24], momentum=0.03875897079706192),\n",
       " Data(x=[10, 5], edge_index=[2, 16], features=[10, 2], weight=[16], momentum=0.08374927937984467),\n",
       " Data(x=[11, 5], edge_index=[2, 21], features=[11, 2], weight=[21], momentum=-0.031988661736249924),\n",
       " Data(x=[12, 5], edge_index=[2, 14], features=[12, 2], weight=[14], momentum=-0.0313391387462616),\n",
       " Data(x=[11, 5], edge_index=[2, 42], features=[11, 2], weight=[42], momentum=0.2610414922237396),\n",
       " Data(x=[11, 5], edge_index=[2, 36], features=[11, 2], weight=[36], momentum=-0.009514969773590565),\n",
       " Data(x=[9, 5], edge_index=[2, 16], features=[9, 2], weight=[16], momentum=0.0678812563419342),\n",
       " Data(x=[10, 5], edge_index=[2, 19], features=[10, 2], weight=[19], momentum=0.13194933533668518),\n",
       " Data(x=[10, 5], edge_index=[2, 24], features=[10, 2], weight=[24], momentum=0.10543055087327957),\n",
       " Data(x=[10, 5], edge_index=[2, 29], features=[10, 2], weight=[29], momentum=0.1022217720746994),\n",
       " Data(x=[11, 5], edge_index=[2, 32], features=[11, 2], weight=[32], momentum=0.1376059353351593),\n",
       " Data(x=[11, 5], edge_index=[2, 35], features=[11, 2], weight=[35], momentum=0.13116194307804108),\n",
       " Data(x=[11, 5], edge_index=[2, 32], features=[11, 2], weight=[32], momentum=0.11770430952310562),\n",
       " Data(x=[10, 5], edge_index=[2, 33], features=[10, 2], weight=[33], momentum=0.08741624653339386),\n",
       " Data(x=[11, 5], edge_index=[2, 30], features=[11, 2], weight=[30], momentum=0.05152285099029541),\n",
       " Data(x=[11, 5], edge_index=[2, 24], features=[11, 2], weight=[24], momentum=0.08499816805124283),\n",
       " Data(x=[14, 5], edge_index=[2, 23], features=[14, 2], weight=[23], momentum=0.1846616566181183),\n",
       " Data(x=[10, 5], edge_index=[2, 32], features=[10, 2], weight=[32], momentum=0.10031338036060333),\n",
       " Data(x=[11, 5], edge_index=[2, 33], features=[11, 2], weight=[33], momentum=0.26884397864341736),\n",
       " Data(x=[10, 5], edge_index=[2, 40], features=[10, 2], weight=[40], momentum=0.09467621892690659),\n",
       " Data(x=[11, 5], edge_index=[2, 30], features=[11, 2], weight=[30], momentum=0.16614751517772675),\n",
       " Data(x=[11, 5], edge_index=[2, 38], features=[11, 2], weight=[38], momentum=0.012749839574098587),\n",
       " Data(x=[11, 5], edge_index=[2, 18], features=[11, 2], weight=[18], momentum=0.09445515275001526),\n",
       " Data(x=[11, 5], edge_index=[2, 29], features=[11, 2], weight=[29], momentum=-0.013450689613819122),\n",
       " Data(x=[11, 5], edge_index=[2, 23], features=[11, 2], weight=[23], momentum=0.05568351969122887),\n",
       " Data(x=[11, 5], edge_index=[2, 28], features=[11, 2], weight=[28], momentum=0.020373739302158356),\n",
       " Data(x=[9, 5], edge_index=[2, 19], features=[9, 2], weight=[19], momentum=0.05328638106584549),\n",
       " Data(x=[11, 5], edge_index=[2, 27], features=[11, 2], weight=[27], momentum=0.0462845116853714),\n",
       " Data(x=[11, 5], edge_index=[2, 38], features=[11, 2], weight=[38], momentum=-0.0666503980755806),\n",
       " Data(x=[11, 5], edge_index=[2, 19], features=[11, 2], weight=[19], momentum=0.010304169729351997),\n",
       " Data(x=[11, 5], edge_index=[2, 31], features=[11, 2], weight=[31], momentum=-0.020774539560079575),\n",
       " Data(x=[10, 5], edge_index=[2, 11], features=[10, 2], weight=[11], momentum=0.024267099797725677),\n",
       " Data(x=[11, 5], edge_index=[2, 28], features=[11, 2], weight=[28], momentum=0.1317557990550995),\n",
       " Data(x=[11, 5], edge_index=[2, 35], features=[11, 2], weight=[35], momentum=-0.0015623399522155523),\n",
       " Data(x=[11, 5], edge_index=[2, 24], features=[11, 2], weight=[24], momentum=-0.06732255220413208),\n",
       " Data(x=[9, 5], edge_index=[2, 21], features=[9, 2], weight=[21], momentum=-0.033059149980545044),\n",
       " Data(x=[11, 5], edge_index=[2, 18], features=[11, 2], weight=[18], momentum=-0.10305699706077576),\n",
       " Data(x=[10, 5], edge_index=[2, 24], features=[10, 2], weight=[24], momentum=0.029819920659065247),\n",
       " Data(x=[11, 5], edge_index=[2, 31], features=[11, 2], weight=[31], momentum=-0.02660869061946869),\n",
       " Data(x=[10, 5], edge_index=[2, 21], features=[10, 2], weight=[21], momentum=0.04376862943172455),\n",
       " Data(x=[8, 5], edge_index=[2, 20], features=[8, 2], weight=[20], momentum=-0.11826053261756897),\n",
       " Data(x=[10, 5], edge_index=[2, 13], features=[10, 2], weight=[13], momentum=0.015164489857852459),\n",
       " Data(x=[11, 5], edge_index=[2, 14], features=[11, 2], weight=[14], momentum=0.07119003683328629),\n",
       " Data(x=[11, 5], edge_index=[2, 38], features=[11, 2], weight=[38], momentum=0.010353869758546352),\n",
       " Data(x=[8, 5], edge_index=[2, 12], features=[8, 2], weight=[12], momentum=-0.023922789841890335),\n",
       " Data(x=[11, 5], edge_index=[2, 18], features=[11, 2], weight=[18], momentum=-0.026026640087366104),\n",
       " Data(x=[11, 5], edge_index=[2, 25], features=[11, 2], weight=[25], momentum=-0.032540760934352875),\n",
       " Data(x=[10, 5], edge_index=[2, 19], features=[10, 2], weight=[19], momentum=-0.20924830436706543),\n",
       " Data(x=[9, 5], edge_index=[2, 9], features=[9, 2], weight=[9], momentum=-0.018393119797110558),\n",
       " Data(x=[11, 5], edge_index=[2, 28], features=[11, 2], weight=[28], momentum=-0.10684476792812347),\n",
       " Data(x=[7, 5], edge_index=[2, 9], features=[7, 2], weight=[9], momentum=-0.12757429480552673),\n",
       " Data(x=[2, 5], edge_index=[2, 1], features=[2, 2], weight=[1], momentum=-0.01411846000701189),\n",
       " Data(x=[10, 5], edge_index=[2, 44], features=[10, 2], weight=[44], momentum=0.21076691150665283),\n",
       " Data(x=[10, 5], edge_index=[2, 48], features=[10, 2], weight=[48], momentum=0.22843191027641296),\n",
       " Data(x=[11, 5], edge_index=[2, 48], features=[11, 2], weight=[48], momentum=0.05289003998041153),\n",
       " Data(x=[10, 5], edge_index=[2, 28], features=[10, 2], weight=[28], momentum=0.08736590296030045),\n",
       " Data(x=[11, 5], edge_index=[2, 36], features=[11, 2], weight=[36], momentum=0.04827754944562912),\n",
       " Data(x=[10, 5], edge_index=[2, 30], features=[10, 2], weight=[30], momentum=0.02196577936410904),\n",
       " Data(x=[10, 5], edge_index=[2, 24], features=[10, 2], weight=[24], momentum=0.016917189583182335),\n",
       " Data(x=[10, 5], edge_index=[2, 30], features=[10, 2], weight=[30], momentum=0.141757071018219),\n",
       " Data(x=[10, 5], edge_index=[2, 30], features=[10, 2], weight=[30], momentum=0.12565861642360687),\n",
       " Data(x=[10, 5], edge_index=[2, 29], features=[10, 2], weight=[29], momentum=0.16131587326526642),\n",
       " Data(x=[11, 5], edge_index=[2, 36], features=[11, 2], weight=[36], momentum=0.22667552530765533),\n",
       " Data(x=[11, 5], edge_index=[2, 47], features=[11, 2], weight=[47], momentum=0.05968179926276207),\n",
       " Data(x=[10, 5], edge_index=[2, 16], features=[10, 2], weight=[16], momentum=0.0952301099896431),\n",
       " Data(x=[10, 5], edge_index=[2, 26], features=[10, 2], weight=[26], momentum=0.18476976454257965),\n",
       " Data(x=[11, 5], edge_index=[2, 32], features=[11, 2], weight=[32], momentum=0.26997053623199463),\n",
       " Data(x=[11, 5], edge_index=[2, 41], features=[11, 2], weight=[41], momentum=0.16065633296966553),\n",
       " Data(x=[9, 5], edge_index=[2, 13], features=[9, 2], weight=[13], momentum=-6.103000123403035e-05),\n",
       " Data(x=[9, 5], edge_index=[2, 15], features=[9, 2], weight=[15], momentum=-0.083941750228405),\n",
       " Data(x=[9, 5], edge_index=[2, 17], features=[9, 2], weight=[17], momentum=0.04882311820983887),\n",
       " Data(x=[11, 5], edge_index=[2, 30], features=[11, 2], weight=[30], momentum=-0.1044093519449234),\n",
       " Data(x=[8, 5], edge_index=[2, 10], features=[8, 2], weight=[10], momentum=0.06025601923465729),\n",
       " Data(x=[10, 5], edge_index=[2, 32], features=[10, 2], weight=[32], momentum=0.06575479358434677),\n",
       " Data(x=[10, 5], edge_index=[2, 31], features=[10, 2], weight=[31], momentum=0.05827165022492409),\n",
       " Data(x=[10, 5], edge_index=[2, 31], features=[10, 2], weight=[31], momentum=0.0030826800502836704),\n",
       " Data(x=[11, 5], edge_index=[2, 26], features=[11, 2], weight=[26], momentum=0.10990917682647705),\n",
       " Data(x=[10, 5], edge_index=[2, 33], features=[10, 2], weight=[33], momentum=0.08098489791154861),\n",
       " Data(x=[10, 5], edge_index=[2, 37], features=[10, 2], weight=[37], momentum=-0.003776140045374632),\n",
       " Data(x=[11, 5], edge_index=[2, 18], features=[11, 2], weight=[18], momentum=0.08811800926923752),\n",
       " Data(x=[10, 5], edge_index=[2, 19], features=[10, 2], weight=[19], momentum=0.07282804697751999),\n",
       " Data(x=[11, 5], edge_index=[2, 27], features=[11, 2], weight=[27], momentum=0.11950193345546722),\n",
       " Data(x=[11, 5], edge_index=[2, 42], features=[11, 2], weight=[42], momentum=0.13785630464553833),\n",
       " Data(x=[10, 5], edge_index=[2, 26], features=[10, 2], weight=[26], momentum=-0.07553890347480774),\n",
       " Data(x=[10, 5], edge_index=[2, 40], features=[10, 2], weight=[40], momentum=0.05175194889307022),\n",
       " Data(x=[10, 5], edge_index=[2, 27], features=[10, 2], weight=[27], momentum=0.08622342348098755),\n",
       " Data(x=[10, 5], edge_index=[2, 29], features=[10, 2], weight=[29], momentum=0.17125758528709412),\n",
       " Data(x=[11, 5], edge_index=[2, 31], features=[11, 2], weight=[31], momentum=-0.09641586989164352),\n",
       " Data(x=[11, 5], edge_index=[2, 26], features=[11, 2], weight=[26], momentum=0.15131430327892303),\n",
       " Data(x=[11, 5], edge_index=[2, 35], features=[11, 2], weight=[35], momentum=0.0880369022488594),\n",
       " Data(x=[11, 5], edge_index=[2, 22], features=[11, 2], weight=[22], momentum=0.1553722321987152),\n",
       " Data(x=[11, 5], edge_index=[2, 30], features=[11, 2], weight=[30], momentum=0.02809962071478367),\n",
       " Data(x=[11, 5], edge_index=[2, 29], features=[11, 2], weight=[29], momentum=0.07939641177654266),\n",
       " Data(x=[9, 5], edge_index=[2, 28], features=[9, 2], weight=[28], momentum=0.18611760437488556),\n",
       " Data(x=[10, 5], edge_index=[2, 32], features=[10, 2], weight=[32], momentum=0.08971956372261047),\n",
       " Data(x=[11, 5], edge_index=[2, 32], features=[11, 2], weight=[32], momentum=0.09550075232982635),\n",
       " Data(x=[10, 5], edge_index=[2, 26], features=[10, 2], weight=[26], momentum=0.13440489768981934),\n",
       " Data(x=[10, 5], edge_index=[2, 34], features=[10, 2], weight=[34], momentum=0.03422991931438446),\n",
       " Data(x=[11, 5], edge_index=[2, 31], features=[11, 2], weight=[31], momentum=0.1721174567937851),\n",
       " Data(x=[11, 5], edge_index=[2, 39], features=[11, 2], weight=[39], momentum=0.11392536014318466),\n",
       " Data(x=[5, 5], edge_index=[2, 5], features=[5, 2], weight=[5], momentum=-0.04013175889849663),\n",
       " Data(x=[11, 5], edge_index=[2, 28], features=[11, 2], weight=[28], momentum=0.03214646875858307),\n",
       " Data(x=[9, 5], edge_index=[2, 15], features=[9, 2], weight=[15], momentum=0.031745199114084244),\n",
       " Data(x=[11, 5], edge_index=[2, 29], features=[11, 2], weight=[29], momentum=0.02793884091079235),\n",
       " Data(x=[11, 5], edge_index=[2, 23], features=[11, 2], weight=[23], momentum=0.029209919273853302),\n",
       " Data(x=[10, 5], edge_index=[2, 23], features=[10, 2], weight=[23], momentum=0.03655875846743584),\n",
       " Data(x=[11, 5], edge_index=[2, 21], features=[11, 2], weight=[21], momentum=0.1555507928133011),\n",
       " Data(x=[11, 5], edge_index=[2, 52], features=[11, 2], weight=[52], momentum=0.08986546099185944),\n",
       " Data(x=[11, 5], edge_index=[2, 38], features=[11, 2], weight=[38], momentum=0.023843539878726006),\n",
       " Data(x=[11, 5], edge_index=[2, 28], features=[11, 2], weight=[28], momentum=0.1972292810678482),\n",
       " Data(x=[11, 5], edge_index=[2, 51], features=[11, 2], weight=[51], momentum=-0.026287900283932686),\n",
       " Data(x=[10, 5], edge_index=[2, 20], features=[10, 2], weight=[20], momentum=0.11065755784511566),\n",
       " Data(x=[11, 5], edge_index=[2, 34], features=[11, 2], weight=[34], momentum=-0.04157542064785957),\n",
       " Data(x=[11, 5], edge_index=[2, 31], features=[11, 2], weight=[31], momentum=0.11011849343776703),\n",
       " Data(x=[10, 5], edge_index=[2, 37], features=[10, 2], weight=[37], momentum=0.11321301758289337),\n",
       " Data(x=[11, 5], edge_index=[2, 34], features=[11, 2], weight=[34], momentum=0.01883414015173912),\n",
       " Data(x=[11, 5], edge_index=[2, 15], features=[11, 2], weight=[15], momentum=0.016931340098381042),\n",
       " Data(x=[9, 5], edge_index=[2, 16], features=[9, 2], weight=[16], momentum=-0.08649013191461563),\n",
       " Data(x=[11, 5], edge_index=[2, 20], features=[11, 2], weight=[20], momentum=0.048714861273765564),\n",
       " Data(x=[11, 5], edge_index=[2, 34], features=[11, 2], weight=[34], momentum=0.10935699194669724),\n",
       " Data(x=[10, 5], edge_index=[2, 26], features=[10, 2], weight=[26], momentum=0.02489778958261013),\n",
       " Data(x=[9, 5], edge_index=[2, 10], features=[9, 2], weight=[10], momentum=-0.018138770014047623),\n",
       " Data(x=[9, 5], edge_index=[2, 14], features=[9, 2], weight=[14], momentum=-0.1606406569480896),\n",
       " Data(x=[8, 5], edge_index=[2, 14], features=[8, 2], weight=[14], momentum=0.01356516033411026),\n",
       " Data(x=[11, 5], edge_index=[2, 21], features=[11, 2], weight=[21], momentum=0.07050678879022598),\n",
       " Data(x=[11, 5], edge_index=[2, 40], features=[11, 2], weight=[40], momentum=0.12126631289720535),\n",
       " Data(x=[10, 5], edge_index=[2, 30], features=[10, 2], weight=[30], momentum=0.047366511076688766),\n",
       " Data(x=[11, 5], edge_index=[2, 24], features=[11, 2], weight=[24], momentum=-0.06252747774124146),\n",
       " Data(x=[7, 5], edge_index=[2, 13], features=[7, 2], weight=[13], momentum=-0.027920279651880264),\n",
       " Data(x=[11, 5], edge_index=[2, 18], features=[11, 2], weight=[18], momentum=0.08158008009195328),\n",
       " Data(x=[10, 5], edge_index=[2, 25], features=[10, 2], weight=[25], momentum=0.0009628399857319891),\n",
       " Data(x=[11, 5], edge_index=[2, 22], features=[11, 2], weight=[22], momentum=0.10872676968574524),\n",
       " Data(x=[11, 5], edge_index=[2, 19], features=[11, 2], weight=[19], momentum=0.09708137065172195),\n",
       " Data(x=[10, 5], edge_index=[2, 27], features=[10, 2], weight=[27], momentum=0.09037885814905167),\n",
       " Data(x=[11, 5], edge_index=[2, 29], features=[11, 2], weight=[29], momentum=0.12256062030792236),\n",
       " Data(x=[10, 5], edge_index=[2, 29], features=[10, 2], weight=[29], momentum=0.04442382976412773),\n",
       " Data(x=[11, 5], edge_index=[2, 26], features=[11, 2], weight=[26], momentum=0.01067386008799076),\n",
       " Data(x=[11, 5], edge_index=[2, 22], features=[11, 2], weight=[22], momentum=0.0929994285106659),\n",
       " Data(x=[10, 5], edge_index=[2, 23], features=[10, 2], weight=[23], momentum=0.11928963661193848),\n",
       " Data(x=[11, 5], edge_index=[2, 34], features=[11, 2], weight=[34], momentum=0.19589850306510925),\n",
       " Data(x=[11, 5], edge_index=[2, 27], features=[11, 2], weight=[27], momentum=0.027890389785170555),\n",
       " Data(x=[11, 5], edge_index=[2, 26], features=[11, 2], weight=[26], momentum=0.21045197546482086),\n",
       " Data(x=[11, 5], edge_index=[2, 35], features=[11, 2], weight=[35], momentum=0.08646895736455917),\n",
       " Data(x=[9, 5], edge_index=[2, 25], features=[9, 2], weight=[25], momentum=0.009348060004413128),\n",
       " Data(x=[10, 5], edge_index=[2, 20], features=[10, 2], weight=[20], momentum=0.08179260790348053),\n",
       " Data(x=[9, 5], edge_index=[2, 21], features=[9, 2], weight=[21], momentum=0.06262780725955963),\n",
       " Data(x=[10, 5], edge_index=[2, 28], features=[10, 2], weight=[28], momentum=0.09473591297864914),\n",
       " Data(x=[11, 5], edge_index=[2, 26], features=[11, 2], weight=[26], momentum=0.1583968549966812),\n",
       " Data(x=[11, 5], edge_index=[2, 45], features=[11, 2], weight=[45], momentum=0.09772857278585434),\n",
       " Data(x=[10, 5], edge_index=[2, 23], features=[10, 2], weight=[23], momentum=0.09178411960601807),\n",
       " Data(x=[11, 5], edge_index=[2, 42], features=[11, 2], weight=[42], momentum=0.12378595769405365),\n",
       " Data(x=[10, 5], edge_index=[2, 39], features=[10, 2], weight=[39], momentum=0.20720483362674713),\n",
       " Data(x=[11, 5], edge_index=[2, 39], features=[11, 2], weight=[39], momentum=0.06429432332515717),\n",
       " Data(x=[11, 5], edge_index=[2, 36], features=[11, 2], weight=[36], momentum=-0.04735298082232475),\n",
       " Data(x=[9, 5], edge_index=[2, 22], features=[9, 2], weight=[22], momentum=0.0010991899762302637),\n",
       " Data(x=[11, 5], edge_index=[2, 24], features=[11, 2], weight=[24], momentum=0.03612980991601944),\n",
       " Data(x=[11, 5], edge_index=[2, 38], features=[11, 2], weight=[38], momentum=-0.03689134120941162),\n",
       " Data(x=[11, 5], edge_index=[2, 24], features=[11, 2], weight=[24], momentum=-0.07075580209493637),\n",
       " Data(x=[10, 5], edge_index=[2, 18], features=[10, 2], weight=[18], momentum=-0.016507070511579514),\n",
       " Data(x=[11, 5], edge_index=[2, 26], features=[11, 2], weight=[26], momentum=-0.057706911116838455),\n",
       " Data(x=[10, 5], edge_index=[2, 24], features=[10, 2], weight=[24], momentum=0.1621839851140976),\n",
       " Data(x=[10, 5], edge_index=[2, 38], features=[10, 2], weight=[38], momentum=-0.025125810876488686),\n",
       " Data(x=[10, 5], edge_index=[2, 23], features=[10, 2], weight=[23], momentum=-0.01807568036019802),\n",
       " Data(x=[11, 5], edge_index=[2, 28], features=[11, 2], weight=[28], momentum=-0.06917907297611237),\n",
       " Data(x=[11, 5], edge_index=[2, 46], features=[11, 2], weight=[46], momentum=0.15947893261909485),\n",
       " Data(x=[11, 5], edge_index=[2, 45], features=[11, 2], weight=[45], momentum=-0.13798682391643524),\n",
       " Data(x=[8, 5], edge_index=[2, 9], features=[8, 2], weight=[9], momentum=-0.03945330157876015),\n",
       " Data(x=[10, 5], edge_index=[2, 27], features=[10, 2], weight=[27], momentum=-0.0787121132016182),\n",
       " Data(x=[9, 5], edge_index=[2, 15], features=[9, 2], weight=[15], momentum=0.011629349552094936),\n",
       " Data(x=[10, 5], edge_index=[2, 23], features=[10, 2], weight=[23], momentum=-0.019878650084137917),\n",
       " Data(x=[11, 5], edge_index=[2, 29], features=[11, 2], weight=[29], momentum=-0.06808993220329285),\n",
       " Data(x=[10, 5], edge_index=[2, 15], features=[10, 2], weight=[15], momentum=0.1633680909872055),\n",
       " Data(x=[11, 5], edge_index=[2, 31], features=[11, 2], weight=[31], momentum=-0.05482808127999306),\n",
       " Data(x=[11, 5], edge_index=[2, 27], features=[11, 2], weight=[27], momentum=-0.015568999573588371),\n",
       " Data(x=[11, 5], edge_index=[2, 22], features=[11, 2], weight=[22], momentum=-0.0051494501531124115),\n",
       " Data(x=[10, 5], edge_index=[2, 22], features=[10, 2], weight=[22], momentum=0.029625369235873222),\n",
       " Data(x=[11, 5], edge_index=[2, 29], features=[11, 2], weight=[29], momentum=0.08241602778434753),\n",
       " Data(x=[11, 5], edge_index=[2, 26], features=[11, 2], weight=[26], momentum=0.1250016987323761),\n",
       " Data(x=[11, 5], edge_index=[2, 35], features=[11, 2], weight=[35], momentum=-0.025073669850826263),\n",
       " Data(x=[10, 5], edge_index=[2, 19], features=[10, 2], weight=[19], momentum=0.03366994857788086),\n",
       " Data(x=[10, 5], edge_index=[2, 20], features=[10, 2], weight=[20], momentum=0.01171077974140644),\n",
       " Data(x=[10, 5], edge_index=[2, 25], features=[10, 2], weight=[25], momentum=-0.058046698570251465),\n",
       " Data(x=[10, 5], edge_index=[2, 18], features=[10, 2], weight=[18], momentum=-0.060359250754117966),\n",
       " Data(x=[8, 5], edge_index=[2, 16], features=[8, 2], weight=[16], momentum=-0.04697854816913605),\n",
       " Data(x=[11, 5], edge_index=[2, 28], features=[11, 2], weight=[28], momentum=0.03378881886601448),\n",
       " Data(x=[10, 5], edge_index=[2, 20], features=[10, 2], weight=[20], momentum=0.2459096908569336),\n",
       " Data(x=[11, 5], edge_index=[2, 39], features=[11, 2], weight=[39], momentum=0.08126115798950195),\n",
       " Data(x=[10, 5], edge_index=[2, 34], features=[10, 2], weight=[34], momentum=-0.011641429737210274),\n",
       " Data(x=[11, 5], edge_index=[2, 35], features=[11, 2], weight=[35], momentum=-0.05335929989814758),\n",
       " Data(x=[11, 5], edge_index=[2, 18], features=[11, 2], weight=[18], momentum=0.029701320454478264),\n",
       " Data(x=[11, 5], edge_index=[2, 21], features=[11, 2], weight=[21], momentum=-0.10831110924482346),\n",
       " Data(x=[11, 5], edge_index=[2, 17], features=[11, 2], weight=[17], momentum=0.045835331082344055),\n",
       " Data(x=[10, 5], edge_index=[2, 29], features=[10, 2], weight=[29], momentum=0.07003047317266464),\n",
       " Data(x=[11, 5], edge_index=[2, 38], features=[11, 2], weight=[38], momentum=-0.1431385725736618),\n",
       " Data(x=[4, 5], edge_index=[2, 5], features=[4, 2], weight=[5], momentum=0.001831869943998754),\n",
       " Data(x=[10, 5], edge_index=[2, 27], features=[10, 2], weight=[27], momentum=-0.13998116552829742),\n",
       " Data(x=[11, 5], edge_index=[2, 39], features=[11, 2], weight=[39], momentum=0.09297002106904984),\n",
       " Data(x=[11, 5], edge_index=[2, 32], features=[11, 2], weight=[32], momentum=0.04219368100166321),\n",
       " Data(x=[10, 5], edge_index=[2, 33], features=[10, 2], weight=[33], momentum=0.037949338555336),\n",
       " Data(x=[11, 5], edge_index=[2, 27], features=[11, 2], weight=[27], momentum=-0.009308929555118084),\n",
       " Data(x=[2, 5], edge_index=[2, 1], features=[2, 2], weight=[1], momentum=0.08822657912969589),\n",
       " Data(x=[11, 5], edge_index=[2, 38], features=[11, 2], weight=[38], momentum=0.035903871059417725),\n",
       " Data(x=[11, 5], edge_index=[2, 22], features=[11, 2], weight=[22], momentum=0.08512558788061142),\n",
       " Data(x=[10, 5], edge_index=[2, 34], features=[10, 2], weight=[34], momentum=0.1278061866760254),\n",
       " Data(x=[11, 5], edge_index=[2, 37], features=[11, 2], weight=[37], momentum=0.17615900933742523),\n",
       " Data(x=[11, 5], edge_index=[2, 41], features=[11, 2], weight=[41], momentum=0.03234187141060829),\n",
       " Data(x=[11, 5], edge_index=[2, 26], features=[11, 2], weight=[26], momentum=0.03661220148205757),\n",
       " Data(x=[9, 5], edge_index=[2, 18], features=[9, 2], weight=[18], momentum=-0.03302790969610214),\n",
       " Data(x=[10, 5], edge_index=[2, 20], features=[10, 2], weight=[20], momentum=0.15350976586341858),\n",
       " Data(x=[11, 5], edge_index=[2, 38], features=[11, 2], weight=[38], momentum=0.0025379499420523643),\n",
       " Data(x=[8, 5], edge_index=[2, 17], features=[8, 2], weight=[17], momentum=0.10367012768983841),\n",
       " Data(x=[10, 5], edge_index=[2, 33], features=[10, 2], weight=[33], momentum=0.11941362172365189),\n",
       " Data(x=[11, 5], edge_index=[2, 30], features=[11, 2], weight=[30], momentum=0.06685779988765717),\n",
       " Data(x=[10, 5], edge_index=[2, 35], features=[10, 2], weight=[35], momentum=0.017676010727882385),\n",
       " Data(x=[10, 5], edge_index=[2, 24], features=[10, 2], weight=[24], momentum=0.015759309753775597),\n",
       " Data(x=[11, 5], edge_index=[2, 35], features=[11, 2], weight=[35], momentum=-0.008787070401012897),\n",
       " Data(x=[9, 5], edge_index=[2, 17], features=[9, 2], weight=[17], momentum=0.12448474019765854),\n",
       " Data(x=[11, 5], edge_index=[2, 40], features=[11, 2], weight=[40], momentum=0.1290474236011505),\n",
       " Data(x=[11, 5], edge_index=[2, 40], features=[11, 2], weight=[40], momentum=0.022796060889959335),\n",
       " Data(x=[11, 5], edge_index=[2, 29], features=[11, 2], weight=[29], momentum=0.057336751371622086),\n",
       " Data(x=[11, 5], edge_index=[2, 39], features=[11, 2], weight=[39], momentum=0.013150559738278389),\n",
       " Data(x=[11, 5], edge_index=[2, 31], features=[11, 2], weight=[31], momentum=-0.022845089435577393),\n",
       " Data(x=[9, 5], edge_index=[2, 14], features=[9, 2], weight=[14], momentum=-0.07242359966039658),\n",
       " Data(x=[9, 5], edge_index=[2, 23], features=[9, 2], weight=[23], momentum=-0.07296404987573624),\n",
       " Data(x=[8, 5], edge_index=[2, 14], features=[8, 2], weight=[14], momentum=0.13991037011146545),\n",
       " Data(x=[11, 5], edge_index=[2, 45], features=[11, 2], weight=[45], momentum=-0.037274301052093506),\n",
       " Data(x=[11, 5], edge_index=[2, 22], features=[11, 2], weight=[22], momentum=-0.03235182911157608),\n",
       " Data(x=[11, 5], edge_index=[2, 20], features=[11, 2], weight=[20], momentum=0.13248546421527863),\n",
       " Data(x=[11, 5], edge_index=[2, 22], features=[11, 2], weight=[22], momentum=0.009560810402035713),\n",
       " Data(x=[11, 5], edge_index=[2, 33], features=[11, 2], weight=[33], momentum=0.11361818760633469),\n",
       " Data(x=[9, 5], edge_index=[2, 30], features=[9, 2], weight=[30], momentum=0.06179704889655113),\n",
       " Data(x=[10, 5], edge_index=[2, 40], features=[10, 2], weight=[40], momentum=0.027560949325561523),\n",
       " Data(x=[10, 5], edge_index=[2, 15], features=[10, 2], weight=[15], momentum=-0.014121269807219505),\n",
       " Data(x=[9, 5], edge_index=[2, 13], features=[9, 2], weight=[13], momentum=0.0716007873415947),\n",
       " Data(x=[10, 5], edge_index=[2, 31], features=[10, 2], weight=[31], momentum=-0.01980344019830227),\n",
       " Data(x=[8, 5], edge_index=[2, 17], features=[8, 2], weight=[17], momentum=-0.07147820293903351),\n",
       " Data(x=[10, 5], edge_index=[2, 19], features=[10, 2], weight=[19], momentum=-0.01268840953707695),\n",
       " Data(x=[11, 5], edge_index=[2, 22], features=[11, 2], weight=[22], momentum=0.04247321933507919),\n",
       " Data(x=[11, 5], edge_index=[2, 28], features=[11, 2], weight=[28], momentum=0.029484480619430542),\n",
       " Data(x=[9, 5], edge_index=[2, 18], features=[9, 2], weight=[18], momentum=-0.10133902728557587),\n",
       " Data(x=[7, 5], edge_index=[2, 5], features=[7, 2], weight=[5], momentum=-0.027800949290394783),\n",
       " Data(x=[4, 5], edge_index=[2, 2], features=[4, 2], weight=[2], momentum=-0.1666269749403),\n",
       " Data(x=[9, 5], edge_index=[2, 13], features=[9, 2], weight=[13], momentum=-0.09462755173444748),\n",
       " Data(x=[11, 5], edge_index=[2, 23], features=[11, 2], weight=[23], momentum=-0.06083796173334122)]"
      ]
     },
     "execution_count": 42,
     "metadata": {},
     "output_type": "execute_result"
    }
   ],
   "source": [
    "pyg_data"
   ]
  },
  {
   "cell_type": "code",
   "execution_count": 61,
   "metadata": {},
   "outputs": [
    {
     "name": "stdout",
     "output_type": "stream",
     "text": [
      "Mean: -0.1015\n",
      "95% Confidence Interval: (-0.1255, -0.0775)\n"
     ]
    }
   ],
   "source": [
    "import numpy as np\n",
    "from scipy import stats\n",
    "\n",
    "# Example list of values\n",
    "data = [1.2, 1.5, 1.3, 1.7, 1.4, 1.6, 1.8, 1.5, 1.7, 1.6]\n",
    "\n",
    "# Convert to numpy array for convenience\n",
    "data = scores\n",
    "\n",
    "# Calculate mean and standard error of the mean\n",
    "mean = np.mean(data)\n",
    "sem = stats.sem(data)  # Standard error of the mean\n",
    "\n",
    "# Confidence level: 95%\n",
    "confidence_level = 0.95\n",
    "degrees_freedom = len(data) - 1\n",
    "t_value = stats.t.ppf((1 + confidence_level) / 2, degrees_freedom)  # t-critical value\n",
    "\n",
    "# Margin of error\n",
    "margin_of_error = t_value * sem\n",
    "\n",
    "# Confidence interval\n",
    "lower_bound = mean - margin_of_error\n",
    "upper_bound = mean + margin_of_error\n",
    "\n",
    "print(f\"Mean: {mean:.4f}\")\n",
    "print(f\"95% Confidence Interval: ({lower_bound:.4f}, {upper_bound:.4f})\")"
   ]
  },
  {
   "cell_type": "code",
   "execution_count": null,
   "metadata": {},
   "outputs": [
    {
     "name": "stderr",
     "output_type": "stream",
     "text": [
      "  0%|          | 0/10 [00:00<?, ?it/s]/Users/MathildeStouby/opt/anaconda3/lib/python3.9/site-packages/torch/nn/modules/loss.py:535: UserWarning: Using a target size (torch.Size([64])) that is different to the input size (torch.Size([64, 1])). This will likely lead to incorrect results due to broadcasting. Please ensure they have the same size.\n",
      "  return F.mse_loss(input, target, reduction=self.reduction)\n",
      "/Users/MathildeStouby/opt/anaconda3/lib/python3.9/site-packages/torch/nn/modules/loss.py:535: UserWarning: Using a target size (torch.Size([37])) that is different to the input size (torch.Size([37, 1])). This will likely lead to incorrect results due to broadcasting. Please ensure they have the same size.\n",
      "  return F.mse_loss(input, target, reduction=self.reduction)\n",
      "100%|██████████| 7/7 [00:00<00:00, 16.86it/s]\n",
      " 10%|█         | 1/10 [00:00<00:03,  2.40it/s]"
     ]
    },
    {
     "name": "stdout",
     "output_type": "stream",
     "text": [
      "Epoch 1, Loss: 0.0105\n"
     ]
    },
    {
     "name": "stderr",
     "output_type": "stream",
     "text": [
      "100%|██████████| 7/7 [00:00<00:00, 43.66it/s]\n",
      " 20%|██        | 2/10 [00:00<00:02,  3.74it/s]"
     ]
    },
    {
     "name": "stdout",
     "output_type": "stream",
     "text": [
      "Epoch 2, Loss: 0.0080\n"
     ]
    },
    {
     "name": "stderr",
     "output_type": "stream",
     "text": [
      "100%|██████████| 7/7 [00:00<00:00, 32.27it/s]\n",
      " 30%|███       | 3/10 [00:00<00:01,  4.06it/s]"
     ]
    },
    {
     "name": "stdout",
     "output_type": "stream",
     "text": [
      "Epoch 3, Loss: 0.0072\n"
     ]
    },
    {
     "name": "stderr",
     "output_type": "stream",
     "text": [
      "100%|██████████| 7/7 [00:00<00:00, 40.08it/s]\n",
      " 40%|████      | 4/10 [00:00<00:01,  4.57it/s]"
     ]
    },
    {
     "name": "stdout",
     "output_type": "stream",
     "text": [
      "Epoch 4, Loss: 0.0070\n"
     ]
    },
    {
     "name": "stderr",
     "output_type": "stream",
     "text": [
      "100%|██████████| 7/7 [00:00<00:00, 40.04it/s]\n",
      " 50%|█████     | 5/10 [00:01<00:01,  4.89it/s]"
     ]
    },
    {
     "name": "stdout",
     "output_type": "stream",
     "text": [
      "Epoch 5, Loss: 0.0070\n"
     ]
    },
    {
     "name": "stderr",
     "output_type": "stream",
     "text": [
      "100%|██████████| 7/7 [00:00<00:00, 37.63it/s]\n",
      " 60%|██████    | 6/10 [00:01<00:00,  5.02it/s]"
     ]
    },
    {
     "name": "stdout",
     "output_type": "stream",
     "text": [
      "Epoch 6, Loss: 0.0071\n"
     ]
    },
    {
     "name": "stderr",
     "output_type": "stream",
     "text": [
      "100%|██████████| 7/7 [00:00<00:00, 49.05it/s]\n",
      " 70%|███████   | 7/10 [00:01<00:00,  5.50it/s]"
     ]
    },
    {
     "name": "stdout",
     "output_type": "stream",
     "text": [
      "Epoch 7, Loss: 0.0069\n"
     ]
    },
    {
     "name": "stderr",
     "output_type": "stream",
     "text": [
      "100%|██████████| 7/7 [00:00<00:00, 48.26it/s]\n",
      " 80%|████████  | 8/10 [00:01<00:00,  5.84it/s]"
     ]
    },
    {
     "name": "stdout",
     "output_type": "stream",
     "text": [
      "Epoch 8, Loss: 0.0071\n"
     ]
    },
    {
     "name": "stderr",
     "output_type": "stream",
     "text": [
      "100%|██████████| 7/7 [00:00<00:00, 34.76it/s]\n",
      " 90%|█████████ | 9/10 [00:01<00:00,  5.51it/s]"
     ]
    },
    {
     "name": "stdout",
     "output_type": "stream",
     "text": [
      "Epoch 9, Loss: 0.0070\n"
     ]
    },
    {
     "name": "stderr",
     "output_type": "stream",
     "text": [
      "100%|██████████| 7/7 [00:00<00:00, 49.36it/s]\n",
      "100%|██████████| 10/10 [00:01<00:00,  5.02it/s]\n"
     ]
    },
    {
     "name": "stdout",
     "output_type": "stream",
     "text": [
      "Epoch 10, Loss: 0.0067\n",
      "[-0.04107220042757276]\n"
     ]
    },
    {
     "name": "stderr",
     "output_type": "stream",
     "text": [
      "  0%|          | 0/10 [00:00<?, ?it/s]/Users/MathildeStouby/opt/anaconda3/lib/python3.9/site-packages/torch/nn/modules/loss.py:535: UserWarning: Using a target size (torch.Size([64])) that is different to the input size (torch.Size([64, 1])). This will likely lead to incorrect results due to broadcasting. Please ensure they have the same size.\n",
      "  return F.mse_loss(input, target, reduction=self.reduction)\n",
      "/Users/MathildeStouby/opt/anaconda3/lib/python3.9/site-packages/torch/nn/modules/loss.py:535: UserWarning: Using a target size (torch.Size([37])) that is different to the input size (torch.Size([37, 1])). This will likely lead to incorrect results due to broadcasting. Please ensure they have the same size.\n",
      "  return F.mse_loss(input, target, reduction=self.reduction)\n",
      "100%|██████████| 7/7 [00:00<00:00, 49.74it/s]\n",
      " 10%|█         | 1/10 [00:00<00:01,  6.99it/s]"
     ]
    },
    {
     "name": "stdout",
     "output_type": "stream",
     "text": [
      "Epoch 1, Loss: 0.0093\n"
     ]
    },
    {
     "name": "stderr",
     "output_type": "stream",
     "text": [
      "100%|██████████| 7/7 [00:00<00:00, 40.38it/s]\n",
      " 20%|██        | 2/10 [00:00<00:01,  6.15it/s]"
     ]
    },
    {
     "name": "stdout",
     "output_type": "stream",
     "text": [
      "Epoch 2, Loss: 0.0075\n"
     ]
    },
    {
     "name": "stderr",
     "output_type": "stream",
     "text": [
      "100%|██████████| 7/7 [00:00<00:00, 47.50it/s]\n",
      " 30%|███       | 3/10 [00:00<00:01,  6.36it/s]"
     ]
    },
    {
     "name": "stdout",
     "output_type": "stream",
     "text": [
      "Epoch 3, Loss: 0.0070\n"
     ]
    },
    {
     "name": "stderr",
     "output_type": "stream",
     "text": [
      "100%|██████████| 7/7 [00:00<00:00, 49.68it/s]\n",
      " 40%|████      | 4/10 [00:00<00:00,  6.57it/s]"
     ]
    },
    {
     "name": "stdout",
     "output_type": "stream",
     "text": [
      "Epoch 4, Loss: 0.0066\n"
     ]
    },
    {
     "name": "stderr",
     "output_type": "stream",
     "text": [
      "100%|██████████| 7/7 [00:00<00:00, 40.58it/s]\n",
      " 50%|█████     | 5/10 [00:00<00:00,  6.22it/s]"
     ]
    },
    {
     "name": "stdout",
     "output_type": "stream",
     "text": [
      "Epoch 5, Loss: 0.0070\n"
     ]
    },
    {
     "name": "stderr",
     "output_type": "stream",
     "text": [
      "100%|██████████| 7/7 [00:00<00:00, 42.51it/s]\n",
      " 60%|██████    | 6/10 [00:00<00:00,  6.13it/s]"
     ]
    },
    {
     "name": "stdout",
     "output_type": "stream",
     "text": [
      "Epoch 6, Loss: 0.0069\n"
     ]
    },
    {
     "name": "stderr",
     "output_type": "stream",
     "text": [
      "100%|██████████| 7/7 [00:00<00:00, 50.34it/s]\n",
      " 70%|███████   | 7/10 [00:01<00:00,  6.41it/s]"
     ]
    },
    {
     "name": "stdout",
     "output_type": "stream",
     "text": [
      "Epoch 7, Loss: 0.0067\n"
     ]
    },
    {
     "name": "stderr",
     "output_type": "stream",
     "text": [
      "100%|██████████| 7/7 [00:00<00:00, 38.07it/s]\n",
      " 80%|████████  | 8/10 [00:01<00:00,  6.03it/s]"
     ]
    },
    {
     "name": "stdout",
     "output_type": "stream",
     "text": [
      "Epoch 8, Loss: 0.0070\n"
     ]
    },
    {
     "name": "stderr",
     "output_type": "stream",
     "text": [
      "100%|██████████| 7/7 [00:00<00:00, 47.13it/s]\n",
      " 90%|█████████ | 9/10 [00:01<00:00,  6.20it/s]"
     ]
    },
    {
     "name": "stdout",
     "output_type": "stream",
     "text": [
      "Epoch 9, Loss: 0.0068\n"
     ]
    },
    {
     "name": "stderr",
     "output_type": "stream",
     "text": [
      "100%|██████████| 7/7 [00:00<00:00, 46.96it/s]\n",
      "100%|██████████| 10/10 [00:01<00:00,  6.29it/s]\n"
     ]
    },
    {
     "name": "stdout",
     "output_type": "stream",
     "text": [
      "Epoch 10, Loss: 0.0067\n",
      "[-0.04107220042757276, -0.16341925429347448]\n"
     ]
    },
    {
     "name": "stderr",
     "output_type": "stream",
     "text": [
      "  0%|          | 0/10 [00:00<?, ?it/s]/Users/MathildeStouby/opt/anaconda3/lib/python3.9/site-packages/torch/nn/modules/loss.py:535: UserWarning: Using a target size (torch.Size([64])) that is different to the input size (torch.Size([64, 1])). This will likely lead to incorrect results due to broadcasting. Please ensure they have the same size.\n",
      "  return F.mse_loss(input, target, reduction=self.reduction)\n",
      "/Users/MathildeStouby/opt/anaconda3/lib/python3.9/site-packages/torch/nn/modules/loss.py:535: UserWarning: Using a target size (torch.Size([37])) that is different to the input size (torch.Size([37, 1])). This will likely lead to incorrect results due to broadcasting. Please ensure they have the same size.\n",
      "  return F.mse_loss(input, target, reduction=self.reduction)\n",
      "100%|██████████| 7/7 [00:00<00:00, 47.39it/s]\n",
      " 10%|█         | 1/10 [00:00<00:01,  6.67it/s]"
     ]
    },
    {
     "name": "stdout",
     "output_type": "stream",
     "text": [
      "Epoch 1, Loss: 0.0069\n"
     ]
    },
    {
     "name": "stderr",
     "output_type": "stream",
     "text": [
      "100%|██████████| 7/7 [00:00<00:00, 52.78it/s]\n",
      " 20%|██        | 2/10 [00:00<00:01,  7.08it/s]"
     ]
    },
    {
     "name": "stdout",
     "output_type": "stream",
     "text": [
      "Epoch 2, Loss: 0.0068\n"
     ]
    },
    {
     "name": "stderr",
     "output_type": "stream",
     "text": [
      "100%|██████████| 7/7 [00:00<00:00, 30.18it/s]\n",
      " 30%|███       | 3/10 [00:00<00:01,  5.44it/s]"
     ]
    },
    {
     "name": "stdout",
     "output_type": "stream",
     "text": [
      "Epoch 3, Loss: 0.0068\n"
     ]
    },
    {
     "name": "stderr",
     "output_type": "stream",
     "text": [
      "100%|██████████| 7/7 [00:00<00:00, 48.10it/s]\n",
      " 40%|████      | 4/10 [00:00<00:01,  5.89it/s]"
     ]
    },
    {
     "name": "stdout",
     "output_type": "stream",
     "text": [
      "Epoch 4, Loss: 0.0069\n"
     ]
    },
    {
     "name": "stderr",
     "output_type": "stream",
     "text": [
      "100%|██████████| 7/7 [00:00<00:00, 54.88it/s]\n",
      " 50%|█████     | 5/10 [00:00<00:00,  6.43it/s]"
     ]
    },
    {
     "name": "stdout",
     "output_type": "stream",
     "text": [
      "Epoch 5, Loss: 0.0067\n"
     ]
    },
    {
     "name": "stderr",
     "output_type": "stream",
     "text": [
      "100%|██████████| 7/7 [00:00<00:00, 41.17it/s]\n",
      " 60%|██████    | 6/10 [00:00<00:00,  6.19it/s]"
     ]
    },
    {
     "name": "stdout",
     "output_type": "stream",
     "text": [
      "Epoch 6, Loss: 0.0067\n"
     ]
    },
    {
     "name": "stderr",
     "output_type": "stream",
     "text": [
      "100%|██████████| 7/7 [00:00<00:00, 45.59it/s]\n",
      " 70%|███████   | 7/10 [00:01<00:00,  6.25it/s]"
     ]
    },
    {
     "name": "stdout",
     "output_type": "stream",
     "text": [
      "Epoch 7, Loss: 0.0068\n"
     ]
    },
    {
     "name": "stderr",
     "output_type": "stream",
     "text": [
      "100%|██████████| 7/7 [00:00<00:00, 47.26it/s]\n",
      " 80%|████████  | 8/10 [00:01<00:00,  6.37it/s]"
     ]
    },
    {
     "name": "stdout",
     "output_type": "stream",
     "text": [
      "Epoch 8, Loss: 0.0069\n"
     ]
    },
    {
     "name": "stderr",
     "output_type": "stream",
     "text": [
      "100%|██████████| 7/7 [00:00<00:00, 38.35it/s]\n",
      " 90%|█████████ | 9/10 [00:01<00:00,  6.03it/s]"
     ]
    },
    {
     "name": "stdout",
     "output_type": "stream",
     "text": [
      "Epoch 9, Loss: 0.0068\n"
     ]
    },
    {
     "name": "stderr",
     "output_type": "stream",
     "text": [
      "100%|██████████| 7/7 [00:00<00:00, 47.98it/s]\n",
      "100%|██████████| 10/10 [00:01<00:00,  6.20it/s]\n"
     ]
    },
    {
     "name": "stdout",
     "output_type": "stream",
     "text": [
      "Epoch 10, Loss: 0.0069\n",
      "[-0.04107220042757276, -0.16341925429347448, -0.0805527281216849]\n"
     ]
    },
    {
     "name": "stderr",
     "output_type": "stream",
     "text": [
      "  0%|          | 0/10 [00:00<?, ?it/s]/Users/MathildeStouby/opt/anaconda3/lib/python3.9/site-packages/torch/nn/modules/loss.py:535: UserWarning: Using a target size (torch.Size([64])) that is different to the input size (torch.Size([64, 1])). This will likely lead to incorrect results due to broadcasting. Please ensure they have the same size.\n",
      "  return F.mse_loss(input, target, reduction=self.reduction)\n",
      "/Users/MathildeStouby/opt/anaconda3/lib/python3.9/site-packages/torch/nn/modules/loss.py:535: UserWarning: Using a target size (torch.Size([37])) that is different to the input size (torch.Size([37, 1])). This will likely lead to incorrect results due to broadcasting. Please ensure they have the same size.\n",
      "  return F.mse_loss(input, target, reduction=self.reduction)\n",
      "100%|██████████| 7/7 [00:00<00:00, 35.29it/s]\n",
      " 10%|█         | 1/10 [00:00<00:01,  4.97it/s]"
     ]
    },
    {
     "name": "stdout",
     "output_type": "stream",
     "text": [
      "Epoch 1, Loss: 0.0153\n"
     ]
    },
    {
     "name": "stderr",
     "output_type": "stream",
     "text": [
      "100%|██████████| 7/7 [00:00<00:00, 36.79it/s]\n",
      " 20%|██        | 2/10 [00:00<00:01,  5.07it/s]"
     ]
    },
    {
     "name": "stdout",
     "output_type": "stream",
     "text": [
      "Epoch 2, Loss: 0.0096\n"
     ]
    },
    {
     "name": "stderr",
     "output_type": "stream",
     "text": [
      "100%|██████████| 7/7 [00:00<00:00, 51.56it/s]\n",
      " 30%|███       | 3/10 [00:00<00:01,  5.86it/s]"
     ]
    },
    {
     "name": "stdout",
     "output_type": "stream",
     "text": [
      "Epoch 3, Loss: 0.0080\n"
     ]
    },
    {
     "name": "stderr",
     "output_type": "stream",
     "text": [
      "100%|██████████| 7/7 [00:00<00:00, 46.64it/s]\n",
      " 40%|████      | 4/10 [00:00<00:00,  6.11it/s]"
     ]
    },
    {
     "name": "stdout",
     "output_type": "stream",
     "text": [
      "Epoch 4, Loss: 0.0076\n"
     ]
    },
    {
     "name": "stderr",
     "output_type": "stream",
     "text": [
      "100%|██████████| 7/7 [00:00<00:00, 30.71it/s]\n",
      " 50%|█████     | 5/10 [00:00<00:00,  5.32it/s]"
     ]
    },
    {
     "name": "stdout",
     "output_type": "stream",
     "text": [
      "Epoch 5, Loss: 0.0073\n"
     ]
    },
    {
     "name": "stderr",
     "output_type": "stream",
     "text": [
      "100%|██████████| 7/7 [00:00<00:00, 53.93it/s]\n",
      " 60%|██████    | 6/10 [00:01<00:00,  5.91it/s]"
     ]
    },
    {
     "name": "stdout",
     "output_type": "stream",
     "text": [
      "Epoch 6, Loss: 0.0072\n"
     ]
    },
    {
     "name": "stderr",
     "output_type": "stream",
     "text": [
      "100%|██████████| 7/7 [00:00<00:00, 54.58it/s]\n",
      " 70%|███████   | 7/10 [00:01<00:00,  6.38it/s]"
     ]
    },
    {
     "name": "stdout",
     "output_type": "stream",
     "text": [
      "Epoch 7, Loss: 0.0072\n"
     ]
    },
    {
     "name": "stderr",
     "output_type": "stream",
     "text": [
      "100%|██████████| 7/7 [00:00<00:00, 38.68it/s]\n",
      " 80%|████████  | 8/10 [00:01<00:00,  6.05it/s]"
     ]
    },
    {
     "name": "stdout",
     "output_type": "stream",
     "text": [
      "Epoch 8, Loss: 0.0073\n"
     ]
    },
    {
     "name": "stderr",
     "output_type": "stream",
     "text": [
      "100%|██████████| 7/7 [00:00<00:00, 53.67it/s]\n",
      " 90%|█████████ | 9/10 [00:01<00:00,  6.44it/s]"
     ]
    },
    {
     "name": "stdout",
     "output_type": "stream",
     "text": [
      "Epoch 9, Loss: 0.0073\n"
     ]
    },
    {
     "name": "stderr",
     "output_type": "stream",
     "text": [
      "100%|██████████| 7/7 [00:00<00:00, 44.53it/s]\n",
      "100%|██████████| 10/10 [00:01<00:00,  6.02it/s]\n"
     ]
    },
    {
     "name": "stdout",
     "output_type": "stream",
     "text": [
      "Epoch 10, Loss: 0.0072\n",
      "[-0.04107220042757276, -0.16341925429347448, -0.0805527281216849, -0.01383803573254383]\n"
     ]
    },
    {
     "name": "stderr",
     "output_type": "stream",
     "text": [
      "  0%|          | 0/10 [00:00<?, ?it/s]/Users/MathildeStouby/opt/anaconda3/lib/python3.9/site-packages/torch/nn/modules/loss.py:535: UserWarning: Using a target size (torch.Size([64])) that is different to the input size (torch.Size([64, 1])). This will likely lead to incorrect results due to broadcasting. Please ensure they have the same size.\n",
      "  return F.mse_loss(input, target, reduction=self.reduction)\n",
      "/Users/MathildeStouby/opt/anaconda3/lib/python3.9/site-packages/torch/nn/modules/loss.py:535: UserWarning: Using a target size (torch.Size([37])) that is different to the input size (torch.Size([37, 1])). This will likely lead to incorrect results due to broadcasting. Please ensure they have the same size.\n",
      "  return F.mse_loss(input, target, reduction=self.reduction)\n",
      "100%|██████████| 7/7 [00:00<00:00, 50.52it/s]\n",
      " 10%|█         | 1/10 [00:00<00:01,  7.09it/s]"
     ]
    },
    {
     "name": "stdout",
     "output_type": "stream",
     "text": [
      "Epoch 1, Loss: 0.0088\n"
     ]
    },
    {
     "name": "stderr",
     "output_type": "stream",
     "text": [
      "100%|██████████| 7/7 [00:00<00:00, 53.74it/s]\n",
      " 20%|██        | 2/10 [00:00<00:01,  7.32it/s]"
     ]
    },
    {
     "name": "stdout",
     "output_type": "stream",
     "text": [
      "Epoch 2, Loss: 0.0078\n"
     ]
    },
    {
     "name": "stderr",
     "output_type": "stream",
     "text": [
      "100%|██████████| 7/7 [00:00<00:00, 40.24it/s]\n",
      " 30%|███       | 3/10 [00:00<00:01,  6.46it/s]"
     ]
    },
    {
     "name": "stdout",
     "output_type": "stream",
     "text": [
      "Epoch 3, Loss: 0.0073\n"
     ]
    },
    {
     "name": "stderr",
     "output_type": "stream",
     "text": [
      "100%|██████████| 7/7 [00:00<00:00, 49.34it/s]\n",
      " 40%|████      | 4/10 [00:00<00:00,  6.63it/s]"
     ]
    },
    {
     "name": "stdout",
     "output_type": "stream",
     "text": [
      "Epoch 4, Loss: 0.0071\n"
     ]
    },
    {
     "name": "stderr",
     "output_type": "stream",
     "text": [
      "100%|██████████| 7/7 [00:00<00:00, 46.69it/s]\n",
      " 50%|█████     | 5/10 [00:00<00:00,  6.60it/s]"
     ]
    },
    {
     "name": "stdout",
     "output_type": "stream",
     "text": [
      "Epoch 5, Loss: 0.0069\n"
     ]
    },
    {
     "name": "stderr",
     "output_type": "stream",
     "text": [
      "100%|██████████| 7/7 [00:00<00:00, 39.75it/s]\n",
      " 60%|██████    | 6/10 [00:00<00:00,  6.20it/s]"
     ]
    },
    {
     "name": "stdout",
     "output_type": "stream",
     "text": [
      "Epoch 6, Loss: 0.0067\n"
     ]
    },
    {
     "name": "stderr",
     "output_type": "stream",
     "text": [
      "100%|██████████| 7/7 [00:00<00:00, 55.77it/s]\n",
      " 70%|███████   | 7/10 [00:01<00:00,  6.65it/s]"
     ]
    },
    {
     "name": "stdout",
     "output_type": "stream",
     "text": [
      "Epoch 7, Loss: 0.0068\n"
     ]
    },
    {
     "name": "stderr",
     "output_type": "stream",
     "text": [
      "100%|██████████| 7/7 [00:00<00:00, 55.91it/s]\n",
      " 80%|████████  | 8/10 [00:01<00:00,  6.98it/s]"
     ]
    },
    {
     "name": "stdout",
     "output_type": "stream",
     "text": [
      "Epoch 8, Loss: 0.0067\n"
     ]
    },
    {
     "name": "stderr",
     "output_type": "stream",
     "text": [
      "100%|██████████| 7/7 [00:00<00:00, 41.21it/s]\n",
      " 90%|█████████ | 9/10 [00:01<00:00,  6.57it/s]"
     ]
    },
    {
     "name": "stdout",
     "output_type": "stream",
     "text": [
      "Epoch 9, Loss: 0.0067\n"
     ]
    },
    {
     "name": "stderr",
     "output_type": "stream",
     "text": [
      "100%|██████████| 7/7 [00:00<00:00, 49.82it/s]\n",
      "100%|██████████| 10/10 [00:01<00:00,  6.66it/s]\n"
     ]
    },
    {
     "name": "stdout",
     "output_type": "stream",
     "text": [
      "Epoch 10, Loss: 0.0068\n",
      "[-0.04107220042757276, -0.16341925429347448, -0.0805527281216849, -0.01383803573254383, -0.1458905138569333]\n"
     ]
    },
    {
     "name": "stderr",
     "output_type": "stream",
     "text": [
      "  0%|          | 0/10 [00:00<?, ?it/s]/Users/MathildeStouby/opt/anaconda3/lib/python3.9/site-packages/torch/nn/modules/loss.py:535: UserWarning: Using a target size (torch.Size([64])) that is different to the input size (torch.Size([64, 1])). This will likely lead to incorrect results due to broadcasting. Please ensure they have the same size.\n",
      "  return F.mse_loss(input, target, reduction=self.reduction)\n",
      "/Users/MathildeStouby/opt/anaconda3/lib/python3.9/site-packages/torch/nn/modules/loss.py:535: UserWarning: Using a target size (torch.Size([37])) that is different to the input size (torch.Size([37, 1])). This will likely lead to incorrect results due to broadcasting. Please ensure they have the same size.\n",
      "  return F.mse_loss(input, target, reduction=self.reduction)\n",
      "100%|██████████| 7/7 [00:00<00:00, 52.08it/s]\n",
      " 10%|█         | 1/10 [00:00<00:01,  7.30it/s]"
     ]
    },
    {
     "name": "stdout",
     "output_type": "stream",
     "text": [
      "Epoch 1, Loss: 0.0158\n"
     ]
    },
    {
     "name": "stderr",
     "output_type": "stream",
     "text": [
      "100%|██████████| 7/7 [00:00<00:00, 40.87it/s]\n",
      " 20%|██        | 2/10 [00:00<00:01,  6.29it/s]"
     ]
    },
    {
     "name": "stdout",
     "output_type": "stream",
     "text": [
      "Epoch 2, Loss: 0.0102\n"
     ]
    },
    {
     "name": "stderr",
     "output_type": "stream",
     "text": [
      "100%|██████████| 7/7 [00:00<00:00, 52.17it/s]\n",
      " 30%|███       | 3/10 [00:00<00:01,  6.72it/s]"
     ]
    },
    {
     "name": "stdout",
     "output_type": "stream",
     "text": [
      "Epoch 3, Loss: 0.0081\n"
     ]
    },
    {
     "name": "stderr",
     "output_type": "stream",
     "text": [
      "100%|██████████| 7/7 [00:00<00:00, 55.11it/s]\n",
      " 40%|████      | 4/10 [00:00<00:00,  7.08it/s]"
     ]
    },
    {
     "name": "stdout",
     "output_type": "stream",
     "text": [
      "Epoch 4, Loss: 0.0075\n"
     ]
    },
    {
     "name": "stderr",
     "output_type": "stream",
     "text": [
      "100%|██████████| 7/7 [00:00<00:00, 42.72it/s]\n",
      " 50%|█████     | 5/10 [00:00<00:00,  6.64it/s]"
     ]
    },
    {
     "name": "stdout",
     "output_type": "stream",
     "text": [
      "Epoch 5, Loss: 0.0071\n"
     ]
    },
    {
     "name": "stderr",
     "output_type": "stream",
     "text": [
      "100%|██████████| 7/7 [00:00<00:00, 52.40it/s]\n",
      " 60%|██████    | 6/10 [00:00<00:00,  6.86it/s]"
     ]
    },
    {
     "name": "stdout",
     "output_type": "stream",
     "text": [
      "Epoch 6, Loss: 0.0068\n"
     ]
    },
    {
     "name": "stderr",
     "output_type": "stream",
     "text": [
      "100%|██████████| 7/7 [00:00<00:00, 49.43it/s]\n",
      " 70%|███████   | 7/10 [00:01<00:00,  6.88it/s]"
     ]
    },
    {
     "name": "stdout",
     "output_type": "stream",
     "text": [
      "Epoch 7, Loss: 0.0070\n"
     ]
    },
    {
     "name": "stderr",
     "output_type": "stream",
     "text": [
      "100%|██████████| 7/7 [00:00<00:00, 39.18it/s]\n",
      " 80%|████████  | 8/10 [00:01<00:00,  6.37it/s]"
     ]
    },
    {
     "name": "stdout",
     "output_type": "stream",
     "text": [
      "Epoch 8, Loss: 0.0071\n"
     ]
    },
    {
     "name": "stderr",
     "output_type": "stream",
     "text": [
      "100%|██████████| 7/7 [00:00<00:00, 52.20it/s]\n",
      " 90%|█████████ | 9/10 [00:01<00:00,  6.63it/s]"
     ]
    },
    {
     "name": "stdout",
     "output_type": "stream",
     "text": [
      "Epoch 9, Loss: 0.0070\n"
     ]
    },
    {
     "name": "stderr",
     "output_type": "stream",
     "text": [
      "100%|██████████| 7/7 [00:00<00:00, 54.63it/s]\n",
      "100%|██████████| 10/10 [00:01<00:00,  6.77it/s]\n"
     ]
    },
    {
     "name": "stdout",
     "output_type": "stream",
     "text": [
      "Epoch 10, Loss: 0.0070\n",
      "[-0.04107220042757276, -0.16341925429347448, -0.0805527281216849, -0.01383803573254383, -0.1458905138569333, 0.003991120209600796]\n"
     ]
    },
    {
     "name": "stderr",
     "output_type": "stream",
     "text": [
      "  0%|          | 0/10 [00:00<?, ?it/s]/Users/MathildeStouby/opt/anaconda3/lib/python3.9/site-packages/torch/nn/modules/loss.py:535: UserWarning: Using a target size (torch.Size([64])) that is different to the input size (torch.Size([64, 1])). This will likely lead to incorrect results due to broadcasting. Please ensure they have the same size.\n",
      "  return F.mse_loss(input, target, reduction=self.reduction)\n",
      "/Users/MathildeStouby/opt/anaconda3/lib/python3.9/site-packages/torch/nn/modules/loss.py:535: UserWarning: Using a target size (torch.Size([37])) that is different to the input size (torch.Size([37, 1])). This will likely lead to incorrect results due to broadcasting. Please ensure they have the same size.\n",
      "  return F.mse_loss(input, target, reduction=self.reduction)\n",
      "100%|██████████| 7/7 [00:00<00:00, 47.28it/s]\n",
      " 10%|█         | 1/10 [00:00<00:01,  6.63it/s]"
     ]
    },
    {
     "name": "stdout",
     "output_type": "stream",
     "text": [
      "Epoch 1, Loss: 0.0088\n"
     ]
    },
    {
     "name": "stderr",
     "output_type": "stream",
     "text": [
      "100%|██████████| 7/7 [00:00<00:00, 45.26it/s]\n",
      " 20%|██        | 2/10 [00:00<00:01,  6.43it/s]"
     ]
    },
    {
     "name": "stdout",
     "output_type": "stream",
     "text": [
      "Epoch 2, Loss: 0.0075\n"
     ]
    },
    {
     "name": "stderr",
     "output_type": "stream",
     "text": [
      "100%|██████████| 7/7 [00:00<00:00, 40.49it/s]\n",
      " 30%|███       | 3/10 [00:00<00:01,  6.07it/s]"
     ]
    },
    {
     "name": "stdout",
     "output_type": "stream",
     "text": [
      "Epoch 3, Loss: 0.0069\n"
     ]
    },
    {
     "name": "stderr",
     "output_type": "stream",
     "text": [
      "100%|██████████| 7/7 [00:00<00:00, 51.81it/s]\n",
      " 40%|████      | 4/10 [00:00<00:00,  6.48it/s]"
     ]
    },
    {
     "name": "stdout",
     "output_type": "stream",
     "text": [
      "Epoch 4, Loss: 0.0068\n"
     ]
    },
    {
     "name": "stderr",
     "output_type": "stream",
     "text": [
      "100%|██████████| 7/7 [00:00<00:00, 44.72it/s]\n",
      " 50%|█████     | 5/10 [00:00<00:00,  6.41it/s]"
     ]
    },
    {
     "name": "stdout",
     "output_type": "stream",
     "text": [
      "Epoch 5, Loss: 0.0067\n"
     ]
    },
    {
     "name": "stderr",
     "output_type": "stream",
     "text": [
      "100%|██████████| 7/7 [00:00<00:00, 35.65it/s]\n",
      " 60%|██████    | 6/10 [00:00<00:00,  5.85it/s]"
     ]
    },
    {
     "name": "stdout",
     "output_type": "stream",
     "text": [
      "Epoch 6, Loss: 0.0065\n"
     ]
    },
    {
     "name": "stderr",
     "output_type": "stream",
     "text": [
      "100%|██████████| 7/7 [00:00<00:00, 44.37it/s]\n",
      " 70%|███████   | 7/10 [00:01<00:00,  5.95it/s]"
     ]
    },
    {
     "name": "stdout",
     "output_type": "stream",
     "text": [
      "Epoch 7, Loss: 0.0066\n"
     ]
    },
    {
     "name": "stderr",
     "output_type": "stream",
     "text": [
      "100%|██████████| 7/7 [00:00<00:00, 46.14it/s]\n",
      " 80%|████████  | 8/10 [00:01<00:00,  6.11it/s]"
     ]
    },
    {
     "name": "stdout",
     "output_type": "stream",
     "text": [
      "Epoch 8, Loss: 0.0067\n"
     ]
    },
    {
     "name": "stderr",
     "output_type": "stream",
     "text": [
      "100%|██████████| 7/7 [00:00<00:00, 37.25it/s]\n",
      " 90%|█████████ | 9/10 [00:01<00:00,  5.81it/s]"
     ]
    },
    {
     "name": "stdout",
     "output_type": "stream",
     "text": [
      "Epoch 9, Loss: 0.0065\n"
     ]
    },
    {
     "name": "stderr",
     "output_type": "stream",
     "text": [
      "100%|██████████| 7/7 [00:00<00:00, 47.94it/s]\n",
      "100%|██████████| 10/10 [00:01<00:00,  6.10it/s]\n"
     ]
    },
    {
     "name": "stdout",
     "output_type": "stream",
     "text": [
      "Epoch 10, Loss: 0.0067\n",
      "[-0.04107220042757276, -0.16341925429347448, -0.0805527281216849, -0.01383803573254383, -0.1458905138569333, 0.003991120209600796, -0.08473416673505318]\n"
     ]
    },
    {
     "name": "stderr",
     "output_type": "stream",
     "text": [
      "  0%|          | 0/10 [00:00<?, ?it/s]/Users/MathildeStouby/opt/anaconda3/lib/python3.9/site-packages/torch/nn/modules/loss.py:535: UserWarning: Using a target size (torch.Size([64])) that is different to the input size (torch.Size([64, 1])). This will likely lead to incorrect results due to broadcasting. Please ensure they have the same size.\n",
      "  return F.mse_loss(input, target, reduction=self.reduction)\n",
      "/Users/MathildeStouby/opt/anaconda3/lib/python3.9/site-packages/torch/nn/modules/loss.py:535: UserWarning: Using a target size (torch.Size([37])) that is different to the input size (torch.Size([37, 1])). This will likely lead to incorrect results due to broadcasting. Please ensure they have the same size.\n",
      "  return F.mse_loss(input, target, reduction=self.reduction)\n",
      "100%|██████████| 7/7 [00:00<00:00, 52.85it/s]\n",
      " 10%|█         | 1/10 [00:00<00:01,  7.43it/s]"
     ]
    },
    {
     "name": "stdout",
     "output_type": "stream",
     "text": [
      "Epoch 1, Loss: 0.0078\n"
     ]
    },
    {
     "name": "stderr",
     "output_type": "stream",
     "text": [
      "100%|██████████| 7/7 [00:00<00:00, 37.37it/s]\n",
      " 20%|██        | 2/10 [00:00<00:01,  5.97it/s]"
     ]
    },
    {
     "name": "stdout",
     "output_type": "stream",
     "text": [
      "Epoch 2, Loss: 0.0070\n"
     ]
    },
    {
     "name": "stderr",
     "output_type": "stream",
     "text": [
      "100%|██████████| 7/7 [00:00<00:00, 44.03it/s]\n",
      " 30%|███       | 3/10 [00:00<00:01,  6.06it/s]"
     ]
    },
    {
     "name": "stdout",
     "output_type": "stream",
     "text": [
      "Epoch 3, Loss: 0.0070\n"
     ]
    },
    {
     "name": "stderr",
     "output_type": "stream",
     "text": [
      "100%|██████████| 7/7 [00:00<00:00, 49.67it/s]\n",
      " 40%|████      | 4/10 [00:00<00:00,  6.37it/s]"
     ]
    },
    {
     "name": "stdout",
     "output_type": "stream",
     "text": [
      "Epoch 4, Loss: 0.0068\n"
     ]
    },
    {
     "name": "stderr",
     "output_type": "stream",
     "text": [
      "100%|██████████| 7/7 [00:00<00:00, 40.40it/s]\n",
      " 50%|█████     | 5/10 [00:00<00:00,  6.10it/s]"
     ]
    },
    {
     "name": "stdout",
     "output_type": "stream",
     "text": [
      "Epoch 5, Loss: 0.0068\n"
     ]
    },
    {
     "name": "stderr",
     "output_type": "stream",
     "text": [
      "100%|██████████| 7/7 [00:00<00:00, 50.86it/s]\n",
      " 60%|██████    | 6/10 [00:00<00:00,  6.41it/s]"
     ]
    },
    {
     "name": "stdout",
     "output_type": "stream",
     "text": [
      "Epoch 6, Loss: 0.0071\n"
     ]
    },
    {
     "name": "stderr",
     "output_type": "stream",
     "text": [
      "100%|██████████| 7/7 [00:00<00:00, 49.56it/s]\n",
      " 70%|███████   | 7/10 [00:01<00:00,  6.58it/s]"
     ]
    },
    {
     "name": "stdout",
     "output_type": "stream",
     "text": [
      "Epoch 7, Loss: 0.0068\n"
     ]
    },
    {
     "name": "stderr",
     "output_type": "stream",
     "text": [
      "100%|██████████| 7/7 [00:00<00:00, 39.21it/s]\n",
      " 80%|████████  | 8/10 [00:01<00:00,  6.20it/s]"
     ]
    },
    {
     "name": "stdout",
     "output_type": "stream",
     "text": [
      "Epoch 8, Loss: 0.0069\n"
     ]
    },
    {
     "name": "stderr",
     "output_type": "stream",
     "text": [
      "100%|██████████| 7/7 [00:00<00:00, 49.49it/s]\n",
      " 90%|█████████ | 9/10 [00:01<00:00,  6.41it/s]"
     ]
    },
    {
     "name": "stdout",
     "output_type": "stream",
     "text": [
      "Epoch 9, Loss: 0.0068\n"
     ]
    },
    {
     "name": "stderr",
     "output_type": "stream",
     "text": [
      "100%|██████████| 7/7 [00:00<00:00, 51.08it/s]\n",
      "100%|██████████| 10/10 [00:01<00:00,  6.41it/s]\n"
     ]
    },
    {
     "name": "stdout",
     "output_type": "stream",
     "text": [
      "Epoch 10, Loss: 0.0068\n",
      "[-0.04107220042757276, -0.16341925429347448, -0.0805527281216849, -0.01383803573254383, -0.1458905138569333, 0.003991120209600796, -0.08473416673505318, -0.0709857375357359]\n"
     ]
    },
    {
     "name": "stderr",
     "output_type": "stream",
     "text": [
      "  0%|          | 0/10 [00:00<?, ?it/s]/Users/MathildeStouby/opt/anaconda3/lib/python3.9/site-packages/torch/nn/modules/loss.py:535: UserWarning: Using a target size (torch.Size([64])) that is different to the input size (torch.Size([64, 1])). This will likely lead to incorrect results due to broadcasting. Please ensure they have the same size.\n",
      "  return F.mse_loss(input, target, reduction=self.reduction)\n",
      "/Users/MathildeStouby/opt/anaconda3/lib/python3.9/site-packages/torch/nn/modules/loss.py:535: UserWarning: Using a target size (torch.Size([37])) that is different to the input size (torch.Size([37, 1])). This will likely lead to incorrect results due to broadcasting. Please ensure they have the same size.\n",
      "  return F.mse_loss(input, target, reduction=self.reduction)\n",
      "100%|██████████| 7/7 [00:00<00:00, 46.56it/s]\n",
      " 10%|█         | 1/10 [00:00<00:01,  6.56it/s]"
     ]
    },
    {
     "name": "stdout",
     "output_type": "stream",
     "text": [
      "Epoch 1, Loss: 0.0122\n"
     ]
    },
    {
     "name": "stderr",
     "output_type": "stream",
     "text": [
      "100%|██████████| 7/7 [00:00<00:00, 47.60it/s]\n",
      " 20%|██        | 2/10 [00:00<00:01,  6.61it/s]"
     ]
    },
    {
     "name": "stdout",
     "output_type": "stream",
     "text": [
      "Epoch 2, Loss: 0.0089\n"
     ]
    },
    {
     "name": "stderr",
     "output_type": "stream",
     "text": [
      "100%|██████████| 7/7 [00:00<00:00, 35.70it/s]\n",
      " 30%|███       | 3/10 [00:00<00:01,  5.77it/s]"
     ]
    },
    {
     "name": "stdout",
     "output_type": "stream",
     "text": [
      "Epoch 3, Loss: 0.0075\n"
     ]
    },
    {
     "name": "stderr",
     "output_type": "stream",
     "text": [
      "100%|██████████| 7/7 [00:00<00:00, 52.57it/s]\n",
      " 40%|████      | 4/10 [00:00<00:00,  6.30it/s]"
     ]
    },
    {
     "name": "stdout",
     "output_type": "stream",
     "text": [
      "Epoch 4, Loss: 0.0069\n"
     ]
    },
    {
     "name": "stderr",
     "output_type": "stream",
     "text": [
      "100%|██████████| 7/7 [00:00<00:00, 47.92it/s]\n",
      " 50%|█████     | 5/10 [00:00<00:00,  6.43it/s]"
     ]
    },
    {
     "name": "stdout",
     "output_type": "stream",
     "text": [
      "Epoch 5, Loss: 0.0069\n"
     ]
    },
    {
     "name": "stderr",
     "output_type": "stream",
     "text": [
      "100%|██████████| 7/7 [00:00<00:00, 38.40it/s]\n",
      " 60%|██████    | 6/10 [00:00<00:00,  6.03it/s]"
     ]
    },
    {
     "name": "stdout",
     "output_type": "stream",
     "text": [
      "Epoch 6, Loss: 0.0069\n"
     ]
    },
    {
     "name": "stderr",
     "output_type": "stream",
     "text": [
      "100%|██████████| 7/7 [00:00<00:00, 50.66it/s]\n",
      " 70%|███████   | 7/10 [00:01<00:00,  6.34it/s]"
     ]
    },
    {
     "name": "stdout",
     "output_type": "stream",
     "text": [
      "Epoch 7, Loss: 0.0067\n"
     ]
    },
    {
     "name": "stderr",
     "output_type": "stream",
     "text": [
      "100%|██████████| 7/7 [00:00<00:00, 49.02it/s]\n",
      " 80%|████████  | 8/10 [00:01<00:00,  6.50it/s]"
     ]
    },
    {
     "name": "stdout",
     "output_type": "stream",
     "text": [
      "Epoch 8, Loss: 0.0069\n"
     ]
    },
    {
     "name": "stderr",
     "output_type": "stream",
     "text": [
      "100%|██████████| 7/7 [00:00<00:00, 35.83it/s]\n",
      " 90%|█████████ | 9/10 [00:01<00:00,  5.96it/s]"
     ]
    },
    {
     "name": "stdout",
     "output_type": "stream",
     "text": [
      "Epoch 9, Loss: 0.0068\n"
     ]
    },
    {
     "name": "stderr",
     "output_type": "stream",
     "text": [
      "100%|██████████| 7/7 [00:00<00:00, 53.14it/s]\n",
      "100%|██████████| 10/10 [00:01<00:00,  6.27it/s]\n"
     ]
    },
    {
     "name": "stdout",
     "output_type": "stream",
     "text": [
      "Epoch 10, Loss: 0.0067\n",
      "[-0.04107220042757276, -0.16341925429347448, -0.0805527281216849, -0.01383803573254383, -0.1458905138569333, 0.003991120209600796, -0.08473416673505318, -0.0709857375357359, -0.16760981921295914]\n"
     ]
    },
    {
     "name": "stderr",
     "output_type": "stream",
     "text": [
      "  0%|          | 0/10 [00:00<?, ?it/s]/Users/MathildeStouby/opt/anaconda3/lib/python3.9/site-packages/torch/nn/modules/loss.py:535: UserWarning: Using a target size (torch.Size([64])) that is different to the input size (torch.Size([64, 1])). This will likely lead to incorrect results due to broadcasting. Please ensure they have the same size.\n",
      "  return F.mse_loss(input, target, reduction=self.reduction)\n",
      "/Users/MathildeStouby/opt/anaconda3/lib/python3.9/site-packages/torch/nn/modules/loss.py:535: UserWarning: Using a target size (torch.Size([37])) that is different to the input size (torch.Size([37, 1])). This will likely lead to incorrect results due to broadcasting. Please ensure they have the same size.\n",
      "  return F.mse_loss(input, target, reduction=self.reduction)\n",
      "100%|██████████| 7/7 [00:00<00:00, 48.20it/s]\n",
      " 10%|█         | 1/10 [00:00<00:01,  6.78it/s]"
     ]
    },
    {
     "name": "stdout",
     "output_type": "stream",
     "text": [
      "Epoch 1, Loss: 0.0335\n"
     ]
    },
    {
     "name": "stderr",
     "output_type": "stream",
     "text": [
      "100%|██████████| 7/7 [00:00<00:00, 39.27it/s]\n",
      " 20%|██        | 2/10 [00:00<00:01,  5.97it/s]"
     ]
    },
    {
     "name": "stdout",
     "output_type": "stream",
     "text": [
      "Epoch 2, Loss: 0.0149\n"
     ]
    },
    {
     "name": "stderr",
     "output_type": "stream",
     "text": [
      "100%|██████████| 7/7 [00:00<00:00, 47.53it/s]\n",
      " 30%|███       | 3/10 [00:00<00:01,  6.27it/s]"
     ]
    },
    {
     "name": "stdout",
     "output_type": "stream",
     "text": [
      "Epoch 3, Loss: 0.0094\n"
     ]
    },
    {
     "name": "stderr",
     "output_type": "stream",
     "text": [
      "100%|██████████| 7/7 [00:00<00:00, 44.56it/s]\n",
      " 40%|████      | 4/10 [00:00<00:00,  6.27it/s]"
     ]
    },
    {
     "name": "stdout",
     "output_type": "stream",
     "text": [
      "Epoch 4, Loss: 0.0078\n"
     ]
    },
    {
     "name": "stderr",
     "output_type": "stream",
     "text": [
      "100%|██████████| 7/7 [00:00<00:00, 39.67it/s]\n",
      " 50%|█████     | 5/10 [00:00<00:00,  5.99it/s]"
     ]
    },
    {
     "name": "stdout",
     "output_type": "stream",
     "text": [
      "Epoch 5, Loss: 0.0074\n"
     ]
    },
    {
     "name": "stderr",
     "output_type": "stream",
     "text": [
      "100%|██████████| 7/7 [00:00<00:00, 48.74it/s]\n",
      " 60%|██████    | 6/10 [00:00<00:00,  6.25it/s]"
     ]
    },
    {
     "name": "stdout",
     "output_type": "stream",
     "text": [
      "Epoch 6, Loss: 0.0073\n"
     ]
    },
    {
     "name": "stderr",
     "output_type": "stream",
     "text": [
      "100%|██████████| 7/7 [00:00<00:00, 31.85it/s]\n",
      " 70%|███████   | 7/10 [00:01<00:00,  5.54it/s]"
     ]
    },
    {
     "name": "stdout",
     "output_type": "stream",
     "text": [
      "Epoch 7, Loss: 0.0072\n"
     ]
    },
    {
     "name": "stderr",
     "output_type": "stream",
     "text": [
      "100%|██████████| 7/7 [00:00<00:00, 38.44it/s]\n",
      " 80%|████████  | 8/10 [00:01<00:00,  5.50it/s]"
     ]
    },
    {
     "name": "stdout",
     "output_type": "stream",
     "text": [
      "Epoch 8, Loss: 0.0071\n"
     ]
    },
    {
     "name": "stderr",
     "output_type": "stream",
     "text": [
      "100%|██████████| 7/7 [00:00<00:00, 49.16it/s]\n",
      " 90%|█████████ | 9/10 [00:01<00:00,  5.86it/s]"
     ]
    },
    {
     "name": "stdout",
     "output_type": "stream",
     "text": [
      "Epoch 9, Loss: 0.0071\n"
     ]
    },
    {
     "name": "stderr",
     "output_type": "stream",
     "text": [
      "100%|██████████| 7/7 [00:00<00:00, 49.10it/s]\n",
      "100%|██████████| 10/10 [00:01<00:00,  6.01it/s]\n"
     ]
    },
    {
     "name": "stdout",
     "output_type": "stream",
     "text": [
      "Epoch 10, Loss: 0.0071\n",
      "[-0.04107220042757276, -0.16341925429347448, -0.0805527281216849, -0.01383803573254383, -0.1458905138569333, 0.003991120209600796, -0.08473416673505318, -0.0709857375357359, -0.16760981921295914, -0.204776789951149]\n"
     ]
    },
    {
     "name": "stderr",
     "output_type": "stream",
     "text": [
      "  0%|          | 0/10 [00:00<?, ?it/s]/Users/MathildeStouby/opt/anaconda3/lib/python3.9/site-packages/torch/nn/modules/loss.py:535: UserWarning: Using a target size (torch.Size([64])) that is different to the input size (torch.Size([64, 1])). This will likely lead to incorrect results due to broadcasting. Please ensure they have the same size.\n",
      "  return F.mse_loss(input, target, reduction=self.reduction)\n",
      "/Users/MathildeStouby/opt/anaconda3/lib/python3.9/site-packages/torch/nn/modules/loss.py:535: UserWarning: Using a target size (torch.Size([37])) that is different to the input size (torch.Size([37, 1])). This will likely lead to incorrect results due to broadcasting. Please ensure they have the same size.\n",
      "  return F.mse_loss(input, target, reduction=self.reduction)\n",
      "100%|██████████| 7/7 [00:00<00:00, 49.43it/s]\n",
      " 10%|█         | 1/10 [00:00<00:01,  6.97it/s]"
     ]
    },
    {
     "name": "stdout",
     "output_type": "stream",
     "text": [
      "Epoch 1, Loss: 0.0080\n"
     ]
    },
    {
     "name": "stderr",
     "output_type": "stream",
     "text": [
      "100%|██████████| 7/7 [00:00<00:00, 54.93it/s]\n",
      " 20%|██        | 2/10 [00:00<00:01,  7.37it/s]"
     ]
    },
    {
     "name": "stdout",
     "output_type": "stream",
     "text": [
      "Epoch 2, Loss: 0.0073\n"
     ]
    },
    {
     "name": "stderr",
     "output_type": "stream",
     "text": [
      "100%|██████████| 7/7 [00:00<00:00, 38.60it/s]\n",
      " 30%|███       | 3/10 [00:00<00:01,  6.34it/s]"
     ]
    },
    {
     "name": "stdout",
     "output_type": "stream",
     "text": [
      "Epoch 3, Loss: 0.0072\n"
     ]
    },
    {
     "name": "stderr",
     "output_type": "stream",
     "text": [
      "100%|██████████| 7/7 [00:00<00:00, 49.36it/s]\n",
      " 40%|████      | 4/10 [00:00<00:00,  6.55it/s]"
     ]
    },
    {
     "name": "stdout",
     "output_type": "stream",
     "text": [
      "Epoch 4, Loss: 0.0069\n"
     ]
    },
    {
     "name": "stderr",
     "output_type": "stream",
     "text": [
      "100%|██████████| 7/7 [00:00<00:00, 44.70it/s]\n",
      " 50%|█████     | 5/10 [00:00<00:00,  6.45it/s]"
     ]
    },
    {
     "name": "stdout",
     "output_type": "stream",
     "text": [
      "Epoch 5, Loss: 0.0068\n"
     ]
    },
    {
     "name": "stderr",
     "output_type": "stream",
     "text": [
      "100%|██████████| 7/7 [00:00<00:00, 41.25it/s]\n",
      " 60%|██████    | 6/10 [00:00<00:00,  6.21it/s]"
     ]
    },
    {
     "name": "stdout",
     "output_type": "stream",
     "text": [
      "Epoch 6, Loss: 0.0068\n"
     ]
    },
    {
     "name": "stderr",
     "output_type": "stream",
     "text": [
      "100%|██████████| 7/7 [00:00<00:00, 50.65it/s]\n",
      " 70%|███████   | 7/10 [00:01<00:00,  6.48it/s]"
     ]
    },
    {
     "name": "stdout",
     "output_type": "stream",
     "text": [
      "Epoch 7, Loss: 0.0068\n"
     ]
    },
    {
     "name": "stderr",
     "output_type": "stream",
     "text": [
      "100%|██████████| 7/7 [00:00<00:00, 52.26it/s]\n",
      " 80%|████████  | 8/10 [00:01<00:00,  6.73it/s]"
     ]
    },
    {
     "name": "stdout",
     "output_type": "stream",
     "text": [
      "Epoch 8, Loss: 0.0068\n"
     ]
    },
    {
     "name": "stderr",
     "output_type": "stream",
     "text": [
      "100%|██████████| 7/7 [00:00<00:00, 40.60it/s]\n",
      " 90%|█████████ | 9/10 [00:01<00:00,  6.37it/s]"
     ]
    },
    {
     "name": "stdout",
     "output_type": "stream",
     "text": [
      "Epoch 9, Loss: 0.0068\n"
     ]
    },
    {
     "name": "stderr",
     "output_type": "stream",
     "text": [
      "100%|██████████| 7/7 [00:00<00:00, 51.55it/s]\n",
      "100%|██████████| 10/10 [00:01<00:00,  6.55it/s]\n"
     ]
    },
    {
     "name": "stdout",
     "output_type": "stream",
     "text": [
      "Epoch 10, Loss: 0.0067\n",
      "[-0.04107220042757276, -0.16341925429347448, -0.0805527281216849, -0.01383803573254383, -0.1458905138569333, 0.003991120209600796, -0.08473416673505318, -0.0709857375357359, -0.16760981921295914, -0.204776789951149, -0.14512952489100517]\n"
     ]
    },
    {
     "name": "stderr",
     "output_type": "stream",
     "text": [
      "  0%|          | 0/10 [00:00<?, ?it/s]/Users/MathildeStouby/opt/anaconda3/lib/python3.9/site-packages/torch/nn/modules/loss.py:535: UserWarning: Using a target size (torch.Size([64])) that is different to the input size (torch.Size([64, 1])). This will likely lead to incorrect results due to broadcasting. Please ensure they have the same size.\n",
      "  return F.mse_loss(input, target, reduction=self.reduction)\n",
      "/Users/MathildeStouby/opt/anaconda3/lib/python3.9/site-packages/torch/nn/modules/loss.py:535: UserWarning: Using a target size (torch.Size([37])) that is different to the input size (torch.Size([37, 1])). This will likely lead to incorrect results due to broadcasting. Please ensure they have the same size.\n",
      "  return F.mse_loss(input, target, reduction=self.reduction)\n",
      "100%|██████████| 7/7 [00:00<00:00, 52.31it/s]\n",
      " 10%|█         | 1/10 [00:00<00:01,  7.36it/s]"
     ]
    },
    {
     "name": "stdout",
     "output_type": "stream",
     "text": [
      "Epoch 1, Loss: 0.0121\n"
     ]
    },
    {
     "name": "stderr",
     "output_type": "stream",
     "text": [
      "100%|██████████| 7/7 [00:00<00:00, 40.60it/s]\n",
      " 20%|██        | 2/10 [00:00<00:01,  6.27it/s]"
     ]
    },
    {
     "name": "stdout",
     "output_type": "stream",
     "text": [
      "Epoch 2, Loss: 0.0083\n"
     ]
    },
    {
     "name": "stderr",
     "output_type": "stream",
     "text": [
      "100%|██████████| 7/7 [00:00<00:00, 54.87it/s]\n",
      " 30%|███       | 3/10 [00:00<00:01,  6.83it/s]"
     ]
    },
    {
     "name": "stdout",
     "output_type": "stream",
     "text": [
      "Epoch 3, Loss: 0.0071\n"
     ]
    },
    {
     "name": "stderr",
     "output_type": "stream",
     "text": [
      "100%|██████████| 7/7 [00:00<00:00, 46.30it/s]\n",
      " 40%|████      | 4/10 [00:00<00:00,  6.70it/s]"
     ]
    },
    {
     "name": "stdout",
     "output_type": "stream",
     "text": [
      "Epoch 4, Loss: 0.0069\n"
     ]
    },
    {
     "name": "stderr",
     "output_type": "stream",
     "text": [
      "100%|██████████| 7/7 [00:00<00:00, 38.07it/s]\n",
      " 50%|█████     | 5/10 [00:00<00:00,  6.12it/s]"
     ]
    },
    {
     "name": "stdout",
     "output_type": "stream",
     "text": [
      "Epoch 5, Loss: 0.0067\n"
     ]
    },
    {
     "name": "stderr",
     "output_type": "stream",
     "text": [
      "100%|██████████| 7/7 [00:00<00:00, 45.75it/s]\n",
      " 60%|██████    | 6/10 [00:00<00:00,  6.22it/s]"
     ]
    },
    {
     "name": "stdout",
     "output_type": "stream",
     "text": [
      "Epoch 6, Loss: 0.0069\n"
     ]
    },
    {
     "name": "stderr",
     "output_type": "stream",
     "text": [
      "100%|██████████| 7/7 [00:00<00:00, 43.59it/s]\n",
      " 70%|███████   | 7/10 [00:01<00:00,  6.19it/s]"
     ]
    },
    {
     "name": "stdout",
     "output_type": "stream",
     "text": [
      "Epoch 7, Loss: 0.0069\n"
     ]
    },
    {
     "name": "stderr",
     "output_type": "stream",
     "text": [
      "100%|██████████| 7/7 [00:00<00:00, 32.40it/s]\n",
      " 80%|████████  | 8/10 [00:01<00:00,  5.56it/s]"
     ]
    },
    {
     "name": "stdout",
     "output_type": "stream",
     "text": [
      "Epoch 8, Loss: 0.0068\n"
     ]
    },
    {
     "name": "stderr",
     "output_type": "stream",
     "text": [
      "100%|██████████| 7/7 [00:00<00:00, 45.83it/s]\n",
      " 90%|█████████ | 9/10 [00:01<00:00,  5.80it/s]"
     ]
    },
    {
     "name": "stdout",
     "output_type": "stream",
     "text": [
      "Epoch 9, Loss: 0.0066\n"
     ]
    },
    {
     "name": "stderr",
     "output_type": "stream",
     "text": [
      "100%|██████████| 7/7 [00:00<00:00, 43.24it/s]\n",
      "100%|██████████| 10/10 [00:01<00:00,  6.08it/s]\n"
     ]
    },
    {
     "name": "stdout",
     "output_type": "stream",
     "text": [
      "Epoch 10, Loss: 0.0069\n",
      "[-0.04107220042757276, -0.16341925429347448, -0.0805527281216849, -0.01383803573254383, -0.1458905138569333, 0.003991120209600796, -0.08473416673505318, -0.0709857375357359, -0.16760981921295914, -0.204776789951149, -0.14512952489100517, -0.13120356535120847]\n"
     ]
    },
    {
     "name": "stderr",
     "output_type": "stream",
     "text": [
      "  0%|          | 0/10 [00:00<?, ?it/s]/Users/MathildeStouby/opt/anaconda3/lib/python3.9/site-packages/torch/nn/modules/loss.py:535: UserWarning: Using a target size (torch.Size([64])) that is different to the input size (torch.Size([64, 1])). This will likely lead to incorrect results due to broadcasting. Please ensure they have the same size.\n",
      "  return F.mse_loss(input, target, reduction=self.reduction)\n",
      "/Users/MathildeStouby/opt/anaconda3/lib/python3.9/site-packages/torch/nn/modules/loss.py:535: UserWarning: Using a target size (torch.Size([37])) that is different to the input size (torch.Size([37, 1])). This will likely lead to incorrect results due to broadcasting. Please ensure they have the same size.\n",
      "  return F.mse_loss(input, target, reduction=self.reduction)\n",
      "100%|██████████| 7/7 [00:00<00:00, 47.37it/s]\n",
      " 10%|█         | 1/10 [00:00<00:01,  6.63it/s]"
     ]
    },
    {
     "name": "stdout",
     "output_type": "stream",
     "text": [
      "Epoch 1, Loss: 0.0149\n"
     ]
    },
    {
     "name": "stderr",
     "output_type": "stream",
     "text": [
      "100%|██████████| 7/7 [00:00<00:00, 46.09it/s]\n",
      " 20%|██        | 2/10 [00:00<00:01,  6.53it/s]"
     ]
    },
    {
     "name": "stdout",
     "output_type": "stream",
     "text": [
      "Epoch 2, Loss: 0.0096\n"
     ]
    },
    {
     "name": "stderr",
     "output_type": "stream",
     "text": [
      "100%|██████████| 7/7 [00:00<00:00, 35.98it/s]\n",
      " 30%|███       | 3/10 [00:00<00:01,  5.77it/s]"
     ]
    },
    {
     "name": "stdout",
     "output_type": "stream",
     "text": [
      "Epoch 3, Loss: 0.0078\n"
     ]
    },
    {
     "name": "stderr",
     "output_type": "stream",
     "text": [
      "100%|██████████| 7/7 [00:00<00:00, 48.33it/s]\n",
      " 40%|████      | 4/10 [00:00<00:00,  6.13it/s]"
     ]
    },
    {
     "name": "stdout",
     "output_type": "stream",
     "text": [
      "Epoch 4, Loss: 0.0071\n"
     ]
    },
    {
     "name": "stderr",
     "output_type": "stream",
     "text": [
      "100%|██████████| 7/7 [00:00<00:00, 41.30it/s]\n",
      " 50%|█████     | 5/10 [00:00<00:00,  6.01it/s]"
     ]
    },
    {
     "name": "stdout",
     "output_type": "stream",
     "text": [
      "Epoch 5, Loss: 0.0070\n"
     ]
    },
    {
     "name": "stderr",
     "output_type": "stream",
     "text": [
      "100%|██████████| 7/7 [00:00<00:00, 35.62it/s]\n",
      " 60%|██████    | 6/10 [00:01<00:00,  5.62it/s]"
     ]
    },
    {
     "name": "stdout",
     "output_type": "stream",
     "text": [
      "Epoch 6, Loss: 0.0068\n"
     ]
    },
    {
     "name": "stderr",
     "output_type": "stream",
     "text": [
      "100%|██████████| 7/7 [00:00<00:00, 42.34it/s]\n",
      " 70%|███████   | 7/10 [00:01<00:00,  5.72it/s]"
     ]
    },
    {
     "name": "stdout",
     "output_type": "stream",
     "text": [
      "Epoch 7, Loss: 0.0070\n"
     ]
    },
    {
     "name": "stderr",
     "output_type": "stream",
     "text": [
      "100%|██████████| 7/7 [00:00<00:00, 48.60it/s]\n",
      " 80%|████████  | 8/10 [00:01<00:00,  6.03it/s]"
     ]
    },
    {
     "name": "stdout",
     "output_type": "stream",
     "text": [
      "Epoch 8, Loss: 0.0068\n"
     ]
    },
    {
     "name": "stderr",
     "output_type": "stream",
     "text": [
      "100%|██████████| 7/7 [00:00<00:00, 36.71it/s]\n",
      " 90%|█████████ | 9/10 [00:01<00:00,  5.73it/s]"
     ]
    },
    {
     "name": "stdout",
     "output_type": "stream",
     "text": [
      "Epoch 9, Loss: 0.0067\n"
     ]
    },
    {
     "name": "stderr",
     "output_type": "stream",
     "text": [
      "100%|██████████| 7/7 [00:00<00:00, 45.92it/s]\n",
      "100%|██████████| 10/10 [00:01<00:00,  5.93it/s]\n"
     ]
    },
    {
     "name": "stdout",
     "output_type": "stream",
     "text": [
      "Epoch 10, Loss: 0.0068\n",
      "[-0.04107220042757276, -0.16341925429347448, -0.0805527281216849, -0.01383803573254383, -0.1458905138569333, 0.003991120209600796, -0.08473416673505318, -0.0709857375357359, -0.16760981921295914, -0.204776789951149, -0.14512952489100517, -0.13120356535120847, -0.17715514817134737]\n"
     ]
    },
    {
     "name": "stderr",
     "output_type": "stream",
     "text": [
      "  0%|          | 0/10 [00:00<?, ?it/s]/Users/MathildeStouby/opt/anaconda3/lib/python3.9/site-packages/torch/nn/modules/loss.py:535: UserWarning: Using a target size (torch.Size([64])) that is different to the input size (torch.Size([64, 1])). This will likely lead to incorrect results due to broadcasting. Please ensure they have the same size.\n",
      "  return F.mse_loss(input, target, reduction=self.reduction)\n",
      "/Users/MathildeStouby/opt/anaconda3/lib/python3.9/site-packages/torch/nn/modules/loss.py:535: UserWarning: Using a target size (torch.Size([37])) that is different to the input size (torch.Size([37, 1])). This will likely lead to incorrect results due to broadcasting. Please ensure they have the same size.\n",
      "  return F.mse_loss(input, target, reduction=self.reduction)\n",
      "100%|██████████| 7/7 [00:00<00:00, 46.71it/s]\n",
      " 10%|█         | 1/10 [00:00<00:01,  6.59it/s]"
     ]
    },
    {
     "name": "stdout",
     "output_type": "stream",
     "text": [
      "Epoch 1, Loss: 0.0174\n"
     ]
    },
    {
     "name": "stderr",
     "output_type": "stream",
     "text": [
      "100%|██████████| 7/7 [00:00<00:00, 35.84it/s]\n",
      " 20%|██        | 2/10 [00:00<00:01,  5.58it/s]"
     ]
    },
    {
     "name": "stdout",
     "output_type": "stream",
     "text": [
      "Epoch 2, Loss: 0.0102\n"
     ]
    },
    {
     "name": "stderr",
     "output_type": "stream",
     "text": [
      "100%|██████████| 7/7 [00:00<00:00, 45.50it/s]\n",
      " 30%|███       | 3/10 [00:00<00:01,  5.92it/s]"
     ]
    },
    {
     "name": "stdout",
     "output_type": "stream",
     "text": [
      "Epoch 3, Loss: 0.0079\n"
     ]
    },
    {
     "name": "stderr",
     "output_type": "stream",
     "text": [
      "100%|██████████| 7/7 [00:00<00:00, 47.53it/s]\n",
      " 40%|████      | 4/10 [00:00<00:00,  6.19it/s]"
     ]
    },
    {
     "name": "stdout",
     "output_type": "stream",
     "text": [
      "Epoch 4, Loss: 0.0073\n"
     ]
    },
    {
     "name": "stderr",
     "output_type": "stream",
     "text": [
      "100%|██████████| 7/7 [00:00<00:00, 34.57it/s]\n",
      " 50%|█████     | 5/10 [00:00<00:00,  5.64it/s]"
     ]
    },
    {
     "name": "stdout",
     "output_type": "stream",
     "text": [
      "Epoch 5, Loss: 0.0071\n"
     ]
    },
    {
     "name": "stderr",
     "output_type": "stream",
     "text": [
      "100%|██████████| 7/7 [00:00<00:00, 45.46it/s]\n",
      " 60%|██████    | 6/10 [00:01<00:00,  5.88it/s]"
     ]
    },
    {
     "name": "stdout",
     "output_type": "stream",
     "text": [
      "Epoch 6, Loss: 0.0068\n"
     ]
    },
    {
     "name": "stderr",
     "output_type": "stream",
     "text": [
      "100%|██████████| 7/7 [00:00<00:00, 46.89it/s]\n",
      " 70%|███████   | 7/10 [00:01<00:00,  6.09it/s]"
     ]
    },
    {
     "name": "stdout",
     "output_type": "stream",
     "text": [
      "Epoch 7, Loss: 0.0067\n"
     ]
    },
    {
     "name": "stderr",
     "output_type": "stream",
     "text": [
      "100%|██████████| 7/7 [00:00<00:00, 31.75it/s]\n",
      " 80%|████████  | 8/10 [00:01<00:00,  5.47it/s]"
     ]
    },
    {
     "name": "stdout",
     "output_type": "stream",
     "text": [
      "Epoch 8, Loss: 0.0069\n"
     ]
    },
    {
     "name": "stderr",
     "output_type": "stream",
     "text": [
      "100%|██████████| 7/7 [00:00<00:00, 47.95it/s]\n",
      " 90%|█████████ | 9/10 [00:01<00:00,  5.79it/s]"
     ]
    },
    {
     "name": "stdout",
     "output_type": "stream",
     "text": [
      "Epoch 9, Loss: 0.0067\n"
     ]
    },
    {
     "name": "stderr",
     "output_type": "stream",
     "text": [
      "100%|██████████| 7/7 [00:00<00:00, 46.35it/s]\n",
      "100%|██████████| 10/10 [00:01<00:00,  5.89it/s]\n"
     ]
    },
    {
     "name": "stdout",
     "output_type": "stream",
     "text": [
      "Epoch 10, Loss: 0.0066\n",
      "[-0.04107220042757276, -0.16341925429347448, -0.0805527281216849, -0.01383803573254383, -0.1458905138569333, 0.003991120209600796, -0.08473416673505318, -0.0709857375357359, -0.16760981921295914, -0.204776789951149, -0.14512952489100517, -0.13120356535120847, -0.17715514817134737, -0.19104165941538187]\n"
     ]
    },
    {
     "name": "stderr",
     "output_type": "stream",
     "text": [
      "  0%|          | 0/10 [00:00<?, ?it/s]/Users/MathildeStouby/opt/anaconda3/lib/python3.9/site-packages/torch/nn/modules/loss.py:535: UserWarning: Using a target size (torch.Size([64])) that is different to the input size (torch.Size([64, 1])). This will likely lead to incorrect results due to broadcasting. Please ensure they have the same size.\n",
      "  return F.mse_loss(input, target, reduction=self.reduction)\n",
      "/Users/MathildeStouby/opt/anaconda3/lib/python3.9/site-packages/torch/nn/modules/loss.py:535: UserWarning: Using a target size (torch.Size([37])) that is different to the input size (torch.Size([37, 1])). This will likely lead to incorrect results due to broadcasting. Please ensure they have the same size.\n",
      "  return F.mse_loss(input, target, reduction=self.reduction)\n",
      "100%|██████████| 7/7 [00:00<00:00, 49.42it/s]\n",
      " 10%|█         | 1/10 [00:00<00:01,  6.93it/s]"
     ]
    },
    {
     "name": "stdout",
     "output_type": "stream",
     "text": [
      "Epoch 1, Loss: 0.0070\n"
     ]
    },
    {
     "name": "stderr",
     "output_type": "stream",
     "text": [
      "100%|██████████| 7/7 [00:00<00:00, 47.36it/s]\n",
      " 20%|██        | 2/10 [00:00<00:01,  6.75it/s]"
     ]
    },
    {
     "name": "stdout",
     "output_type": "stream",
     "text": [
      "Epoch 2, Loss: 0.0069\n"
     ]
    },
    {
     "name": "stderr",
     "output_type": "stream",
     "text": [
      "100%|██████████| 7/7 [00:00<00:00, 37.70it/s]\n",
      " 30%|███       | 3/10 [00:00<00:01,  6.01it/s]"
     ]
    },
    {
     "name": "stdout",
     "output_type": "stream",
     "text": [
      "Epoch 3, Loss: 0.0067\n"
     ]
    },
    {
     "name": "stderr",
     "output_type": "stream",
     "text": [
      "100%|██████████| 7/7 [00:00<00:00, 47.73it/s]\n",
      " 40%|████      | 4/10 [00:00<00:00,  6.26it/s]"
     ]
    },
    {
     "name": "stdout",
     "output_type": "stream",
     "text": [
      "Epoch 4, Loss: 0.0068\n"
     ]
    },
    {
     "name": "stderr",
     "output_type": "stream",
     "text": [
      "100%|██████████| 7/7 [00:00<00:00, 44.61it/s]\n",
      " 50%|█████     | 5/10 [00:00<00:00,  6.26it/s]"
     ]
    },
    {
     "name": "stdout",
     "output_type": "stream",
     "text": [
      "Epoch 5, Loss: 0.0068\n"
     ]
    },
    {
     "name": "stderr",
     "output_type": "stream",
     "text": [
      "100%|██████████| 7/7 [00:00<00:00, 35.22it/s]\n",
      " 60%|██████    | 6/10 [00:00<00:00,  5.74it/s]"
     ]
    },
    {
     "name": "stdout",
     "output_type": "stream",
     "text": [
      "Epoch 6, Loss: 0.0069\n"
     ]
    },
    {
     "name": "stderr",
     "output_type": "stream",
     "text": [
      "100%|██████████| 7/7 [00:00<00:00, 48.85it/s]\n",
      " 70%|███████   | 7/10 [00:01<00:00,  6.05it/s]"
     ]
    },
    {
     "name": "stdout",
     "output_type": "stream",
     "text": [
      "Epoch 7, Loss: 0.0068\n"
     ]
    },
    {
     "name": "stderr",
     "output_type": "stream",
     "text": [
      "100%|██████████| 7/7 [00:00<00:00, 46.08it/s]\n",
      " 80%|████████  | 8/10 [00:01<00:00,  6.17it/s]"
     ]
    },
    {
     "name": "stdout",
     "output_type": "stream",
     "text": [
      "Epoch 8, Loss: 0.0069\n"
     ]
    },
    {
     "name": "stderr",
     "output_type": "stream",
     "text": [
      "100%|██████████| 7/7 [00:00<00:00, 37.45it/s]\n",
      " 90%|█████████ | 9/10 [00:01<00:00,  5.85it/s]"
     ]
    },
    {
     "name": "stdout",
     "output_type": "stream",
     "text": [
      "Epoch 9, Loss: 0.0067\n"
     ]
    },
    {
     "name": "stderr",
     "output_type": "stream",
     "text": [
      "100%|██████████| 7/7 [00:00<00:00, 46.01it/s]\n",
      "100%|██████████| 10/10 [00:01<00:00,  6.09it/s]\n"
     ]
    },
    {
     "name": "stdout",
     "output_type": "stream",
     "text": [
      "Epoch 10, Loss: 0.0065\n",
      "[-0.04107220042757276, -0.16341925429347448, -0.0805527281216849, -0.01383803573254383, -0.1458905138569333, 0.003991120209600796, -0.08473416673505318, -0.0709857375357359, -0.16760981921295914, -0.204776789951149, -0.14512952489100517, -0.13120356535120847, -0.17715514817134737, -0.19104165941538187, -0.09287817013664101]\n"
     ]
    },
    {
     "name": "stderr",
     "output_type": "stream",
     "text": [
      "  0%|          | 0/10 [00:00<?, ?it/s]/Users/MathildeStouby/opt/anaconda3/lib/python3.9/site-packages/torch/nn/modules/loss.py:535: UserWarning: Using a target size (torch.Size([64])) that is different to the input size (torch.Size([64, 1])). This will likely lead to incorrect results due to broadcasting. Please ensure they have the same size.\n",
      "  return F.mse_loss(input, target, reduction=self.reduction)\n",
      "/Users/MathildeStouby/opt/anaconda3/lib/python3.9/site-packages/torch/nn/modules/loss.py:535: UserWarning: Using a target size (torch.Size([37])) that is different to the input size (torch.Size([37, 1])). This will likely lead to incorrect results due to broadcasting. Please ensure they have the same size.\n",
      "  return F.mse_loss(input, target, reduction=self.reduction)\n",
      "100%|██████████| 7/7 [00:00<00:00, 43.48it/s]\n",
      " 10%|█         | 1/10 [00:00<00:01,  6.12it/s]"
     ]
    },
    {
     "name": "stdout",
     "output_type": "stream",
     "text": [
      "Epoch 1, Loss: 0.0122\n"
     ]
    },
    {
     "name": "stderr",
     "output_type": "stream",
     "text": [
      "100%|██████████| 7/7 [00:00<00:00, 35.49it/s]\n",
      " 20%|██        | 2/10 [00:00<00:01,  5.41it/s]"
     ]
    },
    {
     "name": "stdout",
     "output_type": "stream",
     "text": [
      "Epoch 2, Loss: 0.0085\n"
     ]
    },
    {
     "name": "stderr",
     "output_type": "stream",
     "text": [
      "100%|██████████| 7/7 [00:00<00:00, 48.18it/s]\n",
      " 30%|███       | 3/10 [00:00<00:01,  5.95it/s]"
     ]
    },
    {
     "name": "stdout",
     "output_type": "stream",
     "text": [
      "Epoch 3, Loss: 0.0074\n"
     ]
    },
    {
     "name": "stderr",
     "output_type": "stream",
     "text": [
      "100%|██████████| 7/7 [00:00<00:00, 46.51it/s]\n",
      " 40%|████      | 4/10 [00:00<00:00,  6.16it/s]"
     ]
    },
    {
     "name": "stdout",
     "output_type": "stream",
     "text": [
      "Epoch 4, Loss: 0.0071\n"
     ]
    },
    {
     "name": "stderr",
     "output_type": "stream",
     "text": [
      "100%|██████████| 7/7 [00:00<00:00, 35.25it/s]\n",
      " 50%|█████     | 5/10 [00:00<00:00,  5.66it/s]"
     ]
    },
    {
     "name": "stdout",
     "output_type": "stream",
     "text": [
      "Epoch 5, Loss: 0.0069\n"
     ]
    },
    {
     "name": "stderr",
     "output_type": "stream",
     "text": [
      "100%|██████████| 7/7 [00:00<00:00, 45.97it/s]\n",
      " 60%|██████    | 6/10 [00:01<00:00,  5.90it/s]"
     ]
    },
    {
     "name": "stdout",
     "output_type": "stream",
     "text": [
      "Epoch 6, Loss: 0.0069\n"
     ]
    },
    {
     "name": "stderr",
     "output_type": "stream",
     "text": [
      "100%|██████████| 7/7 [00:00<00:00, 48.95it/s]\n",
      " 70%|███████   | 7/10 [00:01<00:00,  6.17it/s]"
     ]
    },
    {
     "name": "stdout",
     "output_type": "stream",
     "text": [
      "Epoch 7, Loss: 0.0071\n"
     ]
    },
    {
     "name": "stderr",
     "output_type": "stream",
     "text": [
      "100%|██████████| 7/7 [00:00<00:00, 36.97it/s]\n",
      " 80%|████████  | 8/10 [00:01<00:00,  5.82it/s]"
     ]
    },
    {
     "name": "stdout",
     "output_type": "stream",
     "text": [
      "Epoch 8, Loss: 0.0069\n"
     ]
    },
    {
     "name": "stderr",
     "output_type": "stream",
     "text": [
      "100%|██████████| 7/7 [00:00<00:00, 47.27it/s]\n",
      " 90%|█████████ | 9/10 [00:01<00:00,  6.05it/s]"
     ]
    },
    {
     "name": "stdout",
     "output_type": "stream",
     "text": [
      "Epoch 9, Loss: 0.0069\n"
     ]
    },
    {
     "name": "stderr",
     "output_type": "stream",
     "text": [
      "100%|██████████| 7/7 [00:00<00:00, 47.44it/s]\n",
      "100%|██████████| 10/10 [00:01<00:00,  6.01it/s]\n"
     ]
    },
    {
     "name": "stdout",
     "output_type": "stream",
     "text": [
      "Epoch 10, Loss: 0.0070\n",
      "[-0.04107220042757276, -0.16341925429347448, -0.0805527281216849, -0.01383803573254383, -0.1458905138569333, 0.003991120209600796, -0.08473416673505318, -0.0709857375357359, -0.16760981921295914, -0.204776789951149, -0.14512952489100517, -0.13120356535120847, -0.17715514817134737, -0.19104165941538187, -0.09287817013664101, -0.019152744647513265]\n"
     ]
    },
    {
     "name": "stderr",
     "output_type": "stream",
     "text": [
      "  0%|          | 0/10 [00:00<?, ?it/s]/Users/MathildeStouby/opt/anaconda3/lib/python3.9/site-packages/torch/nn/modules/loss.py:535: UserWarning: Using a target size (torch.Size([64])) that is different to the input size (torch.Size([64, 1])). This will likely lead to incorrect results due to broadcasting. Please ensure they have the same size.\n",
      "  return F.mse_loss(input, target, reduction=self.reduction)\n",
      "/Users/MathildeStouby/opt/anaconda3/lib/python3.9/site-packages/torch/nn/modules/loss.py:535: UserWarning: Using a target size (torch.Size([37])) that is different to the input size (torch.Size([37, 1])). This will likely lead to incorrect results due to broadcasting. Please ensure they have the same size.\n",
      "  return F.mse_loss(input, target, reduction=self.reduction)\n",
      "100%|██████████| 7/7 [00:00<00:00, 46.98it/s]\n",
      " 10%|█         | 1/10 [00:00<00:01,  6.62it/s]"
     ]
    },
    {
     "name": "stdout",
     "output_type": "stream",
     "text": [
      "Epoch 1, Loss: 0.0079\n"
     ]
    },
    {
     "name": "stderr",
     "output_type": "stream",
     "text": [
      "100%|██████████| 7/7 [00:00<00:00, 46.98it/s]\n",
      " 20%|██        | 2/10 [00:00<00:01,  6.59it/s]"
     ]
    },
    {
     "name": "stdout",
     "output_type": "stream",
     "text": [
      "Epoch 2, Loss: 0.0073\n"
     ]
    },
    {
     "name": "stderr",
     "output_type": "stream",
     "text": [
      "100%|██████████| 7/7 [00:00<00:00, 36.20it/s]\n",
      " 30%|███       | 3/10 [00:00<00:01,  5.81it/s]"
     ]
    },
    {
     "name": "stdout",
     "output_type": "stream",
     "text": [
      "Epoch 3, Loss: 0.0068\n"
     ]
    },
    {
     "name": "stderr",
     "output_type": "stream",
     "text": [
      "100%|██████████| 7/7 [00:00<00:00, 48.83it/s]\n",
      " 40%|████      | 4/10 [00:00<00:00,  6.17it/s]"
     ]
    },
    {
     "name": "stdout",
     "output_type": "stream",
     "text": [
      "Epoch 4, Loss: 0.0069\n"
     ]
    },
    {
     "name": "stderr",
     "output_type": "stream",
     "text": [
      "100%|██████████| 7/7 [00:00<00:00, 45.25it/s]\n",
      " 50%|█████     | 5/10 [00:00<00:00,  6.24it/s]"
     ]
    },
    {
     "name": "stdout",
     "output_type": "stream",
     "text": [
      "Epoch 5, Loss: 0.0067\n"
     ]
    },
    {
     "name": "stderr",
     "output_type": "stream",
     "text": [
      "100%|██████████| 7/7 [00:00<00:00, 37.16it/s]\n",
      " 60%|██████    | 6/10 [00:00<00:00,  5.85it/s]"
     ]
    },
    {
     "name": "stdout",
     "output_type": "stream",
     "text": [
      "Epoch 6, Loss: 0.0068\n"
     ]
    },
    {
     "name": "stderr",
     "output_type": "stream",
     "text": [
      "100%|██████████| 7/7 [00:00<00:00, 49.40it/s]\n",
      " 70%|███████   | 7/10 [00:01<00:00,  6.15it/s]"
     ]
    },
    {
     "name": "stdout",
     "output_type": "stream",
     "text": [
      "Epoch 7, Loss: 0.0068\n"
     ]
    },
    {
     "name": "stderr",
     "output_type": "stream",
     "text": [
      "100%|██████████| 7/7 [00:00<00:00, 52.74it/s]\n",
      " 80%|████████  | 8/10 [00:01<00:00,  6.49it/s]"
     ]
    },
    {
     "name": "stdout",
     "output_type": "stream",
     "text": [
      "Epoch 8, Loss: 0.0069\n"
     ]
    },
    {
     "name": "stderr",
     "output_type": "stream",
     "text": [
      "100%|██████████| 7/7 [00:00<00:00, 39.38it/s]\n",
      " 90%|█████████ | 9/10 [00:01<00:00,  6.16it/s]"
     ]
    },
    {
     "name": "stdout",
     "output_type": "stream",
     "text": [
      "Epoch 9, Loss: 0.0066\n"
     ]
    },
    {
     "name": "stderr",
     "output_type": "stream",
     "text": [
      "100%|██████████| 7/7 [00:00<00:00, 47.15it/s]\n",
      "100%|██████████| 10/10 [00:01<00:00,  6.22it/s]\n"
     ]
    },
    {
     "name": "stdout",
     "output_type": "stream",
     "text": [
      "Epoch 10, Loss: 0.0068\n",
      "[-0.04107220042757276, -0.16341925429347448, -0.0805527281216849, -0.01383803573254383, -0.1458905138569333, 0.003991120209600796, -0.08473416673505318, -0.0709857375357359, -0.16760981921295914, -0.204776789951149, -0.14512952489100517, -0.13120356535120847, -0.17715514817134737, -0.19104165941538187, -0.09287817013664101, -0.019152744647513265, -0.05550861737165769]\n"
     ]
    },
    {
     "name": "stderr",
     "output_type": "stream",
     "text": [
      "  0%|          | 0/10 [00:00<?, ?it/s]/Users/MathildeStouby/opt/anaconda3/lib/python3.9/site-packages/torch/nn/modules/loss.py:535: UserWarning: Using a target size (torch.Size([64])) that is different to the input size (torch.Size([64, 1])). This will likely lead to incorrect results due to broadcasting. Please ensure they have the same size.\n",
      "  return F.mse_loss(input, target, reduction=self.reduction)\n",
      "/Users/MathildeStouby/opt/anaconda3/lib/python3.9/site-packages/torch/nn/modules/loss.py:535: UserWarning: Using a target size (torch.Size([37])) that is different to the input size (torch.Size([37, 1])). This will likely lead to incorrect results due to broadcasting. Please ensure they have the same size.\n",
      "  return F.mse_loss(input, target, reduction=self.reduction)\n",
      "100%|██████████| 7/7 [00:00<00:00, 54.00it/s]\n",
      " 10%|█         | 1/10 [00:00<00:01,  7.59it/s]"
     ]
    },
    {
     "name": "stdout",
     "output_type": "stream",
     "text": [
      "Epoch 1, Loss: 0.0069\n"
     ]
    },
    {
     "name": "stderr",
     "output_type": "stream",
     "text": [
      "100%|██████████| 7/7 [00:00<00:00, 39.21it/s]\n",
      " 20%|██        | 2/10 [00:00<00:01,  6.20it/s]"
     ]
    },
    {
     "name": "stdout",
     "output_type": "stream",
     "text": [
      "Epoch 2, Loss: 0.0068\n"
     ]
    },
    {
     "name": "stderr",
     "output_type": "stream",
     "text": [
      "100%|██████████| 7/7 [00:00<00:00, 50.45it/s]\n",
      " 30%|███       | 3/10 [00:00<00:01,  6.56it/s]"
     ]
    },
    {
     "name": "stdout",
     "output_type": "stream",
     "text": [
      "Epoch 3, Loss: 0.0068\n"
     ]
    },
    {
     "name": "stderr",
     "output_type": "stream",
     "text": [
      "100%|██████████| 7/7 [00:00<00:00, 54.64it/s]\n",
      " 40%|████      | 4/10 [00:00<00:00,  6.95it/s]"
     ]
    },
    {
     "name": "stdout",
     "output_type": "stream",
     "text": [
      "Epoch 4, Loss: 0.0067\n"
     ]
    },
    {
     "name": "stderr",
     "output_type": "stream",
     "text": [
      "100%|██████████| 7/7 [00:00<00:00, 39.73it/s]\n",
      " 50%|█████     | 5/10 [00:00<00:00,  6.39it/s]"
     ]
    },
    {
     "name": "stdout",
     "output_type": "stream",
     "text": [
      "Epoch 5, Loss: 0.0067\n"
     ]
    },
    {
     "name": "stderr",
     "output_type": "stream",
     "text": [
      "100%|██████████| 7/7 [00:00<00:00, 47.84it/s]\n",
      " 60%|██████    | 6/10 [00:00<00:00,  6.49it/s]"
     ]
    },
    {
     "name": "stdout",
     "output_type": "stream",
     "text": [
      "Epoch 6, Loss: 0.0066\n"
     ]
    },
    {
     "name": "stderr",
     "output_type": "stream",
     "text": [
      "100%|██████████| 7/7 [00:00<00:00, 45.71it/s]\n",
      " 70%|███████   | 7/10 [00:01<00:00,  6.46it/s]"
     ]
    },
    {
     "name": "stdout",
     "output_type": "stream",
     "text": [
      "Epoch 7, Loss: 0.0067\n"
     ]
    },
    {
     "name": "stderr",
     "output_type": "stream",
     "text": [
      "100%|██████████| 7/7 [00:00<00:00, 30.53it/s]\n",
      " 80%|████████  | 8/10 [00:01<00:00,  5.57it/s]"
     ]
    },
    {
     "name": "stdout",
     "output_type": "stream",
     "text": [
      "Epoch 8, Loss: 0.0068\n"
     ]
    },
    {
     "name": "stderr",
     "output_type": "stream",
     "text": [
      "100%|██████████| 7/7 [00:00<00:00, 48.52it/s]\n",
      " 90%|█████████ | 9/10 [00:01<00:00,  5.90it/s]"
     ]
    },
    {
     "name": "stdout",
     "output_type": "stream",
     "text": [
      "Epoch 9, Loss: 0.0067\n"
     ]
    },
    {
     "name": "stderr",
     "output_type": "stream",
     "text": [
      "100%|██████████| 7/7 [00:00<00:00, 49.78it/s]\n",
      "100%|██████████| 10/10 [00:01<00:00,  6.27it/s]\n"
     ]
    },
    {
     "name": "stdout",
     "output_type": "stream",
     "text": [
      "Epoch 10, Loss: 0.0066\n",
      "[-0.04107220042757276, -0.16341925429347448, -0.0805527281216849, -0.01383803573254383, -0.1458905138569333, 0.003991120209600796, -0.08473416673505318, -0.0709857375357359, -0.16760981921295914, -0.204776789951149, -0.14512952489100517, -0.13120356535120847, -0.17715514817134737, -0.19104165941538187, -0.09287817013664101, -0.019152744647513265, -0.05550861737165769, -0.06634104092098081]\n"
     ]
    },
    {
     "name": "stderr",
     "output_type": "stream",
     "text": [
      "  0%|          | 0/10 [00:00<?, ?it/s]/Users/MathildeStouby/opt/anaconda3/lib/python3.9/site-packages/torch/nn/modules/loss.py:535: UserWarning: Using a target size (torch.Size([64])) that is different to the input size (torch.Size([64, 1])). This will likely lead to incorrect results due to broadcasting. Please ensure they have the same size.\n",
      "  return F.mse_loss(input, target, reduction=self.reduction)\n",
      "/Users/MathildeStouby/opt/anaconda3/lib/python3.9/site-packages/torch/nn/modules/loss.py:535: UserWarning: Using a target size (torch.Size([37])) that is different to the input size (torch.Size([37, 1])). This will likely lead to incorrect results due to broadcasting. Please ensure they have the same size.\n",
      "  return F.mse_loss(input, target, reduction=self.reduction)\n",
      "100%|██████████| 7/7 [00:00<00:00, 48.26it/s]\n",
      " 10%|█         | 1/10 [00:00<00:01,  6.78it/s]"
     ]
    },
    {
     "name": "stdout",
     "output_type": "stream",
     "text": [
      "Epoch 1, Loss: 0.0300\n"
     ]
    },
    {
     "name": "stderr",
     "output_type": "stream",
     "text": [
      "100%|██████████| 7/7 [00:00<00:00, 52.42it/s]\n",
      " 20%|██        | 2/10 [00:00<00:01,  7.09it/s]"
     ]
    },
    {
     "name": "stdout",
     "output_type": "stream",
     "text": [
      "Epoch 2, Loss: 0.0150\n"
     ]
    },
    {
     "name": "stderr",
     "output_type": "stream",
     "text": [
      "100%|██████████| 7/7 [00:00<00:00, 37.96it/s]\n",
      " 30%|███       | 3/10 [00:00<00:01,  6.17it/s]"
     ]
    },
    {
     "name": "stdout",
     "output_type": "stream",
     "text": [
      "Epoch 3, Loss: 0.0099\n"
     ]
    },
    {
     "name": "stderr",
     "output_type": "stream",
     "text": [
      "100%|██████████| 7/7 [00:00<00:00, 49.51it/s]\n",
      " 40%|████      | 4/10 [00:00<00:00,  6.44it/s]"
     ]
    },
    {
     "name": "stdout",
     "output_type": "stream",
     "text": [
      "Epoch 4, Loss: 0.0080\n"
     ]
    },
    {
     "name": "stderr",
     "output_type": "stream",
     "text": [
      "100%|██████████| 7/7 [00:00<00:00, 47.61it/s]\n",
      " 50%|█████     | 5/10 [00:00<00:00,  6.52it/s]"
     ]
    },
    {
     "name": "stdout",
     "output_type": "stream",
     "text": [
      "Epoch 5, Loss: 0.0074\n"
     ]
    },
    {
     "name": "stderr",
     "output_type": "stream",
     "text": [
      "100%|██████████| 7/7 [00:00<00:00, 39.48it/s]\n",
      " 60%|██████    | 6/10 [00:00<00:00,  6.16it/s]"
     ]
    },
    {
     "name": "stdout",
     "output_type": "stream",
     "text": [
      "Epoch 6, Loss: 0.0070\n"
     ]
    },
    {
     "name": "stderr",
     "output_type": "stream",
     "text": [
      "100%|██████████| 7/7 [00:00<00:00, 44.07it/s]\n",
      " 70%|███████   | 7/10 [00:01<00:00,  6.17it/s]"
     ]
    },
    {
     "name": "stdout",
     "output_type": "stream",
     "text": [
      "Epoch 7, Loss: 0.0067\n"
     ]
    },
    {
     "name": "stderr",
     "output_type": "stream",
     "text": [
      "100%|██████████| 7/7 [00:00<00:00, 47.02it/s]\n",
      " 80%|████████  | 8/10 [00:01<00:00,  6.29it/s]"
     ]
    },
    {
     "name": "stdout",
     "output_type": "stream",
     "text": [
      "Epoch 8, Loss: 0.0068\n"
     ]
    },
    {
     "name": "stderr",
     "output_type": "stream",
     "text": [
      "100%|██████████| 7/7 [00:00<00:00, 37.66it/s]\n",
      " 90%|█████████ | 9/10 [00:01<00:00,  5.95it/s]"
     ]
    },
    {
     "name": "stdout",
     "output_type": "stream",
     "text": [
      "Epoch 9, Loss: 0.0067\n"
     ]
    },
    {
     "name": "stderr",
     "output_type": "stream",
     "text": [
      "100%|██████████| 7/7 [00:00<00:00, 52.69it/s]\n",
      "100%|██████████| 10/10 [00:01<00:00,  6.32it/s]\n"
     ]
    },
    {
     "name": "stdout",
     "output_type": "stream",
     "text": [
      "Epoch 10, Loss: 0.0067\n",
      "[-0.04107220042757276, -0.16341925429347448, -0.0805527281216849, -0.01383803573254383, -0.1458905138569333, 0.003991120209600796, -0.08473416673505318, -0.0709857375357359, -0.16760981921295914, -0.204776789951149, -0.14512952489100517, -0.13120356535120847, -0.17715514817134737, -0.19104165941538187, -0.09287817013664101, -0.019152744647513265, -0.05550861737165769, -0.06634104092098081, -0.19215204117389972]\n"
     ]
    },
    {
     "name": "stderr",
     "output_type": "stream",
     "text": [
      "  0%|          | 0/10 [00:00<?, ?it/s]/Users/MathildeStouby/opt/anaconda3/lib/python3.9/site-packages/torch/nn/modules/loss.py:535: UserWarning: Using a target size (torch.Size([64])) that is different to the input size (torch.Size([64, 1])). This will likely lead to incorrect results due to broadcasting. Please ensure they have the same size.\n",
      "  return F.mse_loss(input, target, reduction=self.reduction)\n",
      "/Users/MathildeStouby/opt/anaconda3/lib/python3.9/site-packages/torch/nn/modules/loss.py:535: UserWarning: Using a target size (torch.Size([37])) that is different to the input size (torch.Size([37, 1])). This will likely lead to incorrect results due to broadcasting. Please ensure they have the same size.\n",
      "  return F.mse_loss(input, target, reduction=self.reduction)\n",
      "100%|██████████| 7/7 [00:00<00:00, 49.10it/s]\n",
      " 10%|█         | 1/10 [00:00<00:01,  6.92it/s]"
     ]
    },
    {
     "name": "stdout",
     "output_type": "stream",
     "text": [
      "Epoch 1, Loss: 0.0162\n"
     ]
    },
    {
     "name": "stderr",
     "output_type": "stream",
     "text": [
      "100%|██████████| 7/7 [00:00<00:00, 37.79it/s]\n",
      " 20%|██        | 2/10 [00:00<00:01,  5.87it/s]"
     ]
    },
    {
     "name": "stdout",
     "output_type": "stream",
     "text": [
      "Epoch 2, Loss: 0.0105\n"
     ]
    },
    {
     "name": "stderr",
     "output_type": "stream",
     "text": [
      "100%|██████████| 7/7 [00:00<00:00, 47.47it/s]\n",
      " 30%|███       | 3/10 [00:00<00:01,  6.21it/s]"
     ]
    },
    {
     "name": "stdout",
     "output_type": "stream",
     "text": [
      "Epoch 3, Loss: 0.0084\n"
     ]
    },
    {
     "name": "stderr",
     "output_type": "stream",
     "text": [
      "100%|██████████| 7/7 [00:00<00:00, 52.42it/s]\n",
      " 40%|████      | 4/10 [00:00<00:00,  6.61it/s]"
     ]
    },
    {
     "name": "stdout",
     "output_type": "stream",
     "text": [
      "Epoch 4, Loss: 0.0075\n"
     ]
    },
    {
     "name": "stderr",
     "output_type": "stream",
     "text": [
      "100%|██████████| 7/7 [00:00<00:00, 39.98it/s]\n",
      " 50%|█████     | 5/10 [00:00<00:00,  6.21it/s]"
     ]
    },
    {
     "name": "stdout",
     "output_type": "stream",
     "text": [
      "Epoch 5, Loss: 0.0073\n"
     ]
    },
    {
     "name": "stderr",
     "output_type": "stream",
     "text": [
      "100%|██████████| 7/7 [00:00<00:00, 47.59it/s]\n",
      " 60%|██████    | 6/10 [00:00<00:00,  6.36it/s]"
     ]
    },
    {
     "name": "stdout",
     "output_type": "stream",
     "text": [
      "Epoch 6, Loss: 0.0071\n"
     ]
    },
    {
     "name": "stderr",
     "output_type": "stream",
     "text": [
      "100%|██████████| 7/7 [00:00<00:00, 50.80it/s]\n",
      " 70%|███████   | 7/10 [00:01<00:00,  6.59it/s]"
     ]
    },
    {
     "name": "stdout",
     "output_type": "stream",
     "text": [
      "Epoch 7, Loss: 0.0070\n"
     ]
    },
    {
     "name": "stderr",
     "output_type": "stream",
     "text": [
      "100%|██████████| 7/7 [00:00<00:00, 37.66it/s]\n",
      " 80%|████████  | 8/10 [00:01<00:00,  6.12it/s]"
     ]
    },
    {
     "name": "stdout",
     "output_type": "stream",
     "text": [
      "Epoch 8, Loss: 0.0072\n"
     ]
    },
    {
     "name": "stderr",
     "output_type": "stream",
     "text": [
      "100%|██████████| 7/7 [00:00<00:00, 51.42it/s]\n",
      " 90%|█████████ | 9/10 [00:01<00:00,  6.42it/s]"
     ]
    },
    {
     "name": "stdout",
     "output_type": "stream",
     "text": [
      "Epoch 9, Loss: 0.0068\n"
     ]
    },
    {
     "name": "stderr",
     "output_type": "stream",
     "text": [
      "100%|██████████| 7/7 [00:00<00:00, 45.72it/s]\n",
      "100%|██████████| 10/10 [00:01<00:00,  6.36it/s]\n"
     ]
    },
    {
     "name": "stdout",
     "output_type": "stream",
     "text": [
      "Epoch 10, Loss: 0.0068\n",
      "[-0.04107220042757276, -0.16341925429347448, -0.0805527281216849, -0.01383803573254383, -0.1458905138569333, 0.003991120209600796, -0.08473416673505318, -0.0709857375357359, -0.16760981921295914, -0.204776789951149, -0.14512952489100517, -0.13120356535120847, -0.17715514817134737, -0.19104165941538187, -0.09287817013664101, -0.019152744647513265, -0.05550861737165769, -0.06634104092098081, -0.19215204117389972, -0.21853283980272842]\n"
     ]
    },
    {
     "name": "stderr",
     "output_type": "stream",
     "text": [
      "  0%|          | 0/10 [00:00<?, ?it/s]/Users/MathildeStouby/opt/anaconda3/lib/python3.9/site-packages/torch/nn/modules/loss.py:535: UserWarning: Using a target size (torch.Size([64])) that is different to the input size (torch.Size([64, 1])). This will likely lead to incorrect results due to broadcasting. Please ensure they have the same size.\n",
      "  return F.mse_loss(input, target, reduction=self.reduction)\n",
      "/Users/MathildeStouby/opt/anaconda3/lib/python3.9/site-packages/torch/nn/modules/loss.py:535: UserWarning: Using a target size (torch.Size([37])) that is different to the input size (torch.Size([37, 1])). This will likely lead to incorrect results due to broadcasting. Please ensure they have the same size.\n",
      "  return F.mse_loss(input, target, reduction=self.reduction)\n",
      "100%|██████████| 7/7 [00:00<00:00, 49.03it/s]\n",
      " 10%|█         | 1/10 [00:00<00:01,  6.88it/s]"
     ]
    },
    {
     "name": "stdout",
     "output_type": "stream",
     "text": [
      "Epoch 1, Loss: 0.0070\n"
     ]
    },
    {
     "name": "stderr",
     "output_type": "stream",
     "text": [
      "100%|██████████| 7/7 [00:00<00:00, 48.31it/s]\n",
      " 20%|██        | 2/10 [00:00<00:01,  6.79it/s]"
     ]
    },
    {
     "name": "stdout",
     "output_type": "stream",
     "text": [
      "Epoch 2, Loss: 0.0068\n"
     ]
    },
    {
     "name": "stderr",
     "output_type": "stream",
     "text": [
      "100%|██████████| 7/7 [00:00<00:00, 30.24it/s]\n",
      " 30%|███       | 3/10 [00:00<00:01,  5.34it/s]"
     ]
    },
    {
     "name": "stdout",
     "output_type": "stream",
     "text": [
      "Epoch 3, Loss: 0.0068\n"
     ]
    },
    {
     "name": "stderr",
     "output_type": "stream",
     "text": [
      "100%|██████████| 7/7 [00:00<00:00, 43.56it/s]\n",
      " 40%|████      | 4/10 [00:00<00:01,  5.62it/s]"
     ]
    },
    {
     "name": "stdout",
     "output_type": "stream",
     "text": [
      "Epoch 4, Loss: 0.0069\n"
     ]
    },
    {
     "name": "stderr",
     "output_type": "stream",
     "text": [
      "100%|██████████| 7/7 [00:00<00:00, 50.79it/s]\n",
      " 50%|█████     | 5/10 [00:00<00:00,  6.07it/s]"
     ]
    },
    {
     "name": "stdout",
     "output_type": "stream",
     "text": [
      "Epoch 5, Loss: 0.0068\n"
     ]
    },
    {
     "name": "stderr",
     "output_type": "stream",
     "text": [
      "100%|██████████| 7/7 [00:00<00:00, 38.48it/s]\n",
      " 60%|██████    | 6/10 [00:01<00:00,  5.83it/s]"
     ]
    },
    {
     "name": "stdout",
     "output_type": "stream",
     "text": [
      "Epoch 6, Loss: 0.0069\n"
     ]
    },
    {
     "name": "stderr",
     "output_type": "stream",
     "text": [
      "100%|██████████| 7/7 [00:00<00:00, 49.05it/s]\n",
      " 70%|███████   | 7/10 [00:01<00:00,  6.13it/s]"
     ]
    },
    {
     "name": "stdout",
     "output_type": "stream",
     "text": [
      "Epoch 7, Loss: 0.0068\n"
     ]
    },
    {
     "name": "stderr",
     "output_type": "stream",
     "text": [
      "100%|██████████| 7/7 [00:00<00:00, 47.73it/s]\n",
      " 80%|████████  | 8/10 [00:01<00:00,  6.30it/s]"
     ]
    },
    {
     "name": "stdout",
     "output_type": "stream",
     "text": [
      "Epoch 8, Loss: 0.0068\n"
     ]
    },
    {
     "name": "stderr",
     "output_type": "stream",
     "text": [
      "100%|██████████| 7/7 [00:00<00:00, 36.92it/s]\n",
      " 90%|█████████ | 9/10 [00:01<00:00,  5.91it/s]"
     ]
    },
    {
     "name": "stdout",
     "output_type": "stream",
     "text": [
      "Epoch 9, Loss: 0.0069\n"
     ]
    },
    {
     "name": "stderr",
     "output_type": "stream",
     "text": [
      "100%|██████████| 7/7 [00:00<00:00, 52.53it/s]\n",
      "100%|██████████| 10/10 [00:01<00:00,  6.09it/s]\n"
     ]
    },
    {
     "name": "stdout",
     "output_type": "stream",
     "text": [
      "Epoch 10, Loss: 0.0068\n",
      "[-0.04107220042757276, -0.16341925429347448, -0.0805527281216849, -0.01383803573254383, -0.1458905138569333, 0.003991120209600796, -0.08473416673505318, -0.0709857375357359, -0.16760981921295914, -0.204776789951149, -0.14512952489100517, -0.13120356535120847, -0.17715514817134737, -0.19104165941538187, -0.09287817013664101, -0.019152744647513265, -0.05550861737165769, -0.06634104092098081, -0.19215204117389972, -0.21853283980272842, -0.08412540853138695]\n"
     ]
    },
    {
     "name": "stderr",
     "output_type": "stream",
     "text": [
      "  0%|          | 0/10 [00:00<?, ?it/s]/Users/MathildeStouby/opt/anaconda3/lib/python3.9/site-packages/torch/nn/modules/loss.py:535: UserWarning: Using a target size (torch.Size([64])) that is different to the input size (torch.Size([64, 1])). This will likely lead to incorrect results due to broadcasting. Please ensure they have the same size.\n",
      "  return F.mse_loss(input, target, reduction=self.reduction)\n",
      "/Users/MathildeStouby/opt/anaconda3/lib/python3.9/site-packages/torch/nn/modules/loss.py:535: UserWarning: Using a target size (torch.Size([37])) that is different to the input size (torch.Size([37, 1])). This will likely lead to incorrect results due to broadcasting. Please ensure they have the same size.\n",
      "  return F.mse_loss(input, target, reduction=self.reduction)\n",
      "100%|██████████| 7/7 [00:00<00:00, 49.66it/s]\n",
      " 10%|█         | 1/10 [00:00<00:01,  6.99it/s]"
     ]
    },
    {
     "name": "stdout",
     "output_type": "stream",
     "text": [
      "Epoch 1, Loss: 0.0072\n"
     ]
    },
    {
     "name": "stderr",
     "output_type": "stream",
     "text": [
      "100%|██████████| 7/7 [00:00<00:00, 34.38it/s]\n",
      " 20%|██        | 2/10 [00:00<00:01,  5.54it/s]"
     ]
    },
    {
     "name": "stdout",
     "output_type": "stream",
     "text": [
      "Epoch 2, Loss: 0.0068\n"
     ]
    },
    {
     "name": "stderr",
     "output_type": "stream",
     "text": [
      "100%|██████████| 7/7 [00:00<00:00, 48.00it/s]\n",
      " 30%|███       | 3/10 [00:00<00:01,  6.02it/s]"
     ]
    },
    {
     "name": "stdout",
     "output_type": "stream",
     "text": [
      "Epoch 3, Loss: 0.0068\n"
     ]
    },
    {
     "name": "stderr",
     "output_type": "stream",
     "text": [
      "100%|██████████| 7/7 [00:00<00:00, 50.19it/s]\n",
      " 40%|████      | 4/10 [00:00<00:00,  6.38it/s]"
     ]
    },
    {
     "name": "stdout",
     "output_type": "stream",
     "text": [
      "Epoch 4, Loss: 0.0066\n"
     ]
    },
    {
     "name": "stderr",
     "output_type": "stream",
     "text": [
      "100%|██████████| 7/7 [00:00<00:00, 40.58it/s]\n",
      " 50%|█████     | 5/10 [00:00<00:00,  6.12it/s]"
     ]
    },
    {
     "name": "stdout",
     "output_type": "stream",
     "text": [
      "Epoch 5, Loss: 0.0067\n"
     ]
    },
    {
     "name": "stderr",
     "output_type": "stream",
     "text": [
      "100%|██████████| 7/7 [00:00<00:00, 48.11it/s]\n",
      " 60%|██████    | 6/10 [00:00<00:00,  6.32it/s]"
     ]
    },
    {
     "name": "stdout",
     "output_type": "stream",
     "text": [
      "Epoch 6, Loss: 0.0068\n"
     ]
    },
    {
     "name": "stderr",
     "output_type": "stream",
     "text": [
      "100%|██████████| 7/7 [00:00<00:00, 52.39it/s]\n",
      " 70%|███████   | 7/10 [00:01<00:00,  6.61it/s]"
     ]
    },
    {
     "name": "stdout",
     "output_type": "stream",
     "text": [
      "Epoch 7, Loss: 0.0067\n"
     ]
    },
    {
     "name": "stderr",
     "output_type": "stream",
     "text": [
      "100%|██████████| 7/7 [00:00<00:00, 38.89it/s]\n",
      " 80%|████████  | 8/10 [00:01<00:00,  6.19it/s]"
     ]
    },
    {
     "name": "stdout",
     "output_type": "stream",
     "text": [
      "Epoch 8, Loss: 0.0067\n"
     ]
    },
    {
     "name": "stderr",
     "output_type": "stream",
     "text": [
      "100%|██████████| 7/7 [00:00<00:00, 43.80it/s]\n",
      " 90%|█████████ | 9/10 [00:01<00:00,  6.18it/s]"
     ]
    },
    {
     "name": "stdout",
     "output_type": "stream",
     "text": [
      "Epoch 9, Loss: 0.0067\n"
     ]
    },
    {
     "name": "stderr",
     "output_type": "stream",
     "text": [
      "100%|██████████| 7/7 [00:00<00:00, 48.50it/s]\n",
      "100%|██████████| 10/10 [00:01<00:00,  6.27it/s]\n"
     ]
    },
    {
     "name": "stdout",
     "output_type": "stream",
     "text": [
      "Epoch 10, Loss: 0.0068\n",
      "[-0.04107220042757276, -0.16341925429347448, -0.0805527281216849, -0.01383803573254383, -0.1458905138569333, 0.003991120209600796, -0.08473416673505318, -0.0709857375357359, -0.16760981921295914, -0.204776789951149, -0.14512952489100517, -0.13120356535120847, -0.17715514817134737, -0.19104165941538187, -0.09287817013664101, -0.019152744647513265, -0.05550861737165769, -0.06634104092098081, -0.19215204117389972, -0.21853283980272842, -0.08412540853138695, -0.09774334633086856]\n"
     ]
    },
    {
     "name": "stderr",
     "output_type": "stream",
     "text": [
      "  0%|          | 0/10 [00:00<?, ?it/s]/Users/MathildeStouby/opt/anaconda3/lib/python3.9/site-packages/torch/nn/modules/loss.py:535: UserWarning: Using a target size (torch.Size([64])) that is different to the input size (torch.Size([64, 1])). This will likely lead to incorrect results due to broadcasting. Please ensure they have the same size.\n",
      "  return F.mse_loss(input, target, reduction=self.reduction)\n",
      "/Users/MathildeStouby/opt/anaconda3/lib/python3.9/site-packages/torch/nn/modules/loss.py:535: UserWarning: Using a target size (torch.Size([37])) that is different to the input size (torch.Size([37, 1])). This will likely lead to incorrect results due to broadcasting. Please ensure they have the same size.\n",
      "  return F.mse_loss(input, target, reduction=self.reduction)\n",
      "100%|██████████| 7/7 [00:00<00:00, 47.60it/s]\n",
      " 10%|█         | 1/10 [00:00<00:01,  6.68it/s]"
     ]
    },
    {
     "name": "stdout",
     "output_type": "stream",
     "text": [
      "Epoch 1, Loss: 0.0069\n"
     ]
    },
    {
     "name": "stderr",
     "output_type": "stream",
     "text": [
      "100%|██████████| 7/7 [00:00<00:00, 46.53it/s]\n",
      " 20%|██        | 2/10 [00:00<00:01,  6.57it/s]"
     ]
    },
    {
     "name": "stdout",
     "output_type": "stream",
     "text": [
      "Epoch 2, Loss: 0.0068\n"
     ]
    },
    {
     "name": "stderr",
     "output_type": "stream",
     "text": [
      "100%|██████████| 7/7 [00:00<00:00, 37.43it/s]\n",
      " 30%|███       | 3/10 [00:00<00:01,  5.90it/s]"
     ]
    },
    {
     "name": "stdout",
     "output_type": "stream",
     "text": [
      "Epoch 3, Loss: 0.0066\n"
     ]
    },
    {
     "name": "stderr",
     "output_type": "stream",
     "text": [
      "100%|██████████| 7/7 [00:00<00:00, 45.52it/s]\n",
      " 40%|████      | 4/10 [00:00<00:00,  6.09it/s]"
     ]
    },
    {
     "name": "stdout",
     "output_type": "stream",
     "text": [
      "Epoch 4, Loss: 0.0066\n"
     ]
    },
    {
     "name": "stderr",
     "output_type": "stream",
     "text": [
      "100%|██████████| 7/7 [00:00<00:00, 49.87it/s]\n",
      " 50%|█████     | 5/10 [00:00<00:00,  6.39it/s]"
     ]
    },
    {
     "name": "stdout",
     "output_type": "stream",
     "text": [
      "Epoch 5, Loss: 0.0066\n"
     ]
    },
    {
     "name": "stderr",
     "output_type": "stream",
     "text": [
      "100%|██████████| 7/7 [00:00<00:00, 38.88it/s]\n",
      " 60%|██████    | 6/10 [00:00<00:00,  6.04it/s]"
     ]
    },
    {
     "name": "stdout",
     "output_type": "stream",
     "text": [
      "Epoch 6, Loss: 0.0067\n"
     ]
    },
    {
     "name": "stderr",
     "output_type": "stream",
     "text": [
      "100%|██████████| 7/7 [00:00<00:00, 51.57it/s]\n",
      " 70%|███████   | 7/10 [00:01<00:00,  6.38it/s]"
     ]
    },
    {
     "name": "stdout",
     "output_type": "stream",
     "text": [
      "Epoch 7, Loss: 0.0068\n"
     ]
    },
    {
     "name": "stderr",
     "output_type": "stream",
     "text": [
      "100%|██████████| 7/7 [00:00<00:00, 51.85it/s]\n",
      " 80%|████████  | 8/10 [00:01<00:00,  6.64it/s]"
     ]
    },
    {
     "name": "stdout",
     "output_type": "stream",
     "text": [
      "Epoch 8, Loss: 0.0067\n"
     ]
    },
    {
     "name": "stderr",
     "output_type": "stream",
     "text": [
      "100%|██████████| 7/7 [00:00<00:00, 37.46it/s]\n",
      " 90%|█████████ | 9/10 [00:01<00:00,  6.14it/s]"
     ]
    },
    {
     "name": "stdout",
     "output_type": "stream",
     "text": [
      "Epoch 9, Loss: 0.0067\n"
     ]
    },
    {
     "name": "stderr",
     "output_type": "stream",
     "text": [
      "100%|██████████| 7/7 [00:00<00:00, 47.36it/s]\n",
      "100%|██████████| 10/10 [00:01<00:00,  6.28it/s]\n"
     ]
    },
    {
     "name": "stdout",
     "output_type": "stream",
     "text": [
      "Epoch 10, Loss: 0.0067\n",
      "[-0.04107220042757276, -0.16341925429347448, -0.0805527281216849, -0.01383803573254383, -0.1458905138569333, 0.003991120209600796, -0.08473416673505318, -0.0709857375357359, -0.16760981921295914, -0.204776789951149, -0.14512952489100517, -0.13120356535120847, -0.17715514817134737, -0.19104165941538187, -0.09287817013664101, -0.019152744647513265, -0.05550861737165769, -0.06634104092098081, -0.19215204117389972, -0.21853283980272842, -0.08412540853138695, -0.09774334633086856, -0.08907761320491536]\n"
     ]
    },
    {
     "name": "stderr",
     "output_type": "stream",
     "text": [
      "  0%|          | 0/10 [00:00<?, ?it/s]/Users/MathildeStouby/opt/anaconda3/lib/python3.9/site-packages/torch/nn/modules/loss.py:535: UserWarning: Using a target size (torch.Size([64])) that is different to the input size (torch.Size([64, 1])). This will likely lead to incorrect results due to broadcasting. Please ensure they have the same size.\n",
      "  return F.mse_loss(input, target, reduction=self.reduction)\n",
      "/Users/MathildeStouby/opt/anaconda3/lib/python3.9/site-packages/torch/nn/modules/loss.py:535: UserWarning: Using a target size (torch.Size([37])) that is different to the input size (torch.Size([37, 1])). This will likely lead to incorrect results due to broadcasting. Please ensure they have the same size.\n",
      "  return F.mse_loss(input, target, reduction=self.reduction)\n",
      "100%|██████████| 7/7 [00:00<00:00, 49.75it/s]\n",
      " 10%|█         | 1/10 [00:00<00:01,  6.99it/s]"
     ]
    },
    {
     "name": "stdout",
     "output_type": "stream",
     "text": [
      "Epoch 1, Loss: 0.0157\n"
     ]
    },
    {
     "name": "stderr",
     "output_type": "stream",
     "text": [
      "100%|██████████| 7/7 [00:00<00:00, 37.63it/s]\n",
      " 20%|██        | 2/10 [00:00<00:01,  5.89it/s]"
     ]
    },
    {
     "name": "stdout",
     "output_type": "stream",
     "text": [
      "Epoch 2, Loss: 0.0105\n"
     ]
    },
    {
     "name": "stderr",
     "output_type": "stream",
     "text": [
      "100%|██████████| 7/7 [00:00<00:00, 45.85it/s]\n",
      " 30%|███       | 3/10 [00:00<00:01,  6.12it/s]"
     ]
    },
    {
     "name": "stdout",
     "output_type": "stream",
     "text": [
      "Epoch 3, Loss: 0.0083\n"
     ]
    },
    {
     "name": "stderr",
     "output_type": "stream",
     "text": [
      "100%|██████████| 7/7 [00:00<00:00, 49.55it/s]\n",
      " 40%|████      | 4/10 [00:00<00:00,  6.42it/s]"
     ]
    },
    {
     "name": "stdout",
     "output_type": "stream",
     "text": [
      "Epoch 4, Loss: 0.0075\n"
     ]
    },
    {
     "name": "stderr",
     "output_type": "stream",
     "text": [
      "100%|██████████| 7/7 [00:00<00:00, 37.62it/s]\n",
      " 50%|█████     | 5/10 [00:00<00:00,  5.96it/s]"
     ]
    },
    {
     "name": "stdout",
     "output_type": "stream",
     "text": [
      "Epoch 5, Loss: 0.0070\n"
     ]
    },
    {
     "name": "stderr",
     "output_type": "stream",
     "text": [
      "100%|██████████| 7/7 [00:00<00:00, 46.48it/s]\n",
      " 60%|██████    | 6/10 [00:00<00:00,  6.14it/s]"
     ]
    },
    {
     "name": "stdout",
     "output_type": "stream",
     "text": [
      "Epoch 6, Loss: 0.0069\n"
     ]
    },
    {
     "name": "stderr",
     "output_type": "stream",
     "text": [
      "100%|██████████| 7/7 [00:00<00:00, 51.00it/s]\n",
      " 70%|███████   | 7/10 [00:01<00:00,  6.43it/s]"
     ]
    },
    {
     "name": "stdout",
     "output_type": "stream",
     "text": [
      "Epoch 7, Loss: 0.0067\n"
     ]
    },
    {
     "name": "stderr",
     "output_type": "stream",
     "text": [
      "100%|██████████| 7/7 [00:00<00:00, 39.21it/s]\n",
      " 80%|████████  | 8/10 [00:01<00:00,  6.11it/s]"
     ]
    },
    {
     "name": "stdout",
     "output_type": "stream",
     "text": [
      "Epoch 8, Loss: 0.0067\n"
     ]
    },
    {
     "name": "stderr",
     "output_type": "stream",
     "text": [
      "100%|██████████| 7/7 [00:00<00:00, 44.03it/s]\n",
      " 90%|█████████ | 9/10 [00:01<00:00,  6.12it/s]"
     ]
    },
    {
     "name": "stdout",
     "output_type": "stream",
     "text": [
      "Epoch 9, Loss: 0.0067\n"
     ]
    },
    {
     "name": "stderr",
     "output_type": "stream",
     "text": [
      "100%|██████████| 7/7 [00:00<00:00, 46.80it/s]\n",
      "100%|██████████| 10/10 [00:01<00:00,  6.21it/s]\n"
     ]
    },
    {
     "name": "stdout",
     "output_type": "stream",
     "text": [
      "Epoch 10, Loss: 0.0066\n",
      "[-0.04107220042757276, -0.16341925429347448, -0.0805527281216849, -0.01383803573254383, -0.1458905138569333, 0.003991120209600796, -0.08473416673505318, -0.0709857375357359, -0.16760981921295914, -0.204776789951149, -0.14512952489100517, -0.13120356535120847, -0.17715514817134737, -0.19104165941538187, -0.09287817013664101, -0.019152744647513265, -0.05550861737165769, -0.06634104092098081, -0.19215204117389972, -0.21853283980272842, -0.08412540853138695, -0.09774334633086856, -0.08907761320491536, -0.16510877352036846]\n"
     ]
    },
    {
     "name": "stderr",
     "output_type": "stream",
     "text": [
      "  0%|          | 0/10 [00:00<?, ?it/s]/Users/MathildeStouby/opt/anaconda3/lib/python3.9/site-packages/torch/nn/modules/loss.py:535: UserWarning: Using a target size (torch.Size([64])) that is different to the input size (torch.Size([64, 1])). This will likely lead to incorrect results due to broadcasting. Please ensure they have the same size.\n",
      "  return F.mse_loss(input, target, reduction=self.reduction)\n",
      "/Users/MathildeStouby/opt/anaconda3/lib/python3.9/site-packages/torch/nn/modules/loss.py:535: UserWarning: Using a target size (torch.Size([37])) that is different to the input size (torch.Size([37, 1])). This will likely lead to incorrect results due to broadcasting. Please ensure they have the same size.\n",
      "  return F.mse_loss(input, target, reduction=self.reduction)\n",
      "100%|██████████| 7/7 [00:00<00:00, 51.48it/s]\n",
      " 10%|█         | 1/10 [00:00<00:01,  7.25it/s]"
     ]
    },
    {
     "name": "stdout",
     "output_type": "stream",
     "text": [
      "Epoch 1, Loss: 0.0070\n"
     ]
    },
    {
     "name": "stderr",
     "output_type": "stream",
     "text": [
      "100%|██████████| 7/7 [00:00<00:00, 51.78it/s]\n",
      " 20%|██        | 2/10 [00:00<00:01,  7.24it/s]"
     ]
    },
    {
     "name": "stdout",
     "output_type": "stream",
     "text": [
      "Epoch 2, Loss: 0.0070\n"
     ]
    },
    {
     "name": "stderr",
     "output_type": "stream",
     "text": [
      "100%|██████████| 7/7 [00:00<00:00, 38.44it/s]\n",
      " 30%|███       | 3/10 [00:00<00:01,  6.28it/s]"
     ]
    },
    {
     "name": "stdout",
     "output_type": "stream",
     "text": [
      "Epoch 3, Loss: 0.0070\n"
     ]
    },
    {
     "name": "stderr",
     "output_type": "stream",
     "text": [
      "100%|██████████| 7/7 [00:00<00:00, 46.03it/s]\n",
      " 40%|████      | 4/10 [00:00<00:00,  6.35it/s]"
     ]
    },
    {
     "name": "stdout",
     "output_type": "stream",
     "text": [
      "Epoch 4, Loss: 0.0068\n"
     ]
    },
    {
     "name": "stderr",
     "output_type": "stream",
     "text": [
      "100%|██████████| 7/7 [00:00<00:00, 44.53it/s]\n",
      " 50%|█████     | 5/10 [00:00<00:00,  6.31it/s]"
     ]
    },
    {
     "name": "stdout",
     "output_type": "stream",
     "text": [
      "Epoch 5, Loss: 0.0070\n"
     ]
    },
    {
     "name": "stderr",
     "output_type": "stream",
     "text": [
      "100%|██████████| 7/7 [00:00<00:00, 36.07it/s]\n",
      " 60%|██████    | 6/10 [00:00<00:00,  5.82it/s]"
     ]
    },
    {
     "name": "stdout",
     "output_type": "stream",
     "text": [
      "Epoch 6, Loss: 0.0070\n"
     ]
    },
    {
     "name": "stderr",
     "output_type": "stream",
     "text": [
      "100%|██████████| 7/7 [00:00<00:00, 47.82it/s]\n",
      " 70%|███████   | 7/10 [00:01<00:00,  6.08it/s]"
     ]
    },
    {
     "name": "stdout",
     "output_type": "stream",
     "text": [
      "Epoch 7, Loss: 0.0070\n"
     ]
    },
    {
     "name": "stderr",
     "output_type": "stream",
     "text": [
      "100%|██████████| 7/7 [00:00<00:00, 51.59it/s]\n",
      " 80%|████████  | 8/10 [00:01<00:00,  6.40it/s]"
     ]
    },
    {
     "name": "stdout",
     "output_type": "stream",
     "text": [
      "Epoch 8, Loss: 0.0069\n"
     ]
    },
    {
     "name": "stderr",
     "output_type": "stream",
     "text": [
      "100%|██████████| 7/7 [00:00<00:00, 38.16it/s]\n",
      " 90%|█████████ | 9/10 [00:01<00:00,  6.05it/s]"
     ]
    },
    {
     "name": "stdout",
     "output_type": "stream",
     "text": [
      "Epoch 9, Loss: 0.0068\n"
     ]
    },
    {
     "name": "stderr",
     "output_type": "stream",
     "text": [
      "100%|██████████| 7/7 [00:00<00:00, 49.61it/s]\n",
      "100%|██████████| 10/10 [00:01<00:00,  6.29it/s]\n"
     ]
    },
    {
     "name": "stdout",
     "output_type": "stream",
     "text": [
      "Epoch 10, Loss: 0.0070\n",
      "[-0.04107220042757276, -0.16341925429347448, -0.0805527281216849, -0.01383803573254383, -0.1458905138569333, 0.003991120209600796, -0.08473416673505318, -0.0709857375357359, -0.16760981921295914, -0.204776789951149, -0.14512952489100517, -0.13120356535120847, -0.17715514817134737, -0.19104165941538187, -0.09287817013664101, -0.019152744647513265, -0.05550861737165769, -0.06634104092098081, -0.19215204117389972, -0.21853283980272842, -0.08412540853138695, -0.09774334633086856, -0.08907761320491536, -0.16510877352036846, -0.0353459046359792]\n"
     ]
    },
    {
     "name": "stderr",
     "output_type": "stream",
     "text": [
      "  0%|          | 0/10 [00:00<?, ?it/s]/Users/MathildeStouby/opt/anaconda3/lib/python3.9/site-packages/torch/nn/modules/loss.py:535: UserWarning: Using a target size (torch.Size([64])) that is different to the input size (torch.Size([64, 1])). This will likely lead to incorrect results due to broadcasting. Please ensure they have the same size.\n",
      "  return F.mse_loss(input, target, reduction=self.reduction)\n",
      "/Users/MathildeStouby/opt/anaconda3/lib/python3.9/site-packages/torch/nn/modules/loss.py:535: UserWarning: Using a target size (torch.Size([37])) that is different to the input size (torch.Size([37, 1])). This will likely lead to incorrect results due to broadcasting. Please ensure they have the same size.\n",
      "  return F.mse_loss(input, target, reduction=self.reduction)\n",
      "100%|██████████| 7/7 [00:00<00:00, 48.06it/s]\n",
      " 10%|█         | 1/10 [00:00<00:01,  6.79it/s]"
     ]
    },
    {
     "name": "stdout",
     "output_type": "stream",
     "text": [
      "Epoch 1, Loss: 0.0099\n"
     ]
    },
    {
     "name": "stderr",
     "output_type": "stream",
     "text": [
      "100%|██████████| 7/7 [00:00<00:00, 56.10it/s]\n",
      " 20%|██        | 2/10 [00:00<00:01,  7.36it/s]"
     ]
    },
    {
     "name": "stdout",
     "output_type": "stream",
     "text": [
      "Epoch 2, Loss: 0.0078\n"
     ]
    },
    {
     "name": "stderr",
     "output_type": "stream",
     "text": [
      "100%|██████████| 7/7 [00:00<00:00, 41.95it/s]\n",
      " 30%|███       | 3/10 [00:00<00:01,  6.62it/s]"
     ]
    },
    {
     "name": "stdout",
     "output_type": "stream",
     "text": [
      "Epoch 3, Loss: 0.0070\n"
     ]
    },
    {
     "name": "stderr",
     "output_type": "stream",
     "text": [
      "100%|██████████| 7/7 [00:00<00:00, 56.54it/s]\n",
      " 40%|████      | 4/10 [00:00<00:00,  7.07it/s]"
     ]
    },
    {
     "name": "stdout",
     "output_type": "stream",
     "text": [
      "Epoch 4, Loss: 0.0067\n"
     ]
    },
    {
     "name": "stderr",
     "output_type": "stream",
     "text": [
      "100%|██████████| 7/7 [00:00<00:00, 56.29it/s]\n",
      " 50%|█████     | 5/10 [00:00<00:00,  7.33it/s]"
     ]
    },
    {
     "name": "stdout",
     "output_type": "stream",
     "text": [
      "Epoch 5, Loss: 0.0065\n"
     ]
    },
    {
     "name": "stderr",
     "output_type": "stream",
     "text": [
      "100%|██████████| 7/7 [00:00<00:00, 45.25it/s]\n",
      " 60%|██████    | 6/10 [00:00<00:00,  6.96it/s]"
     ]
    },
    {
     "name": "stdout",
     "output_type": "stream",
     "text": [
      "Epoch 6, Loss: 0.0067\n"
     ]
    },
    {
     "name": "stderr",
     "output_type": "stream",
     "text": [
      "100%|██████████| 7/7 [00:00<00:00, 50.15it/s]\n",
      " 70%|███████   | 7/10 [00:00<00:00,  6.98it/s]"
     ]
    },
    {
     "name": "stdout",
     "output_type": "stream",
     "text": [
      "Epoch 7, Loss: 0.0066\n"
     ]
    },
    {
     "name": "stderr",
     "output_type": "stream",
     "text": [
      "100%|██████████| 7/7 [00:00<00:00, 56.09it/s]\n",
      " 80%|████████  | 8/10 [00:01<00:00,  7.23it/s]"
     ]
    },
    {
     "name": "stdout",
     "output_type": "stream",
     "text": [
      "Epoch 8, Loss: 0.0066\n"
     ]
    },
    {
     "name": "stderr",
     "output_type": "stream",
     "text": [
      "100%|██████████| 7/7 [00:00<00:00, 57.58it/s]\n",
      " 90%|█████████ | 9/10 [00:01<00:00,  7.47it/s]"
     ]
    },
    {
     "name": "stdout",
     "output_type": "stream",
     "text": [
      "Epoch 9, Loss: 0.0067\n"
     ]
    },
    {
     "name": "stderr",
     "output_type": "stream",
     "text": [
      "100%|██████████| 7/7 [00:00<00:00, 56.41it/s]\n",
      "100%|██████████| 10/10 [00:01<00:00,  7.26it/s]\n"
     ]
    },
    {
     "name": "stdout",
     "output_type": "stream",
     "text": [
      "Epoch 10, Loss: 0.0067\n",
      "[-0.04107220042757276, -0.16341925429347448, -0.0805527281216849, -0.01383803573254383, -0.1458905138569333, 0.003991120209600796, -0.08473416673505318, -0.0709857375357359, -0.16760981921295914, -0.204776789951149, -0.14512952489100517, -0.13120356535120847, -0.17715514817134737, -0.19104165941538187, -0.09287817013664101, -0.019152744647513265, -0.05550861737165769, -0.06634104092098081, -0.19215204117389972, -0.21853283980272842, -0.08412540853138695, -0.09774334633086856, -0.08907761320491536, -0.16510877352036846, -0.0353459046359792, -0.09855045049235223]\n"
     ]
    },
    {
     "name": "stderr",
     "output_type": "stream",
     "text": [
      "  0%|          | 0/10 [00:00<?, ?it/s]/Users/MathildeStouby/opt/anaconda3/lib/python3.9/site-packages/torch/nn/modules/loss.py:535: UserWarning: Using a target size (torch.Size([64])) that is different to the input size (torch.Size([64, 1])). This will likely lead to incorrect results due to broadcasting. Please ensure they have the same size.\n",
      "  return F.mse_loss(input, target, reduction=self.reduction)\n",
      "/Users/MathildeStouby/opt/anaconda3/lib/python3.9/site-packages/torch/nn/modules/loss.py:535: UserWarning: Using a target size (torch.Size([37])) that is different to the input size (torch.Size([37, 1])). This will likely lead to incorrect results due to broadcasting. Please ensure they have the same size.\n",
      "  return F.mse_loss(input, target, reduction=self.reduction)\n",
      "100%|██████████| 7/7 [00:00<00:00, 56.30it/s]\n",
      " 10%|█         | 1/10 [00:00<00:01,  7.91it/s]"
     ]
    },
    {
     "name": "stdout",
     "output_type": "stream",
     "text": [
      "Epoch 1, Loss: 0.0131\n"
     ]
    },
    {
     "name": "stderr",
     "output_type": "stream",
     "text": [
      "100%|██████████| 7/7 [00:00<00:00, 50.57it/s]\n",
      " 20%|██        | 2/10 [00:00<00:01,  7.41it/s]"
     ]
    },
    {
     "name": "stdout",
     "output_type": "stream",
     "text": [
      "Epoch 2, Loss: 0.0087\n"
     ]
    },
    {
     "name": "stderr",
     "output_type": "stream",
     "text": [
      "100%|██████████| 7/7 [00:00<00:00, 54.70it/s]\n",
      " 30%|███       | 3/10 [00:00<00:00,  7.52it/s]"
     ]
    },
    {
     "name": "stdout",
     "output_type": "stream",
     "text": [
      "Epoch 3, Loss: 0.0075\n"
     ]
    },
    {
     "name": "stderr",
     "output_type": "stream",
     "text": [
      "100%|██████████| 7/7 [00:00<00:00, 51.86it/s]\n",
      " 40%|████      | 4/10 [00:00<00:00,  7.42it/s]"
     ]
    },
    {
     "name": "stdout",
     "output_type": "stream",
     "text": [
      "Epoch 4, Loss: 0.0070\n"
     ]
    },
    {
     "name": "stderr",
     "output_type": "stream",
     "text": [
      "100%|██████████| 7/7 [00:00<00:00, 52.88it/s]\n",
      " 50%|█████     | 5/10 [00:00<00:00,  7.40it/s]"
     ]
    },
    {
     "name": "stdout",
     "output_type": "stream",
     "text": [
      "Epoch 5, Loss: 0.0072\n"
     ]
    },
    {
     "name": "stderr",
     "output_type": "stream",
     "text": [
      "100%|██████████| 7/7 [00:00<00:00, 54.92it/s]\n",
      " 60%|██████    | 6/10 [00:00<00:00,  7.49it/s]"
     ]
    },
    {
     "name": "stdout",
     "output_type": "stream",
     "text": [
      "Epoch 6, Loss: 0.0070\n"
     ]
    },
    {
     "name": "stderr",
     "output_type": "stream",
     "text": [
      "100%|██████████| 7/7 [00:00<00:00, 40.93it/s]\n",
      " 70%|███████   | 7/10 [00:00<00:00,  6.82it/s]"
     ]
    },
    {
     "name": "stdout",
     "output_type": "stream",
     "text": [
      "Epoch 7, Loss: 0.0070\n"
     ]
    },
    {
     "name": "stderr",
     "output_type": "stream",
     "text": [
      "100%|██████████| 7/7 [00:00<00:00, 57.01it/s]\n",
      " 80%|████████  | 8/10 [00:01<00:00,  7.15it/s]"
     ]
    },
    {
     "name": "stdout",
     "output_type": "stream",
     "text": [
      "Epoch 8, Loss: 0.0071\n"
     ]
    },
    {
     "name": "stderr",
     "output_type": "stream",
     "text": [
      "100%|██████████| 7/7 [00:00<00:00, 49.33it/s]\n",
      " 90%|█████████ | 9/10 [00:01<00:00,  7.06it/s]"
     ]
    },
    {
     "name": "stdout",
     "output_type": "stream",
     "text": [
      "Epoch 9, Loss: 0.0069\n"
     ]
    },
    {
     "name": "stderr",
     "output_type": "stream",
     "text": [
      "100%|██████████| 7/7 [00:00<00:00, 53.71it/s]\n",
      "100%|██████████| 10/10 [00:01<00:00,  7.25it/s]\n"
     ]
    },
    {
     "name": "stdout",
     "output_type": "stream",
     "text": [
      "Epoch 10, Loss: 0.0071\n",
      "[-0.04107220042757276, -0.16341925429347448, -0.0805527281216849, -0.01383803573254383, -0.1458905138569333, 0.003991120209600796, -0.08473416673505318, -0.0709857375357359, -0.16760981921295914, -0.204776789951149, -0.14512952489100517, -0.13120356535120847, -0.17715514817134737, -0.19104165941538187, -0.09287817013664101, -0.019152744647513265, -0.05550861737165769, -0.06634104092098081, -0.19215204117389972, -0.21853283980272842, -0.08412540853138695, -0.09774334633086856, -0.08907761320491536, -0.16510877352036846, -0.0353459046359792, -0.09855045049235223, -0.11388740902467243]\n"
     ]
    },
    {
     "name": "stderr",
     "output_type": "stream",
     "text": [
      "  0%|          | 0/10 [00:00<?, ?it/s]/Users/MathildeStouby/opt/anaconda3/lib/python3.9/site-packages/torch/nn/modules/loss.py:535: UserWarning: Using a target size (torch.Size([64])) that is different to the input size (torch.Size([64, 1])). This will likely lead to incorrect results due to broadcasting. Please ensure they have the same size.\n",
      "  return F.mse_loss(input, target, reduction=self.reduction)\n",
      "/Users/MathildeStouby/opt/anaconda3/lib/python3.9/site-packages/torch/nn/modules/loss.py:535: UserWarning: Using a target size (torch.Size([37])) that is different to the input size (torch.Size([37, 1])). This will likely lead to incorrect results due to broadcasting. Please ensure they have the same size.\n",
      "  return F.mse_loss(input, target, reduction=self.reduction)\n",
      "100%|██████████| 7/7 [00:00<00:00, 47.28it/s]\n",
      " 10%|█         | 1/10 [00:00<00:01,  6.51it/s]"
     ]
    },
    {
     "name": "stdout",
     "output_type": "stream",
     "text": [
      "Epoch 1, Loss: 0.0069\n"
     ]
    },
    {
     "name": "stderr",
     "output_type": "stream",
     "text": [
      "100%|██████████| 7/7 [00:00<00:00, 39.78it/s]\n",
      " 20%|██        | 2/10 [00:00<00:01,  5.86it/s]"
     ]
    },
    {
     "name": "stdout",
     "output_type": "stream",
     "text": [
      "Epoch 2, Loss: 0.0068\n"
     ]
    },
    {
     "name": "stderr",
     "output_type": "stream",
     "text": [
      "100%|██████████| 7/7 [00:00<00:00, 40.79it/s]\n",
      " 30%|███       | 3/10 [00:00<00:01,  5.80it/s]"
     ]
    },
    {
     "name": "stdout",
     "output_type": "stream",
     "text": [
      "Epoch 3, Loss: 0.0066\n"
     ]
    },
    {
     "name": "stderr",
     "output_type": "stream",
     "text": [
      "100%|██████████| 7/7 [00:00<00:00, 51.45it/s]\n",
      " 40%|████      | 4/10 [00:00<00:00,  6.29it/s]"
     ]
    },
    {
     "name": "stdout",
     "output_type": "stream",
     "text": [
      "Epoch 4, Loss: 0.0067\n"
     ]
    },
    {
     "name": "stderr",
     "output_type": "stream",
     "text": [
      "100%|██████████| 7/7 [00:00<00:00, 55.23it/s]\n",
      " 50%|█████     | 5/10 [00:00<00:00,  6.74it/s]"
     ]
    },
    {
     "name": "stdout",
     "output_type": "stream",
     "text": [
      "Epoch 5, Loss: 0.0067\n"
     ]
    },
    {
     "name": "stderr",
     "output_type": "stream",
     "text": [
      "100%|██████████| 7/7 [00:00<00:00, 58.32it/s]\n",
      " 60%|██████    | 6/10 [00:00<00:00,  7.16it/s]"
     ]
    },
    {
     "name": "stdout",
     "output_type": "stream",
     "text": [
      "Epoch 6, Loss: 0.0071\n"
     ]
    },
    {
     "name": "stderr",
     "output_type": "stream",
     "text": [
      "100%|██████████| 7/7 [00:00<00:00, 57.91it/s]\n",
      " 70%|███████   | 7/10 [00:01<00:00,  7.44it/s]"
     ]
    },
    {
     "name": "stdout",
     "output_type": "stream",
     "text": [
      "Epoch 7, Loss: 0.0067\n"
     ]
    },
    {
     "name": "stderr",
     "output_type": "stream",
     "text": [
      "100%|██████████| 7/7 [00:00<00:00, 56.07it/s]\n",
      " 80%|████████  | 8/10 [00:01<00:00,  7.57it/s]"
     ]
    },
    {
     "name": "stdout",
     "output_type": "stream",
     "text": [
      "Epoch 8, Loss: 0.0068\n"
     ]
    },
    {
     "name": "stderr",
     "output_type": "stream",
     "text": [
      "100%|██████████| 7/7 [00:00<00:00, 55.54it/s]\n",
      " 90%|█████████ | 9/10 [00:01<00:00,  7.62it/s]"
     ]
    },
    {
     "name": "stdout",
     "output_type": "stream",
     "text": [
      "Epoch 9, Loss: 0.0069\n"
     ]
    },
    {
     "name": "stderr",
     "output_type": "stream",
     "text": [
      "100%|██████████| 7/7 [00:00<00:00, 40.63it/s]\n",
      "100%|██████████| 10/10 [00:01<00:00,  6.86it/s]\n"
     ]
    },
    {
     "name": "stdout",
     "output_type": "stream",
     "text": [
      "Epoch 10, Loss: 0.0067\n",
      "[-0.04107220042757276, -0.16341925429347448, -0.0805527281216849, -0.01383803573254383, -0.1458905138569333, 0.003991120209600796, -0.08473416673505318, -0.0709857375357359, -0.16760981921295914, -0.204776789951149, -0.14512952489100517, -0.13120356535120847, -0.17715514817134737, -0.19104165941538187, -0.09287817013664101, -0.019152744647513265, -0.05550861737165769, -0.06634104092098081, -0.19215204117389972, -0.21853283980272842, -0.08412540853138695, -0.09774334633086856, -0.08907761320491536, -0.16510877352036846, -0.0353459046359792, -0.09855045049235223, -0.11388740902467243, -0.049144829359446085]\n"
     ]
    },
    {
     "name": "stderr",
     "output_type": "stream",
     "text": [
      "  0%|          | 0/10 [00:00<?, ?it/s]/Users/MathildeStouby/opt/anaconda3/lib/python3.9/site-packages/torch/nn/modules/loss.py:535: UserWarning: Using a target size (torch.Size([64])) that is different to the input size (torch.Size([64, 1])). This will likely lead to incorrect results due to broadcasting. Please ensure they have the same size.\n",
      "  return F.mse_loss(input, target, reduction=self.reduction)\n",
      "/Users/MathildeStouby/opt/anaconda3/lib/python3.9/site-packages/torch/nn/modules/loss.py:535: UserWarning: Using a target size (torch.Size([37])) that is different to the input size (torch.Size([37, 1])). This will likely lead to incorrect results due to broadcasting. Please ensure they have the same size.\n",
      "  return F.mse_loss(input, target, reduction=self.reduction)\n",
      "100%|██████████| 7/7 [00:00<00:00, 56.56it/s]\n",
      " 10%|█         | 1/10 [00:00<00:01,  7.94it/s]"
     ]
    },
    {
     "name": "stdout",
     "output_type": "stream",
     "text": [
      "Epoch 1, Loss: 0.0076\n"
     ]
    },
    {
     "name": "stderr",
     "output_type": "stream",
     "text": [
      "100%|██████████| 7/7 [00:00<00:00, 56.01it/s]\n",
      " 20%|██        | 2/10 [00:00<00:01,  7.88it/s]"
     ]
    },
    {
     "name": "stdout",
     "output_type": "stream",
     "text": [
      "Epoch 2, Loss: 0.0070\n"
     ]
    },
    {
     "name": "stderr",
     "output_type": "stream",
     "text": [
      "100%|██████████| 7/7 [00:00<00:00, 54.59it/s]\n",
      " 30%|███       | 3/10 [00:00<00:00,  7.76it/s]"
     ]
    },
    {
     "name": "stdout",
     "output_type": "stream",
     "text": [
      "Epoch 3, Loss: 0.0068\n"
     ]
    },
    {
     "name": "stderr",
     "output_type": "stream",
     "text": [
      "100%|██████████| 7/7 [00:00<00:00, 51.77it/s]\n",
      " 40%|████      | 4/10 [00:00<00:00,  7.54it/s]"
     ]
    },
    {
     "name": "stdout",
     "output_type": "stream",
     "text": [
      "Epoch 4, Loss: 0.0068\n"
     ]
    },
    {
     "name": "stderr",
     "output_type": "stream",
     "text": [
      "100%|██████████| 7/7 [00:00<00:00, 51.56it/s]\n",
      " 50%|█████     | 5/10 [00:00<00:00,  7.40it/s]"
     ]
    },
    {
     "name": "stdout",
     "output_type": "stream",
     "text": [
      "Epoch 5, Loss: 0.0069\n"
     ]
    },
    {
     "name": "stderr",
     "output_type": "stream",
     "text": [
      "100%|██████████| 7/7 [00:00<00:00, 40.58it/s]\n",
      " 60%|██████    | 6/10 [00:00<00:00,  6.73it/s]"
     ]
    },
    {
     "name": "stdout",
     "output_type": "stream",
     "text": [
      "Epoch 6, Loss: 0.0068\n"
     ]
    },
    {
     "name": "stderr",
     "output_type": "stream",
     "text": [
      "100%|██████████| 7/7 [00:00<00:00, 50.31it/s]\n",
      " 70%|███████   | 7/10 [00:00<00:00,  6.82it/s]"
     ]
    },
    {
     "name": "stdout",
     "output_type": "stream",
     "text": [
      "Epoch 7, Loss: 0.0066\n"
     ]
    },
    {
     "name": "stderr",
     "output_type": "stream",
     "text": [
      "100%|██████████| 7/7 [00:00<00:00, 57.03it/s]\n",
      " 80%|████████  | 8/10 [00:01<00:00,  7.15it/s]"
     ]
    },
    {
     "name": "stdout",
     "output_type": "stream",
     "text": [
      "Epoch 8, Loss: 0.0069\n"
     ]
    },
    {
     "name": "stderr",
     "output_type": "stream",
     "text": [
      "100%|██████████| 7/7 [00:00<00:00, 52.39it/s]\n",
      " 90%|█████████ | 9/10 [00:01<00:00,  7.20it/s]"
     ]
    },
    {
     "name": "stdout",
     "output_type": "stream",
     "text": [
      "Epoch 9, Loss: 0.0067\n"
     ]
    },
    {
     "name": "stderr",
     "output_type": "stream",
     "text": [
      "100%|██████████| 7/7 [00:00<00:00, 53.09it/s]\n",
      "100%|██████████| 10/10 [00:01<00:00,  7.26it/s]\n"
     ]
    },
    {
     "name": "stdout",
     "output_type": "stream",
     "text": [
      "Epoch 10, Loss: 0.0067\n",
      "[-0.04107220042757276, -0.16341925429347448, -0.0805527281216849, -0.01383803573254383, -0.1458905138569333, 0.003991120209600796, -0.08473416673505318, -0.0709857375357359, -0.16760981921295914, -0.204776789951149, -0.14512952489100517, -0.13120356535120847, -0.17715514817134737, -0.19104165941538187, -0.09287817013664101, -0.019152744647513265, -0.05550861737165769, -0.06634104092098081, -0.19215204117389972, -0.21853283980272842, -0.08412540853138695, -0.09774334633086856, -0.08907761320491536, -0.16510877352036846, -0.0353459046359792, -0.09855045049235223, -0.11388740902467243, -0.049144829359446085, -0.06526290047320371]\n"
     ]
    },
    {
     "name": "stderr",
     "output_type": "stream",
     "text": [
      "  0%|          | 0/10 [00:00<?, ?it/s]/Users/MathildeStouby/opt/anaconda3/lib/python3.9/site-packages/torch/nn/modules/loss.py:535: UserWarning: Using a target size (torch.Size([64])) that is different to the input size (torch.Size([64, 1])). This will likely lead to incorrect results due to broadcasting. Please ensure they have the same size.\n",
      "  return F.mse_loss(input, target, reduction=self.reduction)\n",
      "/Users/MathildeStouby/opt/anaconda3/lib/python3.9/site-packages/torch/nn/modules/loss.py:535: UserWarning: Using a target size (torch.Size([37])) that is different to the input size (torch.Size([37, 1])). This will likely lead to incorrect results due to broadcasting. Please ensure they have the same size.\n",
      "  return F.mse_loss(input, target, reduction=self.reduction)\n",
      "100%|██████████| 7/7 [00:00<00:00, 51.80it/s]\n",
      " 10%|█         | 1/10 [00:00<00:01,  7.26it/s]"
     ]
    },
    {
     "name": "stdout",
     "output_type": "stream",
     "text": [
      "Epoch 1, Loss: 0.0549\n"
     ]
    },
    {
     "name": "stderr",
     "output_type": "stream",
     "text": [
      "100%|██████████| 7/7 [00:00<00:00, 37.97it/s]\n",
      " 20%|██        | 2/10 [00:00<00:01,  5.97it/s]"
     ]
    },
    {
     "name": "stdout",
     "output_type": "stream",
     "text": [
      "Epoch 2, Loss: 0.0177\n"
     ]
    },
    {
     "name": "stderr",
     "output_type": "stream",
     "text": [
      "100%|██████████| 7/7 [00:00<00:00, 53.26it/s]\n",
      " 30%|███       | 3/10 [00:00<00:01,  6.56it/s]"
     ]
    },
    {
     "name": "stdout",
     "output_type": "stream",
     "text": [
      "Epoch 3, Loss: 0.0099\n"
     ]
    },
    {
     "name": "stderr",
     "output_type": "stream",
     "text": [
      "100%|██████████| 7/7 [00:00<00:00, 55.65it/s]\n",
      " 40%|████      | 4/10 [00:00<00:00,  6.99it/s]"
     ]
    },
    {
     "name": "stdout",
     "output_type": "stream",
     "text": [
      "Epoch 4, Loss: 0.0080\n"
     ]
    },
    {
     "name": "stderr",
     "output_type": "stream",
     "text": [
      "100%|██████████| 7/7 [00:00<00:00, 54.68it/s]\n",
      " 50%|█████     | 5/10 [00:00<00:00,  7.21it/s]"
     ]
    },
    {
     "name": "stdout",
     "output_type": "stream",
     "text": [
      "Epoch 5, Loss: 0.0075\n"
     ]
    },
    {
     "name": "stderr",
     "output_type": "stream",
     "text": [
      "100%|██████████| 7/7 [00:00<00:00, 53.74it/s]\n",
      " 60%|██████    | 6/10 [00:00<00:00,  7.31it/s]"
     ]
    },
    {
     "name": "stdout",
     "output_type": "stream",
     "text": [
      "Epoch 6, Loss: 0.0075\n"
     ]
    },
    {
     "name": "stderr",
     "output_type": "stream",
     "text": [
      "100%|██████████| 7/7 [00:00<00:00, 48.47it/s]\n",
      " 70%|███████   | 7/10 [00:01<00:00,  7.14it/s]"
     ]
    },
    {
     "name": "stdout",
     "output_type": "stream",
     "text": [
      "Epoch 7, Loss: 0.0073\n"
     ]
    },
    {
     "name": "stderr",
     "output_type": "stream",
     "text": [
      "100%|██████████| 7/7 [00:00<00:00, 56.12it/s]\n",
      " 80%|████████  | 8/10 [00:01<00:00,  7.34it/s]"
     ]
    },
    {
     "name": "stdout",
     "output_type": "stream",
     "text": [
      "Epoch 8, Loss: 0.0072\n"
     ]
    },
    {
     "name": "stderr",
     "output_type": "stream",
     "text": [
      "100%|██████████| 7/7 [00:00<00:00, 37.89it/s]\n",
      " 90%|█████████ | 9/10 [00:01<00:00,  6.57it/s]"
     ]
    },
    {
     "name": "stdout",
     "output_type": "stream",
     "text": [
      "Epoch 9, Loss: 0.0073\n"
     ]
    },
    {
     "name": "stderr",
     "output_type": "stream",
     "text": [
      "100%|██████████| 7/7 [00:00<00:00, 54.73it/s]\n",
      "100%|██████████| 10/10 [00:01<00:00,  6.91it/s]\n"
     ]
    },
    {
     "name": "stdout",
     "output_type": "stream",
     "text": [
      "Epoch 10, Loss: 0.0072\n",
      "[-0.04107220042757276, -0.16341925429347448, -0.0805527281216849, -0.01383803573254383, -0.1458905138569333, 0.003991120209600796, -0.08473416673505318, -0.0709857375357359, -0.16760981921295914, -0.204776789951149, -0.14512952489100517, -0.13120356535120847, -0.17715514817134737, -0.19104165941538187, -0.09287817013664101, -0.019152744647513265, -0.05550861737165769, -0.06634104092098081, -0.19215204117389972, -0.21853283980272842, -0.08412540853138695, -0.09774334633086856, -0.08907761320491536, -0.16510877352036846, -0.0353459046359792, -0.09855045049235223, -0.11388740902467243, -0.049144829359446085, -0.06526290047320371, 0.011450440412985485]\n"
     ]
    }
   ],
   "source": [
    "train_idx = random.sample(range(len(pyg_data)), int(len(pyg_data) * 0.8))\n",
    "test_idx = [i for i in range(len(pyg_data)) if i not in train_idx]\n",
    "train_data = [pyg_data[idx] for idx in train_idx]\n",
    "dataloader = DataLoader(train_data, batch_size=64, shuffle=True)\n",
    "\n",
    "class GAT(torch.nn.Module):\n",
    "    def __init__(self, input_dim, hidden_dim, output_dim, num_heads):\n",
    "        super(GAT, self).__init__()\n",
    "        self.layer1= GATConv(input_dim, hidden_dim, heads=num_heads, edge_dim=1)\n",
    "        self.layer2= GATConv(hidden_dim * num_heads, hidden_dim, heads=num_heads, edge_dim=1)\n",
    "        self.layer3= GATConv(hidden_dim * num_heads, hidden_dim, heads=num_heads, edge_dim=1)\n",
    "        #self.layer4= GATConv(hidden_dim * num_heads, hidden_dim, heads=num_heads)\n",
    "        self.layer5 = GATConv(hidden_dim * num_heads, output_dim, heads=1, edge_dim=1, concat=False)\n",
    "        self.activation_function = nn.ReLU()\n",
    "            \n",
    "    def forward(self, input, edge_index, edge_attr, batch):\n",
    "        output = self.activation_function(self.layer1(input, edge_index, edge_attr))\n",
    "        output = self.activation_function(self.layer2(output, edge_index, edge_attr))\n",
    "        output = self.activation_function(self.layer3(output, edge_index, edge_attr))\n",
    "        #output = self.activation_function(self.layer4(output, edge_index, edge_attr))\n",
    "        output = self.layer5(output, edge_index, edge_attr)\n",
    "        output = global_mean_pool(output, batch)\n",
    "        return output\n",
    "    \n",
    "\n",
    "input_dim = 5\n",
    "lr = 0.01\n",
    "epochs_num = 100\n",
    "\n",
    "scores = []\n",
    "for i in range(30):\n",
    "    gat = GAT(input_dim = input_dim, hidden_dim = 12, output_dim = 1, num_heads = 6)\n",
    "    optimizer = torch.optim.SGD(gat.parameters(), lr=lr)\n",
    "    loss_fn = torch.nn.MSELoss()\n",
    "    \n",
    "    for epoch in tqdm.tqdm(range(epochs_num)):\n",
    "        \n",
    "        epoch_loss = 0\n",
    "        for batch in tqdm.tqdm(dataloader):\n",
    "            # Forward pass\n",
    "            optimizer.zero_grad()\n",
    "            \n",
    "            output = gat(batch.x, batch.edge_index, batch.weight, batch.batch)\n",
    "            \n",
    "            # Calculate loss\n",
    "            loss = loss_fn(output, batch.momentum)\n",
    "            loss.backward()\n",
    "            torch.nn.utils.clip_grad_norm_(gat.parameters(), max_norm=2.0) \n",
    "\n",
    "            optimizer.step()\n",
    "            \n",
    "            epoch_loss += loss.item()\n",
    "        \n",
    "        print(f\"Epoch {epoch+1}, Loss: {epoch_loss/len(dataloader):.4f}\") \n",
    "    gat.eval() \n",
    "    y_pred  = []\n",
    "    y_true = []\n",
    "\n",
    "    with torch.no_grad():\n",
    "        for idx in test_idx:\n",
    "            batch = torch.zeros(pyg_data[idx].x.size(0), dtype=torch.long)\n",
    "            output = gat(pyg_data[idx].x, pyg_data[idx].edge_index, pyg_data[idx].weight, batch)\n",
    "            y_pred.append(output.item())\n",
    "            y_true.append(pyg_data[idx].momentum)\n",
    "            \n",
    "    from sklearn.metrics import r2_score\n",
    "    scores.append(r2_score(y_true, y_pred))\n",
    "    print(scores)"
   ]
  },
  {
   "cell_type": "code",
   "execution_count": 263,
   "metadata": {},
   "outputs": [
    {
     "data": {
      "text/plain": [
       "0.03125853053911398"
      ]
     },
     "execution_count": 263,
     "metadata": {},
     "output_type": "execute_result"
    }
   ],
   "source": [
    "y_pred  = []\n",
    "y_true = []\n",
    "\n",
    "with torch.no_grad():\n",
    "    for idx in test_idx:\n",
    "        batch = torch.zeros(pyg_data[idx].x.size(0), dtype=torch.long)\n",
    "        output = gat(pyg_data[idx].x, pyg_data[idx].edge_index, pyg_data[idx].weight, batch)\n",
    "        y_pred.append(output.item())\n",
    "        y_true.append(pyg_data[idx].momentum)\n",
    "        \n",
    "from sklearn.metrics import r2_score\n",
    "r2_score(y_true, y_pred)"
   ]
  },
  {
   "cell_type": "code",
   "execution_count": 231,
   "metadata": {},
   "outputs": [
    {
     "data": {
      "image/png": "[encoded data removed]",
      "text/plain": [
       "<Figure size 800x600 with 1 Axes>"
      ]
     },
     "metadata": {},
     "output_type": "display_data"
    }
   ],
   "source": [
    "import matplotlib.pyplot as plt\n",
    "y = np.array(y_pred)\n",
    "plt.figure(figsize=(8, 6))\n",
    "plt.hist(y, bins=10, color='blue', edgecolor='black', log=True)\n",
    "\n",
    "# Adding labels and title\n",
    "plt.title(\"Histogram of Very Small Values\")\n",
    "plt.xlabel(\"Value Range\")\n",
    "plt.ylabel(\"Frequency (Log Scale)\")\n",
    "\n",
    "# Show the histogram\n",
    "plt.show()"
   ]
  },
  {
   "cell_type": "code",
   "execution_count": 212,
   "metadata": {},
   "outputs": [
    {
     "ename": "RuntimeError",
     "evalue": "Expected index [23] to be smaller than self [1] apart from dimension 0 and to be smaller size than src [11]",
     "output_type": "error",
     "traceback": [
      "\u001b[1;31m---------------------------------------------------------------------------\u001b[0m",
      "\u001b[1;31mRuntimeError\u001b[0m                              Traceback (most recent call last)",
      "Cell \u001b[1;32mIn[212], line 8\u001b[0m\n\u001b[0;32m      6\u001b[0m \u001b[38;5;28;01mwith\u001b[39;00m torch\u001b[38;5;241m.\u001b[39mno_grad():\n\u001b[0;32m      7\u001b[0m     \u001b[38;5;28;01mfor\u001b[39;00m graph \u001b[38;5;129;01min\u001b[39;00m thors_kamp:\n\u001b[1;32m----> 8\u001b[0m         output \u001b[38;5;241m=\u001b[39m \u001b[43mgat\u001b[49m\u001b[43m(\u001b[49m\u001b[43mgraph\u001b[49m\u001b[38;5;241;43m.\u001b[39;49m\u001b[43mx\u001b[49m\u001b[43m,\u001b[49m\u001b[43m \u001b[49m\u001b[43mgraph\u001b[49m\u001b[38;5;241;43m.\u001b[39;49m\u001b[43medge_index\u001b[49m\u001b[43m,\u001b[49m\u001b[43m \u001b[49m\u001b[43mgraph\u001b[49m\u001b[38;5;241;43m.\u001b[39;49m\u001b[43mweight\u001b[49m\u001b[43m,\u001b[49m\u001b[43m \u001b[49m\u001b[43mbatch\u001b[49m\u001b[43m)\u001b[49m\n\u001b[0;32m      9\u001b[0m         y_pred\u001b[38;5;241m.\u001b[39mappend(output\u001b[38;5;241m.\u001b[39mitem())\n\u001b[0;32m     10\u001b[0m         y_true\u001b[38;5;241m.\u001b[39mappend(graph\u001b[38;5;241m.\u001b[39mmomentum)\n",
      "File \u001b[1;32m~\\AppData\\Roaming\\Python\\Python312\\site-packages\\torch\\nn\\modules\\module.py:1736\u001b[0m, in \u001b[0;36mModule._wrapped_call_impl\u001b[1;34m(self, *args, **kwargs)\u001b[0m\n\u001b[0;32m   1734\u001b[0m     \u001b[38;5;28;01mreturn\u001b[39;00m \u001b[38;5;28mself\u001b[39m\u001b[38;5;241m.\u001b[39m_compiled_call_impl(\u001b[38;5;241m*\u001b[39margs, \u001b[38;5;241m*\u001b[39m\u001b[38;5;241m*\u001b[39mkwargs)  \u001b[38;5;66;03m# type: ignore[misc]\u001b[39;00m\n\u001b[0;32m   1735\u001b[0m \u001b[38;5;28;01melse\u001b[39;00m:\n\u001b[1;32m-> 1736\u001b[0m     \u001b[38;5;28;01mreturn\u001b[39;00m \u001b[38;5;28;43mself\u001b[39;49m\u001b[38;5;241;43m.\u001b[39;49m\u001b[43m_call_impl\u001b[49m\u001b[43m(\u001b[49m\u001b[38;5;241;43m*\u001b[39;49m\u001b[43margs\u001b[49m\u001b[43m,\u001b[49m\u001b[43m \u001b[49m\u001b[38;5;241;43m*\u001b[39;49m\u001b[38;5;241;43m*\u001b[39;49m\u001b[43mkwargs\u001b[49m\u001b[43m)\u001b[49m\n",
      "File \u001b[1;32m~\\AppData\\Roaming\\Python\\Python312\\site-packages\\torch\\nn\\modules\\module.py:1747\u001b[0m, in \u001b[0;36mModule._call_impl\u001b[1;34m(self, *args, **kwargs)\u001b[0m\n\u001b[0;32m   1742\u001b[0m \u001b[38;5;66;03m# If we don't have any hooks, we want to skip the rest of the logic in\u001b[39;00m\n\u001b[0;32m   1743\u001b[0m \u001b[38;5;66;03m# this function, and just call forward.\u001b[39;00m\n\u001b[0;32m   1744\u001b[0m \u001b[38;5;28;01mif\u001b[39;00m \u001b[38;5;129;01mnot\u001b[39;00m (\u001b[38;5;28mself\u001b[39m\u001b[38;5;241m.\u001b[39m_backward_hooks \u001b[38;5;129;01mor\u001b[39;00m \u001b[38;5;28mself\u001b[39m\u001b[38;5;241m.\u001b[39m_backward_pre_hooks \u001b[38;5;129;01mor\u001b[39;00m \u001b[38;5;28mself\u001b[39m\u001b[38;5;241m.\u001b[39m_forward_hooks \u001b[38;5;129;01mor\u001b[39;00m \u001b[38;5;28mself\u001b[39m\u001b[38;5;241m.\u001b[39m_forward_pre_hooks\n\u001b[0;32m   1745\u001b[0m         \u001b[38;5;129;01mor\u001b[39;00m _global_backward_pre_hooks \u001b[38;5;129;01mor\u001b[39;00m _global_backward_hooks\n\u001b[0;32m   1746\u001b[0m         \u001b[38;5;129;01mor\u001b[39;00m _global_forward_hooks \u001b[38;5;129;01mor\u001b[39;00m _global_forward_pre_hooks):\n\u001b[1;32m-> 1747\u001b[0m     \u001b[38;5;28;01mreturn\u001b[39;00m \u001b[43mforward_call\u001b[49m\u001b[43m(\u001b[49m\u001b[38;5;241;43m*\u001b[39;49m\u001b[43margs\u001b[49m\u001b[43m,\u001b[49m\u001b[43m \u001b[49m\u001b[38;5;241;43m*\u001b[39;49m\u001b[38;5;241;43m*\u001b[39;49m\u001b[43mkwargs\u001b[49m\u001b[43m)\u001b[49m\n\u001b[0;32m   1749\u001b[0m result \u001b[38;5;241m=\u001b[39m \u001b[38;5;28;01mNone\u001b[39;00m\n\u001b[0;32m   1750\u001b[0m called_always_called_hooks \u001b[38;5;241m=\u001b[39m \u001b[38;5;28mset\u001b[39m()\n",
      "Cell \u001b[1;32mIn[198], line 16\u001b[0m, in \u001b[0;36mGAT.forward\u001b[1;34m(self, input, edge_index, edge_attr, batch)\u001b[0m\n\u001b[0;32m     14\u001b[0m output \u001b[38;5;241m=\u001b[39m \u001b[38;5;28mself\u001b[39m\u001b[38;5;241m.\u001b[39mactivation_function(\u001b[38;5;28mself\u001b[39m\u001b[38;5;241m.\u001b[39mlayer2(output, edge_index, edge_attr))\n\u001b[0;32m     15\u001b[0m output \u001b[38;5;241m=\u001b[39m \u001b[38;5;28mself\u001b[39m\u001b[38;5;241m.\u001b[39mlayer5(output, edge_index, edge_attr)\n\u001b[1;32m---> 16\u001b[0m output \u001b[38;5;241m=\u001b[39m \u001b[43mglobal_mean_pool\u001b[49m\u001b[43m(\u001b[49m\u001b[43moutput\u001b[49m\u001b[43m,\u001b[49m\u001b[43m \u001b[49m\u001b[43mbatch\u001b[49m\u001b[43m)\u001b[49m\n\u001b[0;32m     17\u001b[0m \u001b[38;5;28;01mreturn\u001b[39;00m output\n",
      "File \u001b[1;32m~\\AppData\\Roaming\\Python\\Python312\\site-packages\\torch_geometric\\nn\\pool\\glob.py:63\u001b[0m, in \u001b[0;36mglobal_mean_pool\u001b[1;34m(x, batch, size)\u001b[0m\n\u001b[0;32m     61\u001b[0m \u001b[38;5;28;01mif\u001b[39;00m batch \u001b[38;5;129;01mis\u001b[39;00m \u001b[38;5;28;01mNone\u001b[39;00m:\n\u001b[0;32m     62\u001b[0m     \u001b[38;5;28;01mreturn\u001b[39;00m x\u001b[38;5;241m.\u001b[39mmean(dim\u001b[38;5;241m=\u001b[39mdim, keepdim\u001b[38;5;241m=\u001b[39mx\u001b[38;5;241m.\u001b[39mdim() \u001b[38;5;241m<\u001b[39m\u001b[38;5;241m=\u001b[39m \u001b[38;5;241m2\u001b[39m)\n\u001b[1;32m---> 63\u001b[0m \u001b[38;5;28;01mreturn\u001b[39;00m \u001b[43mscatter\u001b[49m\u001b[43m(\u001b[49m\u001b[43mx\u001b[49m\u001b[43m,\u001b[49m\u001b[43m \u001b[49m\u001b[43mbatch\u001b[49m\u001b[43m,\u001b[49m\u001b[43m \u001b[49m\u001b[43mdim\u001b[49m\u001b[38;5;241;43m=\u001b[39;49m\u001b[43mdim\u001b[49m\u001b[43m,\u001b[49m\u001b[43m \u001b[49m\u001b[43mdim_size\u001b[49m\u001b[38;5;241;43m=\u001b[39;49m\u001b[43msize\u001b[49m\u001b[43m,\u001b[49m\u001b[43m \u001b[49m\u001b[43mreduce\u001b[49m\u001b[38;5;241;43m=\u001b[39;49m\u001b[38;5;124;43m'\u001b[39;49m\u001b[38;5;124;43mmean\u001b[39;49m\u001b[38;5;124;43m'\u001b[39;49m\u001b[43m)\u001b[49m\n",
      "File \u001b[1;32m~\\AppData\\Roaming\\Python\\Python312\\site-packages\\torch_geometric\\utils\\_scatter.py:79\u001b[0m, in \u001b[0;36mscatter\u001b[1;34m(src, index, dim, dim_size, reduce)\u001b[0m\n\u001b[0;32m     77\u001b[0m \u001b[38;5;28;01mif\u001b[39;00m reduce \u001b[38;5;241m==\u001b[39m \u001b[38;5;124m'\u001b[39m\u001b[38;5;124mmean\u001b[39m\u001b[38;5;124m'\u001b[39m:\n\u001b[0;32m     78\u001b[0m     count \u001b[38;5;241m=\u001b[39m src\u001b[38;5;241m.\u001b[39mnew_zeros(dim_size)\n\u001b[1;32m---> 79\u001b[0m     \u001b[43mcount\u001b[49m\u001b[38;5;241;43m.\u001b[39;49m\u001b[43mscatter_add_\u001b[49m\u001b[43m(\u001b[49m\u001b[38;5;241;43m0\u001b[39;49m\u001b[43m,\u001b[49m\u001b[43m \u001b[49m\u001b[43mindex\u001b[49m\u001b[43m,\u001b[49m\u001b[43m \u001b[49m\u001b[43msrc\u001b[49m\u001b[38;5;241;43m.\u001b[39;49m\u001b[43mnew_ones\u001b[49m\u001b[43m(\u001b[49m\u001b[43msrc\u001b[49m\u001b[38;5;241;43m.\u001b[39;49m\u001b[43msize\u001b[49m\u001b[43m(\u001b[49m\u001b[43mdim\u001b[49m\u001b[43m)\u001b[49m\u001b[43m)\u001b[49m\u001b[43m)\u001b[49m\n\u001b[0;32m     80\u001b[0m     count \u001b[38;5;241m=\u001b[39m count\u001b[38;5;241m.\u001b[39mclamp(\u001b[38;5;28mmin\u001b[39m\u001b[38;5;241m=\u001b[39m\u001b[38;5;241m1\u001b[39m)\n\u001b[0;32m     82\u001b[0m     index \u001b[38;5;241m=\u001b[39m broadcast(index, src, dim)\n",
      "\u001b[1;31mRuntimeError\u001b[0m: Expected index [23] to be smaller than self [1] apart from dimension 0 and to be smaller size than src [11]"
     ]
    }
   ],
   "source": [
    "y_pred  = []\n",
    "y_true = []\n",
    "batch = torch.zeros(23, dtype=torch.long)\n",
    "\n",
    "\n",
    "with torch.no_grad():\n",
    "    for graph in thors_kamp:\n",
    "        output = gat(graph.x, graph.edge_index, graph.weight, batch)\n",
    "        y_pred.append(output.item())\n",
    "        y_true.append(graph.momentum)\n"
   ]
  },
  {
   "cell_type": "code",
   "execution_count": 232,
   "metadata": {},
   "outputs": [
    {
     "ename": "RuntimeError",
     "evalue": "Expected index [23] to be smaller than self [1] apart from dimension 0 and to be smaller size than src [11]",
     "output_type": "error",
     "traceback": [
      "\u001b[1;31m---------------------------------------------------------------------------\u001b[0m",
      "\u001b[1;31mRuntimeError\u001b[0m                              Traceback (most recent call last)",
      "Cell \u001b[1;32mIn[232], line 7\u001b[0m\n\u001b[0;32m      5\u001b[0m \u001b[38;5;28;01mwith\u001b[39;00m torch\u001b[38;5;241m.\u001b[39mno_grad():\n\u001b[0;32m      6\u001b[0m     \u001b[38;5;28;01mfor\u001b[39;00m graph \u001b[38;5;129;01min\u001b[39;00m thors_kamp:\n\u001b[1;32m----> 7\u001b[0m         output \u001b[38;5;241m=\u001b[39m \u001b[43mgat\u001b[49m\u001b[43m(\u001b[49m\u001b[43mgraph\u001b[49m\u001b[38;5;241;43m.\u001b[39;49m\u001b[43mx\u001b[49m\u001b[43m,\u001b[49m\u001b[43m \u001b[49m\u001b[43mgraph\u001b[49m\u001b[38;5;241;43m.\u001b[39;49m\u001b[43medge_index\u001b[49m\u001b[43m,\u001b[49m\u001b[43m \u001b[49m\u001b[43mgraph\u001b[49m\u001b[38;5;241;43m.\u001b[39;49m\u001b[43mweight\u001b[49m\u001b[43m,\u001b[49m\u001b[43m \u001b[49m\u001b[43mbatch\u001b[49m\u001b[43m)\u001b[49m\n\u001b[0;32m      8\u001b[0m         y_pred\u001b[38;5;241m.\u001b[39mappend(output\u001b[38;5;241m.\u001b[39mitem())\n\u001b[0;32m      9\u001b[0m         y_true\u001b[38;5;241m.\u001b[39mappend(graph\u001b[38;5;241m.\u001b[39mmomentum)\n",
      "File \u001b[1;32m~\\AppData\\Roaming\\Python\\Python312\\site-packages\\torch\\nn\\modules\\module.py:1736\u001b[0m, in \u001b[0;36mModule._wrapped_call_impl\u001b[1;34m(self, *args, **kwargs)\u001b[0m\n\u001b[0;32m   1734\u001b[0m     \u001b[38;5;28;01mreturn\u001b[39;00m \u001b[38;5;28mself\u001b[39m\u001b[38;5;241m.\u001b[39m_compiled_call_impl(\u001b[38;5;241m*\u001b[39margs, \u001b[38;5;241m*\u001b[39m\u001b[38;5;241m*\u001b[39mkwargs)  \u001b[38;5;66;03m# type: ignore[misc]\u001b[39;00m\n\u001b[0;32m   1735\u001b[0m \u001b[38;5;28;01melse\u001b[39;00m:\n\u001b[1;32m-> 1736\u001b[0m     \u001b[38;5;28;01mreturn\u001b[39;00m \u001b[38;5;28;43mself\u001b[39;49m\u001b[38;5;241;43m.\u001b[39;49m\u001b[43m_call_impl\u001b[49m\u001b[43m(\u001b[49m\u001b[38;5;241;43m*\u001b[39;49m\u001b[43margs\u001b[49m\u001b[43m,\u001b[49m\u001b[43m \u001b[49m\u001b[38;5;241;43m*\u001b[39;49m\u001b[38;5;241;43m*\u001b[39;49m\u001b[43mkwargs\u001b[49m\u001b[43m)\u001b[49m\n",
      "File \u001b[1;32m~\\AppData\\Roaming\\Python\\Python312\\site-packages\\torch\\nn\\modules\\module.py:1747\u001b[0m, in \u001b[0;36mModule._call_impl\u001b[1;34m(self, *args, **kwargs)\u001b[0m\n\u001b[0;32m   1742\u001b[0m \u001b[38;5;66;03m# If we don't have any hooks, we want to skip the rest of the logic in\u001b[39;00m\n\u001b[0;32m   1743\u001b[0m \u001b[38;5;66;03m# this function, and just call forward.\u001b[39;00m\n\u001b[0;32m   1744\u001b[0m \u001b[38;5;28;01mif\u001b[39;00m \u001b[38;5;129;01mnot\u001b[39;00m (\u001b[38;5;28mself\u001b[39m\u001b[38;5;241m.\u001b[39m_backward_hooks \u001b[38;5;129;01mor\u001b[39;00m \u001b[38;5;28mself\u001b[39m\u001b[38;5;241m.\u001b[39m_backward_pre_hooks \u001b[38;5;129;01mor\u001b[39;00m \u001b[38;5;28mself\u001b[39m\u001b[38;5;241m.\u001b[39m_forward_hooks \u001b[38;5;129;01mor\u001b[39;00m \u001b[38;5;28mself\u001b[39m\u001b[38;5;241m.\u001b[39m_forward_pre_hooks\n\u001b[0;32m   1745\u001b[0m         \u001b[38;5;129;01mor\u001b[39;00m _global_backward_pre_hooks \u001b[38;5;129;01mor\u001b[39;00m _global_backward_hooks\n\u001b[0;32m   1746\u001b[0m         \u001b[38;5;129;01mor\u001b[39;00m _global_forward_hooks \u001b[38;5;129;01mor\u001b[39;00m _global_forward_pre_hooks):\n\u001b[1;32m-> 1747\u001b[0m     \u001b[38;5;28;01mreturn\u001b[39;00m \u001b[43mforward_call\u001b[49m\u001b[43m(\u001b[49m\u001b[38;5;241;43m*\u001b[39;49m\u001b[43margs\u001b[49m\u001b[43m,\u001b[49m\u001b[43m \u001b[49m\u001b[38;5;241;43m*\u001b[39;49m\u001b[38;5;241;43m*\u001b[39;49m\u001b[43mkwargs\u001b[49m\u001b[43m)\u001b[49m\n\u001b[0;32m   1749\u001b[0m result \u001b[38;5;241m=\u001b[39m \u001b[38;5;28;01mNone\u001b[39;00m\n\u001b[0;32m   1750\u001b[0m called_always_called_hooks \u001b[38;5;241m=\u001b[39m \u001b[38;5;28mset\u001b[39m()\n",
      "Cell \u001b[1;32mIn[226], line 16\u001b[0m, in \u001b[0;36mGAT.forward\u001b[1;34m(self, input, edge_index, edge_attr, batch)\u001b[0m\n\u001b[0;32m     14\u001b[0m output \u001b[38;5;241m=\u001b[39m \u001b[38;5;28mself\u001b[39m\u001b[38;5;241m.\u001b[39mactivation_function(\u001b[38;5;28mself\u001b[39m\u001b[38;5;241m.\u001b[39mlayer2(output, edge_index, edge_attr))\n\u001b[0;32m     15\u001b[0m output \u001b[38;5;241m=\u001b[39m \u001b[38;5;28mself\u001b[39m\u001b[38;5;241m.\u001b[39mlayer5(output, edge_index, edge_attr)\n\u001b[1;32m---> 16\u001b[0m output \u001b[38;5;241m=\u001b[39m \u001b[43mglobal_mean_pool\u001b[49m\u001b[43m(\u001b[49m\u001b[43moutput\u001b[49m\u001b[43m,\u001b[49m\u001b[43m \u001b[49m\u001b[43mbatch\u001b[49m\u001b[43m)\u001b[49m\n\u001b[0;32m     17\u001b[0m \u001b[38;5;28;01mreturn\u001b[39;00m output\n",
      "File \u001b[1;32m~\\AppData\\Roaming\\Python\\Python312\\site-packages\\torch_geometric\\nn\\pool\\glob.py:63\u001b[0m, in \u001b[0;36mglobal_mean_pool\u001b[1;34m(x, batch, size)\u001b[0m\n\u001b[0;32m     61\u001b[0m \u001b[38;5;28;01mif\u001b[39;00m batch \u001b[38;5;129;01mis\u001b[39;00m \u001b[38;5;28;01mNone\u001b[39;00m:\n\u001b[0;32m     62\u001b[0m     \u001b[38;5;28;01mreturn\u001b[39;00m x\u001b[38;5;241m.\u001b[39mmean(dim\u001b[38;5;241m=\u001b[39mdim, keepdim\u001b[38;5;241m=\u001b[39mx\u001b[38;5;241m.\u001b[39mdim() \u001b[38;5;241m<\u001b[39m\u001b[38;5;241m=\u001b[39m \u001b[38;5;241m2\u001b[39m)\n\u001b[1;32m---> 63\u001b[0m \u001b[38;5;28;01mreturn\u001b[39;00m \u001b[43mscatter\u001b[49m\u001b[43m(\u001b[49m\u001b[43mx\u001b[49m\u001b[43m,\u001b[49m\u001b[43m \u001b[49m\u001b[43mbatch\u001b[49m\u001b[43m,\u001b[49m\u001b[43m \u001b[49m\u001b[43mdim\u001b[49m\u001b[38;5;241;43m=\u001b[39;49m\u001b[43mdim\u001b[49m\u001b[43m,\u001b[49m\u001b[43m \u001b[49m\u001b[43mdim_size\u001b[49m\u001b[38;5;241;43m=\u001b[39;49m\u001b[43msize\u001b[49m\u001b[43m,\u001b[49m\u001b[43m \u001b[49m\u001b[43mreduce\u001b[49m\u001b[38;5;241;43m=\u001b[39;49m\u001b[38;5;124;43m'\u001b[39;49m\u001b[38;5;124;43mmean\u001b[39;49m\u001b[38;5;124;43m'\u001b[39;49m\u001b[43m)\u001b[49m\n",
      "File \u001b[1;32m~\\AppData\\Roaming\\Python\\Python312\\site-packages\\torch_geometric\\utils\\_scatter.py:79\u001b[0m, in \u001b[0;36mscatter\u001b[1;34m(src, index, dim, dim_size, reduce)\u001b[0m\n\u001b[0;32m     77\u001b[0m \u001b[38;5;28;01mif\u001b[39;00m reduce \u001b[38;5;241m==\u001b[39m \u001b[38;5;124m'\u001b[39m\u001b[38;5;124mmean\u001b[39m\u001b[38;5;124m'\u001b[39m:\n\u001b[0;32m     78\u001b[0m     count \u001b[38;5;241m=\u001b[39m src\u001b[38;5;241m.\u001b[39mnew_zeros(dim_size)\n\u001b[1;32m---> 79\u001b[0m     \u001b[43mcount\u001b[49m\u001b[38;5;241;43m.\u001b[39;49m\u001b[43mscatter_add_\u001b[49m\u001b[43m(\u001b[49m\u001b[38;5;241;43m0\u001b[39;49m\u001b[43m,\u001b[49m\u001b[43m \u001b[49m\u001b[43mindex\u001b[49m\u001b[43m,\u001b[49m\u001b[43m \u001b[49m\u001b[43msrc\u001b[49m\u001b[38;5;241;43m.\u001b[39;49m\u001b[43mnew_ones\u001b[49m\u001b[43m(\u001b[49m\u001b[43msrc\u001b[49m\u001b[38;5;241;43m.\u001b[39;49m\u001b[43msize\u001b[49m\u001b[43m(\u001b[49m\u001b[43mdim\u001b[49m\u001b[43m)\u001b[49m\u001b[43m)\u001b[49m\u001b[43m)\u001b[49m\n\u001b[0;32m     80\u001b[0m     count \u001b[38;5;241m=\u001b[39m count\u001b[38;5;241m.\u001b[39mclamp(\u001b[38;5;28mmin\u001b[39m\u001b[38;5;241m=\u001b[39m\u001b[38;5;241m1\u001b[39m)\n\u001b[0;32m     82\u001b[0m     index \u001b[38;5;241m=\u001b[39m broadcast(index, src, dim)\n",
      "\u001b[1;31mRuntimeError\u001b[0m: Expected index [23] to be smaller than self [1] apart from dimension 0 and to be smaller size than src [11]"
     ]
    }
   ],
   "source": [
    "y_pred  = []\n",
    "y_true = []\n",
    "batch = torch.zeros(23, dtype=torch.long)\n",
    "\n",
    "with torch.no_grad():\n",
    "    for graph in thors_kamp:\n",
    "        output = gat(graph.x, graph.edge_index, graph.weight, batch)\n",
    "        y_pred.append(output.item())\n",
    "        y_true.append(graph.momentum)\n",
    "\n",
    "x= list(range(5, 90, 5))\n",
    "x.remove(45)\n",
    "\n",
    "import matplotlib.pyplot as plt\n",
    "\n",
    "ax = plt.axes()        \n",
    "ax.yaxis.grid() \n",
    "plt.plot(x[0:8], y_pred[0:8], linestyle = 'dotted', color = 'cornflowerblue', linewidth = '2.5')\n",
    "plt.plot(x[0:8], y_true[0:8], color = 'cornflowerblue', linewidth = '2.5')\n",
    "plt.plot(x[8:16], y_pred[8:16], linestyle = 'dotted', color = 'cornflowerblue', linewidth = '2.5')\n",
    "plt.plot(x[8:16], y_true[8:16], color = 'cornflowerblue', linewidth = '2.5')\n",
    "plt.legend([\"Prediction\", \"True\"], loc=\"upper right\")\n",
    "x_ticks = list(range(0, 95, 5))\n",
    "plt.xticks(ticks=x_ticks,)\n",
    "\n",
    "plt.savefig('predictions.pdf', bbox_inches='tight')"
   ]
  }
 ],
 "metadata": {
  "kernelspec": {
   "display_name": "base",
   "language": "python",
   "name": "python3"
  },
  "language_info": {
   "codemirror_mode": {
    "name": "ipython",
    "version": 3
   },
   "file_extension": ".py",
   "mimetype": "text/x-python",
   "name": "python",
   "nbconvert_exporter": "python",
   "pygments_lexer": "ipython3",
   "version": "3.9.12"
  }
 },
 "nbformat": 4,
 "nbformat_minor": 2
}
