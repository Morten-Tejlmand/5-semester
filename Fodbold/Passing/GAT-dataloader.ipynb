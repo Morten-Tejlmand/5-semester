{
 "cells": [
  {
   "cell_type": "code",
   "execution_count": 176,
   "metadata": {},
   "outputs": [],
   "source": [
    "import torch\n",
    "import torch.nn as nn\n",
    "import torch.nn.functional\n",
    "import torch_geometric.nn \n",
    "from torch_geometric.utils import from_networkx\n",
    "from torch_geometric.data import Data\n",
    "import pandas as pd\n",
    "import networkx as nx\n",
    "import numpy as np\n",
    "import tqdm\n",
    "import random\n",
    "from torch_geometric.nn import GATConv, global_mean_pool\n",
    "from torch.utils.data import Dataset\n",
    "from torch_geometric.loader import DataLoader\n"
   ]
  },
  {
   "cell_type": "code",
   "execution_count": 177,
   "metadata": {},
   "outputs": [],
   "source": [
    "pkl_graphs = pd.read_pickle('/Users/MathildeStouby/Desktop/P5 GitHub/5-semester/Momentum graphs.pkl')"
   ]
  },
  {
   "cell_type": "code",
   "execution_count": 178,
   "metadata": {},
   "outputs": [],
   "source": [
    "unique_nodes = []\n",
    "for graph in pkl_graphs.values():\n",
    "    temp = [node for node in graph.nodes() if node not in unique_nodes]\n",
    "    unique_nodes.extend(temp)"
   ]
  },
  {
   "cell_type": "code",
   "execution_count": 179,
   "metadata": {},
   "outputs": [],
   "source": [
    "idx_to_pos = dict(enumerate(unique_nodes))\n",
    "pos_to_idx = {pos : idx for idx, pos in idx_to_pos.items()}"
   ]
  },
  {
   "cell_type": "code",
   "execution_count": null,
   "metadata": {},
   "outputs": [
    {
     "name": "stdout",
     "output_type": "stream",
     "text": [
      "Data(x=[23, 3], edge_index=[2, 22], weight=[22])\n"
     ]
    }
   ],
   "source": [
    "pyg_data = []\n",
    "thors_kamp = []\n",
    "\n",
    "\n",
    "for idx, graph in pkl_graphs.items():\n",
    "\n",
    "    closeness = nx.closeness_centrality(graph)\n",
    "    betweenness = nx.closeness_centrality(graph)\n",
    "    pagerank = nx.pagerank(graph, weight='weight')\n",
    "    centrality_list = [closeness, betweenness, pagerank] \n",
    "\n",
    "    #adj_dict = nx.to_dict_of_dicts(graph)\n",
    "\n",
    "    for node in list(graph.nodes()):\n",
    "        #adj_vect = np.zeros((len(unique_nodes)))\n",
    "        #players = adj_dict[node]\n",
    "        #for key, value in players.items():\n",
    "            #adj_vect[pos_to_idx[key]] = value['weight']\n",
    "        #adj_vect = torch.from_numpy(adj_vect).float()\n",
    "        centrality_vect = []\n",
    "        for measure in centrality_list:\n",
    "            if node in list(measure.keys()):\n",
    "                centrality_vect.append(measure[node])\n",
    "            else:\n",
    "                centrality_vect.append(0)\n",
    "        centrality_vect = torch.Tensor(centrality_vect).float()        \n",
    "        #graph.nodes[node]['x'] = torch.cat((adj_vect, centrality_vect), -1)\n",
    "        graph.nodes[node]['x'] = centrality_vect\n",
    "\n",
    "   \n",
    "    for node in unique_nodes:\n",
    "        if node not in graph.nodes:\n",
    "            graph.add_node(node) \n",
    "            #graph.nodes[node]['x'] = torch.from_numpy(np.zeros((len(unique_nodes)+3))).float()\n",
    "            graph.nodes[node]['x'] = torch.from_numpy(np.zeros(3)).float()  \n",
    "            \n",
    "\n",
    "    data = from_networkx(graph)\n",
    "\n",
    "    try:\n",
    "        data['momentum']\n",
    "        if idx.startswith('3895275'):\n",
    "            thors_kamp.append(data)\n",
    "        else:\n",
    "            pyg_data.append(data)\n",
    "    except:\n",
    "        print(data)\n"
   ]
  },
  {
   "cell_type": "code",
   "execution_count": 181,
   "metadata": {},
   "outputs": [],
   "source": [
    "train_idx = random.sample(range(len(pyg_data)), int(len(pyg_data) * 0.8))\n",
    "test_idx = [i for i in range(len(pyg_data)) if i not in train_idx]"
   ]
  },
  {
   "cell_type": "code",
   "execution_count": 182,
   "metadata": {},
   "outputs": [],
   "source": [
    "train_data = [pyg_data[idx] for idx in train_idx]\n",
    "dataloader = DataLoader(train_data, batch_size=64, shuffle=True)"
   ]
  },
  {
   "cell_type": "code",
   "execution_count": 183,
   "metadata": {},
   "outputs": [],
   "source": [
    "class GAT(torch.nn.Module):\n",
    "    def __init__(self, input_dim, hidden_dim, output_dim, num_heads):\n",
    "        super(GAT, self).__init__()\n",
    "        self.layer1= GATConv(input_dim, hidden_dim, heads=num_heads, edge_dim=1)\n",
    "        self.layer2= GATConv(hidden_dim * num_heads, hidden_dim, heads=num_heads, edge_dim=1)\n",
    "        #self.layer3= GATConv(hidden_dim * num_heads, hidden_dim, heads=num_heads, edge_dim=1)\n",
    "        #self.layer4= GATConv(hidden_dim * num_heads, hidden_dim, heads=num_heads)\n",
    "        self.layer5 = GATConv(hidden_dim * num_heads, output_dim, heads=1, edge_dim=1, concat=False)\n",
    "        self.activation_function = nn.ReLU()\n",
    "     \n",
    "\n",
    "    def forward(self, input, edge_index, edge_attr, batch):\n",
    "        output = self.activation_function(self.layer1(input, edge_index, edge_attr))\n",
    "        output = self.activation_function(self.layer2(output, edge_index, edge_attr))\n",
    "        output = self.layer5(output, edge_index, edge_attr)\n",
    "        output = global_mean_pool(output, batch)\n",
    "        return output"
   ]
  },
  {
   "cell_type": "code",
   "execution_count": 191,
   "metadata": {},
   "outputs": [],
   "source": [
    "#input_dim = len(unique_nodes)+3\n",
    "input_dim = 3\n",
    "lr = 0.01\n",
    "\n",
    "gat = GAT(input_dim = input_dim, hidden_dim = 11, output_dim = 1, num_heads = 6)\n",
    "optimizer = torch.optim.SGD(gat.parameters(), lr=lr)\n",
    "loss_fn = torch.nn.MSELoss()\n",
    "epochs_num = 100"
   ]
  },
  {
   "cell_type": "code",
   "execution_count": 192,
   "metadata": {},
   "outputs": [
    {
     "name": "stderr",
     "output_type": "stream",
     "text": [
      "  0%|          | 0/100 [00:00<?, ?it/s]/Users/MathildeStouby/opt/anaconda3/lib/python3.9/site-packages/torch/nn/modules/loss.py:535: UserWarning: Using a target size (torch.Size([64])) that is different to the input size (torch.Size([64, 1])). This will likely lead to incorrect results due to broadcasting. Please ensure they have the same size.\n",
      "  return F.mse_loss(input, target, reduction=self.reduction)\n",
      "/Users/MathildeStouby/opt/anaconda3/lib/python3.9/site-packages/torch/nn/modules/loss.py:535: UserWarning: Using a target size (torch.Size([37])) that is different to the input size (torch.Size([37, 1])). This will likely lead to incorrect results due to broadcasting. Please ensure they have the same size.\n",
      "  return F.mse_loss(input, target, reduction=self.reduction)\n",
      "100%|██████████| 7/7 [00:00<00:00, 25.24it/s]\n",
      "  1%|          | 1/100 [00:00<00:27,  3.57it/s]"
     ]
    },
    {
     "name": "stdout",
     "output_type": "stream",
     "text": [
      "Epoch 1, Loss: 0.0072\n"
     ]
    },
    {
     "name": "stderr",
     "output_type": "stream",
     "text": [
      "100%|██████████| 7/7 [00:00<00:00, 43.35it/s]\n",
      "  2%|▏         | 2/100 [00:00<00:20,  4.71it/s]"
     ]
    },
    {
     "name": "stdout",
     "output_type": "stream",
     "text": [
      "Epoch 2, Loss: 0.0070\n"
     ]
    },
    {
     "name": "stderr",
     "output_type": "stream",
     "text": [
      "100%|██████████| 7/7 [00:00<00:00, 28.27it/s]\n",
      "  3%|▎         | 3/100 [00:00<00:22,  4.35it/s]"
     ]
    },
    {
     "name": "stdout",
     "output_type": "stream",
     "text": [
      "Epoch 3, Loss: 0.0072\n"
     ]
    },
    {
     "name": "stderr",
     "output_type": "stream",
     "text": [
      "100%|██████████| 7/7 [00:00<00:00, 47.72it/s]\n",
      "  4%|▍         | 4/100 [00:00<00:19,  5.05it/s]"
     ]
    },
    {
     "name": "stdout",
     "output_type": "stream",
     "text": [
      "Epoch 4, Loss: 0.0072\n"
     ]
    },
    {
     "name": "stderr",
     "output_type": "stream",
     "text": [
      "100%|██████████| 7/7 [00:00<00:00, 24.93it/s]\n",
      "  5%|▌         | 5/100 [00:01<00:21,  4.36it/s]"
     ]
    },
    {
     "name": "stdout",
     "output_type": "stream",
     "text": [
      "Epoch 5, Loss: 0.0070\n"
     ]
    },
    {
     "name": "stderr",
     "output_type": "stream",
     "text": [
      "100%|██████████| 7/7 [00:00<00:00, 48.92it/s]\n",
      "  6%|▌         | 6/100 [00:01<00:18,  4.97it/s]"
     ]
    },
    {
     "name": "stdout",
     "output_type": "stream",
     "text": [
      "Epoch 6, Loss: 0.0071\n"
     ]
    },
    {
     "name": "stderr",
     "output_type": "stream",
     "text": [
      "100%|██████████| 7/7 [00:00<00:00, 31.50it/s]\n",
      "  7%|▋         | 7/100 [00:01<00:19,  4.79it/s]"
     ]
    },
    {
     "name": "stdout",
     "output_type": "stream",
     "text": [
      "Epoch 7, Loss: 0.0072\n"
     ]
    },
    {
     "name": "stderr",
     "output_type": "stream",
     "text": [
      "100%|██████████| 7/7 [00:00<00:00, 56.21it/s]\n",
      "  8%|▊         | 8/100 [00:01<00:16,  5.47it/s]"
     ]
    },
    {
     "name": "stdout",
     "output_type": "stream",
     "text": [
      "Epoch 8, Loss: 0.0070\n"
     ]
    },
    {
     "name": "stderr",
     "output_type": "stream",
     "text": [
      "100%|██████████| 7/7 [00:00<00:00, 31.78it/s]\n",
      "  9%|▉         | 9/100 [00:01<00:17,  5.11it/s]"
     ]
    },
    {
     "name": "stdout",
     "output_type": "stream",
     "text": [
      "Epoch 9, Loss: 0.0070\n"
     ]
    },
    {
     "name": "stderr",
     "output_type": "stream",
     "text": [
      "100%|██████████| 7/7 [00:00<00:00, 51.76it/s]\n",
      " 10%|█         | 10/100 [00:01<00:16,  5.62it/s]"
     ]
    },
    {
     "name": "stdout",
     "output_type": "stream",
     "text": [
      "Epoch 10, Loss: 0.0069\n"
     ]
    },
    {
     "name": "stderr",
     "output_type": "stream",
     "text": [
      "100%|██████████| 7/7 [00:00<00:00, 33.43it/s]\n",
      " 11%|█         | 11/100 [00:02<00:16,  5.31it/s]"
     ]
    },
    {
     "name": "stdout",
     "output_type": "stream",
     "text": [
      "Epoch 11, Loss: 0.0069\n"
     ]
    },
    {
     "name": "stderr",
     "output_type": "stream",
     "text": [
      "100%|██████████| 7/7 [00:00<00:00, 51.82it/s]\n",
      " 12%|█▏        | 12/100 [00:02<00:15,  5.78it/s]"
     ]
    },
    {
     "name": "stdout",
     "output_type": "stream",
     "text": [
      "Epoch 12, Loss: 0.0070\n"
     ]
    },
    {
     "name": "stderr",
     "output_type": "stream",
     "text": [
      "100%|██████████| 7/7 [00:00<00:00, 33.33it/s]\n",
      " 13%|█▎        | 13/100 [00:02<00:16,  5.40it/s]"
     ]
    },
    {
     "name": "stdout",
     "output_type": "stream",
     "text": [
      "Epoch 13, Loss: 0.0070\n"
     ]
    },
    {
     "name": "stderr",
     "output_type": "stream",
     "text": [
      "100%|██████████| 7/7 [00:00<00:00, 51.67it/s]\n",
      " 14%|█▍        | 14/100 [00:02<00:14,  5.84it/s]"
     ]
    },
    {
     "name": "stdout",
     "output_type": "stream",
     "text": [
      "Epoch 14, Loss: 0.0070\n"
     ]
    },
    {
     "name": "stderr",
     "output_type": "stream",
     "text": [
      "100%|██████████| 7/7 [00:00<00:00, 32.26it/s]\n",
      " 15%|█▌        | 15/100 [00:02<00:15,  5.38it/s]"
     ]
    },
    {
     "name": "stdout",
     "output_type": "stream",
     "text": [
      "Epoch 15, Loss: 0.0072\n"
     ]
    },
    {
     "name": "stderr",
     "output_type": "stream",
     "text": [
      "100%|██████████| 7/7 [00:00<00:00, 50.72it/s]\n",
      " 16%|█▌        | 16/100 [00:03<00:14,  5.80it/s]"
     ]
    },
    {
     "name": "stdout",
     "output_type": "stream",
     "text": [
      "Epoch 16, Loss: 0.0070\n"
     ]
    },
    {
     "name": "stderr",
     "output_type": "stream",
     "text": [
      "100%|██████████| 7/7 [00:00<00:00, 35.14it/s]\n",
      " 17%|█▋        | 17/100 [00:03<00:15,  5.51it/s]"
     ]
    },
    {
     "name": "stdout",
     "output_type": "stream",
     "text": [
      "Epoch 17, Loss: 0.0070\n"
     ]
    },
    {
     "name": "stderr",
     "output_type": "stream",
     "text": [
      "100%|██████████| 7/7 [00:00<00:00, 51.55it/s]\n",
      " 18%|█▊        | 18/100 [00:03<00:13,  5.93it/s]"
     ]
    },
    {
     "name": "stdout",
     "output_type": "stream",
     "text": [
      "Epoch 18, Loss: 0.0071\n"
     ]
    },
    {
     "name": "stderr",
     "output_type": "stream",
     "text": [
      "100%|██████████| 7/7 [00:00<00:00, 33.50it/s]\n",
      " 19%|█▉        | 19/100 [00:03<00:14,  5.51it/s]"
     ]
    },
    {
     "name": "stdout",
     "output_type": "stream",
     "text": [
      "Epoch 19, Loss: 0.0070\n"
     ]
    },
    {
     "name": "stderr",
     "output_type": "stream",
     "text": [
      "100%|██████████| 7/7 [00:00<00:00, 53.11it/s]\n",
      " 20%|██        | 20/100 [00:03<00:13,  5.97it/s]"
     ]
    },
    {
     "name": "stdout",
     "output_type": "stream",
     "text": [
      "Epoch 20, Loss: 0.0070\n"
     ]
    },
    {
     "name": "stderr",
     "output_type": "stream",
     "text": [
      "100%|██████████| 7/7 [00:00<00:00, 31.29it/s]\n",
      " 21%|██        | 21/100 [00:03<00:14,  5.40it/s]"
     ]
    },
    {
     "name": "stdout",
     "output_type": "stream",
     "text": [
      "Epoch 21, Loss: 0.0070\n"
     ]
    },
    {
     "name": "stderr",
     "output_type": "stream",
     "text": [
      "100%|██████████| 7/7 [00:00<00:00, 50.66it/s]\n",
      " 22%|██▏       | 22/100 [00:04<00:13,  5.82it/s]"
     ]
    },
    {
     "name": "stdout",
     "output_type": "stream",
     "text": [
      "Epoch 22, Loss: 0.0070\n"
     ]
    },
    {
     "name": "stderr",
     "output_type": "stream",
     "text": [
      "100%|██████████| 7/7 [00:00<00:00, 30.97it/s]\n",
      " 23%|██▎       | 23/100 [00:04<00:14,  5.29it/s]"
     ]
    },
    {
     "name": "stdout",
     "output_type": "stream",
     "text": [
      "Epoch 23, Loss: 0.0070\n"
     ]
    },
    {
     "name": "stderr",
     "output_type": "stream",
     "text": [
      "100%|██████████| 7/7 [00:00<00:00, 49.26it/s]\n",
      " 24%|██▍       | 24/100 [00:04<00:13,  5.69it/s]"
     ]
    },
    {
     "name": "stdout",
     "output_type": "stream",
     "text": [
      "Epoch 24, Loss: 0.0070\n"
     ]
    },
    {
     "name": "stderr",
     "output_type": "stream",
     "text": [
      "100%|██████████| 7/7 [00:00<00:00, 32.42it/s]\n",
      " 25%|██▌       | 25/100 [00:04<00:14,  5.29it/s]"
     ]
    },
    {
     "name": "stdout",
     "output_type": "stream",
     "text": [
      "Epoch 25, Loss: 0.0070\n"
     ]
    },
    {
     "name": "stderr",
     "output_type": "stream",
     "text": [
      "100%|██████████| 7/7 [00:00<00:00, 48.75it/s]\n",
      " 26%|██▌       | 26/100 [00:04<00:13,  5.67it/s]"
     ]
    },
    {
     "name": "stdout",
     "output_type": "stream",
     "text": [
      "Epoch 26, Loss: 0.0071\n"
     ]
    },
    {
     "name": "stderr",
     "output_type": "stream",
     "text": [
      "100%|██████████| 7/7 [00:00<00:00, 30.38it/s]\n",
      " 27%|██▋       | 27/100 [00:05<00:14,  5.16it/s]"
     ]
    },
    {
     "name": "stdout",
     "output_type": "stream",
     "text": [
      "Epoch 27, Loss: 0.0070\n"
     ]
    },
    {
     "name": "stderr",
     "output_type": "stream",
     "text": [
      "100%|██████████| 7/7 [00:00<00:00, 50.36it/s]\n",
      " 28%|██▊       | 28/100 [00:05<00:12,  5.60it/s]"
     ]
    },
    {
     "name": "stdout",
     "output_type": "stream",
     "text": [
      "Epoch 28, Loss: 0.0070\n"
     ]
    },
    {
     "name": "stderr",
     "output_type": "stream",
     "text": [
      "100%|██████████| 7/7 [00:00<00:00, 30.57it/s]\n",
      " 29%|██▉       | 29/100 [00:05<00:13,  5.14it/s]"
     ]
    },
    {
     "name": "stdout",
     "output_type": "stream",
     "text": [
      "Epoch 29, Loss: 0.0070\n"
     ]
    },
    {
     "name": "stderr",
     "output_type": "stream",
     "text": [
      "100%|██████████| 7/7 [00:00<00:00, 47.96it/s]\n",
      " 30%|███       | 30/100 [00:05<00:12,  5.53it/s]"
     ]
    },
    {
     "name": "stdout",
     "output_type": "stream",
     "text": [
      "Epoch 30, Loss: 0.0068\n"
     ]
    },
    {
     "name": "stderr",
     "output_type": "stream",
     "text": [
      "100%|██████████| 7/7 [00:00<00:00, 31.87it/s]\n",
      " 31%|███       | 31/100 [00:05<00:13,  5.17it/s]"
     ]
    },
    {
     "name": "stdout",
     "output_type": "stream",
     "text": [
      "Epoch 31, Loss: 0.0069\n"
     ]
    },
    {
     "name": "stderr",
     "output_type": "stream",
     "text": [
      "100%|██████████| 7/7 [00:00<00:00, 41.20it/s]\n",
      " 32%|███▏      | 32/100 [00:06<00:12,  5.34it/s]"
     ]
    },
    {
     "name": "stdout",
     "output_type": "stream",
     "text": [
      "Epoch 32, Loss: 0.0070\n"
     ]
    },
    {
     "name": "stderr",
     "output_type": "stream",
     "text": [
      "100%|██████████| 7/7 [00:00<00:00, 32.68it/s]\n",
      " 33%|███▎      | 33/100 [00:06<00:13,  5.10it/s]"
     ]
    },
    {
     "name": "stdout",
     "output_type": "stream",
     "text": [
      "Epoch 33, Loss: 0.0071\n"
     ]
    },
    {
     "name": "stderr",
     "output_type": "stream",
     "text": [
      "100%|██████████| 7/7 [00:00<00:00, 52.57it/s]\n",
      " 34%|███▍      | 34/100 [00:06<00:11,  5.61it/s]"
     ]
    },
    {
     "name": "stdout",
     "output_type": "stream",
     "text": [
      "Epoch 34, Loss: 0.0070\n"
     ]
    },
    {
     "name": "stderr",
     "output_type": "stream",
     "text": [
      "100%|██████████| 7/7 [00:00<00:00, 32.20it/s]\n",
      " 35%|███▌      | 35/100 [00:06<00:12,  5.24it/s]"
     ]
    },
    {
     "name": "stdout",
     "output_type": "stream",
     "text": [
      "Epoch 35, Loss: 0.0071\n"
     ]
    },
    {
     "name": "stderr",
     "output_type": "stream",
     "text": [
      "100%|██████████| 7/7 [00:00<00:00, 50.90it/s]\n",
      " 36%|███▌      | 36/100 [00:06<00:11,  5.69it/s]"
     ]
    },
    {
     "name": "stdout",
     "output_type": "stream",
     "text": [
      "Epoch 36, Loss: 0.0069\n"
     ]
    },
    {
     "name": "stderr",
     "output_type": "stream",
     "text": [
      "100%|██████████| 7/7 [00:00<00:00, 31.73it/s]\n",
      " 37%|███▋      | 37/100 [00:06<00:11,  5.25it/s]"
     ]
    },
    {
     "name": "stdout",
     "output_type": "stream",
     "text": [
      "Epoch 37, Loss: 0.0070\n"
     ]
    },
    {
     "name": "stderr",
     "output_type": "stream",
     "text": [
      "100%|██████████| 7/7 [00:00<00:00, 50.18it/s]\n",
      " 38%|███▊      | 38/100 [00:07<00:10,  5.67it/s]"
     ]
    },
    {
     "name": "stdout",
     "output_type": "stream",
     "text": [
      "Epoch 38, Loss: 0.0071\n"
     ]
    },
    {
     "name": "stderr",
     "output_type": "stream",
     "text": [
      "100%|██████████| 7/7 [00:00<00:00, 33.14it/s]\n",
      " 39%|███▉      | 39/100 [00:07<00:11,  5.33it/s]"
     ]
    },
    {
     "name": "stdout",
     "output_type": "stream",
     "text": [
      "Epoch 39, Loss: 0.0069\n"
     ]
    },
    {
     "name": "stderr",
     "output_type": "stream",
     "text": [
      "100%|██████████| 7/7 [00:00<00:00, 49.27it/s]\n",
      " 40%|████      | 40/100 [00:07<00:10,  5.71it/s]"
     ]
    },
    {
     "name": "stdout",
     "output_type": "stream",
     "text": [
      "Epoch 40, Loss: 0.0070\n"
     ]
    },
    {
     "name": "stderr",
     "output_type": "stream",
     "text": [
      "100%|██████████| 7/7 [00:00<00:00, 30.18it/s]\n",
      " 41%|████      | 41/100 [00:07<00:11,  5.17it/s]"
     ]
    },
    {
     "name": "stdout",
     "output_type": "stream",
     "text": [
      "Epoch 41, Loss: 0.0070\n"
     ]
    },
    {
     "name": "stderr",
     "output_type": "stream",
     "text": [
      "100%|██████████| 7/7 [00:00<00:00, 48.18it/s]\n",
      " 42%|████▏     | 42/100 [00:07<00:10,  5.56it/s]"
     ]
    },
    {
     "name": "stdout",
     "output_type": "stream",
     "text": [
      "Epoch 42, Loss: 0.0071\n"
     ]
    },
    {
     "name": "stderr",
     "output_type": "stream",
     "text": [
      "100%|██████████| 7/7 [00:00<00:00, 30.95it/s]\n",
      " 43%|████▎     | 43/100 [00:08<00:11,  5.14it/s]"
     ]
    },
    {
     "name": "stdout",
     "output_type": "stream",
     "text": [
      "Epoch 43, Loss: 0.0071\n"
     ]
    },
    {
     "name": "stderr",
     "output_type": "stream",
     "text": [
      "100%|██████████| 7/7 [00:00<00:00, 51.39it/s]\n",
      " 44%|████▍     | 44/100 [00:08<00:09,  5.62it/s]"
     ]
    },
    {
     "name": "stdout",
     "output_type": "stream",
     "text": [
      "Epoch 44, Loss: 0.0070\n"
     ]
    },
    {
     "name": "stderr",
     "output_type": "stream",
     "text": [
      "100%|██████████| 7/7 [00:00<00:00, 31.85it/s]\n",
      " 45%|████▌     | 45/100 [00:08<00:10,  5.22it/s]"
     ]
    },
    {
     "name": "stdout",
     "output_type": "stream",
     "text": [
      "Epoch 45, Loss: 0.0069\n"
     ]
    },
    {
     "name": "stderr",
     "output_type": "stream",
     "text": [
      "100%|██████████| 7/7 [00:00<00:00, 50.46it/s]\n",
      " 46%|████▌     | 46/100 [00:08<00:09,  5.66it/s]"
     ]
    },
    {
     "name": "stdout",
     "output_type": "stream",
     "text": [
      "Epoch 46, Loss: 0.0069\n"
     ]
    },
    {
     "name": "stderr",
     "output_type": "stream",
     "text": [
      "100%|██████████| 7/7 [00:00<00:00, 31.65it/s]\n",
      " 47%|████▋     | 47/100 [00:08<00:10,  5.24it/s]"
     ]
    },
    {
     "name": "stdout",
     "output_type": "stream",
     "text": [
      "Epoch 47, Loss: 0.0070\n"
     ]
    },
    {
     "name": "stderr",
     "output_type": "stream",
     "text": [
      "100%|██████████| 7/7 [00:00<00:00, 45.56it/s]\n",
      " 48%|████▊     | 48/100 [00:08<00:09,  5.53it/s]"
     ]
    },
    {
     "name": "stdout",
     "output_type": "stream",
     "text": [
      "Epoch 48, Loss: 0.0071\n"
     ]
    },
    {
     "name": "stderr",
     "output_type": "stream",
     "text": [
      "100%|██████████| 7/7 [00:00<00:00, 31.17it/s]\n",
      " 49%|████▉     | 49/100 [00:09<00:09,  5.13it/s]"
     ]
    },
    {
     "name": "stdout",
     "output_type": "stream",
     "text": [
      "Epoch 49, Loss: 0.0070\n"
     ]
    },
    {
     "name": "stderr",
     "output_type": "stream",
     "text": [
      "100%|██████████| 7/7 [00:00<00:00, 48.94it/s]\n",
      " 50%|█████     | 50/100 [00:09<00:09,  5.54it/s]"
     ]
    },
    {
     "name": "stdout",
     "output_type": "stream",
     "text": [
      "Epoch 50, Loss: 0.0070\n"
     ]
    },
    {
     "name": "stderr",
     "output_type": "stream",
     "text": [
      "100%|██████████| 7/7 [00:00<00:00, 28.78it/s]\n",
      " 51%|█████     | 51/100 [00:09<00:09,  4.99it/s]"
     ]
    },
    {
     "name": "stdout",
     "output_type": "stream",
     "text": [
      "Epoch 51, Loss: 0.0069\n"
     ]
    },
    {
     "name": "stderr",
     "output_type": "stream",
     "text": [
      "100%|██████████| 7/7 [00:00<00:00, 49.73it/s]\n",
      " 52%|█████▏    | 52/100 [00:09<00:08,  5.45it/s]"
     ]
    },
    {
     "name": "stdout",
     "output_type": "stream",
     "text": [
      "Epoch 52, Loss: 0.0069\n"
     ]
    },
    {
     "name": "stderr",
     "output_type": "stream",
     "text": [
      "100%|██████████| 7/7 [00:00<00:00, 30.15it/s]\n",
      " 53%|█████▎    | 53/100 [00:09<00:09,  5.03it/s]"
     ]
    },
    {
     "name": "stdout",
     "output_type": "stream",
     "text": [
      "Epoch 53, Loss: 0.0070\n"
     ]
    },
    {
     "name": "stderr",
     "output_type": "stream",
     "text": [
      "100%|██████████| 7/7 [00:00<00:00, 47.95it/s]\n",
      " 54%|█████▍    | 54/100 [00:10<00:08,  5.44it/s]"
     ]
    },
    {
     "name": "stdout",
     "output_type": "stream",
     "text": [
      "Epoch 54, Loss: 0.0072\n"
     ]
    },
    {
     "name": "stderr",
     "output_type": "stream",
     "text": [
      "100%|██████████| 7/7 [00:00<00:00, 32.78it/s]\n",
      " 55%|█████▌    | 55/100 [00:10<00:08,  5.16it/s]"
     ]
    },
    {
     "name": "stdout",
     "output_type": "stream",
     "text": [
      "Epoch 55, Loss: 0.0069\n"
     ]
    },
    {
     "name": "stderr",
     "output_type": "stream",
     "text": [
      "100%|██████████| 7/7 [00:00<00:00, 42.07it/s]\n",
      " 56%|█████▌    | 56/100 [00:10<00:08,  5.36it/s]"
     ]
    },
    {
     "name": "stdout",
     "output_type": "stream",
     "text": [
      "Epoch 56, Loss: 0.0072\n"
     ]
    },
    {
     "name": "stderr",
     "output_type": "stream",
     "text": [
      "100%|██████████| 7/7 [00:00<00:00, 30.39it/s]\n",
      " 57%|█████▋    | 57/100 [00:10<00:08,  4.98it/s]"
     ]
    },
    {
     "name": "stdout",
     "output_type": "stream",
     "text": [
      "Epoch 57, Loss: 0.0068\n"
     ]
    },
    {
     "name": "stderr",
     "output_type": "stream",
     "text": [
      "100%|██████████| 7/7 [00:00<00:00, 47.02it/s]\n",
      " 58%|█████▊    | 58/100 [00:10<00:07,  5.37it/s]"
     ]
    },
    {
     "name": "stdout",
     "output_type": "stream",
     "text": [
      "Epoch 58, Loss: 0.0070\n"
     ]
    },
    {
     "name": "stderr",
     "output_type": "stream",
     "text": [
      "100%|██████████| 7/7 [00:00<00:00, 30.52it/s]\n",
      " 59%|█████▉    | 59/100 [00:11<00:08,  5.00it/s]"
     ]
    },
    {
     "name": "stdout",
     "output_type": "stream",
     "text": [
      "Epoch 59, Loss: 0.0070\n"
     ]
    },
    {
     "name": "stderr",
     "output_type": "stream",
     "text": [
      "100%|██████████| 7/7 [00:00<00:00, 49.22it/s]\n",
      " 60%|██████    | 60/100 [00:11<00:07,  5.44it/s]"
     ]
    },
    {
     "name": "stdout",
     "output_type": "stream",
     "text": [
      "Epoch 60, Loss: 0.0069\n"
     ]
    },
    {
     "name": "stderr",
     "output_type": "stream",
     "text": [
      "100%|██████████| 7/7 [00:00<00:00, 33.02it/s]\n",
      " 61%|██████    | 61/100 [00:11<00:07,  5.18it/s]"
     ]
    },
    {
     "name": "stdout",
     "output_type": "stream",
     "text": [
      "Epoch 61, Loss: 0.0069\n"
     ]
    },
    {
     "name": "stderr",
     "output_type": "stream",
     "text": [
      "100%|██████████| 7/7 [00:00<00:00, 52.12it/s]\n",
      " 62%|██████▏   | 62/100 [00:11<00:06,  5.67it/s]"
     ]
    },
    {
     "name": "stdout",
     "output_type": "stream",
     "text": [
      "Epoch 62, Loss: 0.0069\n"
     ]
    },
    {
     "name": "stderr",
     "output_type": "stream",
     "text": [
      "100%|██████████| 7/7 [00:00<00:00, 31.02it/s]\n",
      " 63%|██████▎   | 63/100 [00:11<00:07,  5.21it/s]"
     ]
    },
    {
     "name": "stdout",
     "output_type": "stream",
     "text": [
      "Epoch 63, Loss: 0.0070\n"
     ]
    },
    {
     "name": "stderr",
     "output_type": "stream",
     "text": [
      "100%|██████████| 7/7 [00:00<00:00, 48.47it/s]\n",
      " 64%|██████▍   | 64/100 [00:11<00:06,  5.60it/s]"
     ]
    },
    {
     "name": "stdout",
     "output_type": "stream",
     "text": [
      "Epoch 64, Loss: 0.0070\n"
     ]
    },
    {
     "name": "stderr",
     "output_type": "stream",
     "text": [
      "100%|██████████| 7/7 [00:00<00:00, 32.16it/s]\n",
      " 65%|██████▌   | 65/100 [00:12<00:06,  5.23it/s]"
     ]
    },
    {
     "name": "stdout",
     "output_type": "stream",
     "text": [
      "Epoch 65, Loss: 0.0071\n"
     ]
    },
    {
     "name": "stderr",
     "output_type": "stream",
     "text": [
      "100%|██████████| 7/7 [00:00<00:00, 51.25it/s]\n",
      " 66%|██████▌   | 66/100 [00:12<00:05,  5.69it/s]"
     ]
    },
    {
     "name": "stdout",
     "output_type": "stream",
     "text": [
      "Epoch 66, Loss: 0.0071\n"
     ]
    },
    {
     "name": "stderr",
     "output_type": "stream",
     "text": [
      "100%|██████████| 7/7 [00:00<00:00, 30.66it/s]\n",
      " 67%|██████▋   | 67/100 [00:12<00:06,  5.20it/s]"
     ]
    },
    {
     "name": "stdout",
     "output_type": "stream",
     "text": [
      "Epoch 67, Loss: 0.0071\n"
     ]
    },
    {
     "name": "stderr",
     "output_type": "stream",
     "text": [
      "100%|██████████| 7/7 [00:00<00:00, 49.90it/s]\n",
      " 68%|██████▊   | 68/100 [00:12<00:05,  5.63it/s]"
     ]
    },
    {
     "name": "stdout",
     "output_type": "stream",
     "text": [
      "Epoch 68, Loss: 0.0070\n"
     ]
    },
    {
     "name": "stderr",
     "output_type": "stream",
     "text": [
      "100%|██████████| 7/7 [00:00<00:00, 30.67it/s]\n",
      " 69%|██████▉   | 69/100 [00:12<00:06,  5.16it/s]"
     ]
    },
    {
     "name": "stdout",
     "output_type": "stream",
     "text": [
      "Epoch 69, Loss: 0.0069\n"
     ]
    },
    {
     "name": "stderr",
     "output_type": "stream",
     "text": [
      "100%|██████████| 7/7 [00:00<00:00, 46.76it/s]\n",
      " 70%|███████   | 70/100 [00:13<00:05,  5.50it/s]"
     ]
    },
    {
     "name": "stdout",
     "output_type": "stream",
     "text": [
      "Epoch 70, Loss: 0.0069\n"
     ]
    },
    {
     "name": "stderr",
     "output_type": "stream",
     "text": [
      "100%|██████████| 7/7 [00:00<00:00, 30.13it/s]\n",
      " 71%|███████   | 71/100 [00:13<00:05,  5.05it/s]"
     ]
    },
    {
     "name": "stdout",
     "output_type": "stream",
     "text": [
      "Epoch 71, Loss: 0.0069\n"
     ]
    },
    {
     "name": "stderr",
     "output_type": "stream",
     "text": [
      "100%|██████████| 7/7 [00:00<00:00, 46.52it/s]\n",
      " 72%|███████▏  | 72/100 [00:13<00:05,  5.42it/s]"
     ]
    },
    {
     "name": "stdout",
     "output_type": "stream",
     "text": [
      "Epoch 72, Loss: 0.0070\n"
     ]
    },
    {
     "name": "stderr",
     "output_type": "stream",
     "text": [
      "100%|██████████| 7/7 [00:00<00:00, 30.87it/s]\n",
      " 73%|███████▎  | 73/100 [00:13<00:05,  5.05it/s]"
     ]
    },
    {
     "name": "stdout",
     "output_type": "stream",
     "text": [
      "Epoch 73, Loss: 0.0070\n"
     ]
    },
    {
     "name": "stderr",
     "output_type": "stream",
     "text": [
      "100%|██████████| 7/7 [00:00<00:00, 46.47it/s]\n",
      " 74%|███████▍  | 74/100 [00:13<00:04,  5.42it/s]"
     ]
    },
    {
     "name": "stdout",
     "output_type": "stream",
     "text": [
      "Epoch 74, Loss: 0.0070\n"
     ]
    },
    {
     "name": "stderr",
     "output_type": "stream",
     "text": [
      "100%|██████████| 7/7 [00:00<00:00, 28.65it/s]\n",
      " 75%|███████▌  | 75/100 [00:14<00:05,  4.92it/s]"
     ]
    },
    {
     "name": "stdout",
     "output_type": "stream",
     "text": [
      "Epoch 75, Loss: 0.0070\n"
     ]
    },
    {
     "name": "stderr",
     "output_type": "stream",
     "text": [
      "100%|██████████| 7/7 [00:00<00:00, 48.99it/s]\n",
      " 76%|███████▌  | 76/100 [00:14<00:04,  5.37it/s]"
     ]
    },
    {
     "name": "stdout",
     "output_type": "stream",
     "text": [
      "Epoch 76, Loss: 0.0070\n"
     ]
    },
    {
     "name": "stderr",
     "output_type": "stream",
     "text": [
      "100%|██████████| 7/7 [00:00<00:00, 28.67it/s]\n",
      " 77%|███████▋  | 77/100 [00:14<00:04,  4.89it/s]"
     ]
    },
    {
     "name": "stdout",
     "output_type": "stream",
     "text": [
      "Epoch 77, Loss: 0.0071\n"
     ]
    },
    {
     "name": "stderr",
     "output_type": "stream",
     "text": [
      "100%|██████████| 7/7 [00:00<00:00, 49.17it/s]\n",
      " 78%|███████▊  | 78/100 [00:14<00:04,  5.35it/s]"
     ]
    },
    {
     "name": "stdout",
     "output_type": "stream",
     "text": [
      "Epoch 78, Loss: 0.0070\n"
     ]
    },
    {
     "name": "stderr",
     "output_type": "stream",
     "text": [
      "100%|██████████| 7/7 [00:00<00:00, 31.75it/s]\n",
      " 79%|███████▉  | 79/100 [00:14<00:04,  5.05it/s]"
     ]
    },
    {
     "name": "stdout",
     "output_type": "stream",
     "text": [
      "Epoch 79, Loss: 0.0070\n"
     ]
    },
    {
     "name": "stderr",
     "output_type": "stream",
     "text": [
      "100%|██████████| 7/7 [00:00<00:00, 49.75it/s]\n",
      " 80%|████████  | 80/100 [00:15<00:03,  5.50it/s]"
     ]
    },
    {
     "name": "stdout",
     "output_type": "stream",
     "text": [
      "Epoch 80, Loss: 0.0070\n"
     ]
    },
    {
     "name": "stderr",
     "output_type": "stream",
     "text": [
      "100%|██████████| 7/7 [00:00<00:00, 31.75it/s]\n",
      " 81%|████████  | 81/100 [00:15<00:03,  5.14it/s]"
     ]
    },
    {
     "name": "stdout",
     "output_type": "stream",
     "text": [
      "Epoch 81, Loss: 0.0071\n"
     ]
    },
    {
     "name": "stderr",
     "output_type": "stream",
     "text": [
      "100%|██████████| 7/7 [00:00<00:00, 51.00it/s]\n",
      " 82%|████████▏ | 82/100 [00:15<00:03,  5.61it/s]"
     ]
    },
    {
     "name": "stdout",
     "output_type": "stream",
     "text": [
      "Epoch 82, Loss: 0.0071\n"
     ]
    },
    {
     "name": "stderr",
     "output_type": "stream",
     "text": [
      "100%|██████████| 7/7 [00:00<00:00, 32.68it/s]\n",
      " 83%|████████▎ | 83/100 [00:15<00:03,  5.26it/s]"
     ]
    },
    {
     "name": "stdout",
     "output_type": "stream",
     "text": [
      "Epoch 83, Loss: 0.0070\n"
     ]
    },
    {
     "name": "stderr",
     "output_type": "stream",
     "text": [
      "100%|██████████| 7/7 [00:00<00:00, 50.98it/s]\n",
      " 84%|████████▍ | 84/100 [00:15<00:02,  5.71it/s]"
     ]
    },
    {
     "name": "stdout",
     "output_type": "stream",
     "text": [
      "Epoch 84, Loss: 0.0070\n"
     ]
    },
    {
     "name": "stderr",
     "output_type": "stream",
     "text": [
      "100%|██████████| 7/7 [00:00<00:00, 29.57it/s]\n",
      " 85%|████████▌ | 85/100 [00:15<00:02,  5.14it/s]"
     ]
    },
    {
     "name": "stdout",
     "output_type": "stream",
     "text": [
      "Epoch 85, Loss: 0.0070\n"
     ]
    },
    {
     "name": "stderr",
     "output_type": "stream",
     "text": [
      "100%|██████████| 7/7 [00:00<00:00, 46.59it/s]\n",
      " 86%|████████▌ | 86/100 [00:16<00:02,  5.49it/s]"
     ]
    },
    {
     "name": "stdout",
     "output_type": "stream",
     "text": [
      "Epoch 86, Loss: 0.0069\n"
     ]
    },
    {
     "name": "stderr",
     "output_type": "stream",
     "text": [
      "100%|██████████| 7/7 [00:00<00:00, 30.61it/s]\n",
      " 87%|████████▋ | 87/100 [00:16<00:02,  5.07it/s]"
     ]
    },
    {
     "name": "stdout",
     "output_type": "stream",
     "text": [
      "Epoch 87, Loss: 0.0072\n"
     ]
    },
    {
     "name": "stderr",
     "output_type": "stream",
     "text": [
      "100%|██████████| 7/7 [00:00<00:00, 46.83it/s]\n",
      " 88%|████████▊ | 88/100 [00:16<00:02,  5.43it/s]"
     ]
    },
    {
     "name": "stdout",
     "output_type": "stream",
     "text": [
      "Epoch 88, Loss: 0.0068\n"
     ]
    },
    {
     "name": "stderr",
     "output_type": "stream",
     "text": [
      "100%|██████████| 7/7 [00:00<00:00, 29.94it/s]\n",
      " 89%|████████▉ | 89/100 [00:16<00:02,  5.00it/s]"
     ]
    },
    {
     "name": "stdout",
     "output_type": "stream",
     "text": [
      "Epoch 89, Loss: 0.0070\n"
     ]
    },
    {
     "name": "stderr",
     "output_type": "stream",
     "text": [
      "100%|██████████| 7/7 [00:00<00:00, 46.57it/s]\n",
      " 90%|█████████ | 90/100 [00:16<00:01,  5.37it/s]"
     ]
    },
    {
     "name": "stdout",
     "output_type": "stream",
     "text": [
      "Epoch 90, Loss: 0.0071\n"
     ]
    },
    {
     "name": "stderr",
     "output_type": "stream",
     "text": [
      "100%|██████████| 7/7 [00:00<00:00, 27.68it/s]\n",
      " 91%|█████████ | 91/100 [00:17<00:01,  4.83it/s]"
     ]
    },
    {
     "name": "stdout",
     "output_type": "stream",
     "text": [
      "Epoch 91, Loss: 0.0069\n"
     ]
    },
    {
     "name": "stderr",
     "output_type": "stream",
     "text": [
      "100%|██████████| 7/7 [00:00<00:00, 50.62it/s]\n",
      " 92%|█████████▏| 92/100 [00:17<00:01,  5.33it/s]"
     ]
    },
    {
     "name": "stdout",
     "output_type": "stream",
     "text": [
      "Epoch 92, Loss: 0.0071\n"
     ]
    },
    {
     "name": "stderr",
     "output_type": "stream",
     "text": [
      "100%|██████████| 7/7 [00:00<00:00, 30.64it/s]\n",
      " 93%|█████████▎| 93/100 [00:17<00:01,  4.98it/s]"
     ]
    },
    {
     "name": "stdout",
     "output_type": "stream",
     "text": [
      "Epoch 93, Loss: 0.0068\n"
     ]
    },
    {
     "name": "stderr",
     "output_type": "stream",
     "text": [
      "100%|██████████| 7/7 [00:00<00:00, 49.81it/s]\n",
      " 94%|█████████▍| 94/100 [00:17<00:01,  5.45it/s]"
     ]
    },
    {
     "name": "stdout",
     "output_type": "stream",
     "text": [
      "Epoch 94, Loss: 0.0071\n"
     ]
    },
    {
     "name": "stderr",
     "output_type": "stream",
     "text": [
      "100%|██████████| 7/7 [00:00<00:00, 31.52it/s]\n",
      " 95%|█████████▌| 95/100 [00:17<00:00,  5.10it/s]"
     ]
    },
    {
     "name": "stdout",
     "output_type": "stream",
     "text": [
      "Epoch 95, Loss: 0.0070\n"
     ]
    },
    {
     "name": "stderr",
     "output_type": "stream",
     "text": [
      "100%|██████████| 7/7 [00:00<00:00, 47.07it/s]\n",
      " 96%|█████████▌| 96/100 [00:18<00:00,  5.47it/s]"
     ]
    },
    {
     "name": "stdout",
     "output_type": "stream",
     "text": [
      "Epoch 96, Loss: 0.0069\n"
     ]
    },
    {
     "name": "stderr",
     "output_type": "stream",
     "text": [
      "100%|██████████| 7/7 [00:00<00:00, 32.02it/s]\n",
      " 97%|█████████▋| 97/100 [00:18<00:00,  5.14it/s]"
     ]
    },
    {
     "name": "stdout",
     "output_type": "stream",
     "text": [
      "Epoch 97, Loss: 0.0070\n"
     ]
    },
    {
     "name": "stderr",
     "output_type": "stream",
     "text": [
      "100%|██████████| 7/7 [00:00<00:00, 50.62it/s]\n",
      " 98%|█████████▊| 98/100 [00:18<00:00,  5.60it/s]"
     ]
    },
    {
     "name": "stdout",
     "output_type": "stream",
     "text": [
      "Epoch 98, Loss: 0.0070\n"
     ]
    },
    {
     "name": "stderr",
     "output_type": "stream",
     "text": [
      "100%|██████████| 7/7 [00:00<00:00, 31.66it/s]\n",
      " 99%|█████████▉| 99/100 [00:18<00:00,  5.20it/s]"
     ]
    },
    {
     "name": "stdout",
     "output_type": "stream",
     "text": [
      "Epoch 99, Loss: 0.0069\n"
     ]
    },
    {
     "name": "stderr",
     "output_type": "stream",
     "text": [
      "100%|██████████| 7/7 [00:00<00:00, 50.86it/s]\n",
      "100%|██████████| 100/100 [00:18<00:00,  5.32it/s]"
     ]
    },
    {
     "name": "stdout",
     "output_type": "stream",
     "text": [
      "Epoch 100, Loss: 0.0070\n"
     ]
    },
    {
     "name": "stderr",
     "output_type": "stream",
     "text": [
      "\n"
     ]
    },
    {
     "data": {
      "text/plain": [
       "GAT(\n",
       "  (layer1): GATConv(3, 11, heads=6)\n",
       "  (layer2): GATConv(66, 11, heads=6)\n",
       "  (layer5): GATConv(66, 1, heads=1)\n",
       "  (activation_function): ReLU()\n",
       ")"
      ]
     },
     "execution_count": 192,
     "metadata": {},
     "output_type": "execute_result"
    }
   ],
   "source": [
    "for epoch in tqdm.tqdm(range(epochs_num)):\n",
    "    \n",
    "    epoch_loss = 0\n",
    "    for batch in tqdm.tqdm(dataloader):\n",
    "        # Forward pass\n",
    "        optimizer.zero_grad()\n",
    "        \n",
    "        output = gat(batch.x, batch.edge_index, batch.weight, batch.batch)\n",
    "        \n",
    "        # Calculate loss\n",
    "        loss = loss_fn(output, batch.momentum)\n",
    "        loss.backward()\n",
    "\n",
    "        optimizer.step()\n",
    "        \n",
    "        epoch_loss += loss.item()\n",
    "    \n",
    "    print(f\"Epoch {epoch+1}, Loss: {epoch_loss/len(dataloader):.4f}\") \n",
    "gat.eval() "
   ]
  },
  {
   "cell_type": "code",
   "execution_count": 193,
   "metadata": {},
   "outputs": [
    {
     "data": {
      "text/plain": [
       "0.02662291302452502"
      ]
     },
     "execution_count": 193,
     "metadata": {},
     "output_type": "execute_result"
    }
   ],
   "source": [
    "y_pred  = []\n",
    "y_true = []\n",
    "\n",
    "with torch.no_grad():\n",
    "    for idx in test_idx:\n",
    "        batch = torch.zeros(pyg_data[idx].x.size(0), dtype=torch.long)\n",
    "        output = gat(pyg_data[idx].x, pyg_data[idx].edge_index, pyg_data[idx].weight, batch)\n",
    "        y_pred.append(output.item())\n",
    "        y_true.append(pyg_data[idx].momentum)\n",
    "        \n",
    "from sklearn.metrics import r2_score\n",
    "r2_score(y_true, y_pred)"
   ]
  },
  {
   "cell_type": "code",
   "execution_count": 194,
   "metadata": {},
   "outputs": [
    {
     "data": {
      "text/plain": [
       "[0.054200295358896255,\n",
       " 0.04919273033738136,\n",
       " 0.04670429229736328,\n",
       " 0.05131502076983452,\n",
       " 0.04615010321140289,\n",
       " 0.039218902587890625,\n",
       " 0.03986019268631935,\n",
       " 0.034883249551057816,\n",
       " 0.04380013793706894,\n",
       " 0.030633594840765,\n",
       " 0.04836907982826233,\n",
       " 0.050724051892757416,\n",
       " 0.045164741575717926,\n",
       " 0.051712699234485626,\n",
       " 0.03040635772049427,\n",
       " 0.048722196370363235,\n",
       " 0.050163451582193375,\n",
       " 0.03825452923774719,\n",
       " 0.04538062959909439,\n",
       " 0.04027505964040756,\n",
       " 0.04897720739245415,\n",
       " 0.05118934065103531,\n",
       " 0.056384045630693436,\n",
       " 0.04934357479214668,\n",
       " 0.04433446377515793,\n",
       " 0.05025928094983101,\n",
       " 0.05447214096784592,\n",
       " 0.055687833577394485,\n",
       " 0.049616843461990356,\n",
       " 0.045013755559921265,\n",
       " 0.04644521325826645,\n",
       " 0.042973630130290985,\n",
       " 0.03463193029165268,\n",
       " 0.047218624502420425,\n",
       " 0.023461773991584778,\n",
       " 0.04632022604346275,\n",
       " 0.05409754440188408,\n",
       " 0.0491645485162735,\n",
       " 0.05118916928768158,\n",
       " 0.05334385111927986,\n",
       " 0.04013759270310402,\n",
       " 0.05276736617088318,\n",
       " 0.04702814668416977,\n",
       " 0.048945557326078415,\n",
       " 0.03968775272369385,\n",
       " 0.05668497458100319,\n",
       " 0.04618774726986885,\n",
       " 0.040640249848365784,\n",
       " 0.05340252071619034,\n",
       " 0.05293368920683861,\n",
       " 0.04205665364861488,\n",
       " 0.0475451722741127,\n",
       " 0.04882647842168808,\n",
       " 0.04449153319001198,\n",
       " 0.03619430214166641,\n",
       " 0.038460779935121536,\n",
       " 0.052143242210149765,\n",
       " 0.05028873309493065,\n",
       " 0.045623790472745895,\n",
       " 0.02365558035671711,\n",
       " 0.033753760159015656,\n",
       " 0.03957068547606468,\n",
       " 0.04060809686779976,\n",
       " 0.05896849185228348,\n",
       " 0.05064470320940018,\n",
       " 0.054314710199832916,\n",
       " 0.03740375488996506,\n",
       " 0.05180291086435318,\n",
       " 0.05027708783745766,\n",
       " 0.05328788980841637,\n",
       " 0.03745398297905922,\n",
       " 0.055674243718385696,\n",
       " 0.05458690971136093,\n",
       " 0.051527366042137146,\n",
       " 0.0454961359500885,\n",
       " 0.04917280003428459,\n",
       " 0.0526287779211998,\n",
       " 0.037253059446811676,\n",
       " 0.051525816321372986,\n",
       " 0.03711723908782005,\n",
       " 0.04341315105557442,\n",
       " 0.04757208004593849,\n",
       " 0.043270405381917953,\n",
       " 0.0418531596660614,\n",
       " 0.05076741799712181,\n",
       " 0.032687798142433167,\n",
       " 0.040808796882629395,\n",
       " 0.047479297965765,\n",
       " 0.047226857393980026,\n",
       " 0.049780696630477905,\n",
       " 0.050722621381282806,\n",
       " 0.042535409331321716,\n",
       " 0.04290849342942238,\n",
       " 0.0512407124042511,\n",
       " 0.04799908027052879,\n",
       " 0.021976038813591003,\n",
       " 0.05585837736725807,\n",
       " 0.045139167457818985,\n",
       " 0.054826896637678146,\n",
       " 0.041854213923215866,\n",
       " 0.03534453734755516,\n",
       " 0.05638480558991432,\n",
       " 0.03484547138214111,\n",
       " 0.031774796545505524,\n",
       " 0.04384675621986389,\n",
       " 0.03184567391872406]"
      ]
     },
     "execution_count": 194,
     "metadata": {},
     "output_type": "execute_result"
    }
   ],
   "source": [
    "y_pred"
   ]
  },
  {
   "cell_type": "code",
   "execution_count": 195,
   "metadata": {},
   "outputs": [],
   "source": [
    "y_pred  = []\n",
    "y_true = []\n",
    "batch = torch.zeros(23, dtype=torch.long)\n",
    "\n",
    "\n",
    "with torch.no_grad():\n",
    "    for graph in thors_kamp:\n",
    "        output = gat(graph.x, graph.edge_index, graph.weight, batch)\n",
    "        y_pred.append(output.item())\n",
    "        y_true.append(graph.momentum)\n"
   ]
  },
  {
   "cell_type": "code",
   "execution_count": 196,
   "metadata": {},
   "outputs": [
    {
     "name": "stdout",
     "output_type": "stream",
     "text": [
      "Prediction = 0.05346691235899925, Actual momementum = 0.09109056740999222\n",
      "Prediction = 0.05516462400555611, Actual momementum = -0.04241221025586128\n",
      "Prediction = 0.03943176567554474, Actual momementum = 0.166485995054245\n",
      "Prediction = 0.051137883216142654, Actual momementum = 0.06548559665679932\n",
      "Prediction = 0.04667608067393303, Actual momementum = 0.08412574231624603\n",
      "Prediction = 0.04482093080878258, Actual momementum = 0.103540800511837\n",
      "Prediction = 0.04308966174721718, Actual momementum = 0.13816143572330475\n",
      "Prediction = 0.0566927045583725, Actual momementum = -0.02740156091749668\n",
      "Prediction = 0.05580773577094078, Actual momementum = 0.048808980733156204\n",
      "Prediction = 0.03747383877635002, Actual momementum = 0.013777799904346466\n",
      "Prediction = 0.04632919281721115, Actual momementum = 0.015394230373203754\n",
      "Prediction = 0.05362824350595474, Actual momementum = -0.025680720806121826\n",
      "Prediction = 0.027782868593931198, Actual momementum = 0.12492278963327408\n",
      "Prediction = 0.05337393283843994, Actual momementum = -0.07644929736852646\n",
      "Prediction = 0.03338012099266052, Actual momementum = 0.0954575464129448\n",
      "Prediction = 0.03959745541214943, Actual momementum = 0.1016433984041214\n"
     ]
    },
    {
     "data": {
      "text/plain": [
       "-0.18491950105139177"
      ]
     },
     "execution_count": 196,
     "metadata": {},
     "output_type": "execute_result"
    }
   ],
   "source": [
    "for pair in zip(y_pred, y_true):\n",
    "    print(\"Prediction = \" + str(pair[0]) + ', Actual momementum = ' + str(pair[1].item()))\n",
    "\n",
    "from sklearn.metrics import r2_score\n",
    "r2_score(y_true, y_pred)"
   ]
  }
 ],
 "metadata": {
  "kernelspec": {
   "display_name": "base",
   "language": "python",
   "name": "python3"
  },
  "language_info": {
   "codemirror_mode": {
    "name": "ipython",
    "version": 3
   },
   "file_extension": ".py",
   "mimetype": "text/x-python",
   "name": "python",
   "nbconvert_exporter": "python",
   "pygments_lexer": "ipython3",
   "version": "3.9.12"
  }
 },
 "nbformat": 4,
 "nbformat_minor": 2
}
