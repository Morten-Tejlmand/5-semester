{
 "cells": [
  {
   "cell_type": "code",
   "execution_count": null,
   "metadata": {},
   "outputs": [],
   "source": [
    "\t\n",
    "from statsbombpy import sb\n",
    "import pandas as pd\n",
    "import numpy as np\n",
    "import networkx as nx\n",
    "from collections import Counter"
   ]
  },
  {
   "cell_type": "code",
   "execution_count": null,
   "metadata": {},
   "outputs": [],
   "source": [
    "events = sb.competition_events(\n",
    "    country=\"Germany\",\n",
    "    division= \"1. Bundesliga\",\n",
    "    season=\"2023/2024\",\n",
    "    gender=\"male\"\n",
    ")"
   ]
  },
  {
   "cell_type": "code",
   "execution_count": null,
   "metadata": {},
   "outputs": [],
   "source": [
    "#make a list to hold a df of the events of a match\n",
    "df_lst = []\n",
    "\n",
    "for id in events.match_id.unique():\n",
    "    #find one match for one team\n",
    "    match_subset = events.loc[events['match_id'] == id]\n",
    "    match_subset = match_subset.loc[events['possession_team'] == 'Bayer Leverkusen']\n",
    "\n",
    "    #include only passes and shots\n",
    "    match_subset = match_subset.loc[(match_subset['type'] == 'Shot') | (match_subset['type'] =='Pass')]\n",
    "\n",
    "    match_subset['pass_recipient_position'] = None\n",
    "\n",
    "    match_subset.loc[match_subset['pass_recipient_id'].notna(),'pass_recipient_position'] = match_subset['position'].shift(-1)\n",
    "\n",
    "    #de næste to linjer kan eventuelt kommenteres ud, og så kan vi bare fjerne na i stedet, hvis vi ikke vil have de ekstra nodes, jeg foreslår :D\n",
    "\n",
    "    #if a pass does not have a recipient fill the field with the outcome. This allows us to create \"out\" or \"incomplete\" nodes if we wish\n",
    "    match_subset.loc[match_subset['type'] =='Pass', 'pass_recipient_position'] = match_subset.apply(lambda x: np.where(pd.isna(x['pass_recipient_position']), x['pass_outcome'], x['pass_recipient_position']), axis=1)\n",
    "\n",
    "    #add shot as a pass recipient as well\n",
    "    match_subset.loc[match_subset['type'] =='Shot', 'pass_recipient_position'] = match_subset.apply(lambda x: np.where(pd.isna(x['pass_recipient_position']), x['shot_outcome'], x['pass_recipient_position']), axis=1)\n",
    "\n",
    "\n",
    "    #sort the values like when we did the passing sequences\n",
    "    match_subset = match_subset.sort_values(['period','timestamp'], ascending=[True, True])\n",
    "\n",
    "    df_lst.append(match_subset)   "
   ]
  },
  {
   "cell_type": "code",
   "execution_count": null,
   "metadata": {},
   "outputs": [],
   "source": [
    "#dictionary for the graphs\n",
    "match_graph_dict = {}\n",
    "\n",
    "#iterate through the dfs\n",
    "for match in df_lst:\n",
    "    match_id = match['match_id'].iloc[0]\n",
    "    graph = nx.DiGraph()\n",
    "    edges = []\n",
    "\n",
    "    #iterate through the passings of the match\n",
    "    for node in pd.concat([match['position'], match['pass_recipient_position']], axis=0):\n",
    "        if str(node) not in list(graph.nodes):\n",
    "            #add the node to the graph\n",
    "            graph.add_node(str(node))\n",
    "\n",
    "    for passing in match[['position', 'pass_recipient_position']].itertuples():\n",
    "        edge = (str(passing.position), str(passing.pass_recipient_position))\n",
    "        edges.append(edge)\n",
    "\n",
    "    #count the frequencies\n",
    "    edges_counter = Counter(edges)\n",
    "\n",
    "    edge_and_count = [(edge[0], edge[1], edges_counter[edge]) for edge in edges]\n",
    "\n",
    "    #add weighted edges to graph\n",
    "    graph.add_weighted_edges_from(edge_and_count)\n",
    "\n",
    "    #add finished graph to dictionary\n",
    "    match_graph_dict[match_id] = graph"
   ]
  },
  {
   "cell_type": "code",
   "execution_count": null,
   "metadata": {},
   "outputs": [],
   "source": [
    "nx.draw_networkx(match_graph_dict[3895333])"
   ]
  }
 ],
 "metadata": {
  "language_info": {
   "name": "python"
  }
 },
 "nbformat": 4,
 "nbformat_minor": 2
}
