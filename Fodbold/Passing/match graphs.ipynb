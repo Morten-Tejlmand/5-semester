{
 "cells": [
  {
   "cell_type": "code",
   "execution_count": 30,
   "metadata": {},
   "outputs": [],
   "source": [
    "from statsbombpy import sb\n",
    "import pandas as pd\n",
    "import numpy as np"
   ]
  },
  {
   "cell_type": "markdown",
   "metadata": {},
   "source": [
    "I denne notebook laves én stor graf for hvert hold i hver kamp."
   ]
  },
  {
   "cell_type": "code",
   "execution_count": null,
   "metadata": {},
   "outputs": [],
   "source": [
    "events = sb.competition_events(\n",
    "    country=\"Germany\",\n",
    "    division= \"1. Bundesliga\",\n",
    "    season=\"2023/2024\",\n",
    "    gender=\"male\"\n",
    ")"
   ]
  },
  {
   "cell_type": "code",
   "execution_count": null,
   "metadata": {},
   "outputs": [],
   "source": [
    "#make a list to hold a df of the events of a match\n",
    "df_lst = []\n",
    "\n",
    "for id in events.match_id.unique():\n",
    "    #find one match for one team\n",
    "    match_subset = events.loc[events['match_id'] == id]\n",
    "    match_subset = match_subset.loc[events['possession_team'] == 'Bayer Leverkusen']\n",
    "\n",
    "    #include only passes and shots\n",
    "    match_subset = match_subset.loc[(match_subset['type'] == 'Shot') | (match_subset['type'] =='Pass')]\n",
    "    \n",
    "\n",
    "    #de næste to linjer kan eventuelt kommenteres ud, og så kan vi bare fjerne na i stedet, hvis vi ikke vil have de ekstra nodes, jeg foreslår :D\n",
    "\n",
    "    #if a pass does not have a recipient fill the field with the outcome. This allows us to create \"out\" or \"incomplete\" nodes if we wish\n",
    "    match_subset.loc[match_subset['type'] =='Pass', 'pass_recipient_id'] = match_subset.apply(lambda x: np.where(pd.isna(x['pass_recipient_id']), x['pass_outcome'], x['pass_recipient_id']), axis=1)\n",
    "\n",
    "    #add shot as a pass recipient as well\n",
    "    match_subset.loc[match_subset['type'] =='Shot', 'pass_recipient_id'] = match_subset.apply(lambda x: np.where(pd.isna(x['pass_recipient_id']), x['shot_outcome'], x['pass_recipient_id']), axis=1)\n",
    "\n",
    "    #sort the values like when we did the passing sequences\n",
    "    match_subset = match_subset.sort_values(['period','timestamp'], ascending=[True, True])\n",
    "\n",
    "    df_lst.append(match_subset)   "
   ]
  },
  {
   "cell_type": "markdown",
   "metadata": {},
   "source": [
    "Så kan man mappe spillerne til deres positioner, og så bare lave alle graferne ved at iterere gennem listen, tænker jeg"
   ]
  }
 ],
 "metadata": {
  "kernelspec": {
   "display_name": "base",
   "language": "python",
   "name": "python3"
  },
  "language_info": {
   "codemirror_mode": {
    "name": "ipython",
    "version": 3
   },
   "file_extension": ".py",
   "mimetype": "text/x-python",
   "name": "python",
   "nbconvert_exporter": "python",
   "pygments_lexer": "ipython3",
   "version": "3.9.12"
  }
 },
 "nbformat": 4,
 "nbformat_minor": 2
}
