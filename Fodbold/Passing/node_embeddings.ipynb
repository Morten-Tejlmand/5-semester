{
 "cells": [
  {
   "cell_type": "code",
   "execution_count": 24,
   "metadata": {},
   "outputs": [],
   "source": [
    "import networkx as nx\n",
    "import pickle\n",
    "from karateclub import Graph2Vec\n",
    "import matplotlib.pyplot as plt"
   ]
  },
  {
   "cell_type": "code",
   "execution_count": 3,
   "metadata": {},
   "outputs": [],
   "source": [
    "with open('graphs_dict.pkl', 'rb') as f:\n",
    "    loaded_graphs = pickle.load(f)"
   ]
  },
  {
   "cell_type": "code",
   "execution_count": null,
   "metadata": {},
   "outputs": [],
   "source": [
    "G = nx.Graph()"
   ]
  },
  {
   "cell_type": "code",
   "execution_count": 11,
   "metadata": {},
   "outputs": [],
   "source": [
    "graph_list = []\n",
    "for key in loaded_graphs.keys():\n",
    "    graph_list.append(loaded_graphs[key][\"graph\"])"
   ]
  },
  {
   "cell_type": "code",
   "execution_count": 22,
   "metadata": {},
   "outputs": [],
   "source": [
    "def reindex_graphs(graph_list):\n",
    "    return [nx.convert_node_labels_to_integers(graph) for graph in graph_list]\n",
    "\n",
    "# Reindex the graphs\n",
    "graph_list_reindexed = reindex_graphs(graph_list)\n",
    "\n",
    "# Initialize the Graph2Vec model\n",
    "model = Graph2Vec(dimensions=2, wl_iterations=2)\n",
    "\n",
    "# Fit the model with the reindexed graphs\n",
    "model.fit(graph_list_reindexed)\n",
    "\n",
    "# Get the embeddings\n",
    "embeddings = model.get_embedding()"
   ]
  },
  {
   "cell_type": "code",
   "execution_count": 26,
   "metadata": {},
   "outputs": [
    {
     "data": {
      "image/png": "[encoded data removed]",
      "text/plain": [
       "<Figure size 432x288 with 1 Axes>"
      ]
     },
     "metadata": {
      "needs_background": "light"
     },
     "output_type": "display_data"
    }
   ],
   "source": [
    "plt.scatter(embeddings[:, 0], embeddings[:, 1])\n",
    "plt.xlabel(\"Dim1\")\n",
    "plt.ylabel(\"Dim2\")\n",
    "plt.show()"
   ]
  },
  {
   "cell_type": "code",
   "execution_count": 20,
   "metadata": {},
   "outputs": [],
   "source": [
    "from sklearn.metrics.pairwise import cosine_similarity\n",
    "A = embeddings.T[0]\n",
    "B = embeddings.T[1]\n"
   ]
  },
  {
   "cell_type": "code",
   "execution_count": 21,
   "metadata": {},
   "outputs": [
    {
     "data": {
      "text/plain": [
       "array([ 1.33988801e-02,  9.69361980e-03,  5.35006495e-03,  1.19255213e-02,\n",
       "        1.21456906e-02,  5.44543192e-03,  1.09504387e-02, -8.48239637e-04,\n",
       "        1.19731501e-02,  1.02894765e-03,  1.38128288e-02,  1.54871261e-02,\n",
       "       -1.37023907e-02, -3.59323900e-03,  8.75958987e-03, -1.15864994e-02,\n",
       "        1.56366043e-02,  1.48017490e-02,  8.59757978e-03, -1.18070552e-02,\n",
       "        5.94473816e-03,  8.03361088e-03,  3.16511607e-03,  1.33387903e-02,\n",
       "        4.75189136e-03, -8.84315744e-03,  1.96099607e-03,  7.02813920e-03,\n",
       "       -3.95671045e-03,  4.20600967e-03, -1.31917652e-02, -1.20461285e-02,\n",
       "       -2.89010629e-03, -1.19188707e-02,  6.59023412e-03,  6.45868154e-03,\n",
       "        6.60578208e-03, -5.78313228e-03,  1.30343707e-02,  1.06717562e-02,\n",
       "        6.26570545e-05, -1.72849803e-03, -7.42765609e-03,  1.51765784e-02,\n",
       "       -2.15796940e-03, -1.02707352e-02,  4.59741708e-03, -4.22430038e-03,\n",
       "       -9.10744071e-03, -1.36889694e-02, -9.99255478e-03,  1.62925553e-02,\n",
       "        2.15209578e-03,  1.22356592e-02,  5.31277806e-03,  1.15811406e-02,\n",
       "       -7.92014413e-03,  8.04227311e-03, -7.14866770e-03, -5.51243313e-03,\n",
       "       -1.35322195e-02, -1.66579348e-03, -6.79538911e-03, -8.94171372e-03,\n",
       "        1.07830856e-02,  1.41912512e-03,  1.65297035e-02,  2.42044823e-03,\n",
       "        9.49113921e-04, -6.86648162e-03,  2.14480516e-03, -1.08850272e-02,\n",
       "        1.09915882e-02,  3.60655063e-03,  1.09162461e-02, -7.68251345e-03,\n",
       "       -3.03443195e-03,  6.17064349e-03,  5.66777308e-04,  7.70183932e-03,\n",
       "       -6.76849042e-04, -1.05888804e-03,  2.33369716e-03,  1.01043414e-02,\n",
       "       -1.37069365e-02,  1.08677391e-02, -1.07544754e-03, -1.51555985e-03,\n",
       "        1.56673603e-02,  2.16434291e-03,  4.90282010e-03, -2.75231502e-03,\n",
       "       -6.48311106e-03, -1.12399859e-02,  2.86970939e-03,  4.82857320e-03,\n",
       "       -5.28494176e-03,  1.20495623e-02,  1.32584777e-02, -1.10812811e-02,\n",
       "       -2.39841850e-03, -8.64429958e-03, -1.23366881e-02, -9.91848065e-04,\n",
       "       -9.19890497e-03,  1.48113957e-02, -7.49676628e-03,  6.89641293e-03,\n",
       "        1.06156785e-02, -1.24076605e-02, -5.97522873e-03, -1.00025469e-02,\n",
       "       -1.24347792e-03, -6.54027332e-04,  6.57057110e-03,  2.66992766e-03,\n",
       "        1.19947251e-02, -1.21838655e-02, -1.03575736e-02,  1.27452081e-02,\n",
       "        6.54155330e-04,  5.18019823e-03,  1.53758861e-02, -1.24349222e-02,\n",
       "        1.32326484e-02,  9.07267851e-04, -1.18374417e-03, -5.19773830e-03,\n",
       "       -7.33355468e-04,  2.37886771e-03,  1.30851706e-03, -3.78417992e-03,\n",
       "       -1.08360583e-02,  1.35731958e-02,  1.51899201e-03, -4.00871178e-03,\n",
       "        1.39637785e-02,  1.24068577e-02, -6.86229113e-03, -5.61986933e-04,\n",
       "        6.10759016e-04, -1.28790531e-02, -1.21551026e-02, -1.36074526e-02,\n",
       "       -1.12685720e-02,  3.14662186e-03, -1.12385079e-02,  5.36447903e-03,\n",
       "        7.80789740e-03,  6.91403123e-03, -5.43825096e-03, -1.64740637e-03,\n",
       "        5.60545409e-03,  1.04365330e-02,  1.31400181e-02,  4.70135035e-03,\n",
       "        1.04127340e-02,  1.60449781e-02,  1.40579734e-02, -5.48316725e-03,\n",
       "        8.32303893e-03,  2.95286009e-04,  8.02604295e-03, -2.85150856e-03,\n",
       "        5.50870085e-03,  6.19822601e-03, -2.55489838e-03, -5.87857282e-03,\n",
       "       -1.35671431e-02,  1.33304540e-02, -2.21718312e-03,  1.13859745e-02,\n",
       "       -1.37299746e-02, -5.68866590e-03,  9.59599297e-03,  6.06314372e-03,\n",
       "       -5.27613610e-03,  9.09182243e-03,  9.49718151e-03], dtype=float32)"
      ]
     },
     "execution_count": 21,
     "metadata": {},
     "output_type": "execute_result"
    }
   ],
   "source": [
    "A"
   ]
  },
  {
   "cell_type": "code",
   "execution_count": null,
   "metadata": {},
   "outputs": [],
   "source": []
  }
 ],
 "metadata": {
  "kernelspec": {
   "display_name": "Python 3",
   "language": "python",
   "name": "python3"
  },
  "language_info": {
   "codemirror_mode": {
    "name": "ipython",
    "version": 3
   },
   "file_extension": ".py",
   "mimetype": "text/x-python",
   "name": "python",
   "nbconvert_exporter": "python",
   "pygments_lexer": "ipython3",
   "version": "3.10.2"
  }
 },
 "nbformat": 4,
 "nbformat_minor": 2
}
