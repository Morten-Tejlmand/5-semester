import pandas as pd

loaded_graph_df = pd.read_csv('/Users/morten/Desktop/p5 kode/5-semester/Fodbold/match_graph_data.csv')
