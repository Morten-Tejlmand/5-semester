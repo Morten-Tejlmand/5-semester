{
 "cells": [
  {
   "cell_type": "code",
   "execution_count": 2,
   "metadata": {},
   "outputs": [],
   "source": [
    "from statsbombpy import sb\n",
    "import pandas as pd\n",
    "import numpy as np"
   ]
  },
  {
   "cell_type": "code",
   "execution_count": 3,
   "metadata": {},
   "outputs": [
    {
     "name": "stderr",
     "output_type": "stream",
     "text": [
      "/Users/MathildeStouby/opt/anaconda3/lib/python3.9/site-packages/statsbombpy/api_client.py:21: NoAuthWarning: credentials were not supplied. open data access only\n",
      "  warnings.warn(\n",
      "/Users/MathildeStouby/opt/anaconda3/lib/python3.9/site-packages/statsbombpy/api_client.py:21: NoAuthWarning: credentials were not supplied. open data access only\n",
      "  warnings.warn(\n",
      "/Users/MathildeStouby/opt/anaconda3/lib/python3.9/site-packages/statsbombpy/api_client.py:21: NoAuthWarning: credentials were not supplied. open data access only\n",
      "  warnings.warn(\n",
      "/Users/MathildeStouby/opt/anaconda3/lib/python3.9/site-packages/statsbombpy/api_client.py:21: NoAuthWarning: credentials were not supplied. open data access only\n",
      "  warnings.warn(\n",
      "/Users/MathildeStouby/opt/anaconda3/lib/python3.9/site-packages/statsbombpy/api_client.py:21: NoAuthWarning: credentials were not supplied. open data access only\n",
      "  warnings.warn(\n",
      "/Users/MathildeStouby/opt/anaconda3/lib/python3.9/site-packages/statsbombpy/api_client.py:21: NoAuthWarning: credentials were not supplied. open data access only\n",
      "  warnings.warn(\n",
      "/Users/MathildeStouby/opt/anaconda3/lib/python3.9/site-packages/statsbombpy/api_client.py:21: NoAuthWarning: credentials were not supplied. open data access only\n",
      "  warnings.warn(\n"
     ]
    }
   ],
   "source": [
    "#All events sorted for barca home games and possession \n",
    "events = sb.competition_events(\n",
    "    country=\"Germany\",\n",
    "    division= \"1. Bundesliga\",\n",
    "    season=\"2023/2024\",\n",
    "    gender=\"male\"\n",
    ")\n",
    "\n",
    "df = events[events[\"possession_team\"]==\"Bayer Leverkusen\"]\n",
    "df = df[df[\"team\"]==\"Bayer Leverkusen\"]\n"
   ]
  },
  {
   "cell_type": "code",
   "execution_count": null,
   "metadata": {},
   "outputs": [
    {
     "name": "stderr",
     "output_type": "stream",
     "text": [
      "/var/folders/_3/q0p4rhwn0r31w83n5ds1htx40000gn/T/ipykernel_45456/2924918892.py:24: PerformanceWarning: DataFrame is highly fragmented.  This is usually the result of calling `frame.insert` many times, which has poor performance.  Consider joining all columns at once using pd.concat(axis=1) instead. To get a de-fragmented frame, use `newframe = frame.copy()`\n",
      "  match_subset['pass_recipient_position'] = np.nan\n",
      "/var/folders/_3/q0p4rhwn0r31w83n5ds1htx40000gn/T/ipykernel_45456/2924918892.py:24: PerformanceWarning: DataFrame is highly fragmented.  This is usually the result of calling `frame.insert` many times, which has poor performance.  Consider joining all columns at once using pd.concat(axis=1) instead. To get a de-fragmented frame, use `newframe = frame.copy()`\n",
      "  match_subset['pass_recipient_position'] = np.nan\n",
      "/var/folders/_3/q0p4rhwn0r31w83n5ds1htx40000gn/T/ipykernel_45456/2924918892.py:24: PerformanceWarning: DataFrame is highly fragmented.  This is usually the result of calling `frame.insert` many times, which has poor performance.  Consider joining all columns at once using pd.concat(axis=1) instead. To get a de-fragmented frame, use `newframe = frame.copy()`\n",
      "  match_subset['pass_recipient_position'] = np.nan\n",
      "/var/folders/_3/q0p4rhwn0r31w83n5ds1htx40000gn/T/ipykernel_45456/2924918892.py:24: PerformanceWarning: DataFrame is highly fragmented.  This is usually the result of calling `frame.insert` many times, which has poor performance.  Consider joining all columns at once using pd.concat(axis=1) instead. To get a de-fragmented frame, use `newframe = frame.copy()`\n",
      "  match_subset['pass_recipient_position'] = np.nan\n",
      "/var/folders/_3/q0p4rhwn0r31w83n5ds1htx40000gn/T/ipykernel_45456/2924918892.py:24: PerformanceWarning: DataFrame is highly fragmented.  This is usually the result of calling `frame.insert` many times, which has poor performance.  Consider joining all columns at once using pd.concat(axis=1) instead. To get a de-fragmented frame, use `newframe = frame.copy()`\n",
      "  match_subset['pass_recipient_position'] = np.nan\n",
      "/var/folders/_3/q0p4rhwn0r31w83n5ds1htx40000gn/T/ipykernel_45456/2924918892.py:24: PerformanceWarning: DataFrame is highly fragmented.  This is usually the result of calling `frame.insert` many times, which has poor performance.  Consider joining all columns at once using pd.concat(axis=1) instead. To get a de-fragmented frame, use `newframe = frame.copy()`\n",
      "  match_subset['pass_recipient_position'] = np.nan\n",
      "/var/folders/_3/q0p4rhwn0r31w83n5ds1htx40000gn/T/ipykernel_45456/2924918892.py:24: PerformanceWarning: DataFrame is highly fragmented.  This is usually the result of calling `frame.insert` many times, which has poor performance.  Consider joining all columns at once using pd.concat(axis=1) instead. To get a de-fragmented frame, use `newframe = frame.copy()`\n",
      "  match_subset['pass_recipient_position'] = np.nan\n",
      "/var/folders/_3/q0p4rhwn0r31w83n5ds1htx40000gn/T/ipykernel_45456/2924918892.py:24: PerformanceWarning: DataFrame is highly fragmented.  This is usually the result of calling `frame.insert` many times, which has poor performance.  Consider joining all columns at once using pd.concat(axis=1) instead. To get a de-fragmented frame, use `newframe = frame.copy()`\n",
      "  match_subset['pass_recipient_position'] = np.nan\n",
      "/var/folders/_3/q0p4rhwn0r31w83n5ds1htx40000gn/T/ipykernel_45456/2924918892.py:24: PerformanceWarning: DataFrame is highly fragmented.  This is usually the result of calling `frame.insert` many times, which has poor performance.  Consider joining all columns at once using pd.concat(axis=1) instead. To get a de-fragmented frame, use `newframe = frame.copy()`\n",
      "  match_subset['pass_recipient_position'] = np.nan\n",
      "/var/folders/_3/q0p4rhwn0r31w83n5ds1htx40000gn/T/ipykernel_45456/2924918892.py:24: PerformanceWarning: DataFrame is highly fragmented.  This is usually the result of calling `frame.insert` many times, which has poor performance.  Consider joining all columns at once using pd.concat(axis=1) instead. To get a de-fragmented frame, use `newframe = frame.copy()`\n",
      "  match_subset['pass_recipient_position'] = np.nan\n",
      "/var/folders/_3/q0p4rhwn0r31w83n5ds1htx40000gn/T/ipykernel_45456/2924918892.py:24: PerformanceWarning: DataFrame is highly fragmented.  This is usually the result of calling `frame.insert` many times, which has poor performance.  Consider joining all columns at once using pd.concat(axis=1) instead. To get a de-fragmented frame, use `newframe = frame.copy()`\n",
      "  match_subset['pass_recipient_position'] = np.nan\n",
      "/var/folders/_3/q0p4rhwn0r31w83n5ds1htx40000gn/T/ipykernel_45456/2924918892.py:24: PerformanceWarning: DataFrame is highly fragmented.  This is usually the result of calling `frame.insert` many times, which has poor performance.  Consider joining all columns at once using pd.concat(axis=1) instead. To get a de-fragmented frame, use `newframe = frame.copy()`\n",
      "  match_subset['pass_recipient_position'] = np.nan\n",
      "/var/folders/_3/q0p4rhwn0r31w83n5ds1htx40000gn/T/ipykernel_45456/2924918892.py:24: PerformanceWarning: DataFrame is highly fragmented.  This is usually the result of calling `frame.insert` many times, which has poor performance.  Consider joining all columns at once using pd.concat(axis=1) instead. To get a de-fragmented frame, use `newframe = frame.copy()`\n",
      "  match_subset['pass_recipient_position'] = np.nan\n",
      "/var/folders/_3/q0p4rhwn0r31w83n5ds1htx40000gn/T/ipykernel_45456/2924918892.py:24: PerformanceWarning: DataFrame is highly fragmented.  This is usually the result of calling `frame.insert` many times, which has poor performance.  Consider joining all columns at once using pd.concat(axis=1) instead. To get a de-fragmented frame, use `newframe = frame.copy()`\n",
      "  match_subset['pass_recipient_position'] = np.nan\n",
      "/var/folders/_3/q0p4rhwn0r31w83n5ds1htx40000gn/T/ipykernel_45456/2924918892.py:24: PerformanceWarning: DataFrame is highly fragmented.  This is usually the result of calling `frame.insert` many times, which has poor performance.  Consider joining all columns at once using pd.concat(axis=1) instead. To get a de-fragmented frame, use `newframe = frame.copy()`\n",
      "  match_subset['pass_recipient_position'] = np.nan\n",
      "/var/folders/_3/q0p4rhwn0r31w83n5ds1htx40000gn/T/ipykernel_45456/2924918892.py:24: PerformanceWarning: DataFrame is highly fragmented.  This is usually the result of calling `frame.insert` many times, which has poor performance.  Consider joining all columns at once using pd.concat(axis=1) instead. To get a de-fragmented frame, use `newframe = frame.copy()`\n",
      "  match_subset['pass_recipient_position'] = np.nan\n",
      "/var/folders/_3/q0p4rhwn0r31w83n5ds1htx40000gn/T/ipykernel_45456/2924918892.py:24: PerformanceWarning: DataFrame is highly fragmented.  This is usually the result of calling `frame.insert` many times, which has poor performance.  Consider joining all columns at once using pd.concat(axis=1) instead. To get a de-fragmented frame, use `newframe = frame.copy()`\n",
      "  match_subset['pass_recipient_position'] = np.nan\n",
      "/var/folders/_3/q0p4rhwn0r31w83n5ds1htx40000gn/T/ipykernel_45456/2924918892.py:24: PerformanceWarning: DataFrame is highly fragmented.  This is usually the result of calling `frame.insert` many times, which has poor performance.  Consider joining all columns at once using pd.concat(axis=1) instead. To get a de-fragmented frame, use `newframe = frame.copy()`\n",
      "  match_subset['pass_recipient_position'] = np.nan\n",
      "/var/folders/_3/q0p4rhwn0r31w83n5ds1htx40000gn/T/ipykernel_45456/2924918892.py:24: PerformanceWarning: DataFrame is highly fragmented.  This is usually the result of calling `frame.insert` many times, which has poor performance.  Consider joining all columns at once using pd.concat(axis=1) instead. To get a de-fragmented frame, use `newframe = frame.copy()`\n",
      "  match_subset['pass_recipient_position'] = np.nan\n",
      "/var/folders/_3/q0p4rhwn0r31w83n5ds1htx40000gn/T/ipykernel_45456/2924918892.py:24: PerformanceWarning: DataFrame is highly fragmented.  This is usually the result of calling `frame.insert` many times, which has poor performance.  Consider joining all columns at once using pd.concat(axis=1) instead. To get a de-fragmented frame, use `newframe = frame.copy()`\n",
      "  match_subset['pass_recipient_position'] = np.nan\n",
      "/var/folders/_3/q0p4rhwn0r31w83n5ds1htx40000gn/T/ipykernel_45456/2924918892.py:24: PerformanceWarning: DataFrame is highly fragmented.  This is usually the result of calling `frame.insert` many times, which has poor performance.  Consider joining all columns at once using pd.concat(axis=1) instead. To get a de-fragmented frame, use `newframe = frame.copy()`\n",
      "  match_subset['pass_recipient_position'] = np.nan\n",
      "/var/folders/_3/q0p4rhwn0r31w83n5ds1htx40000gn/T/ipykernel_45456/2924918892.py:24: PerformanceWarning: DataFrame is highly fragmented.  This is usually the result of calling `frame.insert` many times, which has poor performance.  Consider joining all columns at once using pd.concat(axis=1) instead. To get a de-fragmented frame, use `newframe = frame.copy()`\n",
      "  match_subset['pass_recipient_position'] = np.nan\n",
      "/var/folders/_3/q0p4rhwn0r31w83n5ds1htx40000gn/T/ipykernel_45456/2924918892.py:24: PerformanceWarning: DataFrame is highly fragmented.  This is usually the result of calling `frame.insert` many times, which has poor performance.  Consider joining all columns at once using pd.concat(axis=1) instead. To get a de-fragmented frame, use `newframe = frame.copy()`\n",
      "  match_subset['pass_recipient_position'] = np.nan\n",
      "/var/folders/_3/q0p4rhwn0r31w83n5ds1htx40000gn/T/ipykernel_45456/2924918892.py:24: PerformanceWarning: DataFrame is highly fragmented.  This is usually the result of calling `frame.insert` many times, which has poor performance.  Consider joining all columns at once using pd.concat(axis=1) instead. To get a de-fragmented frame, use `newframe = frame.copy()`\n",
      "  match_subset['pass_recipient_position'] = np.nan\n"
     ]
    }
   ],
   "source": [
    "position_dict = {}\n",
    "for id in events.match_id.unique():\n",
    "    #find the data form match with current id\n",
    "    match_subset = events.loc[events['match_id'] == id]\n",
    "\n",
    "    #identify the starting 11\n",
    "    starting_11 = match_subset.loc[(match_subset['type'] == 'Starting XI') & (match_subset['team'] == 'Bayer Leverkusen'), 'tactics'].to_list()[0]\n",
    "    starting_11_dict = {}\n",
    "\n",
    "    \n",
    "    #make a dictionary for positions of players\n",
    "    for member in starting_11['lineup']:\n",
    "        player_id = member['player']['id']\n",
    "        position_name = member['position']['name']\n",
    "        starting_11_dict[player_id] = position_name\n",
    "    \n",
    "    position_dict[id] = {0 : starting_11_dict}\n",
    "\n",
    "    match_subset = match_subset.loc[(match_subset['team'] == 'Bayer Leverkusen') & (match_subset['type'].isin(['Substitution', 'Tactical Shift']))]\n",
    "\n",
    "    #sort the values like when we did the passing sequences\n",
    "    match_subset = match_subset.sort_values(['period','timestamp'], ascending=[True, True])\n",
    "\n",
    "    for index, row in match_subset.iterrows():\n",
    "        #If substitution, we update the dictionary to include player\n",
    "        if row['type'] == 'Substitution':\n",
    "            match_dict = position_dict[id]\n",
    "            latest_lineup = match_dict[list(match_dict.keys())[-1]]\n",
    "            latest_lineup[row['substitution_replacement_id']] = row['position']\n",
    "            position_dict[id][row['possession']] = latest_lineup\n",
    "          \n",
    "        #In case of a tactical shift, create a new position_dict\n",
    "        if row['type'] == 'Tactical Shift':\n",
    "            new_formation = row['tactics']\n",
    "            lineup = {}\n",
    "            for member in new_formation['lineup']:\n",
    "                player_id = member['player']['id']\n",
    "                position_name = member['position']['name']\n",
    "                lineup[player_id] = position_name\n",
    "            position_dict[id][row['possession']] = lineup"
   ]
  },
  {
   "cell_type": "code",
   "execution_count": 5,
   "metadata": {},
   "outputs": [],
   "source": [
    "#filter threshold for Xg:\n",
    "df_xg = df[~df['shot_statsbomb_xg'].between(0, 0.05)]"
   ]
  },
  {
   "cell_type": "code",
   "execution_count": 6,
   "metadata": {},
   "outputs": [],
   "source": [
    "#Events sorted in a specific order so each passing sequence is correctly sorted\n",
    "sequences_sorted = df_xg.sort_values(['match_id', 'period','timestamp'], ascending=[True, True, True])"
   ]
  },
  {
   "cell_type": "code",
   "execution_count": 7,
   "metadata": {},
   "outputs": [
    {
     "name": "stderr",
     "output_type": "stream",
     "text": [
      "/var/folders/_3/q0p4rhwn0r31w83n5ds1htx40000gn/T/ipykernel_59635/955078220.py:3: PerformanceWarning: DataFrame is highly fragmented.  This is usually the result of calling `frame.insert` many times, which has poor performance.  Consider joining all columns at once using pd.concat(axis=1) instead. To get a de-fragmented frame, use `newframe = frame.copy()`\n",
      "  sequences_sorted['possession_id'] = sequences_sorted['match_id'].astype(str) + sequences_sorted['possession'].astype(str)\n"
     ]
    }
   ],
   "source": [
    "#make new ids because right now there is ids from 1 to x for each match but it repeats from 1 and up in every match so each possession id points to different matches \n",
    "# - i just put the possession id after match_id in the newly created id\n",
    "sequences_sorted['possession_id'] = sequences_sorted['match_id'].astype(str) + sequences_sorted['possession'].astype(str)\n",
    "sequences_sorted['possession_id'] = sequences_sorted['possession_id'].astype(int)"
   ]
  },
  {
   "cell_type": "code",
   "execution_count": 8,
   "metadata": {},
   "outputs": [],
   "source": [
    "#get the ids of sequences which contain a shot (contain an xg value)\n",
    "shot_sequences = sequences_sorted[sequences_sorted[\"shot_statsbomb_xg\"].notna()]\n",
    "shot_sequences_ids = shot_sequences[\"possession_id\"].unique()"
   ]
  },
  {
   "cell_type": "code",
   "execution_count": 9,
   "metadata": {},
   "outputs": [],
   "source": [
    "#filter for possession sequences which end with a shot\n",
    "sequences_filtered = sequences_sorted[sequences_sorted['possession_id'].isin(shot_sequences_ids)]"
   ]
  },
  {
   "cell_type": "code",
   "execution_count": 10,
   "metadata": {},
   "outputs": [
    {
     "name": "stderr",
     "output_type": "stream",
     "text": [
      "/var/folders/_3/q0p4rhwn0r31w83n5ds1htx40000gn/T/ipykernel_59635/2851514471.py:2: FutureWarning: Series.fillna with 'method' is deprecated and will raise in a future version. Use obj.ffill() or obj.bfill() instead.\n",
      "  sequences_filtered['xg'] = sequences_filtered.groupby('possession_id')['shot_statsbomb_xg'].transform(lambda group: group.fillna(method='ffill').fillna(method='bfill'))\n",
      "/var/folders/_3/q0p4rhwn0r31w83n5ds1htx40000gn/T/ipykernel_59635/2851514471.py:2: PerformanceWarning: DataFrame is highly fragmented.  This is usually the result of calling `frame.insert` many times, which has poor performance.  Consider joining all columns at once using pd.concat(axis=1) instead. To get a de-fragmented frame, use `newframe = frame.copy()`\n",
      "  sequences_filtered['xg'] = sequences_filtered.groupby('possession_id')['shot_statsbomb_xg'].transform(lambda group: group.fillna(method='ffill').fillna(method='bfill'))\n",
      "/var/folders/_3/q0p4rhwn0r31w83n5ds1htx40000gn/T/ipykernel_59635/2851514471.py:2: SettingWithCopyWarning: \n",
      "A value is trying to be set on a copy of a slice from a DataFrame.\n",
      "Try using .loc[row_indexer,col_indexer] = value instead\n",
      "\n",
      "See the caveats in the documentation: https://pandas.pydata.org/pandas-docs/stable/user_guide/indexing.html#returning-a-view-versus-a-copy\n",
      "  sequences_filtered['xg'] = sequences_filtered.groupby('possession_id')['shot_statsbomb_xg'].transform(lambda group: group.fillna(method='ffill').fillna(method='bfill'))\n"
     ]
    }
   ],
   "source": [
    "#fill all rows with an xg for the corresponding sequence - right now there are many missing values in \"shot_statsbomb_xg\"\n",
    "sequences_filtered['xg'] = sequences_filtered.groupby('possession_id')['shot_statsbomb_xg'].transform(lambda group: group.fillna(method='ffill').fillna(method='bfill'))"
   ]
  },
  {
   "cell_type": "code",
   "execution_count": 11,
   "metadata": {},
   "outputs": [],
   "source": [
    "#find ids of those possessions that result in a goal\n",
    "goal_posession_index = sequences_filtered.loc[sequences_filtered[\"shot_outcome\"]==\"Goal\", \"possession_id\"]"
   ]
  },
  {
   "cell_type": "code",
   "execution_count": 12,
   "metadata": {},
   "outputs": [],
   "source": [
    "#now we dont need the shot event rows any more so remove them\n",
    "sequences_filtered = sequences_filtered[sequences_filtered[\"type\"]!=\"Shot\"]"
   ]
  },
  {
   "cell_type": "markdown",
   "metadata": {},
   "source": [
    "Nu begynder jeg at arbejde på, at lave spillerne til nodes"
   ]
  },
  {
   "cell_type": "code",
   "execution_count": 13,
   "metadata": {},
   "outputs": [],
   "source": [
    "#filter the df to only include row with an id the of a pass recipient and we subset the columns\n",
    "player_final_sequences =  sequences_filtered[sequences_filtered[\"pass_recipient\"].notna()][[\"match_id\", \"possession\", \"position\", \"pass_recipient_id\", \"possession_id\", \"xg\"]]"
   ]
  },
  {
   "cell_type": "code",
   "execution_count": 14,
   "metadata": {},
   "outputs": [],
   "source": [
    "#remove sequences with few passes if wanted\n",
    "index_counts = player_final_sequences['possession_id'].value_counts()\n",
    "player_final_sequences = player_final_sequences[player_final_sequences['possession_id'].isin(index_counts[index_counts > 5].index)]"
   ]
  },
  {
   "cell_type": "code",
   "execution_count": 15,
   "metadata": {},
   "outputs": [],
   "source": [
    "#get all the unique possession ids for iteration\n",
    "possession_index = player_final_sequences[\"possession_id\"].unique()"
   ]
  },
  {
   "cell_type": "code",
   "execution_count": null,
   "metadata": {},
   "outputs": [
    {
     "name": "stderr",
     "output_type": "stream",
     "text": [
      "/var/folders/_3/q0p4rhwn0r31w83n5ds1htx40000gn/T/ipykernel_59635/3799606067.py:16: FutureWarning: Setting an item of incompatible dtype is deprecated and will raise in a future error of pandas. Value 'Right Center Back' has dtype incompatible with float64, please explicitly cast to a compatible dtype first.\n",
      "  player_final_sequences.at[index, 'pass_recipient_position']  = lineup[recipient]\n"
     ]
    }
   ],
   "source": [
    "player_final_sequences['pass_recipient_position'] = np.nan\n",
    "\n",
    "for index, row in player_final_sequences.iterrows():\n",
    "    recipient = row['pass_recipient_id']\n",
    "\n",
    "    lineups = position_dict[row['match_id']]\n",
    "\n",
    "    i = 0\n",
    "    keys = list(lineups.keys())\n",
    "\n",
    "    #Find out the current line up at the time of the event\n",
    "    while i <= len(keys)-2 and row['possession'] > keys[i+1]:\n",
    "        i += 1\n",
    "    \n",
    "    lineup = lineups[keys[i]]\n",
    "\n",
    "    player_final_sequences.at[index, 'pass_recipient_position']  = lineup[recipient]\n"
   ]
  },
  {
   "cell_type": "code",
   "execution_count": 19,
   "metadata": {},
   "outputs": [],
   "source": [
    "import networkx as nx\n",
    "\n",
    "#iterate over possession ids and each row and append edges to a list for each graph and append that graph to a graphs dictionary (directed graph created with \"nx.DiGraph(edges)\")\n",
    "#xg added as an attribute for each graph\n",
    "graphs_dict = {}\n",
    "for j in possession_index:\n",
    "    edges = []\n",
    "    for i in player_final_sequences.index:\n",
    "        if j == player_final_sequences[\"possession_id\"][i]:\n",
    "            edges.append((player_final_sequences[\"position\"][i], player_final_sequences[\"pass_recipient_position\"][i]))\n",
    "            if j not in graphs_dict:\n",
    "                graphs_dict[j] = {\"xg\": player_final_sequences[\"xg\"][i], \"graph\": None}\n",
    "            else:\n",
    "                graphs_dict[j][\"xg\"] = player_final_sequences[\"xg\"][i]\n",
    "                \n",
    "    graph = nx.DiGraph(edges)\n",
    "    graphs_dict[j][\"graph\"] = graph\n",
    "\n",
    "graph_list = [value[\"graph\"] for value in graphs_dict.values()]"
   ]
  },
  {
   "cell_type": "code",
   "execution_count": 21,
   "metadata": {},
   "outputs": [
    {
     "data": {
      "image/png": "[encoded data removed]",
      "text/plain": [
       "<Figure size 432x288 with 1 Axes>"
      ]
     },
     "metadata": {},
     "output_type": "display_data"
    }
   ],
   "source": [
    "import matplotlib.pyplot as plt\n",
    "import networkx as nx\n",
    "\n",
    "game_pos = 389505258\n",
    "\n",
    "# Draw the graph using the positions\n",
    "nx.draw_networkx(graphs_dict[game_pos][\"graph\"])\n",
    "\n",
    "# Show the plot\n",
    "plt.show()\n"
   ]
  }
 ],
 "metadata": {
  "kernelspec": {
   "display_name": "base",
   "language": "python",
   "name": "python3"
  },
  "language_info": {
   "codemirror_mode": {
    "name": "ipython",
    "version": 3
   },
   "file_extension": ".py",
   "mimetype": "text/x-python",
   "name": "python",
   "nbconvert_exporter": "python",
   "pygments_lexer": "ipython3",
   "version": "3.9.12"
  }
 },
 "nbformat": 4,
 "nbformat_minor": 2
}
